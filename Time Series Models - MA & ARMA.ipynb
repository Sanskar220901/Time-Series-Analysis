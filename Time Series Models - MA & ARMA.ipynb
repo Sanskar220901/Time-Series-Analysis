{
 "cells": [
  {
   "cell_type": "markdown",
   "id": "44df3da8",
   "metadata": {},
   "source": [
    "### Importing Packages"
   ]
  },
  {
   "cell_type": "code",
   "execution_count": 5,
   "id": "07232a83",
   "metadata": {},
   "outputs": [],
   "source": [
    "import pandas as pd\n",
    "import numpy as np\n",
    "import matplotlib.pyplot as plt\n",
    "import statsmodels.graphics.tsaplots as sgt\n",
    "import statsmodels.tsa.stattools as sts\n",
    "from statsmodels.tsa.seasonal import seasonal_decompose\n",
    "from statsmodels.tsa.arima_model import ARMA\n",
    "from scipy.stats.distributions import chi2\n",
    "import seaborn as sns\n",
    "from math import sqrt\n",
    "sns.set()\n",
    "import warnings\n",
    "warnings.filterwarnings(\"ignore\")"
   ]
  },
  {
   "cell_type": "markdown",
   "id": "9538b791",
   "metadata": {},
   "source": [
    "### Loading & Transforming Data"
   ]
  },
  {
   "cell_type": "code",
   "execution_count": 6,
   "id": "da7c22c0",
   "metadata": {},
   "outputs": [],
   "source": [
    "raw_csv_data = pd.read_csv(\"Index2018.csv\")\n",
    "df_comp = raw_csv_data.copy()\n",
    "df_comp.date = pd.to_datetime(df_comp.date, dayfirst = True)\n",
    "df_comp.set_index(\"date\", inplace = True)\n",
    "df_comp = df_comp.asfreq('b')\n",
    "df_comp = df_comp.fillna(method = 'ffill')"
   ]
  },
  {
   "cell_type": "markdown",
   "id": "d5231deb",
   "metadata": {},
   "source": [
    "### Removing Surplus Data"
   ]
  },
  {
   "cell_type": "code",
   "execution_count": 7,
   "id": "4ef67d2f",
   "metadata": {},
   "outputs": [],
   "source": [
    "df_comp['market_value'] = df_comp.ftse"
   ]
  },
  {
   "cell_type": "code",
   "execution_count": 8,
   "id": "62aae5ef",
   "metadata": {},
   "outputs": [],
   "source": [
    "del df_comp['spx'],df_comp['dax'],df_comp['ftse'],df_comp['nikkei']\n",
    "size = int(len(df_comp)*0.8)\n",
    "df, df_test = df_comp.iloc[:size], df_comp.iloc[size:]"
   ]
  },
  {
   "cell_type": "code",
   "execution_count": 9,
   "id": "bbcaf8b1",
   "metadata": {},
   "outputs": [],
   "source": [
    "df['returns'] = df.market_value.pct_change(1).mul(100)\n",
    "df = df.iloc[1:]"
   ]
  },
  {
   "cell_type": "markdown",
   "id": "b8d830fc",
   "metadata": {},
   "source": [
    "### LLR Test"
   ]
  },
  {
   "cell_type": "code",
   "execution_count": 10,
   "id": "4ca5bb4a",
   "metadata": {},
   "outputs": [],
   "source": [
    "def LLR_test(mod_1, mod_2, DF = 1):\n",
    "    L1 = mod_1.fit().llf\n",
    "    L2 = mod_2.fit().llf\n",
    "    LR = (2*(L2-L1))\n",
    "    p = chi2.sf(LR, DF).round(3)\n",
    "    return p"
   ]
  },
  {
   "cell_type": "markdown",
   "id": "4202e6d4",
   "metadata": {},
   "source": [
    "### Moving Average (MA) Model\n",
    "<img src = Images/MA.png>\n",
    "\n",
    "#### `Mean of Et = 0\n",
    "#### Variance of Et = constant`\n",
    "\n",
    "\n",
    "### Simple MA Model\n",
    "<img src = \"Images/MA-model.png\">\n",
    "\n",
    "### How do we generate Residuals?\n",
    "<img src = Images/res.png>\n",
    "\n",
    "### MA & AR Relationship\n",
    "<img src = \"Images/MA&AR.png\">\n",
    "\n",
    "<img src = \"Images/MAAR.png\">\n",
    "\n",
    "##### NOTE - The only major difference is that the AR model uses the value of the variable while the MA model relies on the residual. \n",
    "\n",
    "\n",
    "Finally, there's one more common trait of the AR and MA models, the restriction remains that the `absolute value of each coefficient should be less than one`. This is to prevent `compounded effects exploding in magnitude`\n",
    "\n",
    "### AR vs MA Model\n",
    "\n",
    "<img src = \"Images/ARvsMA.png\">\n",
    "\n",
    "##### NOTE - The reason is the `MA models aren't based on past period returns`, therefore, determining which lagged values have a significant direct effect on the present day ones is not relevant.\n",
    "\n",
    "#### The total accumulated effects accommodate for these unexpected shocks, hence the ACF plot provides us with information on how many lags our model should use.\n",
    "\n",
    "### ACF for Returns"
   ]
  },
  {
   "cell_type": "code",
   "execution_count": 11,
   "id": "25c04ac0",
   "metadata": {},
   "outputs": [
    {
     "data": {
      "image/png": "[encoded data removed]",
      "text/plain": [
       "<Figure size 432x288 with 1 Axes>"
      ]
     },
     "metadata": {},
     "output_type": "display_data"
    }
   ],
   "source": [
    "sgt.plot_acf(df.returns, zero = False, lags = 40)\n",
    "plt.title(\"ACF for Returns\", size = 24)\n",
    "plt.show()"
   ]
  },
  {
   "cell_type": "markdown",
   "id": "ba7e8112",
   "metadata": {},
   "source": [
    "### MA(1) for Returns"
   ]
  },
  {
   "cell_type": "markdown",
   "id": "9d065eba",
   "metadata": {},
   "source": [
    "<img src = \"Images/MA(1).png\">\n",
    "\n",
    "<img src = \"Images/AR-MA.png\">"
   ]
  },
  {
   "cell_type": "code",
   "execution_count": 12,
   "id": "f2994e07",
   "metadata": {},
   "outputs": [
    {
     "name": "stdout",
     "output_type": "stream",
     "text": [
      "RUNNING THE L-BFGS-B CODE\n",
      "\n",
      "           * * *\n",
      "\n",
      "Machine precision = 2.220D-16\n",
      " N =            2     M =           12\n",
      "\n",
      "At X0         0 variables are exactly at the bounds\n",
      "\n",
      "At iterate    0    f=  1.57970D+00    |proj g|=  1.26565D-06\n",
      "\n",
      "           * * *\n",
      "\n",
      "Tit   = total number of iterations\n",
      "Tnf   = total number of function evaluations\n",
      "Tnint = total number of segments explored during Cauchy searches\n",
      "Skip  = number of BFGS updates skipped\n",
      "Nact  = number of active bounds at final generalized Cauchy point\n",
      "Projg = norm of the final projected gradient\n",
      "F     = final function value\n",
      "\n",
      "           * * *\n",
      "\n",
      "   N    Tit     Tnf  Tnint  Skip  Nact     Projg        F\n",
      "    2      2      5      1     0     0   2.220D-08   1.580D+00\n",
      "  F =   1.5796974108407174     \n",
      "\n",
      "CONVERGENCE: REL_REDUCTION_OF_F_<=_FACTR*EPSMCH             \n"
     ]
    },
    {
     "name": "stderr",
     "output_type": "stream",
     "text": [
      " This problem is unconstrained.\n"
     ]
    },
    {
     "data": {
      "text/html": [
       "<table class=\"simpletable\">\n",
       "<caption>ARMA Model Results</caption>\n",
       "<tr>\n",
       "  <th>Dep. Variable:</th>      <td>returns</td>     <th>  No. Observations:  </th>   <td>5019</td>   \n",
       "</tr>\n",
       "<tr>\n",
       "  <th>Model:</th>            <td>ARMA(0, 1)</td>    <th>  Log Likelihood     </th> <td>-7928.501</td>\n",
       "</tr>\n",
       "<tr>\n",
       "  <th>Method:</th>             <td>css-mle</td>     <th>  S.D. of innovations</th>   <td>1.174</td>  \n",
       "</tr>\n",
       "<tr>\n",
       "  <th>Date:</th>          <td>Fri, 21 Jan 2022</td> <th>  AIC                </th> <td>15863.003</td>\n",
       "</tr>\n",
       "<tr>\n",
       "  <th>Time:</th>              <td>01:16:53</td>     <th>  BIC                </th> <td>15882.566</td>\n",
       "</tr>\n",
       "<tr>\n",
       "  <th>Sample:</th>           <td>01-11-1994</td>    <th>  HQIC               </th> <td>15869.858</td>\n",
       "</tr>\n",
       "<tr>\n",
       "  <th></th>                 <td>- 04-05-2013</td>   <th>                     </th>     <td> </td>    \n",
       "</tr>\n",
       "</table>\n",
       "<table class=\"simpletable\">\n",
       "<tr>\n",
       "        <td></td>           <th>coef</th>     <th>std err</th>      <th>z</th>      <th>P>|z|</th>  <th>[0.025</th>    <th>0.975]</th>  \n",
       "</tr>\n",
       "<tr>\n",
       "  <th>const</th>         <td>    0.0188</td> <td>    0.016</td> <td>    1.165</td> <td> 0.244</td> <td>   -0.013</td> <td>    0.050</td>\n",
       "</tr>\n",
       "<tr>\n",
       "  <th>ma.L1.returns</th> <td>   -0.0258</td> <td>    0.015</td> <td>   -1.721</td> <td> 0.085</td> <td>   -0.055</td> <td>    0.004</td>\n",
       "</tr>\n",
       "</table>\n",
       "<table class=\"simpletable\">\n",
       "<caption>Roots</caption>\n",
       "<tr>\n",
       "    <td></td>   <th>            Real</th>  <th>         Imaginary</th> <th>         Modulus</th>  <th>        Frequency</th>\n",
       "</tr>\n",
       "<tr>\n",
       "  <th>MA.1</th> <td>          38.8133</td> <td>          +0.0000j</td> <td>          38.8133</td> <td>           0.0000</td>\n",
       "</tr>\n",
       "</table>"
      ],
      "text/plain": [
       "<class 'statsmodels.iolib.summary.Summary'>\n",
       "\"\"\"\n",
       "                              ARMA Model Results                              \n",
       "==============================================================================\n",
       "Dep. Variable:                returns   No. Observations:                 5019\n",
       "Model:                     ARMA(0, 1)   Log Likelihood               -7928.501\n",
       "Method:                       css-mle   S.D. of innovations              1.174\n",
       "Date:                Fri, 21 Jan 2022   AIC                          15863.003\n",
       "Time:                        01:16:53   BIC                          15882.566\n",
       "Sample:                    01-11-1994   HQIC                         15869.858\n",
       "                         - 04-05-2013                                         \n",
       "=================================================================================\n",
       "                    coef    std err          z      P>|z|      [0.025      0.975]\n",
       "---------------------------------------------------------------------------------\n",
       "const             0.0188      0.016      1.165      0.244      -0.013       0.050\n",
       "ma.L1.returns    -0.0258      0.015     -1.721      0.085      -0.055       0.004\n",
       "                                    Roots                                    \n",
       "=============================================================================\n",
       "                  Real          Imaginary           Modulus         Frequency\n",
       "-----------------------------------------------------------------------------\n",
       "MA.1           38.8133           +0.0000j           38.8133            0.0000\n",
       "-----------------------------------------------------------------------------\n",
       "\"\"\""
      ]
     },
     "execution_count": 12,
     "metadata": {},
     "output_type": "execute_result"
    }
   ],
   "source": [
    "model_ret_ma_1 = ARMA(df.returns[1:], order = (0,1))\n",
    "results_ret_ma_1 = model_ret_ma_1.fit()\n",
    "results_ret_ma_1.summary()"
   ]
  },
  {
   "cell_type": "markdown",
   "id": "74568a90",
   "metadata": {},
   "source": [
    "<img src = \"Images/summary.png\">\n",
    "\n",
    "You can notice that the coefficient for the one lag ago residual is significant at the 10 percent level, but not at the 5 % level. This shouldn't come as a surprise since the first coefficient of the ACF was also not `significantly different from zero.` However, all other coefficients up to six lags ago fell outside the blue area, which suggests significance. \n",
    "\n",
    "In addition, the `8th` and the `18th` lag, were also significant, as were some others, more than 20 periods ago. Since we expect the `compound effects to decrease the further back in time we go`, we can `disregard the 18th lag` and all significant periods that follow it. That's because `we expect their impact on today's returns to be minimal.` Moreover, we should also check `whether we should add the eighth lag as a worthwhile significance` or `we should select one of the simpler models.`"
   ]
  },
  {
   "cell_type": "code",
   "execution_count": 13,
   "id": "eda70988",
   "metadata": {},
   "outputs": [
    {
     "name": "stdout",
     "output_type": "stream",
     "text": [
      "RUNNING THE L-BFGS-B CODE\n",
      "\n",
      "           * * *\n",
      "\n",
      "Machine precision = 2.220D-16\n",
      " N =            3     M =           12\n",
      "\n",
      "At X0         0 variables are exactly at the bounds\n",
      "\n",
      "At iterate    0    f=  1.57835D+00    |proj g|=  2.62013D-06\n",
      "\n",
      "           * * *\n",
      "\n",
      "Tit   = total number of iterations\n",
      "Tnf   = total number of function evaluations\n",
      "Tnint = total number of segments explored during Cauchy searches\n",
      "Skip  = number of BFGS updates skipped\n",
      "Nact  = number of active bounds at final generalized Cauchy point\n",
      "Projg = norm of the final projected gradient\n",
      "F     = final function value\n",
      "\n",
      "           * * *\n",
      "\n",
      "   N    Tit     Tnf  Tnint  Skip  Nact     Projg        F\n",
      "    3      3      5      1     0     0   0.000D+00   1.578D+00\n",
      "  F =   1.5783543259649924     \n",
      "\n",
      "CONVERGENCE: NORM_OF_PROJECTED_GRADIENT_<=_PGTOL            \n",
      "                              ARMA Model Results                              \n",
      "==============================================================================\n",
      "Dep. Variable:                returns   No. Observations:                 5019\n",
      "Model:                     ARMA(0, 2)   Log Likelihood               -7921.760\n",
      "Method:                       css-mle   S.D. of innovations              1.173\n",
      "Date:                Fri, 21 Jan 2022   AIC                          15851.521\n",
      "Time:                        01:16:53   BIC                          15877.605\n",
      "Sample:                    01-11-1994   HQIC                         15860.661\n",
      "                         - 04-05-2013                                         \n",
      "=================================================================================\n",
      "                    coef    std err          z      P>|z|      [0.025      0.975]\n",
      "---------------------------------------------------------------------------------\n",
      "const             0.0189      0.015      1.242      0.214      -0.011       0.049\n",
      "ma.L1.returns    -0.0327      0.014     -2.300      0.021      -0.061      -0.005\n",
      "ma.L2.returns    -0.0502      0.014     -3.671      0.000      -0.077      -0.023\n",
      "                                    Roots                                    \n",
      "=============================================================================\n",
      "                  Real          Imaginary           Modulus         Frequency\n",
      "-----------------------------------------------------------------------------\n",
      "MA.1            4.1478           +0.0000j            4.1478            0.0000\n",
      "MA.2           -4.7985           +0.0000j            4.7985            0.5000\n",
      "-----------------------------------------------------------------------------\n",
      "RUNNING THE L-BFGS-B CODE\n",
      "\n",
      "           * * *\n",
      "\n",
      "Machine precision = 2.220D-16\n",
      " N =            2     M =           12\n",
      "\n",
      "At X0         0 variables are exactly at the bounds\n",
      "\n",
      "At iterate    0    f=  1.57970D+00    |proj g|=  1.26565D-06\n",
      "\n",
      "           * * *\n",
      "\n",
      "Tit   = total number of iterations\n",
      "Tnf   = total number of function evaluations\n",
      "Tnint = total number of segments explored during Cauchy searches\n",
      "Skip  = number of BFGS updates skipped\n",
      "Nact  = number of active bounds at final generalized Cauchy point\n",
      "Projg = norm of the final projected gradient\n",
      "F     = final function value\n",
      "\n",
      "           * * *\n",
      "\n",
      "   N    Tit     Tnf  Tnint  Skip  Nact     Projg        F\n",
      "    2      2      5      1     0     0   2.220D-08   1.580D+00\n",
      "  F =   1.5796974108407174     \n",
      "\n",
      "CONVERGENCE: REL_REDUCTION_OF_F_<=_FACTR*EPSMCH             \n",
      "RUNNING THE L-BFGS-B CODE\n",
      "\n",
      "           * * *\n",
      "\n",
      "Machine precision = 2.220D-16\n",
      " N =            3     M =           12\n",
      "\n",
      "At X0         0 variables are exactly at the bounds\n",
      "\n",
      "At iterate    0    f=  1.57835D+00    |proj g|=  2.62013D-06\n"
     ]
    },
    {
     "name": "stderr",
     "output_type": "stream",
     "text": [
      " This problem is unconstrained.\n",
      " This problem is unconstrained.\n",
      " This problem is unconstrained.\n"
     ]
    },
    {
     "name": "stdout",
     "output_type": "stream",
     "text": [
      "\n",
      "           * * *\n",
      "\n",
      "Tit   = total number of iterations\n",
      "Tnf   = total number of function evaluations\n",
      "Tnint = total number of segments explored during Cauchy searches\n",
      "Skip  = number of BFGS updates skipped\n",
      "Nact  = number of active bounds at final generalized Cauchy point\n",
      "Projg = norm of the final projected gradient\n",
      "F     = final function value\n",
      "\n",
      "           * * *\n",
      "\n",
      "   N    Tit     Tnf  Tnint  Skip  Nact     Projg        F\n",
      "    3      3      5      1     0     0   0.000D+00   1.578D+00\n",
      "  F =   1.5783543259649924     \n",
      "\n",
      "CONVERGENCE: NORM_OF_PROJECTED_GRADIENT_<=_PGTOL            \n",
      "\n",
      "LLR test p-value = 0.0\n"
     ]
    }
   ],
   "source": [
    "model_ret_ma_2 = ARMA(df.returns[1:], order = (0,2))\n",
    "results_ret_ma_2 = model_ret_ma_2.fit()\n",
    "print(results_ret_ma_2.summary())\n",
    "print(\"\\nLLR test p-value = \" + str(LLR_test(model_ret_ma_1, model_ret_ma_2)))"
   ]
  },
  {
   "cell_type": "markdown",
   "id": "1b37a6ce",
   "metadata": {},
   "source": [
    "##### NOTE - Now all the P values are significant since all values are less than 0.05. Therefore, we can say `MA(2) > MA(1)`, but we still need to run the LLR test for the same to confirm.\n",
    "\n",
    "#### Since LLR test p-value = 0.0, this means the `MA(2) makes significantly better predictions.`"
   ]
  },
  {
   "cell_type": "code",
   "execution_count": 14,
   "id": "81043247",
   "metadata": {},
   "outputs": [
    {
     "name": "stdout",
     "output_type": "stream",
     "text": [
      "RUNNING THE L-BFGS-B CODE\n",
      "\n",
      "           * * *\n",
      "\n",
      "Machine precision = 2.220D-16\n",
      " N =            4     M =           12\n",
      "\n",
      "At X0         0 variables are exactly at the bounds\n",
      "\n",
      "At iterate    0    f=  1.57466D+00    |proj g|=  1.20348D-05\n",
      "\n",
      "At iterate    5    f=  1.57466D+00    |proj g|=  4.44089D-08\n",
      "\n",
      "           * * *\n",
      "\n",
      "Tit   = total number of iterations\n",
      "Tnf   = total number of function evaluations\n",
      "Tnint = total number of segments explored during Cauchy searches\n",
      "Skip  = number of BFGS updates skipped\n",
      "Nact  = number of active bounds at final generalized Cauchy point\n",
      "Projg = norm of the final projected gradient\n",
      "F     = final function value\n",
      "\n",
      "           * * *\n",
      "\n",
      "   N    Tit     Tnf  Tnint  Skip  Nact     Projg        F\n",
      "    4      6      8      1     0     0   4.441D-08   1.575D+00\n",
      "  F =   1.5746591726874823     \n",
      "\n",
      "CONVERGENCE: REL_REDUCTION_OF_F_<=_FACTR*EPSMCH             \n"
     ]
    },
    {
     "name": "stderr",
     "output_type": "stream",
     "text": [
      " This problem is unconstrained.\n",
      " This problem is unconstrained.\n"
     ]
    },
    {
     "name": "stdout",
     "output_type": "stream",
     "text": [
      "                              ARMA Model Results                              \n",
      "==============================================================================\n",
      "Dep. Variable:                returns   No. Observations:                 5019\n",
      "Model:                     ARMA(0, 3)   Log Likelihood               -7903.214\n",
      "Method:                       css-mle   S.D. of innovations              1.168\n",
      "Date:                Fri, 21 Jan 2022   AIC                          15816.429\n",
      "Time:                        01:16:53   BIC                          15849.034\n",
      "Sample:                    01-11-1994   HQIC                         15827.854\n",
      "                         - 04-05-2013                                         \n",
      "=================================================================================\n",
      "                    coef    std err          z      P>|z|      [0.025      0.975]\n",
      "---------------------------------------------------------------------------------\n",
      "const             0.0190      0.014      1.379      0.168      -0.008       0.046\n",
      "ma.L1.returns    -0.0203      0.014     -1.425      0.154      -0.048       0.008\n",
      "ma.L2.returns    -0.0557      0.013     -4.136      0.000      -0.082      -0.029\n",
      "ma.L3.returns    -0.0904      0.015     -6.121      0.000      -0.119      -0.061\n",
      "                                    Roots                                    \n",
      "=============================================================================\n",
      "                  Real          Imaginary           Modulus         Frequency\n",
      "-----------------------------------------------------------------------------\n",
      "MA.1            2.0103           -0.0000j            2.0103           -0.0000\n",
      "MA.2           -1.3130           -1.9441j            2.3460           -0.3445\n",
      "MA.3           -1.3130           +1.9441j            2.3460            0.3445\n",
      "-----------------------------------------------------------------------------\n",
      "RUNNING THE L-BFGS-B CODE\n",
      "\n",
      "           * * *\n",
      "\n",
      "Machine precision = 2.220D-16\n",
      " N =            3     M =           12\n",
      "\n",
      "At X0         0 variables are exactly at the bounds\n",
      "\n",
      "At iterate    0    f=  1.57835D+00    |proj g|=  2.62013D-06\n",
      "\n",
      "           * * *\n",
      "\n",
      "Tit   = total number of iterations\n",
      "Tnf   = total number of function evaluations\n",
      "Tnint = total number of segments explored during Cauchy searches\n",
      "Skip  = number of BFGS updates skipped\n",
      "Nact  = number of active bounds at final generalized Cauchy point\n",
      "Projg = norm of the final projected gradient\n",
      "F     = final function value\n",
      "\n",
      "           * * *\n",
      "\n",
      "   N    Tit     Tnf  Tnint  Skip  Nact     Projg        F\n",
      "    3      3      5      1     0     0   0.000D+00   1.578D+00\n",
      "  F =   1.5783543259649924     \n",
      "\n",
      "CONVERGENCE: NORM_OF_PROJECTED_GRADIENT_<=_PGTOL            \n",
      "RUNNING THE L-BFGS-B CODE\n",
      "\n",
      "           * * *\n",
      "\n",
      "Machine precision = 2.220D-16\n",
      " N =            4     M =           12\n",
      "\n",
      "At X0         0 variables are exactly at the bounds\n",
      "\n",
      "At iterate    0    f=  1.57466D+00    |proj g|=  1.20348D-05\n",
      "\n",
      "At iterate    5    f=  1.57466D+00    |proj g|=  4.44089D-08\n",
      "\n",
      "           * * *\n",
      "\n",
      "Tit   = total number of iterations\n",
      "Tnf   = total number of function evaluations\n",
      "Tnint = total number of segments explored during Cauchy searches\n",
      "Skip  = number of BFGS updates skipped\n",
      "Nact  = number of active bounds at final generalized Cauchy point\n",
      "Projg = norm of the final projected gradient\n",
      "F     = final function value\n",
      "\n",
      "           * * *\n",
      "\n",
      "   N    Tit     Tnf  Tnint  Skip  Nact     Projg        F\n",
      "    4      6      8      1     0     0   4.441D-08   1.575D+00\n",
      "  F =   1.5746591726874823     \n",
      "\n",
      "CONVERGENCE: REL_REDUCTION_OF_F_<=_FACTR*EPSMCH             \n",
      "\n",
      "LLR test p-value = 0.0\n"
     ]
    },
    {
     "name": "stderr",
     "output_type": "stream",
     "text": [
      " This problem is unconstrained.\n"
     ]
    }
   ],
   "source": [
    "model_ret_ma_3 = ARMA(df.returns[1:], order = (0,3))\n",
    "results_ret_ma_3 = model_ret_ma_3.fit()\n",
    "print(results_ret_ma_3.summary())\n",
    "print(\"\\nLLR test p-value = \" + str(LLR_test(model_ret_ma_2, model_ret_ma_3)))"
   ]
  },
  {
   "cell_type": "markdown",
   "id": "1c854e38",
   "metadata": {},
   "source": [
    "#### The new coefficient (ma.L3.returns) has a P value of zero, which makes it significant. The same can also be said about the second lag, but not the first. Since the ACF suggests the first period coefficient should not be significant, we can predict that the correct model will have a high P value for one period ago error term. \n",
    "\n",
    "#### Since LLR test p-value = 0.0, this means the `MA(3) makes significantly better predictions.`"
   ]
  },
  {
   "cell_type": "code",
   "execution_count": 15,
   "id": "d4243fd9",
   "metadata": {},
   "outputs": [
    {
     "name": "stderr",
     "output_type": "stream",
     "text": [
      " This problem is unconstrained.\n"
     ]
    },
    {
     "name": "stdout",
     "output_type": "stream",
     "text": [
      "RUNNING THE L-BFGS-B CODE\n",
      "\n",
      "           * * *\n",
      "\n",
      "Machine precision = 2.220D-16\n",
      " N =            5     M =           12\n",
      "\n",
      "At X0         0 variables are exactly at the bounds\n",
      "\n",
      "At iterate    0    f=  1.57355D+00    |proj g|=  1.27232D-05\n",
      "\n",
      "At iterate    5    f=  1.57355D+00    |proj g|=  6.66134D-08\n",
      "\n",
      "           * * *\n",
      "\n",
      "Tit   = total number of iterations\n",
      "Tnf   = total number of function evaluations\n",
      "Tnint = total number of segments explored during Cauchy searches\n",
      "Skip  = number of BFGS updates skipped\n",
      "Nact  = number of active bounds at final generalized Cauchy point\n",
      "Projg = norm of the final projected gradient\n",
      "F     = final function value\n",
      "\n",
      "           * * *\n",
      "\n",
      "   N    Tit     Tnf  Tnint  Skip  Nact     Projg        F\n",
      "    5      6      8      1     0     0   2.220D-08   1.574D+00\n",
      "  F =   1.5735516938290086     \n",
      "\n",
      "CONVERGENCE: REL_REDUCTION_OF_F_<=_FACTR*EPSMCH             \n",
      "                              ARMA Model Results                              \n",
      "==============================================================================\n",
      "Dep. Variable:                returns   No. Observations:                 5019\n",
      "Model:                     ARMA(0, 4)   Log Likelihood               -7897.656\n",
      "Method:                       css-mle   S.D. of innovations              1.167\n",
      "Date:                Fri, 21 Jan 2022   AIC                          15807.312\n",
      "Time:                        01:16:54   BIC                          15846.438\n",
      "Sample:                    01-11-1994   HQIC                         15821.022\n",
      "                         - 04-05-2013                                         \n",
      "=================================================================================\n",
      "                    coef    std err          z      P>|z|      [0.025      0.975]\n",
      "---------------------------------------------------------------------------------\n",
      "const             0.0189      0.014      1.309      0.190      -0.009       0.047\n",
      "ma.L1.returns    -0.0203      0.014     -1.445      0.149      -0.048       0.007\n",
      "ma.L2.returns    -0.0551      0.014     -3.906      0.000      -0.083      -0.027\n",
      "ma.L3.returns    -0.0922      0.015     -6.307      0.000      -0.121      -0.064\n",
      "ma.L4.returns     0.0455      0.014      3.342      0.001       0.019       0.072\n",
      "                                    Roots                                    \n",
      "=============================================================================\n",
      "                  Real          Imaginary           Modulus         Frequency\n",
      "-----------------------------------------------------------------------------\n",
      "MA.1           -1.2256           -1.4201j            1.8758           -0.3633\n",
      "MA.2           -1.2256           +1.4201j            1.8758            0.3633\n",
      "MA.3            2.2390           -1.1104j            2.4992           -0.0733\n",
      "MA.4            2.2390           +1.1104j            2.4992            0.0733\n",
      "-----------------------------------------------------------------------------\n",
      "RUNNING THE L-BFGS-B CODE\n",
      "\n",
      "           * * *\n",
      "\n",
      "Machine precision = 2.220D-16\n",
      " N =            4     M =           12\n",
      "\n",
      "At X0         0 variables are exactly at the bounds\n",
      "\n",
      "At iterate    0    f=  1.57466D+00    |proj g|=  1.20348D-05\n",
      "\n",
      "At iterate    5    f=  1.57466D+00    |proj g|=  4.44089D-08\n",
      "\n",
      "           * * *\n",
      "\n",
      "Tit   = total number of iterations\n",
      "Tnf   = total number of function evaluations\n",
      "Tnint = total number of segments explored during Cauchy searches\n",
      "Skip  = number of BFGS updates skipped\n",
      "Nact  = number of active bounds at final generalized Cauchy point\n",
      "Projg = norm of the final projected gradient\n",
      "F     = final function value\n",
      "\n",
      "           * * *\n",
      "\n",
      "   N    Tit     Tnf  Tnint  Skip  Nact     Projg        F\n",
      "    4      6      8      1     0     0   4.441D-08   1.575D+00\n",
      "  F =   1.5746591726874823     \n",
      "\n",
      "CONVERGENCE: REL_REDUCTION_OF_F_<=_FACTR*EPSMCH             \n",
      "RUNNING THE L-BFGS-B CODE\n",
      "\n",
      "           * * *\n",
      "\n",
      "Machine precision = 2.220D-16\n",
      " N =            5     M =           12\n",
      "\n",
      "At X0         0 variables are exactly at the bounds\n",
      "\n",
      "At iterate    0    f=  1.57355D+00    |proj g|=  1.27232D-05\n",
      "\n",
      "At iterate    5    f=  1.57355D+00    |proj g|=  6.66134D-08\n",
      "\n",
      "           * * *\n",
      "\n",
      "Tit   = total number of iterations\n",
      "Tnf   = total number of function evaluations\n",
      "Tnint = total number of segments explored during Cauchy searches\n",
      "Skip  = number of BFGS updates skipped\n",
      "Nact  = number of active bounds at final generalized Cauchy point\n",
      "Projg = norm of the final projected gradient\n",
      "F     = final function value\n",
      "\n",
      "           * * *\n",
      "\n",
      "   N    Tit     Tnf  Tnint  Skip  Nact     Projg        F\n",
      "    5      6      8      1     0     0   2.220D-08   1.574D+00\n",
      "  F =   1.5735516938290086     \n",
      "\n",
      "CONVERGENCE: REL_REDUCTION_OF_F_<=_FACTR*EPSMCH             \n"
     ]
    },
    {
     "name": "stderr",
     "output_type": "stream",
     "text": [
      " This problem is unconstrained.\n",
      " This problem is unconstrained.\n"
     ]
    },
    {
     "name": "stdout",
     "output_type": "stream",
     "text": [
      "\n",
      "LLR test p-value = 0.001\n"
     ]
    }
   ],
   "source": [
    "model_ret_ma_4 = ARMA(df.returns[1:], order = (0,4))\n",
    "results_ret_ma_4 = model_ret_ma_4.fit()\n",
    "print(results_ret_ma_4.summary())\n",
    "print(\"\\nLLR test p-value = \" + str(LLR_test(model_ret_ma_3, model_ret_ma_4)))"
   ]
  },
  {
   "cell_type": "code",
   "execution_count": 16,
   "id": "4833ae6b",
   "metadata": {},
   "outputs": [
    {
     "name": "stdout",
     "output_type": "stream",
     "text": [
      "RUNNING THE L-BFGS-B CODE\n",
      "\n",
      "           * * *\n",
      "\n",
      "Machine precision = 2.220D-16\n",
      " N =            6     M =           12\n",
      "\n",
      "At X0         0 variables are exactly at the bounds\n",
      "\n",
      "At iterate    0    f=  1.57237D+00    |proj g|=  2.93543D-05\n",
      "\n",
      "At iterate    5    f=  1.57237D+00    |proj g|=  2.22045D-08\n",
      "\n",
      "           * * *\n",
      "\n",
      "Tit   = total number of iterations\n",
      "Tnf   = total number of function evaluations\n",
      "Tnint = total number of segments explored during Cauchy searches\n",
      "Skip  = number of BFGS updates skipped\n",
      "Nact  = number of active bounds at final generalized Cauchy point\n",
      "Projg = norm of the final projected gradient\n",
      "F     = final function value\n",
      "\n",
      "           * * *\n",
      "\n",
      "   N    Tit     Tnf  Tnint  Skip  Nact     Projg        F\n",
      "    6      6      9      1     0     0   2.220D-08   1.572D+00\n",
      "  F =   1.5723670918829658     \n",
      "\n",
      "CONVERGENCE: REL_REDUCTION_OF_F_<=_FACTR*EPSMCH             \n"
     ]
    },
    {
     "name": "stderr",
     "output_type": "stream",
     "text": [
      " This problem is unconstrained.\n"
     ]
    },
    {
     "name": "stdout",
     "output_type": "stream",
     "text": [
      "                              ARMA Model Results                              \n",
      "==============================================================================\n",
      "Dep. Variable:                returns   No. Observations:                 5019\n",
      "Model:                     ARMA(0, 5)   Log Likelihood               -7891.710\n",
      "Method:                       css-mle   S.D. of innovations              1.166\n",
      "Date:                Fri, 21 Jan 2022   AIC                          15797.421\n",
      "Time:                        01:16:55   BIC                          15843.068\n",
      "Sample:                    01-11-1994   HQIC                         15813.416\n",
      "                         - 04-05-2013                                         \n",
      "=================================================================================\n",
      "                    coef    std err          z      P>|z|      [0.025      0.975]\n",
      "---------------------------------------------------------------------------------\n",
      "const             0.0190      0.014      1.380      0.168      -0.008       0.046\n",
      "ma.L1.returns    -0.0262      0.014     -1.853      0.064      -0.054       0.002\n",
      "ma.L2.returns    -0.0498      0.014     -3.521      0.000      -0.078      -0.022\n",
      "ma.L3.returns    -0.0852      0.015     -5.800      0.000      -0.114      -0.056\n",
      "ma.L4.returns     0.0459      0.014      3.379      0.001       0.019       0.073\n",
      "ma.L5.returns    -0.0499      0.014     -3.452      0.001      -0.078      -0.022\n",
      "                                    Roots                                    \n",
      "=============================================================================\n",
      "                  Real          Imaginary           Modulus         Frequency\n",
      "-----------------------------------------------------------------------------\n",
      "MA.1           -1.2126           -1.0804j            1.6241           -0.3842\n",
      "MA.2           -1.2126           +1.0804j            1.6241            0.3842\n",
      "MA.3            1.7308           -0.0000j            1.7308           -0.0000\n",
      "MA.4            0.8068           -1.9327j            2.0943           -0.1871\n",
      "MA.5            0.8068           +1.9327j            2.0943            0.1871\n",
      "-----------------------------------------------------------------------------\n",
      "RUNNING THE L-BFGS-B CODE\n",
      "\n",
      "           * * *\n",
      "\n",
      "Machine precision = 2.220D-16\n",
      " N =            5     M =           12\n",
      "\n",
      "At X0         0 variables are exactly at the bounds\n",
      "\n",
      "At iterate    0    f=  1.57355D+00    |proj g|=  1.27232D-05\n",
      "\n",
      "At iterate    5    f=  1.57355D+00    |proj g|=  6.66134D-08\n",
      "\n",
      "           * * *\n",
      "\n",
      "Tit   = total number of iterations\n",
      "Tnf   = total number of function evaluations\n",
      "Tnint = total number of segments explored during Cauchy searches\n",
      "Skip  = number of BFGS updates skipped\n",
      "Nact  = number of active bounds at final generalized Cauchy point\n",
      "Projg = norm of the final projected gradient\n",
      "F     = final function value\n",
      "\n",
      "           * * *\n",
      "\n",
      "   N    Tit     Tnf  Tnint  Skip  Nact     Projg        F\n",
      "    5      6      8      1     0     0   2.220D-08   1.574D+00\n",
      "  F =   1.5735516938290086     \n",
      "\n",
      "CONVERGENCE: REL_REDUCTION_OF_F_<=_FACTR*EPSMCH             \n"
     ]
    },
    {
     "name": "stderr",
     "output_type": "stream",
     "text": [
      " This problem is unconstrained.\n"
     ]
    },
    {
     "name": "stdout",
     "output_type": "stream",
     "text": [
      "RUNNING THE L-BFGS-B CODE\n",
      "\n",
      "           * * *\n",
      "\n",
      "Machine precision = 2.220D-16\n",
      " N =            6     M =           12\n",
      "\n",
      "At X0         0 variables are exactly at the bounds\n",
      "\n",
      "At iterate    0    f=  1.57237D+00    |proj g|=  2.93543D-05\n",
      "\n",
      "At iterate    5    f=  1.57237D+00    |proj g|=  2.22045D-08\n",
      "\n",
      "           * * *\n",
      "\n",
      "Tit   = total number of iterations\n",
      "Tnf   = total number of function evaluations\n",
      "Tnint = total number of segments explored during Cauchy searches\n",
      "Skip  = number of BFGS updates skipped\n",
      "Nact  = number of active bounds at final generalized Cauchy point\n",
      "Projg = norm of the final projected gradient\n",
      "F     = final function value\n",
      "\n",
      "           * * *\n",
      "\n",
      "   N    Tit     Tnf  Tnint  Skip  Nact     Projg        F\n",
      "    6      6      9      1     0     0   2.220D-08   1.572D+00\n",
      "  F =   1.5723670918829658     \n",
      "\n",
      "CONVERGENCE: REL_REDUCTION_OF_F_<=_FACTR*EPSMCH             \n"
     ]
    },
    {
     "name": "stderr",
     "output_type": "stream",
     "text": [
      " This problem is unconstrained.\n"
     ]
    },
    {
     "name": "stdout",
     "output_type": "stream",
     "text": [
      "\n",
      "LLR test p-value = 0.001\n"
     ]
    }
   ],
   "source": [
    "model_ret_ma_5 = ARMA(df.returns[1:], order = (0,5))\n",
    "results_ret_ma_5 = model_ret_ma_5.fit()\n",
    "print(results_ret_ma_5.summary())\n",
    "print(\"\\nLLR test p-value = \" + str(LLR_test(model_ret_ma_4, model_ret_ma_5)))"
   ]
  },
  {
   "cell_type": "code",
   "execution_count": 17,
   "id": "7f751673",
   "metadata": {},
   "outputs": [
    {
     "name": "stdout",
     "output_type": "stream",
     "text": [
      "RUNNING THE L-BFGS-B CODE\n",
      "\n",
      "           * * *\n",
      "\n",
      "Machine precision = 2.220D-16\n",
      " N =            7     M =           12\n",
      "\n",
      "At X0         0 variables are exactly at the bounds\n",
      "\n",
      "At iterate    0    f=  1.57165D+00    |proj g|=  2.52243D-05\n",
      "\n",
      "At iterate    5    f=  1.57165D+00    |proj g|=  4.44089D-08\n",
      "\n",
      "           * * *\n",
      "\n",
      "Tit   = total number of iterations\n",
      "Tnf   = total number of function evaluations\n",
      "Tnint = total number of segments explored during Cauchy searches\n",
      "Skip  = number of BFGS updates skipped\n",
      "Nact  = number of active bounds at final generalized Cauchy point\n",
      "Projg = norm of the final projected gradient\n",
      "F     = final function value\n",
      "\n",
      "           * * *\n",
      "\n",
      "   N    Tit     Tnf  Tnint  Skip  Nact     Projg        F\n",
      "    7      6      9      1     0     0   2.220D-08   1.572D+00\n",
      "  F =   1.5716511697289763     \n",
      "\n",
      "CONVERGENCE: REL_REDUCTION_OF_F_<=_FACTR*EPSMCH             \n"
     ]
    },
    {
     "name": "stderr",
     "output_type": "stream",
     "text": [
      " This problem is unconstrained.\n"
     ]
    },
    {
     "name": "stdout",
     "output_type": "stream",
     "text": [
      "                              ARMA Model Results                              \n",
      "==============================================================================\n",
      "Dep. Variable:                returns   No. Observations:                 5019\n",
      "Model:                     ARMA(0, 6)   Log Likelihood               -7888.117\n",
      "Method:                       css-mle   S.D. of innovations              1.165\n",
      "Date:                Fri, 21 Jan 2022   AIC                          15792.234\n",
      "Time:                        01:16:56   BIC                          15844.402\n",
      "Sample:                    01-11-1994   HQIC                         15810.515\n",
      "                         - 04-05-2013                                         \n",
      "=================================================================================\n",
      "                    coef    std err          z      P>|z|      [0.025      0.975]\n",
      "---------------------------------------------------------------------------------\n",
      "const             0.0190      0.013      1.433      0.152      -0.007       0.045\n",
      "ma.L1.returns    -0.0237      0.014     -1.683      0.092      -0.051       0.004\n",
      "ma.L2.returns    -0.0486      0.014     -3.439      0.001      -0.076      -0.021\n",
      "ma.L3.returns    -0.0828      0.014     -5.846      0.000      -0.111      -0.055\n",
      "ma.L4.returns     0.0467      0.014      3.438      0.001       0.020       0.073\n",
      "ma.L5.returns    -0.0484      0.014     -3.369      0.001      -0.077      -0.020\n",
      "ma.L6.returns    -0.0387      0.014     -2.679      0.007      -0.067      -0.010\n",
      "                                    Roots                                    \n",
      "=============================================================================\n",
      "                  Real          Imaginary           Modulus         Frequency\n",
      "-----------------------------------------------------------------------------\n",
      "MA.1            1.5013           -0.0000j            1.5013           -0.0000\n",
      "MA.2            0.8250           -1.4776j            1.6924           -0.1690\n",
      "MA.3            0.8250           +1.4776j            1.6924            0.1690\n",
      "MA.4           -1.0068           -1.2259j            1.5863           -0.3594\n",
      "MA.5           -1.0068           +1.2259j            1.5863            0.3594\n",
      "MA.6           -2.3904           -0.0000j            2.3904           -0.5000\n",
      "-----------------------------------------------------------------------------\n",
      "RUNNING THE L-BFGS-B CODE\n",
      "\n",
      "           * * *\n",
      "\n",
      "Machine precision = 2.220D-16\n",
      " N =            6     M =           12\n",
      "\n",
      "At X0         0 variables are exactly at the bounds\n",
      "\n",
      "At iterate    0    f=  1.57237D+00    |proj g|=  2.93543D-05\n",
      "\n",
      "At iterate    5    f=  1.57237D+00    |proj g|=  2.22045D-08\n",
      "\n",
      "           * * *\n",
      "\n",
      "Tit   = total number of iterations\n",
      "Tnf   = total number of function evaluations\n",
      "Tnint = total number of segments explored during Cauchy searches\n",
      "Skip  = number of BFGS updates skipped\n",
      "Nact  = number of active bounds at final generalized Cauchy point\n",
      "Projg = norm of the final projected gradient\n",
      "F     = final function value\n",
      "\n",
      "           * * *\n",
      "\n",
      "   N    Tit     Tnf  Tnint  Skip  Nact     Projg        F\n",
      "    6      6      9      1     0     0   2.220D-08   1.572D+00\n",
      "  F =   1.5723670918829658     \n",
      "\n",
      "CONVERGENCE: REL_REDUCTION_OF_F_<=_FACTR*EPSMCH             \n"
     ]
    },
    {
     "name": "stderr",
     "output_type": "stream",
     "text": [
      " This problem is unconstrained.\n",
      " This problem is unconstrained.\n"
     ]
    },
    {
     "name": "stdout",
     "output_type": "stream",
     "text": [
      "RUNNING THE L-BFGS-B CODE\n",
      "\n",
      "           * * *\n",
      "\n",
      "Machine precision = 2.220D-16\n",
      " N =            7     M =           12\n",
      "\n",
      "At X0         0 variables are exactly at the bounds\n",
      "\n",
      "At iterate    0    f=  1.57165D+00    |proj g|=  2.52243D-05\n",
      "\n",
      "At iterate    5    f=  1.57165D+00    |proj g|=  4.44089D-08\n",
      "\n",
      "           * * *\n",
      "\n",
      "Tit   = total number of iterations\n",
      "Tnf   = total number of function evaluations\n",
      "Tnint = total number of segments explored during Cauchy searches\n",
      "Skip  = number of BFGS updates skipped\n",
      "Nact  = number of active bounds at final generalized Cauchy point\n",
      "Projg = norm of the final projected gradient\n",
      "F     = final function value\n",
      "\n",
      "           * * *\n",
      "\n",
      "   N    Tit     Tnf  Tnint  Skip  Nact     Projg        F\n",
      "    7      6      9      1     0     0   2.220D-08   1.572D+00\n",
      "  F =   1.5716511697289763     \n",
      "\n",
      "CONVERGENCE: REL_REDUCTION_OF_F_<=_FACTR*EPSMCH             \n",
      "\n",
      "LLR test p-value = 0.007\n"
     ]
    }
   ],
   "source": [
    "model_ret_ma_6 = ARMA(df.returns[1:], order = (0,6))\n",
    "results_ret_ma_6 = model_ret_ma_6.fit()\n",
    "print(results_ret_ma_6.summary())\n",
    "print(\"\\nLLR test p-value = \" + str(LLR_test(model_ret_ma_5, model_ret_ma_6)))"
   ]
  },
  {
   "cell_type": "code",
   "execution_count": 18,
   "id": "3a9b639b",
   "metadata": {},
   "outputs": [
    {
     "name": "stdout",
     "output_type": "stream",
     "text": [
      "RUNNING THE L-BFGS-B CODE\n",
      "\n",
      "           * * *\n",
      "\n",
      "Machine precision = 2.220D-16\n",
      " N =            8     M =           12\n",
      "\n",
      "At X0         0 variables are exactly at the bounds\n",
      "\n",
      "At iterate    0    f=  1.57162D+00    |proj g|=  2.51132D-05\n",
      "\n",
      "At iterate    5    f=  1.57162D+00    |proj g|=  2.22045D-08\n",
      "\n",
      "           * * *\n",
      "\n",
      "Tit   = total number of iterations\n",
      "Tnf   = total number of function evaluations\n",
      "Tnint = total number of segments explored during Cauchy searches\n",
      "Skip  = number of BFGS updates skipped\n",
      "Nact  = number of active bounds at final generalized Cauchy point\n",
      "Projg = norm of the final projected gradient\n",
      "F     = final function value\n",
      "\n",
      "           * * *\n",
      "\n",
      "   N    Tit     Tnf  Tnint  Skip  Nact     Projg        F\n",
      "    8      6     15      1     0     0   2.220D-08   1.572D+00\n",
      "  F =   1.5716158254737493     \n",
      "\n",
      "CONVERGENCE: REL_REDUCTION_OF_F_<=_FACTR*EPSMCH             \n"
     ]
    },
    {
     "name": "stderr",
     "output_type": "stream",
     "text": [
      " This problem is unconstrained.\n"
     ]
    },
    {
     "name": "stdout",
     "output_type": "stream",
     "text": [
      "                              ARMA Model Results                              \n",
      "==============================================================================\n",
      "Dep. Variable:                returns   No. Observations:                 5019\n",
      "Model:                     ARMA(0, 7)   Log Likelihood               -7887.940\n",
      "Method:                       css-mle   S.D. of innovations              1.165\n",
      "Date:                Fri, 21 Jan 2022   AIC                          15793.880\n",
      "Time:                        01:16:59   BIC                          15852.569\n",
      "Sample:                    01-11-1994   HQIC                         15814.445\n",
      "                         - 04-05-2013                                         \n",
      "=================================================================================\n",
      "                    coef    std err          z      P>|z|      [0.025      0.975]\n",
      "---------------------------------------------------------------------------------\n",
      "const             0.0190      0.013      1.421      0.155      -0.007       0.045\n",
      "ma.L1.returns    -0.0247      0.014     -1.741      0.082      -0.052       0.003\n",
      "ma.L2.returns    -0.0489      0.014     -3.458      0.001      -0.077      -0.021\n",
      "ma.L3.returns    -0.0821      0.014     -5.789      0.000      -0.110      -0.054\n",
      "ma.L4.returns     0.0459      0.014      3.364      0.001       0.019       0.073\n",
      "ma.L5.returns    -0.0485      0.014     -3.380      0.001      -0.077      -0.020\n",
      "ma.L6.returns    -0.0389      0.014     -2.699      0.007      -0.067      -0.011\n",
      "ma.L7.returns     0.0085      0.014      0.596      0.551      -0.020       0.037\n",
      "                                    Roots                                    \n",
      "=============================================================================\n",
      "                  Real          Imaginary           Modulus         Frequency\n",
      "-----------------------------------------------------------------------------\n",
      "MA.1           -0.9689           -1.1810j            1.5276           -0.3593\n",
      "MA.2           -0.9689           +1.1810j            1.5276            0.3593\n",
      "MA.3           -2.0391           -0.0000j            2.0391           -0.5000\n",
      "MA.4            0.7513           -1.5250j            1.7000           -0.1771\n",
      "MA.5            0.7513           +1.5250j            1.7000            0.1771\n",
      "MA.6            1.5545           -0.0000j            1.5545           -0.0000\n",
      "MA.7            5.4863           -0.0000j            5.4863           -0.0000\n",
      "-----------------------------------------------------------------------------\n",
      "RUNNING THE L-BFGS-B CODE\n",
      "\n",
      "           * * *\n",
      "\n",
      "Machine precision = 2.220D-16\n",
      " N =            7     M =           12\n",
      "\n",
      "At X0         0 variables are exactly at the bounds\n",
      "\n",
      "At iterate    0    f=  1.57165D+00    |proj g|=  2.52243D-05\n",
      "\n",
      "At iterate    5    f=  1.57165D+00    |proj g|=  4.44089D-08\n",
      "\n",
      "           * * *\n",
      "\n",
      "Tit   = total number of iterations\n",
      "Tnf   = total number of function evaluations\n",
      "Tnint = total number of segments explored during Cauchy searches\n",
      "Skip  = number of BFGS updates skipped\n",
      "Nact  = number of active bounds at final generalized Cauchy point\n",
      "Projg = norm of the final projected gradient\n",
      "F     = final function value\n",
      "\n",
      "           * * *\n",
      "\n",
      "   N    Tit     Tnf  Tnint  Skip  Nact     Projg        F\n",
      "    7      6      9      1     0     0   2.220D-08   1.572D+00\n",
      "  F =   1.5716511697289763     \n",
      "\n",
      "CONVERGENCE: REL_REDUCTION_OF_F_<=_FACTR*EPSMCH             \n"
     ]
    },
    {
     "name": "stderr",
     "output_type": "stream",
     "text": [
      " This problem is unconstrained.\n"
     ]
    },
    {
     "name": "stdout",
     "output_type": "stream",
     "text": [
      "RUNNING THE L-BFGS-B CODE\n",
      "\n",
      "           * * *\n",
      "\n",
      "Machine precision = 2.220D-16\n",
      " N =            8     M =           12\n",
      "\n",
      "At X0         0 variables are exactly at the bounds\n",
      "\n",
      "At iterate    0    f=  1.57162D+00    |proj g|=  2.51132D-05\n",
      "\n",
      "At iterate    5    f=  1.57162D+00    |proj g|=  2.22045D-08\n",
      "\n",
      "           * * *\n",
      "\n",
      "Tit   = total number of iterations\n",
      "Tnf   = total number of function evaluations\n",
      "Tnint = total number of segments explored during Cauchy searches\n",
      "Skip  = number of BFGS updates skipped\n",
      "Nact  = number of active bounds at final generalized Cauchy point\n",
      "Projg = norm of the final projected gradient\n",
      "F     = final function value\n",
      "\n",
      "           * * *\n",
      "\n",
      "   N    Tit     Tnf  Tnint  Skip  Nact     Projg        F\n",
      "    8      6     15      1     0     0   2.220D-08   1.572D+00\n",
      "  F =   1.5716158254737493     \n",
      "\n",
      "CONVERGENCE: REL_REDUCTION_OF_F_<=_FACTR*EPSMCH             \n"
     ]
    },
    {
     "name": "stderr",
     "output_type": "stream",
     "text": [
      " This problem is unconstrained.\n"
     ]
    },
    {
     "name": "stdout",
     "output_type": "stream",
     "text": [
      "\n",
      "LLR test p-value = 0.551\n"
     ]
    }
   ],
   "source": [
    "model_ret_ma_7 = ARMA(df.returns[1:], order = (0,7))\n",
    "results_ret_ma_7 = model_ret_ma_7.fit()\n",
    "print(results_ret_ma_7.summary())\n",
    "print(\"\\nLLR test p-value = \" + str(LLR_test(model_ret_ma_6, model_ret_ma_7)))"
   ]
  },
  {
   "cell_type": "markdown",
   "id": "9daffecc",
   "metadata": {},
   "source": [
    "#### `ma.L7.returns     0.0085      0.014      0.596      0.551      -0.020       0.037` is non-significant.\n",
    "#### `LLR test p-value = 0.551` -> M(7) fails the LLR test.\n",
    "\n",
    "##### NOTE - In the ACF graph, we had the coefficient for the seventh lag be non significant, but the one for the eighth leg was significant. Therefore, to be completely thorough, we should bend the general rules of model selection, and see how an M(8) model fits the data set."
   ]
  },
  {
   "cell_type": "code",
   "execution_count": 19,
   "id": "5dad7f1a",
   "metadata": {},
   "outputs": [
    {
     "name": "stdout",
     "output_type": "stream",
     "text": [
      "RUNNING THE L-BFGS-B CODE\n",
      "\n",
      "           * * *\n",
      "\n",
      "Machine precision = 2.220D-16\n",
      " N =            9     M =           12\n",
      "\n",
      "At X0         0 variables are exactly at the bounds\n",
      "\n",
      "At iterate    0    f=  1.57093D+00    |proj g|=  2.67120D-05\n",
      "\n",
      "At iterate    5    f=  1.57093D+00    |proj g|=  4.44089D-08\n",
      "\n",
      "           * * *\n",
      "\n",
      "Tit   = total number of iterations\n",
      "Tnf   = total number of function evaluations\n",
      "Tnint = total number of segments explored during Cauchy searches\n",
      "Skip  = number of BFGS updates skipped\n",
      "Nact  = number of active bounds at final generalized Cauchy point\n",
      "Projg = norm of the final projected gradient\n",
      "F     = final function value\n",
      "\n",
      "           * * *\n",
      "\n",
      "   N    Tit     Tnf  Tnint  Skip  Nact     Projg        F\n",
      "    9      6      9      1     0     0   0.000D+00   1.571D+00\n",
      "  F =   1.5709303256679987     \n",
      "\n",
      "CONVERGENCE: NORM_OF_PROJECTED_GRADIENT_<=_PGTOL            \n"
     ]
    },
    {
     "name": "stderr",
     "output_type": "stream",
     "text": [
      " This problem is unconstrained.\n"
     ]
    },
    {
     "name": "stdout",
     "output_type": "stream",
     "text": [
      "                              ARMA Model Results                              \n",
      "==============================================================================\n",
      "Dep. Variable:                returns   No. Observations:                 5019\n",
      "Model:                     ARMA(0, 8)   Log Likelihood               -7884.499\n",
      "Method:                       css-mle   S.D. of innovations              1.164\n",
      "Date:                Fri, 21 Jan 2022   AIC                          15788.999\n",
      "Time:                        01:17:02   BIC                          15854.208\n",
      "Sample:                    01-11-1994   HQIC                         15811.849\n",
      "                         - 04-05-2013                                         \n",
      "=================================================================================\n",
      "                    coef    std err          z      P>|z|      [0.025      0.975]\n",
      "---------------------------------------------------------------------------------\n",
      "const             0.0190      0.014      1.367      0.172      -0.008       0.046\n",
      "ma.L1.returns    -0.0238      0.014     -1.690      0.091      -0.051       0.004\n",
      "ma.L2.returns    -0.0496      0.014     -3.517      0.000      -0.077      -0.022\n",
      "ma.L3.returns    -0.0847      0.014     -5.993      0.000      -0.112      -0.057\n",
      "ma.L4.returns     0.0489      0.014      3.443      0.001       0.021       0.077\n",
      "ma.L5.returns    -0.0518      0.014     -3.633      0.000      -0.080      -0.024\n",
      "ma.L6.returns    -0.0401      0.014     -2.784      0.005      -0.068      -0.012\n",
      "ma.L7.returns     0.0084      0.014      0.590      0.555      -0.020       0.036\n",
      "ma.L8.returns     0.0365      0.014      2.625      0.009       0.009       0.064\n",
      "                                    Roots                                    \n",
      "=============================================================================\n",
      "                  Real          Imaginary           Modulus         Frequency\n",
      "-----------------------------------------------------------------------------\n",
      "MA.1            1.4714           -0.4284j            1.5325           -0.0451\n",
      "MA.2            1.4714           +0.4284j            1.5325            0.0451\n",
      "MA.3            0.5944           -1.3170j            1.4449           -0.1825\n",
      "MA.4            0.5944           +1.3170j            1.4449            0.1825\n",
      "MA.5           -0.7320           -1.2736j            1.4690           -0.3330\n",
      "MA.6           -0.7320           +1.2736j            1.4690            0.3330\n",
      "MA.7           -1.4487           -0.6984j            1.6083           -0.4285\n",
      "MA.8           -1.4487           +0.6984j            1.6083            0.4285\n",
      "-----------------------------------------------------------------------------\n",
      "RUNNING THE L-BFGS-B CODE\n",
      "\n",
      "           * * *\n",
      "\n",
      "Machine precision = 2.220D-16\n",
      " N =            8     M =           12\n",
      "\n",
      "At X0         0 variables are exactly at the bounds\n",
      "\n",
      "At iterate    0    f=  1.57162D+00    |proj g|=  2.51132D-05\n",
      "\n",
      "At iterate    5    f=  1.57162D+00    |proj g|=  2.22045D-08\n",
      "\n",
      "           * * *\n",
      "\n",
      "Tit   = total number of iterations\n",
      "Tnf   = total number of function evaluations\n",
      "Tnint = total number of segments explored during Cauchy searches\n",
      "Skip  = number of BFGS updates skipped\n",
      "Nact  = number of active bounds at final generalized Cauchy point\n",
      "Projg = norm of the final projected gradient\n",
      "F     = final function value\n",
      "\n",
      "           * * *\n",
      "\n",
      "   N    Tit     Tnf  Tnint  Skip  Nact     Projg        F\n",
      "    8      6     15      1     0     0   2.220D-08   1.572D+00\n",
      "  F =   1.5716158254737493     \n",
      "\n",
      "CONVERGENCE: REL_REDUCTION_OF_F_<=_FACTR*EPSMCH             \n"
     ]
    },
    {
     "name": "stderr",
     "output_type": "stream",
     "text": [
      " This problem is unconstrained.\n",
      " This problem is unconstrained.\n"
     ]
    },
    {
     "name": "stdout",
     "output_type": "stream",
     "text": [
      "RUNNING THE L-BFGS-B CODE\n",
      "\n",
      "           * * *\n",
      "\n",
      "Machine precision = 2.220D-16\n",
      " N =            9     M =           12\n",
      "\n",
      "At X0         0 variables are exactly at the bounds\n",
      "\n",
      "At iterate    0    f=  1.57093D+00    |proj g|=  2.67120D-05\n",
      "\n",
      "At iterate    5    f=  1.57093D+00    |proj g|=  4.44089D-08\n",
      "\n",
      "           * * *\n",
      "\n",
      "Tit   = total number of iterations\n",
      "Tnf   = total number of function evaluations\n",
      "Tnint = total number of segments explored during Cauchy searches\n",
      "Skip  = number of BFGS updates skipped\n",
      "Nact  = number of active bounds at final generalized Cauchy point\n",
      "Projg = norm of the final projected gradient\n",
      "F     = final function value\n",
      "\n",
      "           * * *\n",
      "\n",
      "   N    Tit     Tnf  Tnint  Skip  Nact     Projg        F\n",
      "    9      6      9      1     0     0   0.000D+00   1.571D+00\n",
      "  F =   1.5709303256679987     \n",
      "\n",
      "CONVERGENCE: NORM_OF_PROJECTED_GRADIENT_<=_PGTOL            \n",
      "\n",
      "LLR test p-value = 0.009\n"
     ]
    }
   ],
   "source": [
    "model_ret_ma_8 = ARMA(df.returns[1:], order = (0,8))\n",
    "results_ret_ma_8 = model_ret_ma_8.fit()\n",
    "print(results_ret_ma_8.summary())\n",
    "print(\"\\nLLR test p-value = \" + str(LLR_test(model_ret_ma_7, model_ret_ma_8)))"
   ]
  },
  {
   "cell_type": "markdown",
   "id": "795a1296",
   "metadata": {},
   "source": [
    "##### NOTE - The `coefficients for the eighth lag is significant`, while the ones for the `1st and 7th are not`. Well, this perfectly matches what the ACF function showed. Moreover, the test suggests that the `MA(8) is the better predictor.`"
   ]
  },
  {
   "cell_type": "code",
   "execution_count": 20,
   "id": "993a4ded",
   "metadata": {},
   "outputs": [
    {
     "name": "stdout",
     "output_type": "stream",
     "text": [
      "RUNNING THE L-BFGS-B CODE\n",
      "\n",
      "           * * *\n",
      "\n",
      "Machine precision = 2.220D-16\n",
      " N =            7     M =           12\n",
      "\n",
      "At X0         0 variables are exactly at the bounds\n",
      "\n",
      "At iterate    0    f=  1.57165D+00    |proj g|=  2.52243D-05\n",
      "\n",
      "At iterate    5    f=  1.57165D+00    |proj g|=  4.44089D-08\n",
      "\n",
      "           * * *\n",
      "\n",
      "Tit   = total number of iterations\n",
      "Tnf   = total number of function evaluations\n",
      "Tnint = total number of segments explored during Cauchy searches\n",
      "Skip  = number of BFGS updates skipped\n",
      "Nact  = number of active bounds at final generalized Cauchy point\n",
      "Projg = norm of the final projected gradient\n",
      "F     = final function value\n",
      "\n",
      "           * * *\n",
      "\n",
      "   N    Tit     Tnf  Tnint  Skip  Nact     Projg        F\n",
      "    7      6      9      1     0     0   2.220D-08   1.572D+00\n",
      "  F =   1.5716511697289763     \n",
      "\n",
      "CONVERGENCE: REL_REDUCTION_OF_F_<=_FACTR*EPSMCH             \n"
     ]
    },
    {
     "name": "stderr",
     "output_type": "stream",
     "text": [
      " This problem is unconstrained.\n"
     ]
    },
    {
     "name": "stdout",
     "output_type": "stream",
     "text": [
      "RUNNING THE L-BFGS-B CODE\n",
      "\n",
      "           * * *\n",
      "\n",
      "Machine precision = 2.220D-16\n",
      " N =            9     M =           12\n",
      "\n",
      "At X0         0 variables are exactly at the bounds\n",
      "\n",
      "At iterate    0    f=  1.57093D+00    |proj g|=  2.67120D-05\n",
      "\n",
      "At iterate    5    f=  1.57093D+00    |proj g|=  4.44089D-08\n",
      "\n",
      "           * * *\n",
      "\n",
      "Tit   = total number of iterations\n",
      "Tnf   = total number of function evaluations\n",
      "Tnint = total number of segments explored during Cauchy searches\n",
      "Skip  = number of BFGS updates skipped\n",
      "Nact  = number of active bounds at final generalized Cauchy point\n",
      "Projg = norm of the final projected gradient\n",
      "F     = final function value\n",
      "\n",
      "           * * *\n",
      "\n",
      "   N    Tit     Tnf  Tnint  Skip  Nact     Projg        F\n",
      "    9      6      9      1     0     0   0.000D+00   1.571D+00\n",
      "  F =   1.5709303256679987     \n",
      "\n",
      "CONVERGENCE: NORM_OF_PROJECTED_GRADIENT_<=_PGTOL            \n"
     ]
    },
    {
     "name": "stderr",
     "output_type": "stream",
     "text": [
      " This problem is unconstrained.\n"
     ]
    },
    {
     "data": {
      "text/plain": [
       "0.027"
      ]
     },
     "execution_count": 20,
     "metadata": {},
     "output_type": "execute_result"
    }
   ],
   "source": [
    "LLR_test(model_ret_ma_6, model_ret_ma_8, DF = 2)"
   ]
  },
  {
   "cell_type": "markdown",
   "id": "f604f8f1",
   "metadata": {},
   "source": [
    "#### `0.027 < 0.05 (Using 5% significance)` -> Therefore MA(8) > MA(6) eventhough it contains an additional non-significant coefficient.\n",
    "\n",
    "<img src = \"Images/DF.png\">"
   ]
  },
  {
   "cell_type": "markdown",
   "id": "4f1e9e62",
   "metadata": {},
   "source": [
    "### Residuals for Returns"
   ]
  },
  {
   "cell_type": "code",
   "execution_count": 21,
   "id": "214e8b45",
   "metadata": {},
   "outputs": [],
   "source": [
    "df['res_ret_ma_8'] = results_ret_ma_8.resid[1:]"
   ]
  },
  {
   "cell_type": "code",
   "execution_count": 22,
   "id": "7158e1d6",
   "metadata": {},
   "outputs": [
    {
     "name": "stdout",
     "output_type": "stream",
     "text": [
      "The mean of the residuals is 0.0\n",
      "The variance of the residuals is 1.356\n"
     ]
    }
   ],
   "source": [
    "print(\"The mean of the residuals is \" + str(round(df.res_ret_ma_8.mean(),3)) + \"\\nThe variance of the residuals is \" + str(round(df.res_ret_ma_8.var(),3)))"
   ]
  },
  {
   "cell_type": "code",
   "execution_count": 23,
   "id": "31b13a08",
   "metadata": {},
   "outputs": [
    {
     "data": {
      "text/plain": [
       "1.164"
      ]
     },
     "execution_count": 23,
     "metadata": {},
     "output_type": "execute_result"
    }
   ],
   "source": [
    "round(sqrt(df.res_ret_ma_8.var()),3)"
   ]
  },
  {
   "cell_type": "markdown",
   "id": "05d1b61b",
   "metadata": {},
   "source": [
    "<img src = \"Images/gwn.png\">\n",
    "\n",
    "##### NOTE - `Gaussian white noise implies normality` \n",
    "\n",
    "#### Thus, we expect most return residuals will be between -3.5 and +3.5 ( 3 standard deviations -> 3 * 1.1164 = 3.5 in either direction)\n",
    "\n",
    "#### This means that worst case scenario, we could be up to `7% points off` when predicting the returns for a market index."
   ]
  },
  {
   "cell_type": "code",
   "execution_count": 24,
   "id": "7a2f5a82",
   "metadata": {},
   "outputs": [
    {
     "data": {
      "image/png": "[encoded data removed]",
      "text/plain": [
       "<Figure size 1440x360 with 1 Axes>"
      ]
     },
     "metadata": {},
     "output_type": "display_data"
    }
   ],
   "source": [
    "df.res_ret_ma_8[1:].plot(figsize = (20,5))\n",
    "plt.title(\"Residuals Of Returns\", size = 24)\n",
    "plt.show()"
   ]
  },
  {
   "cell_type": "markdown",
   "id": "61a86755",
   "metadata": {},
   "source": [
    "##### NOTE - To test that the residuals resemble a white noise process, we can check for stationary. If the data is non stationary, it can't be considered white noise. Thus we run the adjusted DF test."
   ]
  },
  {
   "cell_type": "code",
   "execution_count": 25,
   "id": "225123af",
   "metadata": {},
   "outputs": [
    {
     "data": {
      "text/plain": [
       "(-70.84179977487116,\n",
       " 0.0,\n",
       " 0,\n",
       " 5017,\n",
       " {'1%': -3.431654095870046,\n",
       "  '5%': -2.8621162697870046,\n",
       "  '10%': -2.5670767490325597},\n",
       " 15681.854119490588)"
      ]
     },
     "execution_count": 25,
     "metadata": {},
     "output_type": "execute_result"
    }
   ],
   "source": [
    "sts.adfuller(df.res_ret_ma_8[2:])"
   ]
  },
  {
   "cell_type": "markdown",
   "id": "14f56cad",
   "metadata": {},
   "source": [
    "#### `P = 0.0 -> Dataset is stationary.`\n",
    "\n",
    "#### Even though we got our desired result from the test, `stationarity is not the same as white noise.` So we should also examine the ACF of the residuals."
   ]
  },
  {
   "cell_type": "code",
   "execution_count": 26,
   "id": "a79745e8",
   "metadata": {},
   "outputs": [
    {
     "data": {
      "image/png": "[encoded data removed]",
      "text/plain": [
       "<Figure size 432x288 with 1 Axes>"
      ]
     },
     "metadata": {},
     "output_type": "display_data"
    }
   ],
   "source": [
    "sgt.plot_acf(df.res_ret_ma_8[2:], zero = False, lags = 40)\n",
    "plt.title(\"ACF Of Residuals for Returns\", size = 24)\n",
    "plt.show()"
   ]
  },
  {
   "cell_type": "code",
   "execution_count": 27,
   "id": "87ea674f",
   "metadata": {},
   "outputs": [],
   "source": [
    "df['res_ret_ma_6'] = results_ret_ma_6.resid[1:]"
   ]
  },
  {
   "cell_type": "code",
   "execution_count": 28,
   "id": "c2554413",
   "metadata": {},
   "outputs": [
    {
     "name": "stdout",
     "output_type": "stream",
     "text": [
      "The mean of the residuals is 0.0\n",
      "The variance of the residuals is 1.358\n"
     ]
    }
   ],
   "source": [
    "print(\"The mean of the residuals is \" + str(round(df.res_ret_ma_6.mean(),3)) + \"\\nThe variance of the residuals is \" + str(round(df.res_ret_ma_6.var(),3)))"
   ]
  },
  {
   "cell_type": "code",
   "execution_count": 29,
   "id": "126c086e",
   "metadata": {},
   "outputs": [
    {
     "data": {
      "text/plain": [
       "1.165"
      ]
     },
     "execution_count": 29,
     "metadata": {},
     "output_type": "execute_result"
    }
   ],
   "source": [
    "round(sqrt(df.res_ret_ma_6.var()),3)"
   ]
  },
  {
   "cell_type": "code",
   "execution_count": 30,
   "id": "1cb6025d",
   "metadata": {},
   "outputs": [
    {
     "data": {
      "image/png": "[encoded data removed]",
      "text/plain": [
       "<Figure size 1440x360 with 1 Axes>"
      ]
     },
     "metadata": {},
     "output_type": "display_data"
    }
   ],
   "source": [
    "df.res_ret_ma_6[1:].plot(figsize = (20,5))\n",
    "plt.title(\"Residuals Of Returns\", size = 24)\n",
    "plt.show()"
   ]
  },
  {
   "cell_type": "code",
   "execution_count": 31,
   "id": "a6efaf87",
   "metadata": {},
   "outputs": [
    {
     "data": {
      "text/plain": [
       "(-70.8459390312848,\n",
       " 0.0,\n",
       " 0,\n",
       " 5017,\n",
       " {'1%': -3.431654095870046,\n",
       "  '5%': -2.8621162697870046,\n",
       "  '10%': -2.5670767490325597},\n",
       " 15688.923568754008)"
      ]
     },
     "execution_count": 31,
     "metadata": {},
     "output_type": "execute_result"
    }
   ],
   "source": [
    "sts.adfuller(df.res_ret_ma_6[2:])"
   ]
  },
  {
   "cell_type": "code",
   "execution_count": 32,
   "id": "d0ceadf5",
   "metadata": {},
   "outputs": [
    {
     "data": {
      "image/png": "[encoded data removed]",
      "text/plain": [
       "<Figure size 432x288 with 1 Axes>"
      ]
     },
     "metadata": {},
     "output_type": "display_data"
    }
   ],
   "source": [
    "sgt.plot_acf(df.res_ret_ma_6[2:], zero = False, lags = 40)\n",
    "plt.title(\"ACF Of Residuals for Returns\", size = 24)\n",
    "plt.show()"
   ]
  },
  {
   "cell_type": "markdown",
   "id": "6b6a8bff",
   "metadata": {},
   "source": [
    "### Normalized Returns"
   ]
  },
  {
   "cell_type": "code",
   "execution_count": 33,
   "id": "fa40cedc",
   "metadata": {},
   "outputs": [],
   "source": [
    "bench_ret = df.returns.iloc[1]\n",
    "df['norm_ret'] = df.returns.div(bench_ret).mul(100)"
   ]
  },
  {
   "cell_type": "code",
   "execution_count": 34,
   "id": "efd52025",
   "metadata": {},
   "outputs": [
    {
     "data": {
      "image/png": "[encoded data removed]",
      "text/plain": [
       "<Figure size 432x288 with 1 Axes>"
      ]
     },
     "metadata": {},
     "output_type": "display_data"
    }
   ],
   "source": [
    "sgt.plot_acf(df.norm_ret[1:], zero = False, lags = 40)\n",
    "plt.title(\"ACF Of Normalized Returns\", size = 24)\n",
    "plt.show()"
   ]
  },
  {
   "cell_type": "code",
   "execution_count": 35,
   "id": "22f486b4",
   "metadata": {},
   "outputs": [
    {
     "name": "stdout",
     "output_type": "stream",
     "text": [
      "RUNNING THE L-BFGS-B CODE\n",
      "\n",
      "           * * *\n",
      "\n",
      "Machine precision = 2.220D-16\n",
      " N =            9     M =           12\n",
      "\n",
      "At X0         0 variables are exactly at the bounds\n",
      "\n",
      "At iterate    0    f=  6.42555D+00    |proj g|=  2.68230D-05\n",
      "\n",
      "           * * *\n",
      "\n",
      "Tit   = total number of iterations\n",
      "Tnf   = total number of function evaluations\n",
      "Tnint = total number of segments explored during Cauchy searches\n",
      "Skip  = number of BFGS updates skipped\n",
      "Nact  = number of active bounds at final generalized Cauchy point\n",
      "Projg = norm of the final projected gradient\n",
      "F     = final function value\n",
      "\n",
      "           * * *\n",
      "\n",
      "   N    Tit     Tnf  Tnint  Skip  Nact     Projg        F\n",
      "    9      4      6      1     0     0   2.665D-07   6.426D+00\n",
      "  F =   6.4255507143272483     \n",
      "\n",
      "CONVERGENCE: REL_REDUCTION_OF_F_<=_FACTR*EPSMCH             \n"
     ]
    },
    {
     "name": "stderr",
     "output_type": "stream",
     "text": [
      " This problem is unconstrained.\n"
     ]
    },
    {
     "data": {
      "text/html": [
       "<table class=\"simpletable\">\n",
       "<caption>ARMA Model Results</caption>\n",
       "<tr>\n",
       "  <th>Dep. Variable:</th>     <td>norm_ret</td>     <th>  No. Observations:  </th>    <td>5019</td>   \n",
       "</tr>\n",
       "<tr>\n",
       "  <th>Model:</th>            <td>ARMA(0, 8)</td>    <th>  Log Likelihood     </th> <td>-32249.839</td>\n",
       "</tr>\n",
       "<tr>\n",
       "  <th>Method:</th>             <td>css-mle</td>     <th>  S.D. of innovations</th>   <td>149.397</td> \n",
       "</tr>\n",
       "<tr>\n",
       "  <th>Date:</th>          <td>Fri, 21 Jan 2022</td> <th>  AIC                </th>  <td>64519.678</td>\n",
       "</tr>\n",
       "<tr>\n",
       "  <th>Time:</th>              <td>01:17:09</td>     <th>  BIC                </th>  <td>64584.888</td>\n",
       "</tr>\n",
       "<tr>\n",
       "  <th>Sample:</th>           <td>01-11-1994</td>    <th>  HQIC               </th>  <td>64542.529</td>\n",
       "</tr>\n",
       "<tr>\n",
       "  <th></th>                 <td>- 04-05-2013</td>   <th>                     </th>      <td> </td>    \n",
       "</tr>\n",
       "</table>\n",
       "<table class=\"simpletable\">\n",
       "<tr>\n",
       "         <td></td>           <th>coef</th>     <th>std err</th>      <th>z</th>      <th>P>|z|</th>  <th>[0.025</th>    <th>0.975]</th>  \n",
       "</tr>\n",
       "<tr>\n",
       "  <th>const</th>          <td>   -2.4310</td> <td>    1.779</td> <td>   -1.366</td> <td> 0.172</td> <td>   -5.918</td> <td>    1.057</td>\n",
       "</tr>\n",
       "<tr>\n",
       "  <th>ma.L1.norm_ret</th> <td>   -0.0238</td> <td>    0.014</td> <td>   -1.690</td> <td> 0.091</td> <td>   -0.051</td> <td>    0.004</td>\n",
       "</tr>\n",
       "<tr>\n",
       "  <th>ma.L2.norm_ret</th> <td>   -0.0496</td> <td>    0.014</td> <td>   -3.517</td> <td> 0.000</td> <td>   -0.077</td> <td>   -0.022</td>\n",
       "</tr>\n",
       "<tr>\n",
       "  <th>ma.L3.norm_ret</th> <td>   -0.0847</td> <td>    0.014</td> <td>   -5.993</td> <td> 0.000</td> <td>   -0.112</td> <td>   -0.057</td>\n",
       "</tr>\n",
       "<tr>\n",
       "  <th>ma.L4.norm_ret</th> <td>    0.0489</td> <td>    0.014</td> <td>    3.443</td> <td> 0.001</td> <td>    0.021</td> <td>    0.077</td>\n",
       "</tr>\n",
       "<tr>\n",
       "  <th>ma.L5.norm_ret</th> <td>   -0.0518</td> <td>    0.014</td> <td>   -3.633</td> <td> 0.000</td> <td>   -0.080</td> <td>   -0.024</td>\n",
       "</tr>\n",
       "<tr>\n",
       "  <th>ma.L6.norm_ret</th> <td>   -0.0401</td> <td>    0.014</td> <td>   -2.784</td> <td> 0.005</td> <td>   -0.068</td> <td>   -0.012</td>\n",
       "</tr>\n",
       "<tr>\n",
       "  <th>ma.L7.norm_ret</th> <td>    0.0084</td> <td>    0.014</td> <td>    0.590</td> <td> 0.555</td> <td>   -0.020</td> <td>    0.036</td>\n",
       "</tr>\n",
       "<tr>\n",
       "  <th>ma.L8.norm_ret</th> <td>    0.0365</td> <td>    0.014</td> <td>    2.625</td> <td> 0.009</td> <td>    0.009</td> <td>    0.064</td>\n",
       "</tr>\n",
       "</table>\n",
       "<table class=\"simpletable\">\n",
       "<caption>Roots</caption>\n",
       "<tr>\n",
       "    <td></td>   <th>            Real</th>  <th>         Imaginary</th> <th>         Modulus</th>  <th>        Frequency</th>\n",
       "</tr>\n",
       "<tr>\n",
       "  <th>MA.1</th> <td>           1.4714</td> <td>          -0.4284j</td> <td>           1.5325</td> <td>          -0.0451</td>\n",
       "</tr>\n",
       "<tr>\n",
       "  <th>MA.2</th> <td>           1.4714</td> <td>          +0.4284j</td> <td>           1.5325</td> <td>           0.0451</td>\n",
       "</tr>\n",
       "<tr>\n",
       "  <th>MA.3</th> <td>           0.5944</td> <td>          -1.3170j</td> <td>           1.4449</td> <td>          -0.1825</td>\n",
       "</tr>\n",
       "<tr>\n",
       "  <th>MA.4</th> <td>           0.5944</td> <td>          +1.3170j</td> <td>           1.4449</td> <td>           0.1825</td>\n",
       "</tr>\n",
       "<tr>\n",
       "  <th>MA.5</th> <td>          -0.7320</td> <td>          -1.2736j</td> <td>           1.4690</td> <td>          -0.3330</td>\n",
       "</tr>\n",
       "<tr>\n",
       "  <th>MA.6</th> <td>          -0.7320</td> <td>          +1.2736j</td> <td>           1.4690</td> <td>           0.3330</td>\n",
       "</tr>\n",
       "<tr>\n",
       "  <th>MA.7</th> <td>          -1.4487</td> <td>          -0.6984j</td> <td>           1.6083</td> <td>          -0.4285</td>\n",
       "</tr>\n",
       "<tr>\n",
       "  <th>MA.8</th> <td>          -1.4487</td> <td>          +0.6984j</td> <td>           1.6083</td> <td>           0.4285</td>\n",
       "</tr>\n",
       "</table>"
      ],
      "text/plain": [
       "<class 'statsmodels.iolib.summary.Summary'>\n",
       "\"\"\"\n",
       "                              ARMA Model Results                              \n",
       "==============================================================================\n",
       "Dep. Variable:               norm_ret   No. Observations:                 5019\n",
       "Model:                     ARMA(0, 8)   Log Likelihood              -32249.839\n",
       "Method:                       css-mle   S.D. of innovations            149.397\n",
       "Date:                Fri, 21 Jan 2022   AIC                          64519.678\n",
       "Time:                        01:17:09   BIC                          64584.888\n",
       "Sample:                    01-11-1994   HQIC                         64542.529\n",
       "                         - 04-05-2013                                         \n",
       "==================================================================================\n",
       "                     coef    std err          z      P>|z|      [0.025      0.975]\n",
       "----------------------------------------------------------------------------------\n",
       "const             -2.4310      1.779     -1.366      0.172      -5.918       1.057\n",
       "ma.L1.norm_ret    -0.0238      0.014     -1.690      0.091      -0.051       0.004\n",
       "ma.L2.norm_ret    -0.0496      0.014     -3.517      0.000      -0.077      -0.022\n",
       "ma.L3.norm_ret    -0.0847      0.014     -5.993      0.000      -0.112      -0.057\n",
       "ma.L4.norm_ret     0.0489      0.014      3.443      0.001       0.021       0.077\n",
       "ma.L5.norm_ret    -0.0518      0.014     -3.633      0.000      -0.080      -0.024\n",
       "ma.L6.norm_ret    -0.0401      0.014     -2.784      0.005      -0.068      -0.012\n",
       "ma.L7.norm_ret     0.0084      0.014      0.590      0.555      -0.020       0.036\n",
       "ma.L8.norm_ret     0.0365      0.014      2.625      0.009       0.009       0.064\n",
       "                                    Roots                                    \n",
       "=============================================================================\n",
       "                  Real          Imaginary           Modulus         Frequency\n",
       "-----------------------------------------------------------------------------\n",
       "MA.1            1.4714           -0.4284j            1.5325           -0.0451\n",
       "MA.2            1.4714           +0.4284j            1.5325            0.0451\n",
       "MA.3            0.5944           -1.3170j            1.4449           -0.1825\n",
       "MA.4            0.5944           +1.3170j            1.4449            0.1825\n",
       "MA.5           -0.7320           -1.2736j            1.4690           -0.3330\n",
       "MA.6           -0.7320           +1.2736j            1.4690            0.3330\n",
       "MA.7           -1.4487           -0.6984j            1.6083           -0.4285\n",
       "MA.8           -1.4487           +0.6984j            1.6083            0.4285\n",
       "-----------------------------------------------------------------------------\n",
       "\"\"\""
      ]
     },
     "execution_count": 35,
     "metadata": {},
     "output_type": "execute_result"
    }
   ],
   "source": [
    "model_norm_ret_ma_8 = ARMA(df.norm_ret[1:], order = (0,8))\n",
    "results_norm_ret_ma_8 = model_norm_ret_ma_8.fit()\n",
    "results_norm_ret_ma_8.summary()"
   ]
  },
  {
   "cell_type": "markdown",
   "id": "53515569",
   "metadata": {},
   "source": [
    "##### NOTE - Normalizing the input data has no effect on model selection."
   ]
  },
  {
   "cell_type": "code",
   "execution_count": 36,
   "id": "3579958e",
   "metadata": {},
   "outputs": [],
   "source": [
    "df['res_norm_ret_ma_8'] = results_ret_ma_8.resid[1:]"
   ]
  },
  {
   "cell_type": "code",
   "execution_count": 37,
   "id": "fa03a5ef",
   "metadata": {},
   "outputs": [
    {
     "data": {
      "image/png": "[encoded data removed]",
      "text/plain": [
       "<Figure size 1440x360 with 1 Axes>"
      ]
     },
     "metadata": {},
     "output_type": "display_data"
    }
   ],
   "source": [
    "df.res_norm_ret_ma_8[1:].plot(figsize = (20,5))\n",
    "plt.title(\"Residuals Of Normalized Returns\", size = 24)\n",
    "plt.show()"
   ]
  },
  {
   "cell_type": "code",
   "execution_count": 38,
   "id": "24121c80",
   "metadata": {},
   "outputs": [
    {
     "data": {
      "image/png": "[encoded data removed]",
      "text/plain": [
       "<Figure size 432x288 with 1 Axes>"
      ]
     },
     "metadata": {},
     "output_type": "display_data"
    }
   ],
   "source": [
    "sgt.plot_acf(df.res_norm_ret_ma_8[2:], zero = False, lags = 40)\n",
    "plt.title(\"ACF Of Normalized Returns\", size = 24)\n",
    "plt.show()"
   ]
  },
  {
   "cell_type": "markdown",
   "id": "f530762d",
   "metadata": {},
   "source": [
    "##### NOTE - White noise means the errors don't follow a pattern."
   ]
  },
  {
   "cell_type": "markdown",
   "id": "346a35b9",
   "metadata": {},
   "source": [
    "### MA Models for Prices"
   ]
  },
  {
   "cell_type": "code",
   "execution_count": 39,
   "id": "f96a182f",
   "metadata": {},
   "outputs": [
    {
     "data": {
      "image/png": "[encoded data removed]",
      "text/plain": [
       "<Figure size 432x288 with 1 Axes>"
      ]
     },
     "metadata": {},
     "output_type": "display_data"
    }
   ],
   "source": [
    "sgt.plot_acf(df.market_value, zero = False, lags = 40)\n",
    "plt.title(\"ACF for Prices\", size = 20)\n",
    "plt.show()"
   ]
  },
  {
   "cell_type": "markdown",
   "id": "e58b5c9c",
   "metadata": {},
   "source": [
    "##### NOTE - The above graph suggests that `MA(P+1) > MA(P)`. This suggests that a MA(infinte) model will be an ideal fit but since no such thing exists therefore, any MA model won't be a good fit."
   ]
  },
  {
   "cell_type": "code",
   "execution_count": 41,
   "id": "641f8dd0",
   "metadata": {},
   "outputs": [
    {
     "data": {
      "text/html": [
       "<table class=\"simpletable\">\n",
       "<caption>ARMA Model Results</caption>\n",
       "<tr>\n",
       "  <th>Dep. Variable:</th>   <td>market_value</td>   <th>  No. Observations:  </th>    <td>5020</td>   \n",
       "</tr>\n",
       "<tr>\n",
       "  <th>Model:</th>            <td>ARMA(0, 1)</td>    <th>  Log Likelihood     </th> <td>-38620.604</td>\n",
       "</tr>\n",
       "<tr>\n",
       "  <th>Method:</th>             <td>css-mle</td>     <th>  S.D. of innovations</th>   <td>530.681</td> \n",
       "</tr>\n",
       "<tr>\n",
       "  <th>Date:</th>          <td>Fri, 21 Jan 2022</td> <th>  AIC                </th>  <td>77247.207</td>\n",
       "</tr>\n",
       "<tr>\n",
       "  <th>Time:</th>              <td>01:17:22</td>     <th>  BIC                </th>  <td>77266.771</td>\n",
       "</tr>\n",
       "<tr>\n",
       "  <th>Sample:</th>           <td>01-10-1994</td>    <th>  HQIC               </th>  <td>77254.063</td>\n",
       "</tr>\n",
       "<tr>\n",
       "  <th></th>                 <td>- 04-05-2013</td>   <th>                     </th>      <td> </td>    \n",
       "</tr>\n",
       "</table>\n",
       "<table class=\"simpletable\">\n",
       "<tr>\n",
       "           <td></td>             <th>coef</th>     <th>std err</th>      <th>z</th>      <th>P>|z|</th>  <th>[0.025</th>    <th>0.975]</th>  \n",
       "</tr>\n",
       "<tr>\n",
       "  <th>const</th>              <td> 5089.9228</td> <td>   14.659</td> <td>  347.227</td> <td> 0.000</td> <td> 5061.192</td> <td> 5118.653</td>\n",
       "</tr>\n",
       "<tr>\n",
       "  <th>ma.L1.market_value</th> <td>    0.9573</td> <td>    0.003</td> <td>  335.389</td> <td> 0.000</td> <td>    0.952</td> <td>    0.963</td>\n",
       "</tr>\n",
       "</table>\n",
       "<table class=\"simpletable\">\n",
       "<caption>Roots</caption>\n",
       "<tr>\n",
       "    <td></td>   <th>            Real</th>  <th>         Imaginary</th> <th>         Modulus</th>  <th>        Frequency</th>\n",
       "</tr>\n",
       "<tr>\n",
       "  <th>MA.1</th> <td>          -1.0446</td> <td>          +0.0000j</td> <td>           1.0446</td> <td>           0.5000</td>\n",
       "</tr>\n",
       "</table>"
      ],
      "text/plain": [
       "<class 'statsmodels.iolib.summary.Summary'>\n",
       "\"\"\"\n",
       "                              ARMA Model Results                              \n",
       "==============================================================================\n",
       "Dep. Variable:           market_value   No. Observations:                 5020\n",
       "Model:                     ARMA(0, 1)   Log Likelihood              -38620.604\n",
       "Method:                       css-mle   S.D. of innovations            530.681\n",
       "Date:                Fri, 21 Jan 2022   AIC                          77247.207\n",
       "Time:                        01:17:22   BIC                          77266.771\n",
       "Sample:                    01-10-1994   HQIC                         77254.063\n",
       "                         - 04-05-2013                                         \n",
       "======================================================================================\n",
       "                         coef    std err          z      P>|z|      [0.025      0.975]\n",
       "--------------------------------------------------------------------------------------\n",
       "const               5089.9228     14.659    347.227      0.000    5061.192    5118.653\n",
       "ma.L1.market_value     0.9573      0.003    335.389      0.000       0.952       0.963\n",
       "                                    Roots                                    \n",
       "=============================================================================\n",
       "                  Real          Imaginary           Modulus         Frequency\n",
       "-----------------------------------------------------------------------------\n",
       "MA.1           -1.0446           +0.0000j            1.0446            0.5000\n",
       "-----------------------------------------------------------------------------\n",
       "\"\"\""
      ]
     },
     "execution_count": 41,
     "metadata": {},
     "output_type": "execute_result"
    }
   ],
   "source": [
    "model_ma_1 = ARMA(df.market_value, order = (0,1))\n",
    "results_ma_1 = model_ma_1.fit()\n",
    "results_ma_1.summary()"
   ]
  },
  {
   "cell_type": "markdown",
   "id": "afc28718",
   "metadata": {},
   "source": [
    "<img src = \"Images/ma1.png\">\n",
    "<img src = \"Images/maeq.png\">"
   ]
  },
  {
   "cell_type": "markdown",
   "id": "4815c912",
   "metadata": {},
   "source": [
    "Hence, MA(1) model where `all the coefficients are extremely close to one` is just an approximation of an AR model, which only takes the `error term from N periods back.`\n",
    "\n",
    "##### NOTE - MA models do not perform well for non-stationary data.\n",
    "\n",
    "#### \"MA Models are great in modelling Random Walks because they take into account our mistakes.\"\n",
    "\n",
    "The MA aspect of models does that, however, to actually do a decent job at modeling a non stationary process, a model should also use the previous periods values as a sort of diving board and that means `some combinations of AR and MA models would be best.`"
   ]
  },
  {
   "cell_type": "markdown",
   "id": "987cd24e",
   "metadata": {},
   "source": [
    "## Conclusion\n",
    "\n",
    "### AR Model\n",
    "1. Made good predictions.\n",
    "2. Failed to adjust quickly to unexpected shocks.\n",
    "\n",
    "### MA Model\n",
    "1. Smooth out the predictions. \n",
    "2. Accounted only for the residuals. \n",
    "3. Needed a baseline to perform well so we could use previous values to provide that.\n",
    "\n",
    "### Introduction to ARMA Model\n",
    "<img src = \"Images/ARMA.png\">\n",
    "\n",
    "<img src = \"Images/arma-model.png\">\n",
    "\n",
    "### ARMA Model Equation\n",
    "<img src = \"Images/arma-eq.png\">\n",
    "\n",
    "#### In General:\n",
    "<img src = \"Images/armaa.png\">\n",
    "\n",
    "### Important\n",
    "<img src = \"Images/arma-pq.png\">\n",
    "\n",
    "##### NOTE - It's crucial to understand that the `two orders can be but must not necessarily be equal in value`. This is vital because usually `either the error term or the past value loses significance faster.` Hence, many realistic predictive models have different autoregressive and moving average orders.\n",
    "\n",
    "### ARMA(1,1)\n",
    "\n",
    "#### Syntax -> `ARMA(time_series_name, order = (P, Q))`\n",
    "\n",
    "#### `Degrees of Freedom -> P + Q`"
   ]
  },
  {
   "cell_type": "code",
   "execution_count": 73,
   "id": "e7a2389d",
   "metadata": {},
   "outputs": [
    {
     "name": "stderr",
     "output_type": "stream",
     "text": [
      " This problem is unconstrained.\n"
     ]
    },
    {
     "name": "stdout",
     "output_type": "stream",
     "text": [
      "RUNNING THE L-BFGS-B CODE\n",
      "\n",
      "           * * *\n",
      "\n",
      "Machine precision = 2.220D-16\n",
      " N =            3     M =           12\n",
      "\n",
      "At X0         0 variables are exactly at the bounds\n",
      "\n",
      "At iterate    0    f=  1.57710D+00    |proj g|=  4.53881D-04\n",
      "\n",
      "At iterate    5    f=  1.57710D+00    |proj g|=  7.63345D-04\n",
      "\n",
      "At iterate   10    f=  1.57709D+00    |proj g|=  3.16169D-04\n",
      "\n",
      "At iterate   15    f=  1.57709D+00    |proj g|=  1.11022D-07\n",
      "\n",
      "           * * *\n",
      "\n",
      "Tit   = total number of iterations\n",
      "Tnf   = total number of function evaluations\n",
      "Tnint = total number of segments explored during Cauchy searches\n",
      "Skip  = number of BFGS updates skipped\n",
      "Nact  = number of active bounds at final generalized Cauchy point\n",
      "Projg = norm of the final projected gradient\n",
      "F     = final function value\n",
      "\n",
      "           * * *\n",
      "\n",
      "   N    Tit     Tnf  Tnint  Skip  Nact     Projg        F\n",
      "    3     15     18      1     0     0   1.110D-07   1.577D+00\n",
      "  F =   1.5770882206395498     \n",
      "\n",
      "CONVERGENCE: REL_REDUCTION_OF_F_<=_FACTR*EPSMCH             \n"
     ]
    },
    {
     "data": {
      "text/html": [
       "<table class=\"simpletable\">\n",
       "<caption>ARMA Model Results</caption>\n",
       "<tr>\n",
       "  <th>Dep. Variable:</th>      <td>returns</td>     <th>  No. Observations:  </th>   <td>5019</td>   \n",
       "</tr>\n",
       "<tr>\n",
       "  <th>Model:</th>            <td>ARMA(1, 1)</td>    <th>  Log Likelihood     </th> <td>-7915.406</td>\n",
       "</tr>\n",
       "<tr>\n",
       "  <th>Method:</th>             <td>css-mle</td>     <th>  S.D. of innovations</th>   <td>1.171</td>  \n",
       "</tr>\n",
       "<tr>\n",
       "  <th>Date:</th>          <td>Thu, 20 Jan 2022</td> <th>  AIC                </th> <td>15838.812</td>\n",
       "</tr>\n",
       "<tr>\n",
       "  <th>Time:</th>              <td>00:34:39</td>     <th>  BIC                </th> <td>15864.896</td>\n",
       "</tr>\n",
       "<tr>\n",
       "  <th>Sample:</th>           <td>01-11-1994</td>    <th>  HQIC               </th> <td>15847.952</td>\n",
       "</tr>\n",
       "<tr>\n",
       "  <th></th>                 <td>- 04-05-2013</td>   <th>                     </th>     <td> </td>    \n",
       "</tr>\n",
       "</table>\n",
       "<table class=\"simpletable\">\n",
       "<tr>\n",
       "        <td></td>           <th>coef</th>     <th>std err</th>      <th>z</th>      <th>P>|z|</th>  <th>[0.025</th>    <th>0.975]</th>  \n",
       "</tr>\n",
       "<tr>\n",
       "  <th>const</th>         <td>    0.0189</td> <td>    0.013</td> <td>    1.448</td> <td> 0.148</td> <td>   -0.007</td> <td>    0.045</td>\n",
       "</tr>\n",
       "<tr>\n",
       "  <th>ar.L1.returns</th> <td>    0.7647</td> <td>    0.067</td> <td>   11.338</td> <td> 0.000</td> <td>    0.633</td> <td>    0.897</td>\n",
       "</tr>\n",
       "<tr>\n",
       "  <th>ma.L1.returns</th> <td>   -0.8139</td> <td>    0.061</td> <td>  -13.393</td> <td> 0.000</td> <td>   -0.933</td> <td>   -0.695</td>\n",
       "</tr>\n",
       "</table>\n",
       "<table class=\"simpletable\">\n",
       "<caption>Roots</caption>\n",
       "<tr>\n",
       "    <td></td>   <th>            Real</th>  <th>         Imaginary</th> <th>         Modulus</th>  <th>        Frequency</th>\n",
       "</tr>\n",
       "<tr>\n",
       "  <th>AR.1</th> <td>           1.3077</td> <td>          +0.0000j</td> <td>           1.3077</td> <td>           0.0000</td>\n",
       "</tr>\n",
       "<tr>\n",
       "  <th>MA.1</th> <td>           1.2286</td> <td>          +0.0000j</td> <td>           1.2286</td> <td>           0.0000</td>\n",
       "</tr>\n",
       "</table>"
      ],
      "text/plain": [
       "<class 'statsmodels.iolib.summary.Summary'>\n",
       "\"\"\"\n",
       "                              ARMA Model Results                              \n",
       "==============================================================================\n",
       "Dep. Variable:                returns   No. Observations:                 5019\n",
       "Model:                     ARMA(1, 1)   Log Likelihood               -7915.406\n",
       "Method:                       css-mle   S.D. of innovations              1.171\n",
       "Date:                Thu, 20 Jan 2022   AIC                          15838.812\n",
       "Time:                        00:34:39   BIC                          15864.896\n",
       "Sample:                    01-11-1994   HQIC                         15847.952\n",
       "                         - 04-05-2013                                         \n",
       "=================================================================================\n",
       "                    coef    std err          z      P>|z|      [0.025      0.975]\n",
       "---------------------------------------------------------------------------------\n",
       "const             0.0189      0.013      1.448      0.148      -0.007       0.045\n",
       "ar.L1.returns     0.7647      0.067     11.338      0.000       0.633       0.897\n",
       "ma.L1.returns    -0.8139      0.061    -13.393      0.000      -0.933      -0.695\n",
       "                                    Roots                                    \n",
       "=============================================================================\n",
       "                  Real          Imaginary           Modulus         Frequency\n",
       "-----------------------------------------------------------------------------\n",
       "AR.1            1.3077           +0.0000j            1.3077            0.0000\n",
       "MA.1            1.2286           +0.0000j            1.2286            0.0000\n",
       "-----------------------------------------------------------------------------\n",
       "\"\"\""
      ]
     },
     "execution_count": 73,
     "metadata": {},
     "output_type": "execute_result"
    }
   ],
   "source": [
    "model_ret_ar_1_ma_1 = ARMA(df.returns[1:], order = (1,1))\n",
    "results_ret_ar_1_ma_1 = model_ret_ar_1_ma_1.fit()\n",
    "results_ret_ar_1_ma_1.summary()"
   ]
  },
  {
   "cell_type": "markdown",
   "id": "5352cf29",
   "metadata": {},
   "source": [
    "#### `AR coefficient (ar.L1.returns) -> 0.7647 => positive`\n",
    "\n",
    "#### `MA coefficeint (ma.L1.returns) -> -0.8139 => negative`\n",
    "\n",
    "<img src = \"Images/arma11.png\">"
   ]
  },
  {
   "cell_type": "code",
   "execution_count": 74,
   "id": "53edfbe4",
   "metadata": {},
   "outputs": [],
   "source": [
    "model_ret_ar_1 = ARMA(df.returns[1:], order = (1,0))\n",
    "model_ret_ma_1 = ARMA(df.returns[1:], order = (0,1))"
   ]
  },
  {
   "cell_type": "code",
   "execution_count": 75,
   "id": "9bc35b9d",
   "metadata": {},
   "outputs": [
    {
     "name": "stderr",
     "output_type": "stream",
     "text": [
      " This problem is unconstrained.\n"
     ]
    },
    {
     "name": "stdout",
     "output_type": "stream",
     "text": [
      "RUNNING THE L-BFGS-B CODE\n",
      "\n",
      "           * * *\n",
      "\n",
      "Machine precision = 2.220D-16\n",
      " N =            2     M =           12\n",
      "\n",
      "At X0         0 variables are exactly at the bounds\n",
      "\n",
      "At iterate    0    f=  1.57973D+00    |proj g|=  1.15241D-04\n",
      "\n",
      "At iterate    5    f=  1.57973D+00    |proj g|=  2.22045D-08\n",
      "\n",
      "           * * *\n",
      "\n",
      "Tit   = total number of iterations\n",
      "Tnf   = total number of function evaluations\n",
      "Tnint = total number of segments explored during Cauchy searches\n",
      "Skip  = number of BFGS updates skipped\n",
      "Nact  = number of active bounds at final generalized Cauchy point\n",
      "Projg = norm of the final projected gradient\n",
      "F     = final function value\n",
      "\n",
      "           * * *\n",
      "\n",
      "   N    Tit     Tnf  Tnint  Skip  Nact     Projg        F\n",
      "    2      5      7      1     0     0   2.220D-08   1.580D+00\n",
      "  F =   1.5797281163140755     \n",
      "\n",
      "CONVERGENCE: REL_REDUCTION_OF_F_<=_FACTR*EPSMCH             \n",
      "RUNNING THE L-BFGS-B CODE\n",
      "\n",
      "           * * *\n",
      "\n",
      "Machine precision = 2.220D-16\n",
      " N =            3     M =           12\n",
      "\n",
      "At X0         0 variables are exactly at the bounds\n",
      "\n",
      "At iterate    0    f=  1.57710D+00    |proj g|=  4.53881D-04\n",
      "\n",
      "At iterate    5    f=  1.57710D+00    |proj g|=  7.63345D-04\n",
      "\n",
      "At iterate   10    f=  1.57709D+00    |proj g|=  3.16169D-04\n"
     ]
    },
    {
     "name": "stderr",
     "output_type": "stream",
     "text": [
      " This problem is unconstrained.\n"
     ]
    },
    {
     "name": "stdout",
     "output_type": "stream",
     "text": [
      "\n",
      "At iterate   15    f=  1.57709D+00    |proj g|=  1.11022D-07\n",
      "\n",
      "           * * *\n",
      "\n",
      "Tit   = total number of iterations\n",
      "Tnf   = total number of function evaluations\n",
      "Tnint = total number of segments explored during Cauchy searches\n",
      "Skip  = number of BFGS updates skipped\n",
      "Nact  = number of active bounds at final generalized Cauchy point\n",
      "Projg = norm of the final projected gradient\n",
      "F     = final function value\n",
      "\n",
      "           * * *\n",
      "\n",
      "   N    Tit     Tnf  Tnint  Skip  Nact     Projg        F\n",
      "    3     15     18      1     0     0   1.110D-07   1.577D+00\n",
      "  F =   1.5770882206395498     \n",
      "\n",
      "CONVERGENCE: REL_REDUCTION_OF_F_<=_FACTR*EPSMCH             \n",
      "\n",
      "ARMA vs AR 0.0\n",
      "RUNNING THE L-BFGS-B CODE\n",
      "\n",
      "           * * *\n",
      "\n",
      "Machine precision = 2.220D-16\n",
      " N =            2     M =           12\n",
      "\n",
      "At X0         0 variables are exactly at the bounds\n",
      "\n",
      "At iterate    0    f=  1.57970D+00    |proj g|=  1.26565D-06\n",
      "\n",
      "           * * *\n",
      "\n",
      "Tit   = total number of iterations\n",
      "Tnf   = total number of function evaluations\n",
      "Tnint = total number of segments explored during Cauchy searches\n",
      "Skip  = number of BFGS updates skipped\n",
      "Nact  = number of active bounds at final generalized Cauchy point\n",
      "Projg = norm of the final projected gradient\n",
      "F     = final function value\n",
      "\n",
      "           * * *\n",
      "\n",
      "   N    Tit     Tnf  Tnint  Skip  Nact     Projg        F\n",
      "    2      2      5      1     0     0   2.220D-08   1.580D+00\n",
      "  F =   1.5796974108407174     \n",
      "\n",
      "CONVERGENCE: REL_REDUCTION_OF_F_<=_FACTR*EPSMCH             \n"
     ]
    },
    {
     "name": "stderr",
     "output_type": "stream",
     "text": [
      " This problem is unconstrained.\n",
      " This problem is unconstrained.\n"
     ]
    },
    {
     "name": "stdout",
     "output_type": "stream",
     "text": [
      "RUNNING THE L-BFGS-B CODE\n",
      "\n",
      "           * * *\n",
      "\n",
      "Machine precision = 2.220D-16\n",
      " N =            3     M =           12\n",
      "\n",
      "At X0         0 variables are exactly at the bounds\n",
      "\n",
      "At iterate    0    f=  1.57710D+00    |proj g|=  4.53881D-04\n",
      "\n",
      "At iterate    5    f=  1.57710D+00    |proj g|=  7.63345D-04\n",
      "\n",
      "At iterate   10    f=  1.57709D+00    |proj g|=  3.16169D-04\n",
      "\n",
      "At iterate   15    f=  1.57709D+00    |proj g|=  1.11022D-07\n",
      "\n",
      "           * * *\n",
      "\n",
      "Tit   = total number of iterations\n",
      "Tnf   = total number of function evaluations\n",
      "Tnint = total number of segments explored during Cauchy searches\n",
      "Skip  = number of BFGS updates skipped\n",
      "Nact  = number of active bounds at final generalized Cauchy point\n",
      "Projg = norm of the final projected gradient\n",
      "F     = final function value\n",
      "\n",
      "           * * *\n",
      "\n",
      "   N    Tit     Tnf  Tnint  Skip  Nact     Projg        F\n",
      "    3     15     18      1     0     0   1.110D-07   1.577D+00\n",
      "  F =   1.5770882206395498     \n",
      "\n",
      "CONVERGENCE: REL_REDUCTION_OF_F_<=_FACTR*EPSMCH             \n",
      "\n",
      "ARMA vs MA 0.0\n"
     ]
    }
   ],
   "source": [
    "print(\"\\nARMA vs AR\", LLR_test(model_ret_ar_1, model_ret_ar_1_ma_1))\n",
    "print(\"\\nARMA vs MA\", LLR_test(model_ret_ma_1, model_ret_ar_1_ma_1))"
   ]
  },
  {
   "cell_type": "markdown",
   "id": "57343ba9",
   "metadata": {},
   "source": [
    "#### `ARMA vs AR 0.0` & `ARMA vs MA 0.0` -> This suggests that using past errors in conjuction with past values results in much better estimators.\n",
    "\n",
    "Another way of interpreting said results is that our `past estimate has performed better as predictors than actual past values.` This is a bold statement to make, however, if it's true, that means that ARMA models ought to perform well in forecasting values into the future."
   ]
  },
  {
   "cell_type": "markdown",
   "id": "41972d99",
   "metadata": {},
   "source": [
    "<img src = Images/over-par.png>\n",
    "\n",
    "#### We start with an `over-parametrized ARMA(P,Q)` model and then start decreasing the lags until:\n",
    "\n",
    "1. All coefficients are significant.\n",
    "2. High Log-Likelihood \n",
    "3. Low Information Criteria\n",
    "\n",
    "<img src = Images/AR&MA&.png>\n",
    "\n",
    "##### NOTE -  As per the above graphs, we expect the preferred ARMA model to have no more than 6 AR and at most 8 MA parts.  That happens because if the 6 AR and 8 MA arguments were able to explain the changes period to period on their own, then using them simultaneously would be redundant.\n",
    "\n",
    "<img src = Images/arma86.png>\n",
    "\n",
    "##### NOTE - \n",
    "`10 of the 14 coefficients`, excluding the constant, are `not significant`. This proves that the model is `unnecessarily complicated`, since `less than half of the coefficients are significantly different from zero.` Hence, if we assume `ARMA(4,3) is half the ARMA(8,6)`, then starting with a `simpler ARMA(3,3)` sounds all the more sensible."
   ]
  },
  {
   "cell_type": "code",
   "execution_count": 79,
   "id": "87cc6945",
   "metadata": {},
   "outputs": [
    {
     "name": "stderr",
     "output_type": "stream",
     "text": [
      " This problem is unconstrained.\n"
     ]
    },
    {
     "name": "stdout",
     "output_type": "stream",
     "text": [
      "RUNNING THE L-BFGS-B CODE\n",
      "\n",
      "           * * *\n",
      "\n",
      "Machine precision = 2.220D-16\n",
      " N =            7     M =           12\n",
      "\n",
      "At X0         0 variables are exactly at the bounds\n",
      "\n",
      "At iterate    0    f=  1.57252D+00    |proj g|=  3.72280D-04\n",
      "\n",
      "At iterate    5    f=  1.57252D+00    |proj g|=  3.90354D-04\n",
      "\n",
      "At iterate   10    f=  1.57251D+00    |proj g|=  4.45932D-04\n",
      "\n",
      "At iterate   15    f=  1.57251D+00    |proj g|=  2.20224D-04\n",
      "\n",
      "At iterate   20    f=  1.57251D+00    |proj g|=  2.12053D-05\n",
      "\n",
      "At iterate   25    f=  1.57251D+00    |proj g|=  1.47726D-04\n",
      "\n",
      "At iterate   30    f=  1.57251D+00    |proj g|=  2.68674D-06\n",
      "\n",
      "At iterate   35    f=  1.57251D+00    |proj g|=  1.77636D-07\n",
      "\n",
      "           * * *\n",
      "\n",
      "Tit   = total number of iterations\n",
      "Tnf   = total number of function evaluations\n",
      "Tnint = total number of segments explored during Cauchy searches\n",
      "Skip  = number of BFGS updates skipped\n",
      "Nact  = number of active bounds at final generalized Cauchy point\n",
      "Projg = norm of the final projected gradient\n",
      "F     = final function value\n",
      "\n",
      "           * * *\n",
      "\n",
      "   N    Tit     Tnf  Tnint  Skip  Nact     Projg        F\n",
      "    7     35     41      1     0     0   1.776D-07   1.573D+00\n",
      "  F =   1.5725072857907942     \n",
      "\n",
      "CONVERGENCE: REL_REDUCTION_OF_F_<=_FACTR*EPSMCH             \n"
     ]
    },
    {
     "name": "stderr",
     "output_type": "stream",
     "text": [
      " This problem is unconstrained.\n"
     ]
    },
    {
     "name": "stdout",
     "output_type": "stream",
     "text": [
      "RUNNING THE L-BFGS-B CODE\n",
      "\n",
      "           * * *\n",
      "\n",
      "Machine precision = 2.220D-16\n",
      " N =            3     M =           12\n",
      "\n",
      "At X0         0 variables are exactly at the bounds\n",
      "\n",
      "At iterate    0    f=  1.57710D+00    |proj g|=  4.53881D-04\n",
      "\n",
      "At iterate    5    f=  1.57710D+00    |proj g|=  7.63345D-04\n",
      "\n",
      "At iterate   10    f=  1.57709D+00    |proj g|=  3.16169D-04\n",
      "\n",
      "At iterate   15    f=  1.57709D+00    |proj g|=  1.11022D-07\n",
      "\n",
      "           * * *\n",
      "\n",
      "Tit   = total number of iterations\n",
      "Tnf   = total number of function evaluations\n",
      "Tnint = total number of segments explored during Cauchy searches\n",
      "Skip  = number of BFGS updates skipped\n",
      "Nact  = number of active bounds at final generalized Cauchy point\n",
      "Projg = norm of the final projected gradient\n",
      "F     = final function value\n",
      "\n",
      "           * * *\n",
      "\n",
      "   N    Tit     Tnf  Tnint  Skip  Nact     Projg        F\n",
      "    3     15     18      1     0     0   1.110D-07   1.577D+00\n",
      "  F =   1.5770882206395498     \n",
      "\n",
      "CONVERGENCE: REL_REDUCTION_OF_F_<=_FACTR*EPSMCH             \n"
     ]
    },
    {
     "name": "stderr",
     "output_type": "stream",
     "text": [
      " This problem is unconstrained.\n"
     ]
    },
    {
     "name": "stdout",
     "output_type": "stream",
     "text": [
      "RUNNING THE L-BFGS-B CODE\n",
      "\n",
      "           * * *\n",
      "\n",
      "Machine precision = 2.220D-16\n",
      " N =            7     M =           12\n",
      "\n",
      "At X0         0 variables are exactly at the bounds\n",
      "\n",
      "At iterate    0    f=  1.57252D+00    |proj g|=  3.72280D-04\n",
      "\n",
      "At iterate    5    f=  1.57252D+00    |proj g|=  3.90354D-04\n",
      "\n",
      "At iterate   10    f=  1.57251D+00    |proj g|=  4.45932D-04\n",
      "\n",
      "At iterate   15    f=  1.57251D+00    |proj g|=  2.20224D-04\n",
      "\n",
      "At iterate   20    f=  1.57251D+00    |proj g|=  2.12053D-05\n",
      "\n",
      "At iterate   25    f=  1.57251D+00    |proj g|=  1.47726D-04\n",
      "\n",
      "At iterate   30    f=  1.57251D+00    |proj g|=  2.68674D-06\n",
      "\n",
      "At iterate   35    f=  1.57251D+00    |proj g|=  1.77636D-07\n",
      "\n",
      "           * * *\n",
      "\n",
      "Tit   = total number of iterations\n",
      "Tnf   = total number of function evaluations\n",
      "Tnint = total number of segments explored during Cauchy searches\n",
      "Skip  = number of BFGS updates skipped\n",
      "Nact  = number of active bounds at final generalized Cauchy point\n",
      "Projg = norm of the final projected gradient\n",
      "F     = final function value\n",
      "\n",
      "           * * *\n",
      "\n",
      "   N    Tit     Tnf  Tnint  Skip  Nact     Projg        F\n",
      "    7     35     41      1     0     0   1.776D-07   1.573D+00\n",
      "  F =   1.5725072857907942     \n",
      "\n",
      "CONVERGENCE: REL_REDUCTION_OF_F_<=_FACTR*EPSMCH             \n"
     ]
    },
    {
     "data": {
      "text/plain": [
       "0.0"
      ]
     },
     "execution_count": 79,
     "metadata": {},
     "output_type": "execute_result"
    }
   ],
   "source": [
    "model_ret_ar_3_ma_3 = ARMA(df.returns[1:], order = (3,3))\n",
    "results_ret_ar_3_ma_3 = model_ret_ar_3_ma_3.fit()\n",
    "results_ret_ar_3_ma_3.summary()\n",
    "LLR_test(model_ret_ar_1_ma_1, model_ret_ar_3_ma_3, DF = 4)"
   ]
  },
  {
   "cell_type": "markdown",
   "id": "d3d198f1",
   "metadata": {},
   "source": [
    "ARMA (3,3) -> 6 coefficients\n",
    "\n",
    "ARMA (1,1) -> 2 coefficents\n",
    "\n",
    "#### => `DF = 6 - 2 = 4`\n",
    "\n",
    "#### Best Fit will be between `ARMA(1,1)` and `ARMA(3,3)`."
   ]
  },
  {
   "cell_type": "code",
   "execution_count": 80,
   "id": "1438a681",
   "metadata": {},
   "outputs": [
    {
     "name": "stdout",
     "output_type": "stream",
     "text": [
      "RUNNING THE L-BFGS-B CODE\n",
      "\n",
      "           * * *\n",
      "\n",
      "Machine precision = 2.220D-16\n",
      " N =            6     M =           12\n",
      "\n",
      "At X0         0 variables are exactly at the bounds\n",
      "\n",
      "At iterate    0    f=  1.57295D+00    |proj g|=  2.85860D-04\n",
      "\n",
      "At iterate    5    f=  1.57295D+00    |proj g|=  1.81299D-04\n",
      "\n",
      "At iterate   10    f=  1.57295D+00    |proj g|=  1.71863D-05\n",
      "\n",
      "At iterate   15    f=  1.57295D+00    |proj g|=  1.72062D-04\n"
     ]
    },
    {
     "name": "stderr",
     "output_type": "stream",
     "text": [
      " This problem is unconstrained.\n"
     ]
    },
    {
     "name": "stdout",
     "output_type": "stream",
     "text": [
      "\n",
      "At iterate   20    f=  1.57295D+00    |proj g|=  2.22045D-08\n",
      "\n",
      "           * * *\n",
      "\n",
      "Tit   = total number of iterations\n",
      "Tnf   = total number of function evaluations\n",
      "Tnint = total number of segments explored during Cauchy searches\n",
      "Skip  = number of BFGS updates skipped\n",
      "Nact  = number of active bounds at final generalized Cauchy point\n",
      "Projg = norm of the final projected gradient\n",
      "F     = final function value\n",
      "\n",
      "           * * *\n",
      "\n",
      "   N    Tit     Tnf  Tnint  Skip  Nact     Projg        F\n",
      "    6     20     23      1     0     0   2.220D-08   1.573D+00\n",
      "  F =   1.5729482125147189     \n",
      "\n",
      "CONVERGENCE: REL_REDUCTION_OF_F_<=_FACTR*EPSMCH             \n"
     ]
    },
    {
     "data": {
      "text/html": [
       "<table class=\"simpletable\">\n",
       "<caption>ARMA Model Results</caption>\n",
       "<tr>\n",
       "  <th>Dep. Variable:</th>      <td>returns</td>     <th>  No. Observations:  </th>   <td>5019</td>   \n",
       "</tr>\n",
       "<tr>\n",
       "  <th>Model:</th>            <td>ARMA(3, 2)</td>    <th>  Log Likelihood     </th> <td>-7894.627</td>\n",
       "</tr>\n",
       "<tr>\n",
       "  <th>Method:</th>             <td>css-mle</td>     <th>  S.D. of innovations</th>   <td>1.166</td>  \n",
       "</tr>\n",
       "<tr>\n",
       "  <th>Date:</th>          <td>Thu, 20 Jan 2022</td> <th>  AIC                </th> <td>15803.254</td>\n",
       "</tr>\n",
       "<tr>\n",
       "  <th>Time:</th>              <td>15:17:49</td>     <th>  BIC                </th> <td>15848.901</td>\n",
       "</tr>\n",
       "<tr>\n",
       "  <th>Sample:</th>           <td>01-11-1994</td>    <th>  HQIC               </th> <td>15819.250</td>\n",
       "</tr>\n",
       "<tr>\n",
       "  <th></th>                 <td>- 04-05-2013</td>   <th>                     </th>     <td> </td>    \n",
       "</tr>\n",
       "</table>\n",
       "<table class=\"simpletable\">\n",
       "<tr>\n",
       "        <td></td>           <th>coef</th>     <th>std err</th>      <th>z</th>      <th>P>|z|</th>  <th>[0.025</th>    <th>0.975]</th>  \n",
       "</tr>\n",
       "<tr>\n",
       "  <th>const</th>         <td>    0.0189</td> <td>    0.015</td> <td>    1.255</td> <td> 0.209</td> <td>   -0.011</td> <td>    0.048</td>\n",
       "</tr>\n",
       "<tr>\n",
       "  <th>ar.L1.returns</th> <td>   -0.6786</td> <td>    0.087</td> <td>   -7.800</td> <td> 0.000</td> <td>   -0.849</td> <td>   -0.508</td>\n",
       "</tr>\n",
       "<tr>\n",
       "  <th>ar.L2.returns</th> <td>   -0.5084</td> <td>    0.139</td> <td>   -3.669</td> <td> 0.000</td> <td>   -0.780</td> <td>   -0.237</td>\n",
       "</tr>\n",
       "<tr>\n",
       "  <th>ar.L3.returns</th> <td>   -0.1142</td> <td>    0.015</td> <td>   -7.661</td> <td> 0.000</td> <td>   -0.143</td> <td>   -0.085</td>\n",
       "</tr>\n",
       "<tr>\n",
       "  <th>ma.L1.returns</th> <td>    0.6569</td> <td>    0.087</td> <td>    7.538</td> <td> 0.000</td> <td>    0.486</td> <td>    0.828</td>\n",
       "</tr>\n",
       "<tr>\n",
       "  <th>ma.L2.returns</th> <td>    0.4469</td> <td>    0.141</td> <td>    3.174</td> <td> 0.002</td> <td>    0.171</td> <td>    0.723</td>\n",
       "</tr>\n",
       "</table>\n",
       "<table class=\"simpletable\">\n",
       "<caption>Roots</caption>\n",
       "<tr>\n",
       "    <td></td>   <th>            Real</th>  <th>         Imaginary</th> <th>         Modulus</th>  <th>        Frequency</th>\n",
       "</tr>\n",
       "<tr>\n",
       "  <th>AR.1</th> <td>          -0.4929</td> <td>          -1.5110j</td> <td>           1.5893</td> <td>          -0.3002</td>\n",
       "</tr>\n",
       "<tr>\n",
       "  <th>AR.2</th> <td>          -0.4929</td> <td>          +1.5110j</td> <td>           1.5893</td> <td>           0.3002</td>\n",
       "</tr>\n",
       "<tr>\n",
       "  <th>AR.3</th> <td>          -3.4681</td> <td>          -0.0000j</td> <td>           3.4681</td> <td>          -0.5000</td>\n",
       "</tr>\n",
       "<tr>\n",
       "  <th>MA.1</th> <td>          -0.7349</td> <td>          -1.3028j</td> <td>           1.4958</td> <td>          -0.3317</td>\n",
       "</tr>\n",
       "<tr>\n",
       "  <th>MA.2</th> <td>          -0.7349</td> <td>          +1.3028j</td> <td>           1.4958</td> <td>           0.3317</td>\n",
       "</tr>\n",
       "</table>"
      ],
      "text/plain": [
       "<class 'statsmodels.iolib.summary.Summary'>\n",
       "\"\"\"\n",
       "                              ARMA Model Results                              \n",
       "==============================================================================\n",
       "Dep. Variable:                returns   No. Observations:                 5019\n",
       "Model:                     ARMA(3, 2)   Log Likelihood               -7894.627\n",
       "Method:                       css-mle   S.D. of innovations              1.166\n",
       "Date:                Thu, 20 Jan 2022   AIC                          15803.254\n",
       "Time:                        15:17:49   BIC                          15848.901\n",
       "Sample:                    01-11-1994   HQIC                         15819.250\n",
       "                         - 04-05-2013                                         \n",
       "=================================================================================\n",
       "                    coef    std err          z      P>|z|      [0.025      0.975]\n",
       "---------------------------------------------------------------------------------\n",
       "const             0.0189      0.015      1.255      0.209      -0.011       0.048\n",
       "ar.L1.returns    -0.6786      0.087     -7.800      0.000      -0.849      -0.508\n",
       "ar.L2.returns    -0.5084      0.139     -3.669      0.000      -0.780      -0.237\n",
       "ar.L3.returns    -0.1142      0.015     -7.661      0.000      -0.143      -0.085\n",
       "ma.L1.returns     0.6569      0.087      7.538      0.000       0.486       0.828\n",
       "ma.L2.returns     0.4469      0.141      3.174      0.002       0.171       0.723\n",
       "                                    Roots                                    \n",
       "=============================================================================\n",
       "                  Real          Imaginary           Modulus         Frequency\n",
       "-----------------------------------------------------------------------------\n",
       "AR.1           -0.4929           -1.5110j            1.5893           -0.3002\n",
       "AR.2           -0.4929           +1.5110j            1.5893            0.3002\n",
       "AR.3           -3.4681           -0.0000j            3.4681           -0.5000\n",
       "MA.1           -0.7349           -1.3028j            1.4958           -0.3317\n",
       "MA.2           -0.7349           +1.3028j            1.4958            0.3317\n",
       "-----------------------------------------------------------------------------\n",
       "\"\"\""
      ]
     },
     "execution_count": 80,
     "metadata": {},
     "output_type": "execute_result"
    }
   ],
   "source": [
    "model_ret_ar_3_ma_2 = ARMA(df.returns[1:], order = (3,2))\n",
    "results_ret_ar_3_ma_2 = model_ret_ar_3_ma_2.fit()\n",
    "results_ret_ar_3_ma_2.summary()"
   ]
  },
  {
   "cell_type": "markdown",
   "id": "5ddcf01f",
   "metadata": {},
   "source": [
    "##### NOTE - As the lags increase the absolute values for the AR as well as the MA coefficients decrease, this supports the idea that the further back in time we go, the less relevant values and errors become.\n",
    "\n",
    "<img src = Images/a.png>\n",
    "\n",
    "<img src = Images/b.png>\n",
    "\n",
    "<img src = Images/c.png>"
   ]
  },
  {
   "cell_type": "code",
   "execution_count": 81,
   "id": "57f40049",
   "metadata": {},
   "outputs": [
    {
     "name": "stderr",
     "output_type": "stream",
     "text": [
      " This problem is unconstrained.\n"
     ]
    },
    {
     "name": "stdout",
     "output_type": "stream",
     "text": [
      "RUNNING THE L-BFGS-B CODE\n",
      "\n",
      "           * * *\n",
      "\n",
      "Machine precision = 2.220D-16\n",
      " N =            6     M =           12\n",
      "\n",
      "At X0         0 variables are exactly at the bounds\n",
      "\n",
      "At iterate    0    f=  1.57292D+00    |proj g|=  2.36700D-04\n",
      "\n",
      "At iterate    5    f=  1.57292D+00    |proj g|=  8.78608D-04\n",
      "\n",
      "At iterate   10    f=  1.57292D+00    |proj g|=  9.45910D-06\n",
      "\n",
      "At iterate   15    f=  1.57292D+00    |proj g|=  7.71827D-05\n",
      "\n",
      "At iterate   20    f=  1.57292D+00    |proj g|=  6.88338D-07\n",
      "\n",
      "           * * *\n",
      "\n",
      "Tit   = total number of iterations\n",
      "Tnf   = total number of function evaluations\n",
      "Tnint = total number of segments explored during Cauchy searches\n",
      "Skip  = number of BFGS updates skipped\n",
      "Nact  = number of active bounds at final generalized Cauchy point\n",
      "Projg = norm of the final projected gradient\n",
      "F     = final function value\n",
      "\n",
      "           * * *\n",
      "\n",
      "   N    Tit     Tnf  Tnint  Skip  Nact     Projg        F\n",
      "    6     23     29      1     0     0   6.661D-08   1.573D+00\n",
      "  F =   1.5729163634487697     \n",
      "\n",
      "CONVERGENCE: REL_REDUCTION_OF_F_<=_FACTR*EPSMCH             \n"
     ]
    },
    {
     "data": {
      "text/html": [
       "<table class=\"simpletable\">\n",
       "<caption>ARMA Model Results</caption>\n",
       "<tr>\n",
       "  <th>Dep. Variable:</th>      <td>returns</td>     <th>  No. Observations:  </th>   <td>5019</td>   \n",
       "</tr>\n",
       "<tr>\n",
       "  <th>Model:</th>            <td>ARMA(2, 3)</td>    <th>  Log Likelihood     </th> <td>-7894.467</td>\n",
       "</tr>\n",
       "<tr>\n",
       "  <th>Method:</th>             <td>css-mle</td>     <th>  S.D. of innovations</th>   <td>1.166</td>  \n",
       "</tr>\n",
       "<tr>\n",
       "  <th>Date:</th>          <td>Thu, 20 Jan 2022</td> <th>  AIC                </th> <td>15802.934</td>\n",
       "</tr>\n",
       "<tr>\n",
       "  <th>Time:</th>              <td>15:24:15</td>     <th>  BIC                </th> <td>15848.581</td>\n",
       "</tr>\n",
       "<tr>\n",
       "  <th>Sample:</th>           <td>01-11-1994</td>    <th>  HQIC               </th> <td>15818.930</td>\n",
       "</tr>\n",
       "<tr>\n",
       "  <th></th>                 <td>- 04-05-2013</td>   <th>                     </th>     <td> </td>    \n",
       "</tr>\n",
       "</table>\n",
       "<table class=\"simpletable\">\n",
       "<tr>\n",
       "        <td></td>           <th>coef</th>     <th>std err</th>      <th>z</th>      <th>P>|z|</th>  <th>[0.025</th>    <th>0.975]</th>  \n",
       "</tr>\n",
       "<tr>\n",
       "  <th>const</th>         <td>    0.0189</td> <td>    0.015</td> <td>    1.280</td> <td> 0.200</td> <td>   -0.010</td> <td>    0.048</td>\n",
       "</tr>\n",
       "<tr>\n",
       "  <th>ar.L1.returns</th> <td>   -0.5605</td> <td>    0.090</td> <td>   -6.247</td> <td> 0.000</td> <td>   -0.736</td> <td>   -0.385</td>\n",
       "</tr>\n",
       "<tr>\n",
       "  <th>ar.L2.returns</th> <td>   -0.4179</td> <td>    0.193</td> <td>   -2.163</td> <td> 0.031</td> <td>   -0.797</td> <td>   -0.039</td>\n",
       "</tr>\n",
       "<tr>\n",
       "  <th>ma.L1.returns</th> <td>    0.5378</td> <td>    0.090</td> <td>    6.002</td> <td> 0.000</td> <td>    0.362</td> <td>    0.713</td>\n",
       "</tr>\n",
       "<tr>\n",
       "  <th>ma.L2.returns</th> <td>    0.3531</td> <td>    0.195</td> <td>    1.810</td> <td> 0.070</td> <td>   -0.029</td> <td>    0.736</td>\n",
       "</tr>\n",
       "<tr>\n",
       "  <th>ma.L3.returns</th> <td>   -0.1159</td> <td>    0.016</td> <td>   -7.374</td> <td> 0.000</td> <td>   -0.147</td> <td>   -0.085</td>\n",
       "</tr>\n",
       "</table>\n",
       "<table class=\"simpletable\">\n",
       "<caption>Roots</caption>\n",
       "<tr>\n",
       "    <td></td>   <th>            Real</th>  <th>         Imaginary</th> <th>         Modulus</th>  <th>        Frequency</th>\n",
       "</tr>\n",
       "<tr>\n",
       "  <th>AR.1</th> <td>          -0.6706</td> <td>          -1.3939j</td> <td>           1.5469</td> <td>          -0.3214</td>\n",
       "</tr>\n",
       "<tr>\n",
       "  <th>AR.2</th> <td>          -0.6706</td> <td>          +1.3939j</td> <td>           1.5469</td> <td>           0.3214</td>\n",
       "</tr>\n",
       "<tr>\n",
       "  <th>MA.1</th> <td>          -0.7280</td> <td>          -1.1772j</td> <td>           1.3842</td> <td>          -0.3381</td>\n",
       "</tr>\n",
       "<tr>\n",
       "  <th>MA.2</th> <td>          -0.7280</td> <td>          +1.1772j</td> <td>           1.3842</td> <td>           0.3381</td>\n",
       "</tr>\n",
       "<tr>\n",
       "  <th>MA.3</th> <td>           4.5016</td> <td>          -0.0000j</td> <td>           4.5016</td> <td>          -0.0000</td>\n",
       "</tr>\n",
       "</table>"
      ],
      "text/plain": [
       "<class 'statsmodels.iolib.summary.Summary'>\n",
       "\"\"\"\n",
       "                              ARMA Model Results                              \n",
       "==============================================================================\n",
       "Dep. Variable:                returns   No. Observations:                 5019\n",
       "Model:                     ARMA(2, 3)   Log Likelihood               -7894.467\n",
       "Method:                       css-mle   S.D. of innovations              1.166\n",
       "Date:                Thu, 20 Jan 2022   AIC                          15802.934\n",
       "Time:                        15:24:15   BIC                          15848.581\n",
       "Sample:                    01-11-1994   HQIC                         15818.930\n",
       "                         - 04-05-2013                                         \n",
       "=================================================================================\n",
       "                    coef    std err          z      P>|z|      [0.025      0.975]\n",
       "---------------------------------------------------------------------------------\n",
       "const             0.0189      0.015      1.280      0.200      -0.010       0.048\n",
       "ar.L1.returns    -0.5605      0.090     -6.247      0.000      -0.736      -0.385\n",
       "ar.L2.returns    -0.4179      0.193     -2.163      0.031      -0.797      -0.039\n",
       "ma.L1.returns     0.5378      0.090      6.002      0.000       0.362       0.713\n",
       "ma.L2.returns     0.3531      0.195      1.810      0.070      -0.029       0.736\n",
       "ma.L3.returns    -0.1159      0.016     -7.374      0.000      -0.147      -0.085\n",
       "                                    Roots                                    \n",
       "=============================================================================\n",
       "                  Real          Imaginary           Modulus         Frequency\n",
       "-----------------------------------------------------------------------------\n",
       "AR.1           -0.6706           -1.3939j            1.5469           -0.3214\n",
       "AR.2           -0.6706           +1.3939j            1.5469            0.3214\n",
       "MA.1           -0.7280           -1.1772j            1.3842           -0.3381\n",
       "MA.2           -0.7280           +1.1772j            1.3842            0.3381\n",
       "MA.3            4.5016           -0.0000j            4.5016           -0.0000\n",
       "-----------------------------------------------------------------------------\n",
       "\"\"\""
      ]
     },
     "execution_count": 81,
     "metadata": {},
     "output_type": "execute_result"
    }
   ],
   "source": [
    "model_ret_ar_2_ma_3 = ARMA(df.returns[1:], order = (2,3))\n",
    "results_ret_ar_2_ma_3 = model_ret_ar_2_ma_3.fit()\n",
    "results_ret_ar_2_ma_3.summary()"
   ]
  },
  {
   "cell_type": "code",
   "execution_count": 82,
   "id": "22b82268",
   "metadata": {},
   "outputs": [
    {
     "name": "stdout",
     "output_type": "stream",
     "text": [
      "RUNNING THE L-BFGS-B CODE\n",
      "\n",
      "           * * *\n",
      "\n",
      "Machine precision = 2.220D-16\n",
      " N =            6     M =           12\n",
      "\n",
      "At X0         0 variables are exactly at the bounds\n",
      "\n",
      "At iterate    0    f=  1.57292D+00    |proj g|=  2.36700D-04\n",
      "\n",
      "At iterate    5    f=  1.57292D+00    |proj g|=  8.78608D-04\n",
      "\n",
      "At iterate   10    f=  1.57292D+00    |proj g|=  9.45910D-06\n"
     ]
    },
    {
     "name": "stderr",
     "output_type": "stream",
     "text": [
      " This problem is unconstrained.\n"
     ]
    },
    {
     "name": "stdout",
     "output_type": "stream",
     "text": [
      "\n",
      "At iterate   15    f=  1.57292D+00    |proj g|=  7.71827D-05\n",
      "\n",
      "At iterate   20    f=  1.57292D+00    |proj g|=  6.88338D-07\n",
      "\n",
      "           * * *\n",
      "\n",
      "Tit   = total number of iterations\n",
      "Tnf   = total number of function evaluations\n",
      "Tnint = total number of segments explored during Cauchy searches\n",
      "Skip  = number of BFGS updates skipped\n",
      "Nact  = number of active bounds at final generalized Cauchy point\n",
      "Projg = norm of the final projected gradient\n",
      "F     = final function value\n",
      "\n",
      "           * * *\n",
      "\n",
      "   N    Tit     Tnf  Tnint  Skip  Nact     Projg        F\n",
      "    6     23     29      1     0     0   6.661D-08   1.573D+00\n",
      "  F =   1.5729163634487697     \n",
      "\n",
      "CONVERGENCE: REL_REDUCTION_OF_F_<=_FACTR*EPSMCH             \n",
      "RUNNING THE L-BFGS-B CODE\n",
      "\n",
      "           * * *\n",
      "\n",
      "Machine precision = 2.220D-16\n",
      " N =            7     M =           12\n",
      "\n",
      "At X0         0 variables are exactly at the bounds\n",
      "\n",
      "At iterate    0    f=  1.57252D+00    |proj g|=  3.72280D-04\n",
      "\n",
      "At iterate    5    f=  1.57252D+00    |proj g|=  3.90354D-04\n"
     ]
    },
    {
     "name": "stderr",
     "output_type": "stream",
     "text": [
      " This problem is unconstrained.\n"
     ]
    },
    {
     "name": "stdout",
     "output_type": "stream",
     "text": [
      "\n",
      "At iterate   10    f=  1.57251D+00    |proj g|=  4.45932D-04\n",
      "\n",
      "At iterate   15    f=  1.57251D+00    |proj g|=  2.20224D-04\n",
      "\n",
      "At iterate   20    f=  1.57251D+00    |proj g|=  2.12053D-05\n",
      "\n",
      "At iterate   25    f=  1.57251D+00    |proj g|=  1.47726D-04\n",
      "\n",
      "At iterate   30    f=  1.57251D+00    |proj g|=  2.68674D-06\n",
      "\n",
      "At iterate   35    f=  1.57251D+00    |proj g|=  1.77636D-07\n",
      "\n",
      "           * * *\n",
      "\n",
      "Tit   = total number of iterations\n",
      "Tnf   = total number of function evaluations\n",
      "Tnint = total number of segments explored during Cauchy searches\n",
      "Skip  = number of BFGS updates skipped\n",
      "Nact  = number of active bounds at final generalized Cauchy point\n",
      "Projg = norm of the final projected gradient\n",
      "F     = final function value\n",
      "\n",
      "           * * *\n",
      "\n",
      "   N    Tit     Tnf  Tnint  Skip  Nact     Projg        F\n",
      "    7     35     41      1     0     0   1.776D-07   1.573D+00\n",
      "  F =   1.5725072857907942     \n",
      "\n",
      "CONVERGENCE: REL_REDUCTION_OF_F_<=_FACTR*EPSMCH             \n"
     ]
    },
    {
     "data": {
      "text/plain": [
       "0.043"
      ]
     },
     "execution_count": 82,
     "metadata": {},
     "output_type": "execute_result"
    }
   ],
   "source": [
    "LLR_test(model_ret_ar_2_ma_3, model_ret_ar_3_ma_3)"
   ]
  },
  {
   "cell_type": "markdown",
   "id": "1af95d87",
   "metadata": {},
   "source": [
    "#### P value = 0.043 -> Difference is significant at the 5% level but just barely. This indicates that we should opt for the ARMA(3,3) model instead of the ARMA(2,3) model if we had to choose `only` between these two."
   ]
  },
  {
   "cell_type": "code",
   "execution_count": 83,
   "id": "754c33b5",
   "metadata": {},
   "outputs": [
    {
     "name": "stdout",
     "output_type": "stream",
     "text": [
      "RUNNING THE L-BFGS-B CODE\n",
      "\n",
      "           * * *\n",
      "\n",
      "Machine precision = 2.220D-16\n",
      " N =            5     M =           12\n",
      "\n",
      "At X0         0 variables are exactly at the bounds\n",
      "\n",
      "At iterate    0    f=  1.57361D+00    |proj g|=  4.03277D-04\n",
      "\n",
      "At iterate    5    f=  1.57361D+00    |proj g|=  9.01501D-06\n",
      "\n",
      "At iterate   10    f=  1.57361D+00    |proj g|=  3.10862D-05\n",
      "\n",
      "At iterate   15    f=  1.57361D+00    |proj g|=  2.22045D-08\n",
      "\n",
      "           * * *\n",
      "\n",
      "Tit   = total number of iterations\n",
      "Tnf   = total number of function evaluations\n",
      "Tnint = total number of segments explored during Cauchy searches\n",
      "Skip  = number of BFGS updates skipped\n",
      "Nact  = number of active bounds at final generalized Cauchy point\n",
      "Projg = norm of the final projected gradient\n",
      "F     = final function value\n",
      "\n",
      "           * * *\n",
      "\n",
      "   N    Tit     Tnf  Tnint  Skip  Nact     Projg        F\n",
      "    5     15     18      1     0     0   2.220D-08   1.574D+00\n",
      "  F =   1.5736115697247195     \n",
      "\n",
      "CONVERGENCE: REL_REDUCTION_OF_F_<=_FACTR*EPSMCH             \n"
     ]
    },
    {
     "name": "stderr",
     "output_type": "stream",
     "text": [
      " This problem is unconstrained.\n"
     ]
    },
    {
     "data": {
      "text/html": [
       "<table class=\"simpletable\">\n",
       "<caption>ARMA Model Results</caption>\n",
       "<tr>\n",
       "  <th>Dep. Variable:</th>      <td>returns</td>     <th>  No. Observations:  </th>   <td>5019</td>   \n",
       "</tr>\n",
       "<tr>\n",
       "  <th>Model:</th>            <td>ARMA(3, 1)</td>    <th>  Log Likelihood     </th> <td>-7897.956</td>\n",
       "</tr>\n",
       "<tr>\n",
       "  <th>Method:</th>             <td>css-mle</td>     <th>  S.D. of innovations</th>   <td>1.167</td>  \n",
       "</tr>\n",
       "<tr>\n",
       "  <th>Date:</th>          <td>Thu, 20 Jan 2022</td> <th>  AIC                </th> <td>15807.913</td>\n",
       "</tr>\n",
       "<tr>\n",
       "  <th>Time:</th>              <td>15:31:24</td>     <th>  BIC                </th> <td>15847.039</td>\n",
       "</tr>\n",
       "<tr>\n",
       "  <th>Sample:</th>           <td>01-11-1994</td>    <th>  HQIC               </th> <td>15821.623</td>\n",
       "</tr>\n",
       "<tr>\n",
       "  <th></th>                 <td>- 04-05-2013</td>   <th>                     </th>     <td> </td>    \n",
       "</tr>\n",
       "</table>\n",
       "<table class=\"simpletable\">\n",
       "<tr>\n",
       "        <td></td>           <th>coef</th>     <th>std err</th>      <th>z</th>      <th>P>|z|</th>  <th>[0.025</th>    <th>0.975]</th>  \n",
       "</tr>\n",
       "<tr>\n",
       "  <th>const</th>         <td>    0.0189</td> <td>    0.015</td> <td>    1.302</td> <td> 0.193</td> <td>   -0.010</td> <td>    0.047</td>\n",
       "</tr>\n",
       "<tr>\n",
       "  <th>ar.L1.returns</th> <td>   -0.5078</td> <td>    0.088</td> <td>   -5.773</td> <td> 0.000</td> <td>   -0.680</td> <td>   -0.335</td>\n",
       "</tr>\n",
       "<tr>\n",
       "  <th>ar.L2.returns</th> <td>   -0.0639</td> <td>    0.016</td> <td>   -4.027</td> <td> 0.000</td> <td>   -0.095</td> <td>   -0.033</td>\n",
       "</tr>\n",
       "<tr>\n",
       "  <th>ar.L3.returns</th> <td>   -0.1102</td> <td>    0.014</td> <td>   -7.853</td> <td> 0.000</td> <td>   -0.138</td> <td>   -0.083</td>\n",
       "</tr>\n",
       "<tr>\n",
       "  <th>ma.L1.returns</th> <td>    0.4839</td> <td>    0.088</td> <td>    5.504</td> <td> 0.000</td> <td>    0.312</td> <td>    0.656</td>\n",
       "</tr>\n",
       "</table>\n",
       "<table class=\"simpletable\">\n",
       "<caption>Roots</caption>\n",
       "<tr>\n",
       "    <td></td>   <th>            Real</th>  <th>         Imaginary</th> <th>         Modulus</th>  <th>        Frequency</th>\n",
       "</tr>\n",
       "<tr>\n",
       "  <th>AR.1</th> <td>          -1.5093</td> <td>          -0.0000j</td> <td>           1.5093</td> <td>          -0.5000</td>\n",
       "</tr>\n",
       "<tr>\n",
       "  <th>AR.2</th> <td>           0.4650</td> <td>          -2.4070j</td> <td>           2.4515</td> <td>          -0.2196</td>\n",
       "</tr>\n",
       "<tr>\n",
       "  <th>AR.3</th> <td>           0.4650</td> <td>          +2.4070j</td> <td>           2.4515</td> <td>           0.2196</td>\n",
       "</tr>\n",
       "<tr>\n",
       "  <th>MA.1</th> <td>          -2.0665</td> <td>          +0.0000j</td> <td>           2.0665</td> <td>           0.5000</td>\n",
       "</tr>\n",
       "</table>"
      ],
      "text/plain": [
       "<class 'statsmodels.iolib.summary.Summary'>\n",
       "\"\"\"\n",
       "                              ARMA Model Results                              \n",
       "==============================================================================\n",
       "Dep. Variable:                returns   No. Observations:                 5019\n",
       "Model:                     ARMA(3, 1)   Log Likelihood               -7897.956\n",
       "Method:                       css-mle   S.D. of innovations              1.167\n",
       "Date:                Thu, 20 Jan 2022   AIC                          15807.913\n",
       "Time:                        15:31:24   BIC                          15847.039\n",
       "Sample:                    01-11-1994   HQIC                         15821.623\n",
       "                         - 04-05-2013                                         \n",
       "=================================================================================\n",
       "                    coef    std err          z      P>|z|      [0.025      0.975]\n",
       "---------------------------------------------------------------------------------\n",
       "const             0.0189      0.015      1.302      0.193      -0.010       0.047\n",
       "ar.L1.returns    -0.5078      0.088     -5.773      0.000      -0.680      -0.335\n",
       "ar.L2.returns    -0.0639      0.016     -4.027      0.000      -0.095      -0.033\n",
       "ar.L3.returns    -0.1102      0.014     -7.853      0.000      -0.138      -0.083\n",
       "ma.L1.returns     0.4839      0.088      5.504      0.000       0.312       0.656\n",
       "                                    Roots                                    \n",
       "=============================================================================\n",
       "                  Real          Imaginary           Modulus         Frequency\n",
       "-----------------------------------------------------------------------------\n",
       "AR.1           -1.5093           -0.0000j            1.5093           -0.5000\n",
       "AR.2            0.4650           -2.4070j            2.4515           -0.2196\n",
       "AR.3            0.4650           +2.4070j            2.4515            0.2196\n",
       "MA.1           -2.0665           +0.0000j            2.0665            0.5000\n",
       "-----------------------------------------------------------------------------\n",
       "\"\"\""
      ]
     },
     "execution_count": 83,
     "metadata": {},
     "output_type": "execute_result"
    }
   ],
   "source": [
    "model_ret_ar_3_ma_1 = ARMA(df.returns[1:], order = (3,1))\n",
    "results_ret_ar_3_ma_1 = model_ret_ar_3_ma_1.fit()\n",
    "results_ret_ar_3_ma_1.summary()"
   ]
  },
  {
   "cell_type": "markdown",
   "id": "ac042844",
   "metadata": {},
   "source": [
    "All P values for AR and MA components are significant except for the coefficient.\n",
    "\n",
    "`AR coefficients -> negative` & `MA coefficients -> positive` => Makes sense from a financial point of view.\n"
   ]
  },
  {
   "cell_type": "code",
   "execution_count": 84,
   "id": "646e64ac",
   "metadata": {},
   "outputs": [
    {
     "name": "stderr",
     "output_type": "stream",
     "text": [
      " This problem is unconstrained.\n"
     ]
    },
    {
     "name": "stdout",
     "output_type": "stream",
     "text": [
      "RUNNING THE L-BFGS-B CODE\n",
      "\n",
      "           * * *\n",
      "\n",
      "Machine precision = 2.220D-16\n",
      " N =            5     M =           12\n",
      "\n",
      "At X0         0 variables are exactly at the bounds\n",
      "\n",
      "At iterate    0    f=  1.57361D+00    |proj g|=  4.03277D-04\n",
      "\n",
      "At iterate    5    f=  1.57361D+00    |proj g|=  9.01501D-06\n",
      "\n",
      "At iterate   10    f=  1.57361D+00    |proj g|=  3.10862D-05\n",
      "\n",
      "At iterate   15    f=  1.57361D+00    |proj g|=  2.22045D-08\n",
      "\n",
      "           * * *\n",
      "\n",
      "Tit   = total number of iterations\n",
      "Tnf   = total number of function evaluations\n",
      "Tnint = total number of segments explored during Cauchy searches\n",
      "Skip  = number of BFGS updates skipped\n",
      "Nact  = number of active bounds at final generalized Cauchy point\n",
      "Projg = norm of the final projected gradient\n",
      "F     = final function value\n",
      "\n",
      "           * * *\n",
      "\n",
      "   N    Tit     Tnf  Tnint  Skip  Nact     Projg        F\n",
      "    5     15     18      1     0     0   2.220D-08   1.574D+00\n",
      "  F =   1.5736115697247195     \n",
      "\n",
      "CONVERGENCE: REL_REDUCTION_OF_F_<=_FACTR*EPSMCH             \n"
     ]
    },
    {
     "name": "stderr",
     "output_type": "stream",
     "text": [
      " This problem is unconstrained.\n"
     ]
    },
    {
     "name": "stdout",
     "output_type": "stream",
     "text": [
      "RUNNING THE L-BFGS-B CODE\n",
      "\n",
      "           * * *\n",
      "\n",
      "Machine precision = 2.220D-16\n",
      " N =            6     M =           12\n",
      "\n",
      "At X0         0 variables are exactly at the bounds\n",
      "\n",
      "At iterate    0    f=  1.57295D+00    |proj g|=  2.85860D-04\n",
      "\n",
      "At iterate    5    f=  1.57295D+00    |proj g|=  1.81299D-04\n",
      "\n",
      "At iterate   10    f=  1.57295D+00    |proj g|=  1.71863D-05\n",
      "\n",
      "At iterate   15    f=  1.57295D+00    |proj g|=  1.72062D-04\n",
      "\n",
      "At iterate   20    f=  1.57295D+00    |proj g|=  2.22045D-08\n",
      "\n",
      "           * * *\n",
      "\n",
      "Tit   = total number of iterations\n",
      "Tnf   = total number of function evaluations\n",
      "Tnint = total number of segments explored during Cauchy searches\n",
      "Skip  = number of BFGS updates skipped\n",
      "Nact  = number of active bounds at final generalized Cauchy point\n",
      "Projg = norm of the final projected gradient\n",
      "F     = final function value\n",
      "\n",
      "           * * *\n",
      "\n",
      "   N    Tit     Tnf  Tnint  Skip  Nact     Projg        F\n",
      "    6     20     23      1     0     0   2.220D-08   1.573D+00\n",
      "  F =   1.5729482125147189     \n",
      "\n",
      "CONVERGENCE: REL_REDUCTION_OF_F_<=_FACTR*EPSMCH             \n"
     ]
    },
    {
     "data": {
      "text/plain": [
       "0.01"
      ]
     },
     "execution_count": 84,
     "metadata": {},
     "output_type": "execute_result"
    }
   ],
   "source": [
    "LLR_test(model_ret_ar_3_ma_1, model_ret_ar_3_ma_2)"
   ]
  },
  {
   "cell_type": "markdown",
   "id": "a9ebbf35",
   "metadata": {},
   "source": [
    "#### Since the LLR test gives P value = 0.01 => `ARMA(3,2) > ARMA(3,1)`"
   ]
  },
  {
   "cell_type": "code",
   "execution_count": 85,
   "id": "c1eff87f",
   "metadata": {},
   "outputs": [
    {
     "name": "stdout",
     "output_type": "stream",
     "text": [
      "RUNNING THE L-BFGS-B CODE\n",
      "\n",
      "           * * *\n",
      "\n",
      "Machine precision = 2.220D-16\n",
      " N =            5     M =           12\n",
      "\n",
      "At X0         0 variables are exactly at the bounds\n",
      "\n",
      "At iterate    0    f=  1.57646D+00    |proj g|=  4.61564D-04\n",
      "\n",
      "At iterate    5    f=  1.57646D+00    |proj g|=  1.68476D-03\n",
      "\n",
      "At iterate   10    f=  1.57644D+00    |proj g|=  1.59939D-04\n",
      "\n",
      "At iterate   15    f=  1.57644D+00    |proj g|=  2.23666D-04\n"
     ]
    },
    {
     "name": "stderr",
     "output_type": "stream",
     "text": [
      " This problem is unconstrained.\n"
     ]
    },
    {
     "name": "stdout",
     "output_type": "stream",
     "text": [
      "\n",
      "At iterate   20    f=  1.57643D+00    |proj g|=  6.34381D-05\n",
      "\n",
      "           * * *\n",
      "\n",
      "Tit   = total number of iterations\n",
      "Tnf   = total number of function evaluations\n",
      "Tnint = total number of segments explored during Cauchy searches\n",
      "Skip  = number of BFGS updates skipped\n",
      "Nact  = number of active bounds at final generalized Cauchy point\n",
      "Projg = norm of the final projected gradient\n",
      "F     = final function value\n",
      "\n",
      "           * * *\n",
      "\n",
      "   N    Tit     Tnf  Tnint  Skip  Nact     Projg        F\n",
      "    5     24     30      1     0     0   6.661D-08   1.576D+00\n",
      "  F =   1.5764347905423370     \n",
      "\n",
      "CONVERGENCE: REL_REDUCTION_OF_F_<=_FACTR*EPSMCH             \n"
     ]
    },
    {
     "data": {
      "text/html": [
       "<table class=\"simpletable\">\n",
       "<caption>ARMA Model Results</caption>\n",
       "<tr>\n",
       "  <th>Dep. Variable:</th>      <td>returns</td>     <th>  No. Observations:  </th>   <td>5019</td>   \n",
       "</tr>\n",
       "<tr>\n",
       "  <th>Model:</th>            <td>ARMA(2, 2)</td>    <th>  Log Likelihood     </th> <td>-7912.126</td>\n",
       "</tr>\n",
       "<tr>\n",
       "  <th>Method:</th>             <td>css-mle</td>     <th>  S.D. of innovations</th>   <td>1.171</td>  \n",
       "</tr>\n",
       "<tr>\n",
       "  <th>Date:</th>          <td>Thu, 20 Jan 2022</td> <th>  AIC                </th> <td>15836.252</td>\n",
       "</tr>\n",
       "<tr>\n",
       "  <th>Time:</th>              <td>15:35:41</td>     <th>  BIC                </th> <td>15875.378</td>\n",
       "</tr>\n",
       "<tr>\n",
       "  <th>Sample:</th>           <td>01-11-1994</td>    <th>  HQIC               </th> <td>15849.963</td>\n",
       "</tr>\n",
       "<tr>\n",
       "  <th></th>                 <td>- 04-05-2013</td>   <th>                     </th>     <td> </td>    \n",
       "</tr>\n",
       "</table>\n",
       "<table class=\"simpletable\">\n",
       "<tr>\n",
       "        <td></td>           <th>coef</th>     <th>std err</th>      <th>z</th>      <th>P>|z|</th>  <th>[0.025</th>    <th>0.975]</th>  \n",
       "</tr>\n",
       "<tr>\n",
       "  <th>const</th>         <td>    0.0189</td> <td>    0.014</td> <td>    1.396</td> <td> 0.163</td> <td>   -0.008</td> <td>    0.046</td>\n",
       "</tr>\n",
       "<tr>\n",
       "  <th>ar.L1.returns</th> <td>    0.7815</td> <td>    0.238</td> <td>    3.285</td> <td> 0.001</td> <td>    0.315</td> <td>    1.248</td>\n",
       "</tr>\n",
       "<tr>\n",
       "  <th>ar.L2.returns</th> <td>   -0.1562</td> <td>    0.176</td> <td>   -0.885</td> <td> 0.376</td> <td>   -0.502</td> <td>    0.190</td>\n",
       "</tr>\n",
       "<tr>\n",
       "  <th>ma.L1.returns</th> <td>   -0.8099</td> <td>    0.239</td> <td>   -3.390</td> <td> 0.001</td> <td>   -1.278</td> <td>   -0.342</td>\n",
       "</tr>\n",
       "<tr>\n",
       "  <th>ma.L2.returns</th> <td>    0.1176</td> <td>    0.187</td> <td>    0.628</td> <td> 0.530</td> <td>   -0.249</td> <td>    0.484</td>\n",
       "</tr>\n",
       "</table>\n",
       "<table class=\"simpletable\">\n",
       "<caption>Roots</caption>\n",
       "<tr>\n",
       "    <td></td>   <th>            Real</th>  <th>         Imaginary</th> <th>         Modulus</th>  <th>        Frequency</th>\n",
       "</tr>\n",
       "<tr>\n",
       "  <th>AR.1</th> <td>           2.5012</td> <td>          -0.3813j</td> <td>           2.5301</td> <td>          -0.0241</td>\n",
       "</tr>\n",
       "<tr>\n",
       "  <th>AR.2</th> <td>           2.5012</td> <td>          +0.3813j</td> <td>           2.5301</td> <td>           0.0241</td>\n",
       "</tr>\n",
       "<tr>\n",
       "  <th>MA.1</th> <td>           1.6119</td> <td>          +0.0000j</td> <td>           1.6119</td> <td>           0.0000</td>\n",
       "</tr>\n",
       "<tr>\n",
       "  <th>MA.2</th> <td>           5.2748</td> <td>          +0.0000j</td> <td>           5.2748</td> <td>           0.0000</td>\n",
       "</tr>\n",
       "</table>"
      ],
      "text/plain": [
       "<class 'statsmodels.iolib.summary.Summary'>\n",
       "\"\"\"\n",
       "                              ARMA Model Results                              \n",
       "==============================================================================\n",
       "Dep. Variable:                returns   No. Observations:                 5019\n",
       "Model:                     ARMA(2, 2)   Log Likelihood               -7912.126\n",
       "Method:                       css-mle   S.D. of innovations              1.171\n",
       "Date:                Thu, 20 Jan 2022   AIC                          15836.252\n",
       "Time:                        15:35:41   BIC                          15875.378\n",
       "Sample:                    01-11-1994   HQIC                         15849.963\n",
       "                         - 04-05-2013                                         \n",
       "=================================================================================\n",
       "                    coef    std err          z      P>|z|      [0.025      0.975]\n",
       "---------------------------------------------------------------------------------\n",
       "const             0.0189      0.014      1.396      0.163      -0.008       0.046\n",
       "ar.L1.returns     0.7815      0.238      3.285      0.001       0.315       1.248\n",
       "ar.L2.returns    -0.1562      0.176     -0.885      0.376      -0.502       0.190\n",
       "ma.L1.returns    -0.8099      0.239     -3.390      0.001      -1.278      -0.342\n",
       "ma.L2.returns     0.1176      0.187      0.628      0.530      -0.249       0.484\n",
       "                                    Roots                                    \n",
       "=============================================================================\n",
       "                  Real          Imaginary           Modulus         Frequency\n",
       "-----------------------------------------------------------------------------\n",
       "AR.1            2.5012           -0.3813j            2.5301           -0.0241\n",
       "AR.2            2.5012           +0.3813j            2.5301            0.0241\n",
       "MA.1            1.6119           +0.0000j            1.6119            0.0000\n",
       "MA.2            5.2748           +0.0000j            5.2748            0.0000\n",
       "-----------------------------------------------------------------------------\n",
       "\"\"\""
      ]
     },
     "execution_count": 85,
     "metadata": {},
     "output_type": "execute_result"
    }
   ],
   "source": [
    "model_ret_ar_2_ma_2 = ARMA(df.returns[1:], order = (2,2))\n",
    "results_ret_ar_2_ma_2 = model_ret_ar_2_ma_2.fit()\n",
    "results_ret_ar_2_ma_2.summary()"
   ]
  },
  {
   "cell_type": "markdown",
   "id": "3ffc1387",
   "metadata": {},
   "source": [
    "#### `ar.L2.returns` & `ma.L2.returns` are not significant. Since P > 0.05.\n",
    "\n",
    "#### Both non-significant coefficients are associated with the second lag, which also happens to be the last one. This leads us to believe that simpler models like the ARMA(1,2) or the ARMA(2,1) would outperform it. And that signals us to avoid the ARMA(2,2) at all costs."
   ]
  },
  {
   "cell_type": "code",
   "execution_count": 86,
   "id": "a5a33895",
   "metadata": {},
   "outputs": [
    {
     "name": "stdout",
     "output_type": "stream",
     "text": [
      "RUNNING THE L-BFGS-B CODE\n",
      "\n",
      "           * * *\n",
      "\n",
      "Machine precision = 2.220D-16\n",
      " N =            5     M =           12\n",
      "\n",
      "At X0         0 variables are exactly at the bounds\n",
      "\n",
      "At iterate    0    f=  1.57317D+00    |proj g|=  7.19425D-05\n",
      "\n",
      "At iterate    5    f=  1.57317D+00    |proj g|=  5.21805D-05\n",
      "\n",
      "At iterate   10    f=  1.57317D+00    |proj g|=  1.48770D-06\n",
      "\n",
      "           * * *\n",
      "\n",
      "Tit   = total number of iterations\n",
      "Tnf   = total number of function evaluations\n",
      "Tnint = total number of segments explored during Cauchy searches\n",
      "Skip  = number of BFGS updates skipped\n",
      "Nact  = number of active bounds at final generalized Cauchy point\n",
      "Projg = norm of the final projected gradient\n",
      "F     = final function value\n",
      "\n",
      "           * * *\n",
      "\n",
      "   N    Tit     Tnf  Tnint  Skip  Nact     Projg        F\n",
      "    5     13     17      1     0     0   4.441D-08   1.573D+00\n",
      "  F =   1.5731664537908594     \n",
      "\n",
      "CONVERGENCE: REL_REDUCTION_OF_F_<=_FACTR*EPSMCH             \n"
     ]
    },
    {
     "name": "stderr",
     "output_type": "stream",
     "text": [
      " This problem is unconstrained.\n"
     ]
    },
    {
     "data": {
      "text/html": [
       "<table class=\"simpletable\">\n",
       "<caption>ARMA Model Results</caption>\n",
       "<tr>\n",
       "  <th>Dep. Variable:</th>      <td>returns</td>     <th>  No. Observations:  </th>   <td>5019</td>   \n",
       "</tr>\n",
       "<tr>\n",
       "  <th>Model:</th>            <td>ARMA(1, 3)</td>    <th>  Log Likelihood     </th> <td>-7895.722</td>\n",
       "</tr>\n",
       "<tr>\n",
       "  <th>Method:</th>             <td>css-mle</td>     <th>  S.D. of innovations</th>   <td>1.167</td>  \n",
       "</tr>\n",
       "<tr>\n",
       "  <th>Date:</th>          <td>Thu, 20 Jan 2022</td> <th>  AIC                </th> <td>15803.445</td>\n",
       "</tr>\n",
       "<tr>\n",
       "  <th>Time:</th>              <td>15:39:40</td>     <th>  BIC                </th> <td>15842.571</td>\n",
       "</tr>\n",
       "<tr>\n",
       "  <th>Sample:</th>           <td>01-11-1994</td>    <th>  HQIC               </th> <td>15817.155</td>\n",
       "</tr>\n",
       "<tr>\n",
       "  <th></th>                 <td>- 04-05-2013</td>   <th>                     </th>     <td> </td>    \n",
       "</tr>\n",
       "</table>\n",
       "<table class=\"simpletable\">\n",
       "<tr>\n",
       "        <td></td>           <th>coef</th>     <th>std err</th>      <th>z</th>      <th>P>|z|</th>  <th>[0.025</th>    <th>0.975]</th>  \n",
       "</tr>\n",
       "<tr>\n",
       "  <th>const</th>         <td>    0.0189</td> <td>    0.014</td> <td>    1.336</td> <td> 0.181</td> <td>   -0.009</td> <td>    0.047</td>\n",
       "</tr>\n",
       "<tr>\n",
       "  <th>ar.L1.returns</th> <td>   -0.4700</td> <td>    0.096</td> <td>   -4.906</td> <td> 0.000</td> <td>   -0.658</td> <td>   -0.282</td>\n",
       "</tr>\n",
       "<tr>\n",
       "  <th>ma.L1.returns</th> <td>    0.4475</td> <td>    0.095</td> <td>    4.696</td> <td> 0.000</td> <td>    0.261</td> <td>    0.634</td>\n",
       "</tr>\n",
       "<tr>\n",
       "  <th>ma.L2.returns</th> <td>   -0.0638</td> <td>    0.015</td> <td>   -4.117</td> <td> 0.000</td> <td>   -0.094</td> <td>   -0.033</td>\n",
       "</tr>\n",
       "<tr>\n",
       "  <th>ma.L3.returns</th> <td>   -0.1183</td> <td>    0.014</td> <td>   -8.203</td> <td> 0.000</td> <td>   -0.147</td> <td>   -0.090</td>\n",
       "</tr>\n",
       "</table>\n",
       "<table class=\"simpletable\">\n",
       "<caption>Roots</caption>\n",
       "<tr>\n",
       "    <td></td>   <th>            Real</th>  <th>         Imaginary</th> <th>         Modulus</th>  <th>        Frequency</th>\n",
       "</tr>\n",
       "<tr>\n",
       "  <th>AR.1</th> <td>          -2.1276</td> <td>          +0.0000j</td> <td>           2.1276</td> <td>           0.5000</td>\n",
       "</tr>\n",
       "<tr>\n",
       "  <th>MA.1</th> <td>          -1.4881</td> <td>          -1.1203j</td> <td>           1.8626</td> <td>          -0.3973</td>\n",
       "</tr>\n",
       "<tr>\n",
       "  <th>MA.2</th> <td>          -1.4881</td> <td>          +1.1203j</td> <td>           1.8626</td> <td>           0.3973</td>\n",
       "</tr>\n",
       "<tr>\n",
       "  <th>MA.3</th> <td>           2.4371</td> <td>          -0.0000j</td> <td>           2.4371</td> <td>          -0.0000</td>\n",
       "</tr>\n",
       "</table>"
      ],
      "text/plain": [
       "<class 'statsmodels.iolib.summary.Summary'>\n",
       "\"\"\"\n",
       "                              ARMA Model Results                              \n",
       "==============================================================================\n",
       "Dep. Variable:                returns   No. Observations:                 5019\n",
       "Model:                     ARMA(1, 3)   Log Likelihood               -7895.722\n",
       "Method:                       css-mle   S.D. of innovations              1.167\n",
       "Date:                Thu, 20 Jan 2022   AIC                          15803.445\n",
       "Time:                        15:39:40   BIC                          15842.571\n",
       "Sample:                    01-11-1994   HQIC                         15817.155\n",
       "                         - 04-05-2013                                         \n",
       "=================================================================================\n",
       "                    coef    std err          z      P>|z|      [0.025      0.975]\n",
       "---------------------------------------------------------------------------------\n",
       "const             0.0189      0.014      1.336      0.181      -0.009       0.047\n",
       "ar.L1.returns    -0.4700      0.096     -4.906      0.000      -0.658      -0.282\n",
       "ma.L1.returns     0.4475      0.095      4.696      0.000       0.261       0.634\n",
       "ma.L2.returns    -0.0638      0.015     -4.117      0.000      -0.094      -0.033\n",
       "ma.L3.returns    -0.1183      0.014     -8.203      0.000      -0.147      -0.090\n",
       "                                    Roots                                    \n",
       "=============================================================================\n",
       "                  Real          Imaginary           Modulus         Frequency\n",
       "-----------------------------------------------------------------------------\n",
       "AR.1           -2.1276           +0.0000j            2.1276            0.5000\n",
       "MA.1           -1.4881           -1.1203j            1.8626           -0.3973\n",
       "MA.2           -1.4881           +1.1203j            1.8626            0.3973\n",
       "MA.3            2.4371           -0.0000j            2.4371           -0.0000\n",
       "-----------------------------------------------------------------------------\n",
       "\"\"\""
      ]
     },
     "execution_count": 86,
     "metadata": {},
     "output_type": "execute_result"
    }
   ],
   "source": [
    "model_ret_ar_1_ma_3 = ARMA(df.returns[1:], order = (1,3))\n",
    "results_ret_ar_1_ma_3 = model_ret_ar_1_ma_3.fit()\n",
    "results_ret_ar_1_ma_3.summary()"
   ]
  },
  {
   "cell_type": "markdown",
   "id": "a5f0fa79",
   "metadata": {},
   "source": [
    "<img src = Images/d.png>\n",
    "\n",
    "<img src = Images/e.png>\n",
    "\n",
    "##### NOTE - When we don't have nested ARMA models, we have manually compare the `Log Likelihood`, `AIC`, and `BIC`.\n",
    "\n",
    "#### The ideal model should have the following:\n",
    "1. Higher LLR.\n",
    "2. Lower AIC."
   ]
  },
  {
   "cell_type": "code",
   "execution_count": 88,
   "id": "6d1badb1",
   "metadata": {},
   "outputs": [
    {
     "name": "stdout",
     "output_type": "stream",
     "text": [
      "\n",
      " ARMA(3,2): \tLL =  -7894.627078611375 \tAIC =  15803.25415722275\n",
      "\n",
      " ARMA(1,3): \tLL =  -7895.722431576323 \tAIC =  15803.444863152647\n"
     ]
    }
   ],
   "source": [
    "print(\"\\n ARMA(3,2): \\tLL = \", results_ret_ar_3_ma_2.llf, \"\\tAIC = \", results_ret_ar_3_ma_2.aic)\n",
    "print(\"\\n ARMA(1,3): \\tLL = \",results_ret_ar_1_ma_3.llf, \"\\tAIC = \", results_ret_ar_1_ma_3.aic)"
   ]
  },
  {
   "cell_type": "markdown",
   "id": "707f359f",
   "metadata": {},
   "source": [
    "##### NOTE - From the above results, we see that  `ARMA(3,2) > ARMA(1,3)`\n",
    "\n",
    "#### Therefore, ARMA(3,2) is the best model here for the following reasons:\n",
    "1. We get all significant coefficients.\n",
    "2. The model outpredicts all less-complex alternatives."
   ]
  },
  {
   "cell_type": "markdown",
   "id": "71bb750a",
   "metadata": {},
   "source": [
    "### Residuals for Returns"
   ]
  },
  {
   "cell_type": "code",
   "execution_count": 89,
   "id": "b7d0710d",
   "metadata": {},
   "outputs": [],
   "source": [
    "df['res_ret_ar_3_ma_2'] = results_ret_ar_3_ma_2.resid[1:]"
   ]
  },
  {
   "cell_type": "code",
   "execution_count": 90,
   "id": "d8832c29",
   "metadata": {},
   "outputs": [
    {
     "data": {
      "image/png": "[encoded data removed]",
      "text/plain": [
       "<Figure size 1440x360 with 1 Axes>"
      ]
     },
     "metadata": {},
     "output_type": "display_data"
    }
   ],
   "source": [
    "df.res_ret_ar_3_ma_2.plot(figsize = (20,5))\n",
    "plt.title(\"Residuals Of Returns\", size = 24)\n",
    "plt.show()"
   ]
  },
  {
   "cell_type": "markdown",
   "id": "ca5c95fc",
   "metadata": {},
   "source": [
    "##### NOTE - The above graph is similar to the Residuals plots of the AR and MA models. This is because the volatility in returns might not be fully comprehendable if we use only ARMA models."
   ]
  },
  {
   "cell_type": "code",
   "execution_count": 91,
   "id": "f15985f3",
   "metadata": {},
   "outputs": [
    {
     "data": {
      "image/png": "[encoded data removed]",
      "text/plain": [
       "<Figure size 432x288 with 1 Axes>"
      ]
     },
     "metadata": {},
     "output_type": "display_data"
    }
   ],
   "source": [
    "sgt.plot_acf(df.res_ret_ar_3_ma_2[2:], zero = False, lags = 40)\n",
    "plt.title(\"ACF Of Residuals for Returns\", size = 24)\n",
    "plt.show()"
   ]
  },
  {
   "cell_type": "markdown",
   "id": "2cfa962e",
   "metadata": {},
   "source": [
    "<img src = Images/f.png>\n",
    "\n",
    "<img src = Images/g.png>"
   ]
  },
  {
   "cell_type": "markdown",
   "id": "0daf565e",
   "metadata": {},
   "source": [
    "### Reevaluating Model Selection"
   ]
  },
  {
   "cell_type": "code",
   "execution_count": 92,
   "id": "a14e5c60",
   "metadata": {},
   "outputs": [
    {
     "name": "stderr",
     "output_type": "stream",
     "text": [
      " This problem is unconstrained.\n"
     ]
    },
    {
     "name": "stdout",
     "output_type": "stream",
     "text": [
      "RUNNING THE L-BFGS-B CODE\n",
      "\n",
      "           * * *\n",
      "\n",
      "Machine precision = 2.220D-16\n",
      " N =           11     M =           12\n",
      "\n",
      "At X0         0 variables are exactly at the bounds\n",
      "\n",
      "At iterate    0    f=  1.57035D+00    |proj g|=  1.53413D-03\n",
      "\n",
      "At iterate    5    f=  1.57033D+00    |proj g|=  1.83549D-03\n",
      "\n",
      "At iterate   10    f=  1.57032D+00    |proj g|=  9.27880D-04\n",
      "\n",
      "At iterate   15    f=  1.57028D+00    |proj g|=  2.10898D-03\n",
      "\n",
      "At iterate   20    f=  1.57027D+00    |proj g|=  1.23257D-04\n",
      "\n",
      "At iterate   25    f=  1.57026D+00    |proj g|=  1.79690D-03\n",
      "\n",
      "At iterate   30    f=  1.57025D+00    |proj g|=  1.92935D-04\n",
      "\n",
      "At iterate   35    f=  1.57025D+00    |proj g|=  1.54987D-04\n",
      "\n",
      "At iterate   40    f=  1.57025D+00    |proj g|=  8.86158D-04\n",
      "\n",
      "At iterate   45    f=  1.57025D+00    |proj g|=  2.08211D-04\n",
      "\n",
      "At iterate   50    f=  1.57025D+00    |proj g|=  5.30687D-05\n",
      "\n",
      "At iterate   55    f=  1.57025D+00    |proj g|=  2.10743D-04\n",
      "\n",
      "At iterate   60    f=  1.57025D+00    |proj g|=  9.01501D-05\n",
      "\n",
      "At iterate   65    f=  1.57025D+00    |proj g|=  5.68434D-06\n",
      "\n",
      "At iterate   70    f=  1.57025D+00    |proj g|=  1.66533D-06\n",
      "\n",
      "At iterate   75    f=  1.57025D+00    |proj g|=  1.33227D-06\n",
      "\n",
      "           * * *\n",
      "\n",
      "Tit   = total number of iterations\n",
      "Tnf   = total number of function evaluations\n",
      "Tnint = total number of segments explored during Cauchy searches\n",
      "Skip  = number of BFGS updates skipped\n",
      "Nact  = number of active bounds at final generalized Cauchy point\n",
      "Projg = norm of the final projected gradient\n",
      "F     = final function value\n",
      "\n",
      "           * * *\n",
      "\n",
      "   N    Tit     Tnf  Tnint  Skip  Nact     Projg        F\n",
      "   11     79     90      1     0     0   3.553D-07   1.570D+00\n",
      "  F =   1.5702461239163898     \n",
      "\n",
      "CONVERGENCE: REL_REDUCTION_OF_F_<=_FACTR*EPSMCH             \n"
     ]
    },
    {
     "data": {
      "text/html": [
       "<table class=\"simpletable\">\n",
       "<caption>ARMA Model Results</caption>\n",
       "<tr>\n",
       "  <th>Dep. Variable:</th>      <td>returns</td>     <th>  No. Observations:  </th>   <td>5019</td>   \n",
       "</tr>\n",
       "<tr>\n",
       "  <th>Model:</th>            <td>ARMA(5, 5)</td>    <th>  Log Likelihood     </th> <td>-7881.065</td>\n",
       "</tr>\n",
       "<tr>\n",
       "  <th>Method:</th>             <td>css-mle</td>     <th>  S.D. of innovations</th>   <td>1.163</td>  \n",
       "</tr>\n",
       "<tr>\n",
       "  <th>Date:</th>          <td>Thu, 20 Jan 2022</td> <th>  AIC                </th> <td>15786.131</td>\n",
       "</tr>\n",
       "<tr>\n",
       "  <th>Time:</th>              <td>16:07:30</td>     <th>  BIC                </th> <td>15864.382</td>\n",
       "</tr>\n",
       "<tr>\n",
       "  <th>Sample:</th>           <td>01-11-1994</td>    <th>  HQIC               </th> <td>15813.551</td>\n",
       "</tr>\n",
       "<tr>\n",
       "  <th></th>                 <td>- 04-05-2013</td>   <th>                     </th>     <td> </td>    \n",
       "</tr>\n",
       "</table>\n",
       "<table class=\"simpletable\">\n",
       "<tr>\n",
       "        <td></td>           <th>coef</th>     <th>std err</th>      <th>z</th>      <th>P>|z|</th>  <th>[0.025</th>    <th>0.975]</th>  \n",
       "</tr>\n",
       "<tr>\n",
       "  <th>const</th>         <td>    0.0189</td> <td>    0.013</td> <td>    1.405</td> <td> 0.160</td> <td>   -0.007</td> <td>    0.045</td>\n",
       "</tr>\n",
       "<tr>\n",
       "  <th>ar.L1.returns</th> <td>   -0.0687</td> <td>    0.140</td> <td>   -0.492</td> <td> 0.623</td> <td>   -0.343</td> <td>    0.205</td>\n",
       "</tr>\n",
       "<tr>\n",
       "  <th>ar.L2.returns</th> <td>   -0.6723</td> <td>    0.146</td> <td>   -4.604</td> <td> 0.000</td> <td>   -0.958</td> <td>   -0.386</td>\n",
       "</tr>\n",
       "<tr>\n",
       "  <th>ar.L3.returns</th> <td>   -0.1155</td> <td>    0.141</td> <td>   -0.819</td> <td> 0.413</td> <td>   -0.392</td> <td>    0.161</td>\n",
       "</tr>\n",
       "<tr>\n",
       "  <th>ar.L4.returns</th> <td>    0.1775</td> <td>    0.129</td> <td>    1.378</td> <td> 0.168</td> <td>   -0.075</td> <td>    0.430</td>\n",
       "</tr>\n",
       "<tr>\n",
       "  <th>ar.L5.returns</th> <td>    0.1214</td> <td>    0.107</td> <td>    1.131</td> <td> 0.258</td> <td>   -0.089</td> <td>    0.332</td>\n",
       "</tr>\n",
       "<tr>\n",
       "  <th>ma.L1.returns</th> <td>    0.0446</td> <td>    0.138</td> <td>    0.324</td> <td> 0.746</td> <td>   -0.225</td> <td>    0.315</td>\n",
       "</tr>\n",
       "<tr>\n",
       "  <th>ma.L2.returns</th> <td>    0.6224</td> <td>    0.144</td> <td>    4.322</td> <td> 0.000</td> <td>    0.340</td> <td>    0.905</td>\n",
       "</tr>\n",
       "<tr>\n",
       "  <th>ma.L3.returns</th> <td>    0.0109</td> <td>    0.136</td> <td>    0.080</td> <td> 0.936</td> <td>   -0.256</td> <td>    0.278</td>\n",
       "</tr>\n",
       "<tr>\n",
       "  <th>ma.L4.returns</th> <td>   -0.1749</td> <td>    0.122</td> <td>   -1.433</td> <td> 0.152</td> <td>   -0.414</td> <td>    0.064</td>\n",
       "</tr>\n",
       "<tr>\n",
       "  <th>ma.L5.returns</th> <td>   -0.2239</td> <td>    0.104</td> <td>   -2.148</td> <td> 0.032</td> <td>   -0.428</td> <td>   -0.020</td>\n",
       "</tr>\n",
       "</table>\n",
       "<table class=\"simpletable\">\n",
       "<caption>Roots</caption>\n",
       "<tr>\n",
       "    <td></td>   <th>            Real</th>  <th>         Imaginary</th> <th>         Modulus</th>  <th>        Frequency</th>\n",
       "</tr>\n",
       "<tr>\n",
       "  <th>AR.1</th> <td>           0.0871</td> <td>          -1.0365j</td> <td>           1.0402</td> <td>          -0.2367</td>\n",
       "</tr>\n",
       "<tr>\n",
       "  <th>AR.2</th> <td>           0.0871</td> <td>          +1.0365j</td> <td>           1.0402</td> <td>           0.2367</td>\n",
       "</tr>\n",
       "<tr>\n",
       "  <th>AR.3</th> <td>           1.7727</td> <td>          -0.0000j</td> <td>           1.7727</td> <td>          -0.0000</td>\n",
       "</tr>\n",
       "<tr>\n",
       "  <th>AR.4</th> <td>          -1.7046</td> <td>          -1.1787j</td> <td>           2.0724</td> <td>          -0.4037</td>\n",
       "</tr>\n",
       "<tr>\n",
       "  <th>AR.5</th> <td>          -1.7046</td> <td>          +1.1787j</td> <td>           2.0724</td> <td>           0.4037</td>\n",
       "</tr>\n",
       "<tr>\n",
       "  <th>MA.1</th> <td>           0.1034</td> <td>          -1.0436j</td> <td>           1.0487</td> <td>          -0.2343</td>\n",
       "</tr>\n",
       "<tr>\n",
       "  <th>MA.2</th> <td>           0.1034</td> <td>          +1.0436j</td> <td>           1.0487</td> <td>           0.2343</td>\n",
       "</tr>\n",
       "<tr>\n",
       "  <th>MA.3</th> <td>           1.4862</td> <td>          -0.0000j</td> <td>           1.4862</td> <td>          -0.0000</td>\n",
       "</tr>\n",
       "<tr>\n",
       "  <th>MA.4</th> <td>          -1.2370</td> <td>          -1.0965j</td> <td>           1.6530</td> <td>          -0.3846</td>\n",
       "</tr>\n",
       "<tr>\n",
       "  <th>MA.5</th> <td>          -1.2370</td> <td>          +1.0965j</td> <td>           1.6530</td> <td>           0.3846</td>\n",
       "</tr>\n",
       "</table>"
      ],
      "text/plain": [
       "<class 'statsmodels.iolib.summary.Summary'>\n",
       "\"\"\"\n",
       "                              ARMA Model Results                              \n",
       "==============================================================================\n",
       "Dep. Variable:                returns   No. Observations:                 5019\n",
       "Model:                     ARMA(5, 5)   Log Likelihood               -7881.065\n",
       "Method:                       css-mle   S.D. of innovations              1.163\n",
       "Date:                Thu, 20 Jan 2022   AIC                          15786.131\n",
       "Time:                        16:07:30   BIC                          15864.382\n",
       "Sample:                    01-11-1994   HQIC                         15813.551\n",
       "                         - 04-05-2013                                         \n",
       "=================================================================================\n",
       "                    coef    std err          z      P>|z|      [0.025      0.975]\n",
       "---------------------------------------------------------------------------------\n",
       "const             0.0189      0.013      1.405      0.160      -0.007       0.045\n",
       "ar.L1.returns    -0.0687      0.140     -0.492      0.623      -0.343       0.205\n",
       "ar.L2.returns    -0.6723      0.146     -4.604      0.000      -0.958      -0.386\n",
       "ar.L3.returns    -0.1155      0.141     -0.819      0.413      -0.392       0.161\n",
       "ar.L4.returns     0.1775      0.129      1.378      0.168      -0.075       0.430\n",
       "ar.L5.returns     0.1214      0.107      1.131      0.258      -0.089       0.332\n",
       "ma.L1.returns     0.0446      0.138      0.324      0.746      -0.225       0.315\n",
       "ma.L2.returns     0.6224      0.144      4.322      0.000       0.340       0.905\n",
       "ma.L3.returns     0.0109      0.136      0.080      0.936      -0.256       0.278\n",
       "ma.L4.returns    -0.1749      0.122     -1.433      0.152      -0.414       0.064\n",
       "ma.L5.returns    -0.2239      0.104     -2.148      0.032      -0.428      -0.020\n",
       "                                    Roots                                    \n",
       "=============================================================================\n",
       "                  Real          Imaginary           Modulus         Frequency\n",
       "-----------------------------------------------------------------------------\n",
       "AR.1            0.0871           -1.0365j            1.0402           -0.2367\n",
       "AR.2            0.0871           +1.0365j            1.0402            0.2367\n",
       "AR.3            1.7727           -0.0000j            1.7727           -0.0000\n",
       "AR.4           -1.7046           -1.1787j            2.0724           -0.4037\n",
       "AR.5           -1.7046           +1.1787j            2.0724            0.4037\n",
       "MA.1            0.1034           -1.0436j            1.0487           -0.2343\n",
       "MA.2            0.1034           +1.0436j            1.0487            0.2343\n",
       "MA.3            1.4862           -0.0000j            1.4862           -0.0000\n",
       "MA.4           -1.2370           -1.0965j            1.6530           -0.3846\n",
       "MA.5           -1.2370           +1.0965j            1.6530            0.3846\n",
       "-----------------------------------------------------------------------------\n",
       "\"\"\""
      ]
     },
     "execution_count": 92,
     "metadata": {},
     "output_type": "execute_result"
    }
   ],
   "source": [
    "model_ret_ar_5_ma_5 = ARMA(df.returns[1:], order = (5,5))\n",
    "results_ret_ar_5_ma_5 = model_ret_ar_5_ma_5.fit()\n",
    "results_ret_ar_5_ma_5.summary()"
   ]
  },
  {
   "cell_type": "markdown",
   "id": "92bbe04e",
   "metadata": {},
   "source": [
    "##### NOTE - We can see that all the three of its coefficients were significant, hence taking both returns and residuals five periods ago is redundant and we should only focus on one of the two.\n",
    "\n",
    "The shortlisted models after testing all models are - `ARMA(1,5) and ARMA(5,1)`\n",
    "\n",
    "We can't apply the LLR test to ARMA(1,5) and ARMA(5,1) as they have the `same degrees of freedom`\n",
    "\n",
    "Therefore, we should compare their `Log Likelihood` and `AIC` values."
   ]
  },
  {
   "cell_type": "code",
   "execution_count": 93,
   "id": "eab9c620",
   "metadata": {},
   "outputs": [
    {
     "name": "stdout",
     "output_type": "stream",
     "text": [
      "RUNNING THE L-BFGS-B CODE\n",
      "\n",
      "           * * *\n",
      "\n",
      "Machine precision = 2.220D-16\n",
      " N =            7     M =           12\n",
      "\n",
      "At X0         0 variables are exactly at the bounds\n",
      "\n",
      "At iterate    0    f=  1.57167D+00    |proj g|=  1.52611D-04\n",
      "\n",
      "At iterate    5    f=  1.57167D+00    |proj g|=  1.19238D-05\n",
      "\n",
      "At iterate   10    f=  1.57167D+00    |proj g|=  5.46896D-05\n",
      "\n",
      "           * * *\n",
      "\n",
      "Tit   = total number of iterations\n",
      "Tnf   = total number of function evaluations\n",
      "Tnint = total number of segments explored during Cauchy searches\n",
      "Skip  = number of BFGS updates skipped\n",
      "Nact  = number of active bounds at final generalized Cauchy point\n",
      "Projg = norm of the final projected gradient\n",
      "F     = final function value\n",
      "\n",
      "           * * *\n",
      "\n",
      "   N    Tit     Tnf  Tnint  Skip  Nact     Projg        F\n",
      "    7     14     16      1     0     0   1.110D-07   1.572D+00\n",
      "  F =   1.5716688538404584     \n",
      "\n",
      "CONVERGENCE: REL_REDUCTION_OF_F_<=_FACTR*EPSMCH             \n"
     ]
    },
    {
     "name": "stderr",
     "output_type": "stream",
     "text": [
      " This problem is unconstrained.\n"
     ]
    },
    {
     "data": {
      "text/html": [
       "<table class=\"simpletable\">\n",
       "<caption>ARMA Model Results</caption>\n",
       "<tr>\n",
       "  <th>Dep. Variable:</th>      <td>returns</td>     <th>  No. Observations:  </th>   <td>5019</td>   \n",
       "</tr>\n",
       "<tr>\n",
       "  <th>Model:</th>            <td>ARMA(5, 1)</td>    <th>  Log Likelihood     </th> <td>-7888.206</td>\n",
       "</tr>\n",
       "<tr>\n",
       "  <th>Method:</th>             <td>css-mle</td>     <th>  S.D. of innovations</th>   <td>1.165</td>  \n",
       "</tr>\n",
       "<tr>\n",
       "  <th>Date:</th>          <td>Thu, 20 Jan 2022</td> <th>  AIC                </th> <td>15792.412</td>\n",
       "</tr>\n",
       "<tr>\n",
       "  <th>Time:</th>              <td>16:12:10</td>     <th>  BIC                </th> <td>15844.580</td>\n",
       "</tr>\n",
       "<tr>\n",
       "  <th>Sample:</th>           <td>01-11-1994</td>    <th>  HQIC               </th> <td>15810.692</td>\n",
       "</tr>\n",
       "<tr>\n",
       "  <th></th>                 <td>- 04-05-2013</td>   <th>                     </th>     <td> </td>    \n",
       "</tr>\n",
       "</table>\n",
       "<table class=\"simpletable\">\n",
       "<tr>\n",
       "        <td></td>           <th>coef</th>     <th>std err</th>      <th>z</th>      <th>P>|z|</th>  <th>[0.025</th>    <th>0.975]</th>  \n",
       "</tr>\n",
       "<tr>\n",
       "  <th>const</th>         <td>    0.0190</td> <td>    0.013</td> <td>    1.411</td> <td> 0.158</td> <td>   -0.007</td> <td>    0.045</td>\n",
       "</tr>\n",
       "<tr>\n",
       "  <th>ar.L1.returns</th> <td>    0.3437</td> <td>    0.131</td> <td>    2.619</td> <td> 0.009</td> <td>    0.087</td> <td>    0.601</td>\n",
       "</tr>\n",
       "<tr>\n",
       "  <th>ar.L2.returns</th> <td>   -0.0459</td> <td>    0.015</td> <td>   -3.008</td> <td> 0.003</td> <td>   -0.076</td> <td>   -0.016</td>\n",
       "</tr>\n",
       "<tr>\n",
       "  <th>ar.L3.returns</th> <td>   -0.0652</td> <td>    0.016</td> <td>   -4.010</td> <td> 0.000</td> <td>   -0.097</td> <td>   -0.033</td>\n",
       "</tr>\n",
       "<tr>\n",
       "  <th>ar.L4.returns</th> <td>    0.0741</td> <td>    0.018</td> <td>    4.069</td> <td> 0.000</td> <td>    0.038</td> <td>    0.110</td>\n",
       "</tr>\n",
       "<tr>\n",
       "  <th>ar.L5.returns</th> <td>   -0.0813</td> <td>    0.014</td> <td>   -5.686</td> <td> 0.000</td> <td>   -0.109</td> <td>   -0.053</td>\n",
       "</tr>\n",
       "<tr>\n",
       "  <th>ma.L1.returns</th> <td>   -0.3670</td> <td>    0.131</td> <td>   -2.796</td> <td> 0.005</td> <td>   -0.624</td> <td>   -0.110</td>\n",
       "</tr>\n",
       "</table>\n",
       "<table class=\"simpletable\">\n",
       "<caption>Roots</caption>\n",
       "<tr>\n",
       "    <td></td>   <th>            Real</th>  <th>         Imaginary</th> <th>         Modulus</th>  <th>        Frequency</th>\n",
       "</tr>\n",
       "<tr>\n",
       "  <th>AR.1</th> <td>          -1.6157</td> <td>          -0.0000j</td> <td>           1.6157</td> <td>          -0.5000</td>\n",
       "</tr>\n",
       "<tr>\n",
       "  <th>AR.2</th> <td>           1.3795</td> <td>          -0.8617j</td> <td>           1.6265</td> <td>          -0.0889</td>\n",
       "</tr>\n",
       "<tr>\n",
       "  <th>AR.3</th> <td>           1.3795</td> <td>          +0.8617j</td> <td>           1.6265</td> <td>           0.0889</td>\n",
       "</tr>\n",
       "<tr>\n",
       "  <th>AR.4</th> <td>          -0.1156</td> <td>          -1.6927j</td> <td>           1.6967</td> <td>          -0.2608</td>\n",
       "</tr>\n",
       "<tr>\n",
       "  <th>AR.5</th> <td>          -0.1156</td> <td>          +1.6927j</td> <td>           1.6967</td> <td>           0.2608</td>\n",
       "</tr>\n",
       "<tr>\n",
       "  <th>MA.1</th> <td>           2.7249</td> <td>          +0.0000j</td> <td>           2.7249</td> <td>           0.0000</td>\n",
       "</tr>\n",
       "</table>"
      ],
      "text/plain": [
       "<class 'statsmodels.iolib.summary.Summary'>\n",
       "\"\"\"\n",
       "                              ARMA Model Results                              \n",
       "==============================================================================\n",
       "Dep. Variable:                returns   No. Observations:                 5019\n",
       "Model:                     ARMA(5, 1)   Log Likelihood               -7888.206\n",
       "Method:                       css-mle   S.D. of innovations              1.165\n",
       "Date:                Thu, 20 Jan 2022   AIC                          15792.412\n",
       "Time:                        16:12:10   BIC                          15844.580\n",
       "Sample:                    01-11-1994   HQIC                         15810.692\n",
       "                         - 04-05-2013                                         \n",
       "=================================================================================\n",
       "                    coef    std err          z      P>|z|      [0.025      0.975]\n",
       "---------------------------------------------------------------------------------\n",
       "const             0.0190      0.013      1.411      0.158      -0.007       0.045\n",
       "ar.L1.returns     0.3437      0.131      2.619      0.009       0.087       0.601\n",
       "ar.L2.returns    -0.0459      0.015     -3.008      0.003      -0.076      -0.016\n",
       "ar.L3.returns    -0.0652      0.016     -4.010      0.000      -0.097      -0.033\n",
       "ar.L4.returns     0.0741      0.018      4.069      0.000       0.038       0.110\n",
       "ar.L5.returns    -0.0813      0.014     -5.686      0.000      -0.109      -0.053\n",
       "ma.L1.returns    -0.3670      0.131     -2.796      0.005      -0.624      -0.110\n",
       "                                    Roots                                    \n",
       "=============================================================================\n",
       "                  Real          Imaginary           Modulus         Frequency\n",
       "-----------------------------------------------------------------------------\n",
       "AR.1           -1.6157           -0.0000j            1.6157           -0.5000\n",
       "AR.2            1.3795           -0.8617j            1.6265           -0.0889\n",
       "AR.3            1.3795           +0.8617j            1.6265            0.0889\n",
       "AR.4           -0.1156           -1.6927j            1.6967           -0.2608\n",
       "AR.5           -0.1156           +1.6927j            1.6967            0.2608\n",
       "MA.1            2.7249           +0.0000j            2.7249            0.0000\n",
       "-----------------------------------------------------------------------------\n",
       "\"\"\""
      ]
     },
     "execution_count": 93,
     "metadata": {},
     "output_type": "execute_result"
    }
   ],
   "source": [
    "model_ret_ar_5_ma_1 = ARMA(df.returns[1:], order = (5,1))\n",
    "results_ret_ar_5_ma_1 = model_ret_ar_5_ma_1.fit()\n",
    "results_ret_ar_5_ma_1.summary()"
   ]
  },
  {
   "cell_type": "code",
   "execution_count": 94,
   "id": "74d3a4b4",
   "metadata": {},
   "outputs": [
    {
     "name": "stdout",
     "output_type": "stream",
     "text": [
      "RUNNING THE L-BFGS-B CODE\n",
      "\n",
      "           * * *\n",
      "\n",
      "Machine precision = 2.220D-16\n",
      " N =            7     M =           12\n",
      "\n",
      "At X0         0 variables are exactly at the bounds\n",
      "\n",
      "At iterate    0    f=  1.57200D+00    |proj g|=  2.37610D-04\n",
      "\n",
      "At iterate    5    f=  1.57200D+00    |proj g|=  1.58762D-05\n",
      "\n",
      "At iterate   10    f=  1.57200D+00    |proj g|=  1.71418D-04\n",
      "\n",
      "At iterate   15    f=  1.57200D+00    |proj g|=  9.10383D-07\n",
      "\n",
      "           * * *\n",
      "\n",
      "Tit   = total number of iterations\n",
      "Tnf   = total number of function evaluations\n",
      "Tnint = total number of segments explored during Cauchy searches\n",
      "Skip  = number of BFGS updates skipped\n",
      "Nact  = number of active bounds at final generalized Cauchy point\n",
      "Projg = norm of the final projected gradient\n",
      "F     = final function value\n",
      "\n",
      "           * * *\n",
      "\n",
      "   N    Tit     Tnf  Tnint  Skip  Nact     Projg        F\n",
      "    7     18     22      1     0     0   6.661D-08   1.572D+00\n",
      "  F =   1.5719997484231236     \n",
      "\n",
      "CONVERGENCE: REL_REDUCTION_OF_F_<=_FACTR*EPSMCH             \n"
     ]
    },
    {
     "name": "stderr",
     "output_type": "stream",
     "text": [
      " This problem is unconstrained.\n"
     ]
    },
    {
     "data": {
      "text/html": [
       "<table class=\"simpletable\">\n",
       "<caption>ARMA Model Results</caption>\n",
       "<tr>\n",
       "  <th>Dep. Variable:</th>      <td>returns</td>     <th>  No. Observations:  </th>   <td>5019</td>   \n",
       "</tr>\n",
       "<tr>\n",
       "  <th>Model:</th>            <td>ARMA(1, 5)</td>    <th>  Log Likelihood     </th> <td>-7889.867</td>\n",
       "</tr>\n",
       "<tr>\n",
       "  <th>Method:</th>             <td>css-mle</td>     <th>  S.D. of innovations</th>   <td>1.165</td>  \n",
       "</tr>\n",
       "<tr>\n",
       "  <th>Date:</th>          <td>Thu, 20 Jan 2022</td> <th>  AIC                </th> <td>15795.733</td>\n",
       "</tr>\n",
       "<tr>\n",
       "  <th>Time:</th>              <td>16:12:46</td>     <th>  BIC                </th> <td>15847.901</td>\n",
       "</tr>\n",
       "<tr>\n",
       "  <th>Sample:</th>           <td>01-11-1994</td>    <th>  HQIC               </th> <td>15814.014</td>\n",
       "</tr>\n",
       "<tr>\n",
       "  <th></th>                 <td>- 04-05-2013</td>   <th>                     </th>     <td> </td>    \n",
       "</tr>\n",
       "</table>\n",
       "<table class=\"simpletable\">\n",
       "<tr>\n",
       "        <td></td>           <th>coef</th>     <th>std err</th>      <th>z</th>      <th>P>|z|</th>  <th>[0.025</th>    <th>0.975]</th>  \n",
       "</tr>\n",
       "<tr>\n",
       "  <th>const</th>         <td>    0.0190</td> <td>    0.013</td> <td>    1.422</td> <td> 0.155</td> <td>   -0.007</td> <td>    0.045</td>\n",
       "</tr>\n",
       "<tr>\n",
       "  <th>ar.L1.returns</th> <td>    0.3281</td> <td>    0.152</td> <td>    2.155</td> <td> 0.031</td> <td>    0.030</td> <td>    0.627</td>\n",
       "</tr>\n",
       "<tr>\n",
       "  <th>ma.L1.returns</th> <td>   -0.3531</td> <td>    0.152</td> <td>   -2.329</td> <td> 0.020</td> <td>   -0.650</td> <td>   -0.056</td>\n",
       "</tr>\n",
       "<tr>\n",
       "  <th>ma.L2.returns</th> <td>   -0.0405</td> <td>    0.015</td> <td>   -2.627</td> <td> 0.009</td> <td>   -0.071</td> <td>   -0.010</td>\n",
       "</tr>\n",
       "<tr>\n",
       "  <th>ma.L3.returns</th> <td>   -0.0679</td> <td>    0.017</td> <td>   -4.022</td> <td> 0.000</td> <td>   -0.101</td> <td>   -0.035</td>\n",
       "</tr>\n",
       "<tr>\n",
       "  <th>ma.L4.returns</th> <td>    0.0743</td> <td>    0.020</td> <td>    3.772</td> <td> 0.000</td> <td>    0.036</td> <td>    0.113</td>\n",
       "</tr>\n",
       "<tr>\n",
       "  <th>ma.L5.returns</th> <td>   -0.0683</td> <td>    0.015</td> <td>   -4.657</td> <td> 0.000</td> <td>   -0.097</td> <td>   -0.040</td>\n",
       "</tr>\n",
       "</table>\n",
       "<table class=\"simpletable\">\n",
       "<caption>Roots</caption>\n",
       "<tr>\n",
       "    <td></td>   <th>            Real</th>  <th>         Imaginary</th> <th>         Modulus</th>  <th>        Frequency</th>\n",
       "</tr>\n",
       "<tr>\n",
       "  <th>AR.1</th> <td>           3.0475</td> <td>          +0.0000j</td> <td>           3.0475</td> <td>           0.0000</td>\n",
       "</tr>\n",
       "<tr>\n",
       "  <th>MA.1</th> <td>          -1.1896</td> <td>          -1.1547j</td> <td>           1.6578</td> <td>          -0.3774</td>\n",
       "</tr>\n",
       "<tr>\n",
       "  <th>MA.2</th> <td>          -1.1896</td> <td>          +1.1547j</td> <td>           1.6578</td> <td>           0.3774</td>\n",
       "</tr>\n",
       "<tr>\n",
       "  <th>MA.3</th> <td>           1.5045</td> <td>          -0.0000j</td> <td>           1.5045</td> <td>          -0.0000</td>\n",
       "</tr>\n",
       "<tr>\n",
       "  <th>MA.4</th> <td>           0.9810</td> <td>          -1.6058j</td> <td>           1.8817</td> <td>          -0.1627</td>\n",
       "</tr>\n",
       "<tr>\n",
       "  <th>MA.5</th> <td>           0.9810</td> <td>          +1.6058j</td> <td>           1.8817</td> <td>           0.1627</td>\n",
       "</tr>\n",
       "</table>"
      ],
      "text/plain": [
       "<class 'statsmodels.iolib.summary.Summary'>\n",
       "\"\"\"\n",
       "                              ARMA Model Results                              \n",
       "==============================================================================\n",
       "Dep. Variable:                returns   No. Observations:                 5019\n",
       "Model:                     ARMA(1, 5)   Log Likelihood               -7889.867\n",
       "Method:                       css-mle   S.D. of innovations              1.165\n",
       "Date:                Thu, 20 Jan 2022   AIC                          15795.733\n",
       "Time:                        16:12:46   BIC                          15847.901\n",
       "Sample:                    01-11-1994   HQIC                         15814.014\n",
       "                         - 04-05-2013                                         \n",
       "=================================================================================\n",
       "                    coef    std err          z      P>|z|      [0.025      0.975]\n",
       "---------------------------------------------------------------------------------\n",
       "const             0.0190      0.013      1.422      0.155      -0.007       0.045\n",
       "ar.L1.returns     0.3281      0.152      2.155      0.031       0.030       0.627\n",
       "ma.L1.returns    -0.3531      0.152     -2.329      0.020      -0.650      -0.056\n",
       "ma.L2.returns    -0.0405      0.015     -2.627      0.009      -0.071      -0.010\n",
       "ma.L3.returns    -0.0679      0.017     -4.022      0.000      -0.101      -0.035\n",
       "ma.L4.returns     0.0743      0.020      3.772      0.000       0.036       0.113\n",
       "ma.L5.returns    -0.0683      0.015     -4.657      0.000      -0.097      -0.040\n",
       "                                    Roots                                    \n",
       "=============================================================================\n",
       "                  Real          Imaginary           Modulus         Frequency\n",
       "-----------------------------------------------------------------------------\n",
       "AR.1            3.0475           +0.0000j            3.0475            0.0000\n",
       "MA.1           -1.1896           -1.1547j            1.6578           -0.3774\n",
       "MA.2           -1.1896           +1.1547j            1.6578            0.3774\n",
       "MA.3            1.5045           -0.0000j            1.5045           -0.0000\n",
       "MA.4            0.9810           -1.6058j            1.8817           -0.1627\n",
       "MA.5            0.9810           +1.6058j            1.8817            0.1627\n",
       "-----------------------------------------------------------------------------\n",
       "\"\"\""
      ]
     },
     "execution_count": 94,
     "metadata": {},
     "output_type": "execute_result"
    }
   ],
   "source": [
    "model_ret_ar_1_ma_5 = ARMA(df.returns[1:], order = (1,5))\n",
    "results_ret_ar_1_ma_5 = model_ret_ar_1_ma_5.fit()\n",
    "results_ret_ar_1_ma_5.summary()"
   ]
  },
  {
   "cell_type": "code",
   "execution_count": 95,
   "id": "67b9d7fc",
   "metadata": {},
   "outputs": [
    {
     "name": "stdout",
     "output_type": "stream",
     "text": [
      "\n",
      " ARMA(5,1): \tLL =  -7888.205977425261 \tAIC =  15792.411954850522\n",
      "\n",
      " ARMA(1,5): \tLL =  -7889.8667373356575 \tAIC =  15795.733474671315\n"
     ]
    }
   ],
   "source": [
    "print(\"\\n ARMA(5,1): \\tLL = \", results_ret_ar_5_ma_1.llf, \"\\tAIC = \", results_ret_ar_5_ma_1.aic)\n",
    "print(\"\\n ARMA(1,5): \\tLL = \",results_ret_ar_1_ma_5.llf, \"\\tAIC = \", results_ret_ar_1_ma_5.aic)"
   ]
  },
  {
   "cell_type": "markdown",
   "id": "5a6fce2e",
   "metadata": {},
   "source": [
    "##### NOTE - From the above results, we can conclude that `ARMA(5,1) > ARMA(1,5)`\n",
    "\n",
    "<img src = Images/i.png>"
   ]
  },
  {
   "cell_type": "code",
   "execution_count": 96,
   "id": "b9626ebf",
   "metadata": {},
   "outputs": [
    {
     "name": "stdout",
     "output_type": "stream",
     "text": [
      "\n",
      " ARMA(5,1): \tLL =  -7888.205977425261 \tAIC =  15792.411954850522\n",
      "\n",
      " ARMA(3,2): \tLL =  -7894.627078611375 \tAIC =  15803.25415722275\n"
     ]
    }
   ],
   "source": [
    "print(\"\\n ARMA(5,1): \\tLL = \", results_ret_ar_5_ma_1.llf, \"\\tAIC = \", results_ret_ar_5_ma_1.aic)\n",
    "print(\"\\n ARMA(3,2): \\tLL = \",results_ret_ar_3_ma_2.llf, \"\\tAIC = \", results_ret_ar_3_ma_2.aic)"
   ]
  },
  {
   "cell_type": "markdown",
   "id": "9ba62187",
   "metadata": {},
   "source": [
    "##### NOTE - From the above results, we can conclude that `ARMA(5,1) > ARMA(3,2)`\n",
    "\n",
    "\n",
    "### Important\n",
    "A.R. and models have ACF and PACF to provide the suggested optimal number of lags needed. Unfortunately, ARMA models lack such functions. Therefore, we can make the mistake of starting off with a model whose order is lower than the optimal one. This is why `examining the residuals is crucial in finding the best approximate.`\n",
    "\n",
    "\n",
    "### Residuals for the New Model"
   ]
  },
  {
   "cell_type": "code",
   "execution_count": 97,
   "id": "6ebe9047",
   "metadata": {},
   "outputs": [],
   "source": [
    "df['res_ret_ar_5_ma_1'] = results_ret_ar_5_ma_1.resid"
   ]
  },
  {
   "cell_type": "code",
   "execution_count": 99,
   "id": "523cec76",
   "metadata": {},
   "outputs": [
    {
     "data": {
      "image/png": "[encoded data removed]",
      "text/plain": [
       "<Figure size 432x288 with 1 Axes>"
      ]
     },
     "metadata": {},
     "output_type": "display_data"
    }
   ],
   "source": [
    "sgt.plot_acf(df.res_ret_ar_5_ma_1[1:], zero = False, lags = 40)\n",
    "plt.title(\"ACF Of Residuals for Returns\", size = 24)\n",
    "plt.show()"
   ]
  },
  {
   "cell_type": "markdown",
   "id": "99c0f0ca",
   "metadata": {},
   "source": [
    "### ARMA Models for Prices"
   ]
  },
  {
   "cell_type": "code",
   "execution_count": 100,
   "id": "45c75f97",
   "metadata": {},
   "outputs": [
    {
     "data": {
      "image/png": "[encoded data removed]",
      "text/plain": [
       "<Figure size 432x288 with 1 Axes>"
      ]
     },
     "metadata": {},
     "output_type": "display_data"
    }
   ],
   "source": [
    "sgt.plot_acf(df.market_value, unbiased = True, zero = False, lags = 40)\n",
    "plt.title(\"Autocorrelation Function for Prices\")\n",
    "plt.show()"
   ]
  },
  {
   "cell_type": "markdown",
   "id": "362ff3cd",
   "metadata": {},
   "source": [
    "##### NOTE - The ACF graph above suggests that we use a MA(infinite) model which does not exist but it is equivalent to a simple AR model. Therefore, as long as we include AR components, we should be able to describe the data well."
   ]
  },
  {
   "cell_type": "code",
   "execution_count": 101,
   "id": "42bc4e5b",
   "metadata": {},
   "outputs": [
    {
     "data": {
      "image/png": "[encoded data removed]",
      "text/plain": [
       "<Figure size 432x288 with 1 Axes>"
      ]
     },
     "metadata": {},
     "output_type": "display_data"
    }
   ],
   "source": [
    "sgt.plot_pacf(df.market_value, alpha = 0.05, zero = False, lags = 40, method = ('ols'))\n",
    "plt.title(\"Autocorrelation Function for Prices\", size = 20)\n",
    "plt.show()"
   ]
  },
  {
   "cell_type": "code",
   "execution_count": 102,
   "id": "c2c81d2f",
   "metadata": {},
   "outputs": [
    {
     "name": "stderr",
     "output_type": "stream",
     "text": [
      " This problem is unconstrained.\n"
     ]
    },
    {
     "name": "stdout",
     "output_type": "stream",
     "text": [
      "RUNNING THE L-BFGS-B CODE\n",
      "\n",
      "           * * *\n",
      "\n",
      "Machine precision = 2.220D-16\n",
      " N =            3     M =           12\n",
      "\n",
      "At X0         0 variables are exactly at the bounds\n",
      "\n",
      "At iterate    0    f=  5.50137D+00    |proj g|=  1.93801D-04\n",
      "\n",
      "At iterate    5    f=  5.50135D+00    |proj g|=  1.24345D-06\n",
      "\n",
      "           * * *\n",
      "\n",
      "Tit   = total number of iterations\n",
      "Tnf   = total number of function evaluations\n",
      "Tnint = total number of segments explored during Cauchy searches\n",
      "Skip  = number of BFGS updates skipped\n",
      "Nact  = number of active bounds at final generalized Cauchy point\n",
      "Projg = norm of the final projected gradient\n",
      "F     = final function value\n",
      "\n",
      "           * * *\n",
      "\n",
      "   N    Tit     Tnf  Tnint  Skip  Nact     Projg        F\n",
      "    3      7     11      1     0     0   2.665D-07   5.501D+00\n",
      "  F =   5.5013519904828758     \n",
      "\n",
      "CONVERGENCE: REL_REDUCTION_OF_F_<=_FACTR*EPSMCH             \n"
     ]
    },
    {
     "data": {
      "text/html": [
       "<table class=\"simpletable\">\n",
       "<caption>ARMA Model Results</caption>\n",
       "<tr>\n",
       "  <th>Dep. Variable:</th>   <td>market_value</td>   <th>  No. Observations:  </th>    <td>5020</td>   \n",
       "</tr>\n",
       "<tr>\n",
       "  <th>Model:</th>            <td>ARMA(1, 1)</td>    <th>  Log Likelihood     </th> <td>-27616.787</td>\n",
       "</tr>\n",
       "<tr>\n",
       "  <th>Method:</th>             <td>css-mle</td>     <th>  S.D. of innovations</th>   <td>59.254</td>  \n",
       "</tr>\n",
       "<tr>\n",
       "  <th>Date:</th>          <td>Thu, 20 Jan 2022</td> <th>  AIC                </th>  <td>55241.574</td>\n",
       "</tr>\n",
       "<tr>\n",
       "  <th>Time:</th>              <td>16:42:59</td>     <th>  BIC                </th>  <td>55267.659</td>\n",
       "</tr>\n",
       "<tr>\n",
       "  <th>Sample:</th>           <td>01-10-1994</td>    <th>  HQIC               </th>  <td>55250.714</td>\n",
       "</tr>\n",
       "<tr>\n",
       "  <th></th>                 <td>- 04-05-2013</td>   <th>                     </th>      <td> </td>    \n",
       "</tr>\n",
       "</table>\n",
       "<table class=\"simpletable\">\n",
       "<tr>\n",
       "           <td></td>             <th>coef</th>     <th>std err</th>      <th>z</th>      <th>P>|z|</th>  <th>[0.025</th>    <th>0.975]</th>  \n",
       "</tr>\n",
       "<tr>\n",
       "  <th>const</th>              <td> 5089.9686</td> <td>  497.166</td> <td>   10.238</td> <td> 0.000</td> <td> 4115.541</td> <td> 6064.396</td>\n",
       "</tr>\n",
       "<tr>\n",
       "  <th>ar.L1.market_value</th> <td>    0.9985</td> <td>    0.001</td> <td> 1322.831</td> <td> 0.000</td> <td>    0.997</td> <td>    1.000</td>\n",
       "</tr>\n",
       "<tr>\n",
       "  <th>ma.L1.market_value</th> <td>   -0.0190</td> <td>    0.015</td> <td>   -1.274</td> <td> 0.203</td> <td>   -0.048</td> <td>    0.010</td>\n",
       "</tr>\n",
       "</table>\n",
       "<table class=\"simpletable\">\n",
       "<caption>Roots</caption>\n",
       "<tr>\n",
       "    <td></td>   <th>            Real</th>  <th>         Imaginary</th> <th>         Modulus</th>  <th>        Frequency</th>\n",
       "</tr>\n",
       "<tr>\n",
       "  <th>AR.1</th> <td>           1.0015</td> <td>          +0.0000j</td> <td>           1.0015</td> <td>           0.0000</td>\n",
       "</tr>\n",
       "<tr>\n",
       "  <th>MA.1</th> <td>          52.5025</td> <td>          +0.0000j</td> <td>          52.5025</td> <td>           0.0000</td>\n",
       "</tr>\n",
       "</table>"
      ],
      "text/plain": [
       "<class 'statsmodels.iolib.summary.Summary'>\n",
       "\"\"\"\n",
       "                              ARMA Model Results                              \n",
       "==============================================================================\n",
       "Dep. Variable:           market_value   No. Observations:                 5020\n",
       "Model:                     ARMA(1, 1)   Log Likelihood              -27616.787\n",
       "Method:                       css-mle   S.D. of innovations             59.254\n",
       "Date:                Thu, 20 Jan 2022   AIC                          55241.574\n",
       "Time:                        16:42:59   BIC                          55267.659\n",
       "Sample:                    01-10-1994   HQIC                         55250.714\n",
       "                         - 04-05-2013                                         \n",
       "======================================================================================\n",
       "                         coef    std err          z      P>|z|      [0.025      0.975]\n",
       "--------------------------------------------------------------------------------------\n",
       "const               5089.9686    497.166     10.238      0.000    4115.541    6064.396\n",
       "ar.L1.market_value     0.9985      0.001   1322.831      0.000       0.997       1.000\n",
       "ma.L1.market_value    -0.0190      0.015     -1.274      0.203      -0.048       0.010\n",
       "                                    Roots                                    \n",
       "=============================================================================\n",
       "                  Real          Imaginary           Modulus         Frequency\n",
       "-----------------------------------------------------------------------------\n",
       "AR.1            1.0015           +0.0000j            1.0015            0.0000\n",
       "MA.1           52.5025           +0.0000j           52.5025            0.0000\n",
       "-----------------------------------------------------------------------------\n",
       "\"\"\""
      ]
     },
     "execution_count": 102,
     "metadata": {},
     "output_type": "execute_result"
    }
   ],
   "source": [
    "model_ar_1_ma_1 = ARMA(df.market_value, order = (1,1))\n",
    "results_ar_1_ma_1 = model_ar_1_ma_1.fit()\n",
    "results_ar_1_ma_1.summary()"
   ]
  },
  {
   "cell_type": "markdown",
   "id": "24a65edb",
   "metadata": {},
   "source": [
    "Since, `ma.L1.market_value is not significant`. This indicates that the simple model is not the best fit.\n",
    "\n",
    "##### NOTE - To avoid the same mistake, we want to analyse the residuals before examining our over-parametrized model."
   ]
  },
  {
   "cell_type": "code",
   "execution_count": 103,
   "id": "141ed818",
   "metadata": {},
   "outputs": [],
   "source": [
    "df['res_ar_1_ma_1'] = results_ar_1_ma_1.resid"
   ]
  },
  {
   "cell_type": "code",
   "execution_count": 104,
   "id": "8171a973",
   "metadata": {},
   "outputs": [
    {
     "data": {
      "image/png": "[encoded data removed]",
      "text/plain": [
       "<Figure size 432x288 with 1 Axes>"
      ]
     },
     "metadata": {},
     "output_type": "display_data"
    }
   ],
   "source": [
    "sgt.plot_acf(df.res_ar_1_ma_1, zero = False, lags = 40)\n",
    "plt.title(\"ACF Of Residuals Of Prices\", size = 20)\n",
    "plt.show()"
   ]
  },
  {
   "cell_type": "code",
   "execution_count": 108,
   "id": "d24718a1",
   "metadata": {},
   "outputs": [
    {
     "name": "stderr",
     "output_type": "stream",
     "text": [
      " This problem is unconstrained.\n"
     ]
    },
    {
     "name": "stdout",
     "output_type": "stream",
     "text": [
      "RUNNING THE L-BFGS-B CODE\n",
      "\n",
      "           * * *\n",
      "\n",
      "Machine precision = 2.220D-16\n",
      " N =           13     M =           12\n",
      "\n",
      "At X0         0 variables are exactly at the bounds\n",
      "\n",
      "At iterate    0    f=  5.49465D+00    |proj g|=  8.98126D-04\n",
      "\n",
      "At iterate    5    f=  5.49463D+00    |proj g|=  6.21103D-04\n",
      "\n",
      "At iterate   10    f=  5.49462D+00    |proj g|=  5.50493D-04\n",
      "\n",
      "At iterate   15    f=  5.49462D+00    |proj g|=  1.63158D-04\n",
      "\n",
      "At iterate   20    f=  5.49462D+00    |proj g|=  2.66276D-04\n",
      "\n",
      "At iterate   25    f=  5.49461D+00    |proj g|=  1.14486D-04\n",
      "\n",
      "At iterate   30    f=  5.49461D+00    |proj g|=  9.14824D-05\n",
      "\n",
      "At iterate   35    f=  5.49461D+00    |proj g|=  2.42917D-04\n",
      "\n",
      "At iterate   40    f=  5.49461D+00    |proj g|=  4.19220D-05\n",
      "\n",
      "At iterate   45    f=  5.49461D+00    |proj g|=  2.48246D-04\n",
      "\n",
      "At iterate   50    f=  5.49461D+00    |proj g|=  2.17248D-04\n",
      "\n",
      "At iterate   55    f=  5.49461D+00    |proj g|=  1.32339D-05\n",
      "\n",
      "At iterate   60    f=  5.49461D+00    |proj g|=  1.21680D-05\n",
      "\n",
      "At iterate   65    f=  5.49461D+00    |proj g|=  9.68114D-06\n",
      "\n",
      "At iterate   70    f=  5.49461D+00    |proj g|=  2.23821D-05\n",
      "\n",
      "At iterate   75    f=  5.49461D+00    |proj g|=  1.18128D-05\n",
      "\n",
      "At iterate   80    f=  5.49461D+00    |proj g|=  1.73195D-05\n",
      "\n",
      "At iterate   85    f=  5.49461D+00    |proj g|=  1.36602D-04\n",
      "\n",
      "At iterate   90    f=  5.49461D+00    |proj g|=  3.43725D-05\n",
      "\n",
      "At iterate   95    f=  5.49461D+00    |proj g|=  1.67866D-05\n",
      "\n",
      "At iterate  100    f=  5.49461D+00    |proj g|=  5.32019D-05\n",
      "\n",
      "At iterate  105    f=  5.49461D+00    |proj g|=  2.46914D-05\n",
      "\n",
      "At iterate  110    f=  5.49461D+00    |proj g|=  9.85878D-06\n",
      "\n",
      "At iterate  115    f=  5.49461D+00    |proj g|=  7.72715D-06\n",
      "\n",
      "At iterate  120    f=  5.49461D+00    |proj g|=  1.24345D-05\n",
      "\n",
      "At iterate  125    f=  5.49461D+00    |proj g|=  1.21680D-05\n",
      "\n",
      "At iterate  130    f=  5.49461D+00    |proj g|=  6.83897D-06\n",
      "\n",
      "At iterate  135    f=  5.49461D+00    |proj g|=  8.17124D-06\n",
      "\n",
      "At iterate  140    f=  5.49461D+00    |proj g|=  3.19744D-06\n",
      "\n",
      "At iterate  145    f=  5.49461D+00    |proj g|=  3.01981D-06\n",
      "\n",
      "At iterate  150    f=  5.49461D+00    |proj g|=  2.77112D-05\n",
      "\n",
      "At iterate  155    f=  5.49461D+00    |proj g|=  4.17444D-06\n",
      "\n",
      "At iterate  160    f=  5.49461D+00    |proj g|=  5.24025D-06\n",
      "\n",
      "At iterate  165    f=  5.49461D+00    |proj g|=  1.59872D-06\n",
      "\n",
      "At iterate  170    f=  5.49461D+00    |proj g|=  6.66134D-06\n",
      "\n",
      "At iterate  175    f=  5.49461D+00    |proj g|=  3.28626D-06\n",
      "\n",
      "At iterate  180    f=  5.49461D+00    |proj g|=  1.06581D-05\n",
      "\n",
      "At iterate  185    f=  5.49461D+00    |proj g|=  1.33227D-06\n",
      "\n",
      "           * * *\n",
      "\n",
      "Tit   = total number of iterations\n",
      "Tnf   = total number of function evaluations\n",
      "Tnint = total number of segments explored during Cauchy searches\n",
      "Skip  = number of BFGS updates skipped\n",
      "Nact  = number of active bounds at final generalized Cauchy point\n",
      "Projg = norm of the final projected gradient\n",
      "F     = final function value\n",
      "\n",
      "           * * *\n",
      "\n",
      "   N    Tit     Tnf  Tnint  Skip  Nact     Projg        F\n",
      "   13    188    240      1     0     0   1.243D-06   5.495D+00\n",
      "  F =   5.4946082995802072     \n",
      "\n",
      "CONVERGENCE: REL_REDUCTION_OF_F_<=_FACTR*EPSMCH             \n"
     ]
    },
    {
     "data": {
      "text/html": [
       "<table class=\"simpletable\">\n",
       "<caption>ARMA Model Results</caption>\n",
       "<tr>\n",
       "  <th>Dep. Variable:</th>   <td>market_value</td>   <th>  No. Observations:  </th>    <td>5020</td>   \n",
       "</tr>\n",
       "<tr>\n",
       "  <th>Model:</th>            <td>ARMA(6, 6)</td>    <th>  Log Likelihood     </th> <td>-27582.934</td>\n",
       "</tr>\n",
       "<tr>\n",
       "  <th>Method:</th>             <td>css-mle</td>     <th>  S.D. of innovations</th>   <td>58.855</td>  \n",
       "</tr>\n",
       "<tr>\n",
       "  <th>Date:</th>          <td>Thu, 20 Jan 2022</td> <th>  AIC                </th>  <td>55193.867</td>\n",
       "</tr>\n",
       "<tr>\n",
       "  <th>Time:</th>              <td>16:49:35</td>     <th>  BIC                </th>  <td>55285.164</td>\n",
       "</tr>\n",
       "<tr>\n",
       "  <th>Sample:</th>           <td>01-10-1994</td>    <th>  HQIC               </th>  <td>55225.859</td>\n",
       "</tr>\n",
       "<tr>\n",
       "  <th></th>                 <td>- 04-05-2013</td>   <th>                     </th>      <td> </td>    \n",
       "</tr>\n",
       "</table>\n",
       "<table class=\"simpletable\">\n",
       "<tr>\n",
       "           <td></td>             <th>coef</th>     <th>std err</th>      <th>z</th>      <th>P>|z|</th>  <th>[0.025</th>    <th>0.975]</th>  \n",
       "</tr>\n",
       "<tr>\n",
       "  <th>const</th>              <td> 5089.9712</td> <td>  569.262</td> <td>    8.941</td> <td> 0.000</td> <td> 3974.239</td> <td> 6205.704</td>\n",
       "</tr>\n",
       "<tr>\n",
       "  <th>ar.L1.market_value</th> <td>    1.9279</td> <td>    0.032</td> <td>   60.574</td> <td> 0.000</td> <td>    1.866</td> <td>    1.990</td>\n",
       "</tr>\n",
       "<tr>\n",
       "  <th>ar.L2.market_value</th> <td>   -1.7363</td> <td>    0.040</td> <td>  -43.802</td> <td> 0.000</td> <td>   -1.814</td> <td>   -1.659</td>\n",
       "</tr>\n",
       "<tr>\n",
       "  <th>ar.L3.market_value</th> <td>    1.2684</td> <td>    0.034</td> <td>   37.116</td> <td> 0.000</td> <td>    1.201</td> <td>    1.335</td>\n",
       "</tr>\n",
       "<tr>\n",
       "  <th>ar.L4.market_value</th> <td>   -0.2380</td> <td>    0.161</td> <td>   -1.476</td> <td> 0.140</td> <td>   -0.554</td> <td>    0.078</td>\n",
       "</tr>\n",
       "<tr>\n",
       "  <th>ar.L5.market_value</th> <td>   -0.4058</td> <td>    0.168</td> <td>   -2.412</td> <td> 0.016</td> <td>   -0.736</td> <td>   -0.076</td>\n",
       "</tr>\n",
       "<tr>\n",
       "  <th>ar.L6.market_value</th> <td>    0.1836</td> <td>    0.049</td> <td>    3.783</td> <td> 0.000</td> <td>    0.088</td> <td>    0.279</td>\n",
       "</tr>\n",
       "<tr>\n",
       "  <th>ma.L1.market_value</th> <td>   -0.9490</td> <td>    0.035</td> <td>  -27.292</td> <td> 0.000</td> <td>   -1.017</td> <td>   -0.881</td>\n",
       "</tr>\n",
       "<tr>\n",
       "  <th>ma.L2.market_value</th> <td>    0.7800</td> <td>    0.032</td> <td>   24.278</td> <td> 0.000</td> <td>    0.717</td> <td>    0.843</td>\n",
       "</tr>\n",
       "<tr>\n",
       "  <th>ma.L3.market_value</th> <td>   -0.5091</td> <td>    0.031</td> <td>  -16.431</td> <td> 0.000</td> <td>   -0.570</td> <td>   -0.448</td>\n",
       "</tr>\n",
       "<tr>\n",
       "  <th>ma.L4.market_value</th> <td>   -0.1561</td> <td>    0.162</td> <td>   -0.963</td> <td> 0.335</td> <td>   -0.474</td> <td>    0.161</td>\n",
       "</tr>\n",
       "<tr>\n",
       "  <th>ma.L5.market_value</th> <td>    0.0948</td> <td>    0.056</td> <td>    1.680</td> <td> 0.093</td> <td>   -0.016</td> <td>    0.205</td>\n",
       "</tr>\n",
       "<tr>\n",
       "  <th>ma.L6.market_value</th> <td>    0.0671</td> <td>    0.024</td> <td>    2.778</td> <td> 0.005</td> <td>    0.020</td> <td>    0.114</td>\n",
       "</tr>\n",
       "</table>\n",
       "<table class=\"simpletable\">\n",
       "<caption>Roots</caption>\n",
       "<tr>\n",
       "    <td></td>   <th>            Real</th>  <th>         Imaginary</th> <th>         Modulus</th>  <th>        Frequency</th>\n",
       "</tr>\n",
       "<tr>\n",
       "  <th>AR.1</th> <td>           0.0857</td> <td>          -1.0502j</td> <td>           1.0537</td> <td>          -0.2370</td>\n",
       "</tr>\n",
       "<tr>\n",
       "  <th>AR.2</th> <td>           0.0857</td> <td>          +1.0502j</td> <td>           1.0537</td> <td>           0.2370</td>\n",
       "</tr>\n",
       "<tr>\n",
       "  <th>AR.3</th> <td>          -2.0271</td> <td>          -0.0000j</td> <td>           2.0271</td> <td>          -0.5000</td>\n",
       "</tr>\n",
       "<tr>\n",
       "  <th>AR.4</th> <td>           1.0011</td> <td>          -0.0000j</td> <td>           1.0011</td> <td>          -0.0000</td>\n",
       "</tr>\n",
       "<tr>\n",
       "  <th>AR.5</th> <td>           1.5328</td> <td>          -0.2616j</td> <td>           1.5549</td> <td>          -0.0269</td>\n",
       "</tr>\n",
       "<tr>\n",
       "  <th>AR.6</th> <td>           1.5328</td> <td>          +0.2616j</td> <td>           1.5549</td> <td>           0.0269</td>\n",
       "</tr>\n",
       "<tr>\n",
       "  <th>MA.1</th> <td>           0.1028</td> <td>          -1.0612j</td> <td>           1.0662</td> <td>          -0.2346</td>\n",
       "</tr>\n",
       "<tr>\n",
       "  <th>MA.2</th> <td>           0.1028</td> <td>          +1.0612j</td> <td>           1.0662</td> <td>           0.2346</td>\n",
       "</tr>\n",
       "<tr>\n",
       "  <th>MA.3</th> <td>           1.3629</td> <td>          -0.2775j</td> <td>           1.3908</td> <td>          -0.0320</td>\n",
       "</tr>\n",
       "<tr>\n",
       "  <th>MA.4</th> <td>           1.3629</td> <td>          +0.2775j</td> <td>           1.3908</td> <td>           0.0320</td>\n",
       "</tr>\n",
       "<tr>\n",
       "  <th>MA.5</th> <td>          -2.1721</td> <td>          -1.4349j</td> <td>           2.6033</td> <td>          -0.4071</td>\n",
       "</tr>\n",
       "<tr>\n",
       "  <th>MA.6</th> <td>          -2.1721</td> <td>          +1.4349j</td> <td>           2.6033</td> <td>           0.4071</td>\n",
       "</tr>\n",
       "</table>"
      ],
      "text/plain": [
       "<class 'statsmodels.iolib.summary.Summary'>\n",
       "\"\"\"\n",
       "                              ARMA Model Results                              \n",
       "==============================================================================\n",
       "Dep. Variable:           market_value   No. Observations:                 5020\n",
       "Model:                     ARMA(6, 6)   Log Likelihood              -27582.934\n",
       "Method:                       css-mle   S.D. of innovations             58.855\n",
       "Date:                Thu, 20 Jan 2022   AIC                          55193.867\n",
       "Time:                        16:49:35   BIC                          55285.164\n",
       "Sample:                    01-10-1994   HQIC                         55225.859\n",
       "                         - 04-05-2013                                         \n",
       "======================================================================================\n",
       "                         coef    std err          z      P>|z|      [0.025      0.975]\n",
       "--------------------------------------------------------------------------------------\n",
       "const               5089.9712    569.262      8.941      0.000    3974.239    6205.704\n",
       "ar.L1.market_value     1.9279      0.032     60.574      0.000       1.866       1.990\n",
       "ar.L2.market_value    -1.7363      0.040    -43.802      0.000      -1.814      -1.659\n",
       "ar.L3.market_value     1.2684      0.034     37.116      0.000       1.201       1.335\n",
       "ar.L4.market_value    -0.2380      0.161     -1.476      0.140      -0.554       0.078\n",
       "ar.L5.market_value    -0.4058      0.168     -2.412      0.016      -0.736      -0.076\n",
       "ar.L6.market_value     0.1836      0.049      3.783      0.000       0.088       0.279\n",
       "ma.L1.market_value    -0.9490      0.035    -27.292      0.000      -1.017      -0.881\n",
       "ma.L2.market_value     0.7800      0.032     24.278      0.000       0.717       0.843\n",
       "ma.L3.market_value    -0.5091      0.031    -16.431      0.000      -0.570      -0.448\n",
       "ma.L4.market_value    -0.1561      0.162     -0.963      0.335      -0.474       0.161\n",
       "ma.L5.market_value     0.0948      0.056      1.680      0.093      -0.016       0.205\n",
       "ma.L6.market_value     0.0671      0.024      2.778      0.005       0.020       0.114\n",
       "                                    Roots                                    \n",
       "=============================================================================\n",
       "                  Real          Imaginary           Modulus         Frequency\n",
       "-----------------------------------------------------------------------------\n",
       "AR.1            0.0857           -1.0502j            1.0537           -0.2370\n",
       "AR.2            0.0857           +1.0502j            1.0537            0.2370\n",
       "AR.3           -2.0271           -0.0000j            2.0271           -0.5000\n",
       "AR.4            1.0011           -0.0000j            1.0011           -0.0000\n",
       "AR.5            1.5328           -0.2616j            1.5549           -0.0269\n",
       "AR.6            1.5328           +0.2616j            1.5549            0.0269\n",
       "MA.1            0.1028           -1.0612j            1.0662           -0.2346\n",
       "MA.2            0.1028           +1.0612j            1.0662            0.2346\n",
       "MA.3            1.3629           -0.2775j            1.3908           -0.0320\n",
       "MA.4            1.3629           +0.2775j            1.3908            0.0320\n",
       "MA.5           -2.1721           -1.4349j            2.6033           -0.4071\n",
       "MA.6           -2.1721           +1.4349j            2.6033            0.4071\n",
       "-----------------------------------------------------------------------------\n",
       "\"\"\""
      ]
     },
     "execution_count": 108,
     "metadata": {},
     "output_type": "execute_result"
    }
   ],
   "source": [
    "model_ar_6_ma_6 = ARMA(df.market_value, order = (6,6))\n",
    "results_ar_6_ma_6 = model_ar_6_ma_6.fit(start_ar_lags = 11)\n",
    "results_ar_6_ma_6.summary()"
   ]
  },
  {
   "cell_type": "markdown",
   "id": "e9e1bdc4",
   "metadata": {},
   "source": [
    "##### NOTE - \n",
    "`ARMA(4,6)` contains `only a single non-significant coefficient` and its `P value > 6%`. Therefore, if we were using `10% significance instead of  5%`, ARMA(4,6) would also contain only significant coefficients. However, since analysis often requires `higher precision`, we'll admit it from the analysis and concentrate on the ARMA(5,6) and ARMA(6,1) models."
   ]
  },
  {
   "cell_type": "code",
   "execution_count": 109,
   "id": "6b0de33f",
   "metadata": {},
   "outputs": [
    {
     "name": "stdout",
     "output_type": "stream",
     "text": [
      "RUNNING THE L-BFGS-B CODE\n",
      "\n",
      "           * * *\n",
      "\n",
      "Machine precision = 2.220D-16\n",
      " N =           12     M =           12\n",
      "\n",
      "At X0         0 variables are exactly at the bounds\n",
      "\n",
      "At iterate    0    f=  5.49464D+00    |proj g|=  1.33591D-03\n",
      "\n",
      "At iterate    5    f=  5.49463D+00    |proj g|=  7.66320D-04\n"
     ]
    },
    {
     "name": "stderr",
     "output_type": "stream",
     "text": [
      " This problem is unconstrained.\n"
     ]
    },
    {
     "name": "stdout",
     "output_type": "stream",
     "text": [
      "\n",
      "At iterate   10    f=  5.49462D+00    |proj g|=  4.12914D-04\n",
      "\n",
      "At iterate   15    f=  5.49460D+00    |proj g|=  2.17888D-03\n",
      "\n",
      "At iterate   20    f=  5.49460D+00    |proj g|=  6.56364D-05\n",
      "\n",
      "At iterate   25    f=  5.49460D+00    |proj g|=  6.16041D-04\n",
      "\n",
      "At iterate   30    f=  5.49460D+00    |proj g|=  1.14575D-05\n",
      "\n",
      "At iterate   35    f=  5.49460D+00    |proj g|=  4.23661D-05\n",
      "\n",
      "At iterate   40    f=  5.49460D+00    |proj g|=  1.11200D-04\n",
      "\n",
      "At iterate   45    f=  5.49460D+00    |proj g|=  3.19567D-04\n",
      "\n",
      "At iterate   50    f=  5.49460D+00    |proj g|=  9.51239D-05\n",
      "\n",
      "At iterate   55    f=  5.49460D+00    |proj g|=  3.93463D-05\n",
      "\n",
      "At iterate   60    f=  5.49460D+00    |proj g|=  1.21680D-05\n",
      "\n",
      "At iterate   65    f=  5.49460D+00    |proj g|=  2.41585D-05\n",
      "\n",
      "At iterate   70    f=  5.49460D+00    |proj g|=  4.91163D-05\n",
      "\n",
      "At iterate   75    f=  5.49460D+00    |proj g|=  6.64269D-04\n",
      "\n",
      "At iterate   80    f=  5.49459D+00    |proj g|=  3.90177D-04\n",
      "\n",
      "At iterate   85    f=  5.49459D+00    |proj g|=  8.74856D-05\n",
      "\n",
      "At iterate   90    f=  5.49459D+00    |proj g|=  8.87290D-05\n",
      "\n",
      "At iterate   95    f=  5.49459D+00    |proj g|=  1.05604D-04\n",
      "\n",
      "At iterate  100    f=  5.49459D+00    |proj g|=  2.75335D-05\n",
      "\n",
      "At iterate  105    f=  5.49459D+00    |proj g|=  6.21725D-06\n",
      "\n",
      "At iterate  110    f=  5.49459D+00    |proj g|=  3.01981D-06\n",
      "\n",
      "At iterate  115    f=  5.49459D+00    |proj g|=  1.02141D-05\n",
      "\n",
      "           * * *\n",
      "\n",
      "Tit   = total number of iterations\n",
      "Tnf   = total number of function evaluations\n",
      "Tnint = total number of segments explored during Cauchy searches\n",
      "Skip  = number of BFGS updates skipped\n",
      "Nact  = number of active bounds at final generalized Cauchy point\n",
      "Projg = norm of the final projected gradient\n",
      "F     = final function value\n",
      "\n",
      "           * * *\n",
      "\n",
      "   N    Tit     Tnf  Tnint  Skip  Nact     Projg        F\n",
      "   12    118    145      1     0     0   3.375D-06   5.495D+00\n",
      "  F =   5.4945944654728160     \n",
      "\n",
      "CONVERGENCE: REL_REDUCTION_OF_F_<=_FACTR*EPSMCH             \n"
     ]
    },
    {
     "data": {
      "text/html": [
       "<table class=\"simpletable\">\n",
       "<caption>ARMA Model Results</caption>\n",
       "<tr>\n",
       "  <th>Dep. Variable:</th>   <td>market_value</td>   <th>  No. Observations:  </th>    <td>5020</td>   \n",
       "</tr>\n",
       "<tr>\n",
       "  <th>Model:</th>            <td>ARMA(5, 6)</td>    <th>  Log Likelihood     </th> <td>-27582.864</td>\n",
       "</tr>\n",
       "<tr>\n",
       "  <th>Method:</th>             <td>css-mle</td>     <th>  S.D. of innovations</th>   <td>58.854</td>  \n",
       "</tr>\n",
       "<tr>\n",
       "  <th>Date:</th>          <td>Thu, 20 Jan 2022</td> <th>  AIC                </th>  <td>55191.728</td>\n",
       "</tr>\n",
       "<tr>\n",
       "  <th>Time:</th>              <td>17:09:31</td>     <th>  BIC                </th>  <td>55276.504</td>\n",
       "</tr>\n",
       "<tr>\n",
       "  <th>Sample:</th>           <td>01-10-1994</td>    <th>  HQIC               </th>  <td>55221.435</td>\n",
       "</tr>\n",
       "<tr>\n",
       "  <th></th>                 <td>- 04-05-2013</td>   <th>                     </th>      <td> </td>    \n",
       "</tr>\n",
       "</table>\n",
       "<table class=\"simpletable\">\n",
       "<tr>\n",
       "           <td></td>             <th>coef</th>     <th>std err</th>      <th>z</th>      <th>P>|z|</th>  <th>[0.025</th>    <th>0.975]</th>  \n",
       "</tr>\n",
       "<tr>\n",
       "  <th>const</th>              <td> 5089.9786</td> <td>  581.607</td> <td>    8.752</td> <td> 0.000</td> <td> 3950.050</td> <td> 6229.908</td>\n",
       "</tr>\n",
       "<tr>\n",
       "  <th>ar.L1.market_value</th> <td>    1.3589</td> <td>    0.177</td> <td>    7.686</td> <td> 0.000</td> <td>    1.012</td> <td>    1.705</td>\n",
       "</tr>\n",
       "<tr>\n",
       "  <th>ar.L2.market_value</th> <td>   -1.1294</td> <td>    0.236</td> <td>   -4.781</td> <td> 0.000</td> <td>   -1.592</td> <td>   -0.666</td>\n",
       "</tr>\n",
       "<tr>\n",
       "  <th>ar.L3.market_value</th> <td>    0.9152</td> <td>    0.228</td> <td>    4.017</td> <td> 0.000</td> <td>    0.469</td> <td>    1.362</td>\n",
       "</tr>\n",
       "<tr>\n",
       "  <th>ar.L4.market_value</th> <td>    0.0155</td> <td>    0.203</td> <td>    0.076</td> <td> 0.939</td> <td>   -0.382</td> <td>    0.413</td>\n",
       "</tr>\n",
       "<tr>\n",
       "  <th>ar.L5.market_value</th> <td>   -0.1613</td> <td>    0.119</td> <td>   -1.353</td> <td> 0.176</td> <td>   -0.395</td> <td>    0.072</td>\n",
       "</tr>\n",
       "<tr>\n",
       "  <th>ma.L1.market_value</th> <td>   -0.3800</td> <td>    0.177</td> <td>   -2.144</td> <td> 0.032</td> <td>   -0.727</td> <td>   -0.033</td>\n",
       "</tr>\n",
       "<tr>\n",
       "  <th>ma.L2.market_value</th> <td>    0.7294</td> <td>    0.125</td> <td>    5.839</td> <td> 0.000</td> <td>    0.485</td> <td>    0.974</td>\n",
       "</tr>\n",
       "<tr>\n",
       "  <th>ma.L3.market_value</th> <td>   -0.2201</td> <td>    0.152</td> <td>   -1.446</td> <td> 0.148</td> <td>   -0.519</td> <td>    0.078</td>\n",
       "</tr>\n",
       "<tr>\n",
       "  <th>ma.L4.market_value</th> <td>   -0.1387</td> <td>    0.114</td> <td>   -1.216</td> <td> 0.224</td> <td>   -0.362</td> <td>    0.085</td>\n",
       "</tr>\n",
       "<tr>\n",
       "  <th>ma.L5.market_value</th> <td>   -0.0879</td> <td>    0.017</td> <td>   -5.324</td> <td> 0.000</td> <td>   -0.120</td> <td>   -0.056</td>\n",
       "</tr>\n",
       "<tr>\n",
       "  <th>ma.L6.market_value</th> <td>    0.0266</td> <td>    0.023</td> <td>    1.133</td> <td> 0.257</td> <td>   -0.019</td> <td>    0.073</td>\n",
       "</tr>\n",
       "</table>\n",
       "<table class=\"simpletable\">\n",
       "<caption>Roots</caption>\n",
       "<tr>\n",
       "    <td></td>   <th>            Real</th>  <th>         Imaginary</th> <th>         Modulus</th>  <th>        Frequency</th>\n",
       "</tr>\n",
       "<tr>\n",
       "  <th>AR.1</th> <td>           0.0917</td> <td>          -1.0418j</td> <td>           1.0459</td> <td>          -0.2360</td>\n",
       "</tr>\n",
       "<tr>\n",
       "  <th>AR.2</th> <td>           0.0917</td> <td>          +1.0418j</td> <td>           1.0459</td> <td>           0.2360</td>\n",
       "</tr>\n",
       "<tr>\n",
       "  <th>AR.3</th> <td>           1.0010</td> <td>          -0.0000j</td> <td>           1.0010</td> <td>          -0.0000</td>\n",
       "</tr>\n",
       "<tr>\n",
       "  <th>AR.4</th> <td>           1.8970</td> <td>          -0.0000j</td> <td>           1.8970</td> <td>          -0.0000</td>\n",
       "</tr>\n",
       "<tr>\n",
       "  <th>AR.5</th> <td>          -2.9854</td> <td>          -0.0000j</td> <td>           2.9854</td> <td>          -0.5000</td>\n",
       "</tr>\n",
       "<tr>\n",
       "  <th>MA.1</th> <td>           0.1071</td> <td>          -1.0487j</td> <td>           1.0542</td> <td>          -0.2338</td>\n",
       "</tr>\n",
       "<tr>\n",
       "  <th>MA.2</th> <td>           0.1071</td> <td>          +1.0487j</td> <td>           1.0542</td> <td>           0.2338</td>\n",
       "</tr>\n",
       "<tr>\n",
       "  <th>MA.3</th> <td>          -1.5349</td> <td>          -1.5156j</td> <td>           2.1571</td> <td>          -0.3760</td>\n",
       "</tr>\n",
       "<tr>\n",
       "  <th>MA.4</th> <td>          -1.5349</td> <td>          +1.5156j</td> <td>           2.1571</td> <td>           0.3760</td>\n",
       "</tr>\n",
       "<tr>\n",
       "  <th>MA.5</th> <td>           1.5916</td> <td>          -0.0000j</td> <td>           1.5916</td> <td>          -0.0000</td>\n",
       "</tr>\n",
       "<tr>\n",
       "  <th>MA.6</th> <td>           4.5704</td> <td>          -0.0000j</td> <td>           4.5704</td> <td>          -0.0000</td>\n",
       "</tr>\n",
       "</table>"
      ],
      "text/plain": [
       "<class 'statsmodels.iolib.summary.Summary'>\n",
       "\"\"\"\n",
       "                              ARMA Model Results                              \n",
       "==============================================================================\n",
       "Dep. Variable:           market_value   No. Observations:                 5020\n",
       "Model:                     ARMA(5, 6)   Log Likelihood              -27582.864\n",
       "Method:                       css-mle   S.D. of innovations             58.854\n",
       "Date:                Thu, 20 Jan 2022   AIC                          55191.728\n",
       "Time:                        17:09:31   BIC                          55276.504\n",
       "Sample:                    01-10-1994   HQIC                         55221.435\n",
       "                         - 04-05-2013                                         \n",
       "======================================================================================\n",
       "                         coef    std err          z      P>|z|      [0.025      0.975]\n",
       "--------------------------------------------------------------------------------------\n",
       "const               5089.9786    581.607      8.752      0.000    3950.050    6229.908\n",
       "ar.L1.market_value     1.3589      0.177      7.686      0.000       1.012       1.705\n",
       "ar.L2.market_value    -1.1294      0.236     -4.781      0.000      -1.592      -0.666\n",
       "ar.L3.market_value     0.9152      0.228      4.017      0.000       0.469       1.362\n",
       "ar.L4.market_value     0.0155      0.203      0.076      0.939      -0.382       0.413\n",
       "ar.L5.market_value    -0.1613      0.119     -1.353      0.176      -0.395       0.072\n",
       "ma.L1.market_value    -0.3800      0.177     -2.144      0.032      -0.727      -0.033\n",
       "ma.L2.market_value     0.7294      0.125      5.839      0.000       0.485       0.974\n",
       "ma.L3.market_value    -0.2201      0.152     -1.446      0.148      -0.519       0.078\n",
       "ma.L4.market_value    -0.1387      0.114     -1.216      0.224      -0.362       0.085\n",
       "ma.L5.market_value    -0.0879      0.017     -5.324      0.000      -0.120      -0.056\n",
       "ma.L6.market_value     0.0266      0.023      1.133      0.257      -0.019       0.073\n",
       "                                    Roots                                    \n",
       "=============================================================================\n",
       "                  Real          Imaginary           Modulus         Frequency\n",
       "-----------------------------------------------------------------------------\n",
       "AR.1            0.0917           -1.0418j            1.0459           -0.2360\n",
       "AR.2            0.0917           +1.0418j            1.0459            0.2360\n",
       "AR.3            1.0010           -0.0000j            1.0010           -0.0000\n",
       "AR.4            1.8970           -0.0000j            1.8970           -0.0000\n",
       "AR.5           -2.9854           -0.0000j            2.9854           -0.5000\n",
       "MA.1            0.1071           -1.0487j            1.0542           -0.2338\n",
       "MA.2            0.1071           +1.0487j            1.0542            0.2338\n",
       "MA.3           -1.5349           -1.5156j            2.1571           -0.3760\n",
       "MA.4           -1.5349           +1.5156j            2.1571            0.3760\n",
       "MA.5            1.5916           -0.0000j            1.5916           -0.0000\n",
       "MA.6            4.5704           -0.0000j            4.5704           -0.0000\n",
       "-----------------------------------------------------------------------------\n",
       "\"\"\""
      ]
     },
     "execution_count": 109,
     "metadata": {},
     "output_type": "execute_result"
    }
   ],
   "source": [
    "model_ar_5_ma_6 = ARMA(df.market_value, order = (5,6))\n",
    "results_ar_5_ma_6 = model_ar_5_ma_6.fit(start_ar_lags = 7)\n",
    "results_ar_5_ma_6.summary()"
   ]
  },
  {
   "cell_type": "code",
   "execution_count": 110,
   "id": "0b04a6a3",
   "metadata": {},
   "outputs": [
    {
     "name": "stderr",
     "output_type": "stream",
     "text": [
      " This problem is unconstrained.\n"
     ]
    },
    {
     "name": "stdout",
     "output_type": "stream",
     "text": [
      "RUNNING THE L-BFGS-B CODE\n",
      "\n",
      "           * * *\n",
      "\n",
      "Machine precision = 2.220D-16\n",
      " N =            8     M =           12\n",
      "\n",
      "At X0         0 variables are exactly at the bounds\n",
      "\n",
      "At iterate    0    f=  5.49588D+00    |proj g|=  3.20810D-04\n",
      "\n",
      "At iterate    5    f=  5.49586D+00    |proj g|=  6.54232D-04\n",
      "\n",
      "At iterate   10    f=  5.49586D+00    |proj g|=  1.19726D-04\n",
      "\n",
      "At iterate   15    f=  5.49586D+00    |proj g|=  4.66205D-04\n",
      "\n",
      "At iterate   20    f=  5.49586D+00    |proj g|=  7.10543D-07\n",
      "\n",
      "At iterate   25    f=  5.49586D+00    |proj g|=  1.77638D-07\n",
      "\n",
      "           * * *\n",
      "\n",
      "Tit   = total number of iterations\n",
      "Tnf   = total number of function evaluations\n",
      "Tnint = total number of segments explored during Cauchy searches\n",
      "Skip  = number of BFGS updates skipped\n",
      "Nact  = number of active bounds at final generalized Cauchy point\n",
      "Projg = norm of the final projected gradient\n",
      "F     = final function value\n",
      "\n",
      "           * * *\n",
      "\n",
      "   N    Tit     Tnf  Tnint  Skip  Nact     Projg        F\n",
      "    8     25     37      1     0     0   1.776D-07   5.496D+00\n",
      "  F =   5.4958550752176665     \n",
      "\n",
      "CONVERGENCE: REL_REDUCTION_OF_F_<=_FACTR*EPSMCH             \n"
     ]
    },
    {
     "data": {
      "text/html": [
       "<table class=\"simpletable\">\n",
       "<caption>ARMA Model Results</caption>\n",
       "<tr>\n",
       "  <th>Dep. Variable:</th>   <td>market_value</td>   <th>  No. Observations:  </th>    <td>5020</td>   \n",
       "</tr>\n",
       "<tr>\n",
       "  <th>Model:</th>            <td>ARMA(6, 1)</td>    <th>  Log Likelihood     </th> <td>-27589.192</td>\n",
       "</tr>\n",
       "<tr>\n",
       "  <th>Method:</th>             <td>css-mle</td>     <th>  S.D. of innovations</th>   <td>58.929</td>  \n",
       "</tr>\n",
       "<tr>\n",
       "  <th>Date:</th>          <td>Thu, 20 Jan 2022</td> <th>  AIC                </th>  <td>55196.385</td>\n",
       "</tr>\n",
       "<tr>\n",
       "  <th>Time:</th>              <td>17:10:02</td>     <th>  BIC                </th>  <td>55255.076</td>\n",
       "</tr>\n",
       "<tr>\n",
       "  <th>Sample:</th>           <td>01-10-1994</td>    <th>  HQIC               </th>  <td>55216.951</td>\n",
       "</tr>\n",
       "<tr>\n",
       "  <th></th>                 <td>- 04-05-2013</td>   <th>                     </th>      <td> </td>    \n",
       "</tr>\n",
       "</table>\n",
       "<table class=\"simpletable\">\n",
       "<tr>\n",
       "           <td></td>             <th>coef</th>     <th>std err</th>      <th>z</th>      <th>P>|z|</th>  <th>[0.025</th>    <th>0.975]</th>  \n",
       "</tr>\n",
       "<tr>\n",
       "  <th>const</th>              <td> 5089.9693</td> <td>  587.406</td> <td>    8.665</td> <td> 0.000</td> <td> 3938.674</td> <td> 6241.265</td>\n",
       "</tr>\n",
       "<tr>\n",
       "  <th>ar.L1.market_value</th> <td>    1.3920</td> <td>    0.058</td> <td>   23.978</td> <td> 0.000</td> <td>    1.278</td> <td>    1.506</td>\n",
       "</tr>\n",
       "<tr>\n",
       "  <th>ar.L2.market_value</th> <td>   -0.4368</td> <td>    0.059</td> <td>   -7.413</td> <td> 0.000</td> <td>   -0.552</td> <td>   -0.321</td>\n",
       "</tr>\n",
       "<tr>\n",
       "  <th>ar.L3.market_value</th> <td>   -0.0101</td> <td>    0.025</td> <td>   -0.408</td> <td> 0.683</td> <td>   -0.059</td> <td>    0.038</td>\n",
       "</tr>\n",
       "<tr>\n",
       "  <th>ar.L4.market_value</th> <td>    0.1126</td> <td>    0.025</td> <td>    4.527</td> <td> 0.000</td> <td>    0.064</td> <td>    0.161</td>\n",
       "</tr>\n",
       "<tr>\n",
       "  <th>ar.L5.market_value</th> <td>   -0.1158</td> <td>    0.025</td> <td>   -4.717</td> <td> 0.000</td> <td>   -0.164</td> <td>   -0.068</td>\n",
       "</tr>\n",
       "<tr>\n",
       "  <th>ar.L6.market_value</th> <td>    0.0573</td> <td>    0.014</td> <td>    4.066</td> <td> 0.000</td> <td>    0.030</td> <td>    0.085</td>\n",
       "</tr>\n",
       "<tr>\n",
       "  <th>ma.L1.market_value</th> <td>   -0.4125</td> <td>    0.059</td> <td>   -6.937</td> <td> 0.000</td> <td>   -0.529</td> <td>   -0.296</td>\n",
       "</tr>\n",
       "</table>\n",
       "<table class=\"simpletable\">\n",
       "<caption>Roots</caption>\n",
       "<tr>\n",
       "    <td></td>   <th>            Real</th>  <th>         Imaginary</th> <th>         Modulus</th>  <th>        Frequency</th>\n",
       "</tr>\n",
       "<tr>\n",
       "  <th>AR.1</th> <td>           1.0010</td> <td>          -0.0000j</td> <td>           1.0010</td> <td>          -0.0000</td>\n",
       "</tr>\n",
       "<tr>\n",
       "  <th>AR.2</th> <td>          -1.7607</td> <td>          -0.0000j</td> <td>           1.7607</td> <td>          -0.5000</td>\n",
       "</tr>\n",
       "<tr>\n",
       "  <th>AR.3</th> <td>          -0.0803</td> <td>          -1.8406j</td> <td>           1.8424</td> <td>          -0.2569</td>\n",
       "</tr>\n",
       "<tr>\n",
       "  <th>AR.4</th> <td>          -0.0803</td> <td>          +1.8406j</td> <td>           1.8424</td> <td>           0.2569</td>\n",
       "</tr>\n",
       "<tr>\n",
       "  <th>AR.5</th> <td>           1.4694</td> <td>          -0.8693j</td> <td>           1.7073</td> <td>          -0.0850</td>\n",
       "</tr>\n",
       "<tr>\n",
       "  <th>AR.6</th> <td>           1.4694</td> <td>          +0.8693j</td> <td>           1.7073</td> <td>           0.0850</td>\n",
       "</tr>\n",
       "<tr>\n",
       "  <th>MA.1</th> <td>           2.4241</td> <td>          +0.0000j</td> <td>           2.4241</td> <td>           0.0000</td>\n",
       "</tr>\n",
       "</table>"
      ],
      "text/plain": [
       "<class 'statsmodels.iolib.summary.Summary'>\n",
       "\"\"\"\n",
       "                              ARMA Model Results                              \n",
       "==============================================================================\n",
       "Dep. Variable:           market_value   No. Observations:                 5020\n",
       "Model:                     ARMA(6, 1)   Log Likelihood              -27589.192\n",
       "Method:                       css-mle   S.D. of innovations             58.929\n",
       "Date:                Thu, 20 Jan 2022   AIC                          55196.385\n",
       "Time:                        17:10:02   BIC                          55255.076\n",
       "Sample:                    01-10-1994   HQIC                         55216.951\n",
       "                         - 04-05-2013                                         \n",
       "======================================================================================\n",
       "                         coef    std err          z      P>|z|      [0.025      0.975]\n",
       "--------------------------------------------------------------------------------------\n",
       "const               5089.9693    587.406      8.665      0.000    3938.674    6241.265\n",
       "ar.L1.market_value     1.3920      0.058     23.978      0.000       1.278       1.506\n",
       "ar.L2.market_value    -0.4368      0.059     -7.413      0.000      -0.552      -0.321\n",
       "ar.L3.market_value    -0.0101      0.025     -0.408      0.683      -0.059       0.038\n",
       "ar.L4.market_value     0.1126      0.025      4.527      0.000       0.064       0.161\n",
       "ar.L5.market_value    -0.1158      0.025     -4.717      0.000      -0.164      -0.068\n",
       "ar.L6.market_value     0.0573      0.014      4.066      0.000       0.030       0.085\n",
       "ma.L1.market_value    -0.4125      0.059     -6.937      0.000      -0.529      -0.296\n",
       "                                    Roots                                    \n",
       "=============================================================================\n",
       "                  Real          Imaginary           Modulus         Frequency\n",
       "-----------------------------------------------------------------------------\n",
       "AR.1            1.0010           -0.0000j            1.0010           -0.0000\n",
       "AR.2           -1.7607           -0.0000j            1.7607           -0.5000\n",
       "AR.3           -0.0803           -1.8406j            1.8424           -0.2569\n",
       "AR.4           -0.0803           +1.8406j            1.8424            0.2569\n",
       "AR.5            1.4694           -0.8693j            1.7073           -0.0850\n",
       "AR.6            1.4694           +0.8693j            1.7073            0.0850\n",
       "MA.1            2.4241           +0.0000j            2.4241            0.0000\n",
       "-----------------------------------------------------------------------------\n",
       "\"\"\""
      ]
     },
     "execution_count": 110,
     "metadata": {},
     "output_type": "execute_result"
    }
   ],
   "source": [
    "model_ar_6_ma_1 = ARMA(df.market_value, order = (6,1))\n",
    "results_ar_6_ma_1 = model_ar_6_ma_1.fit(start_ar_lags = 7)\n",
    "results_ar_6_ma_1.summary()"
   ]
  },
  {
   "cell_type": "code",
   "execution_count": 112,
   "id": "106c4cf8",
   "metadata": {},
   "outputs": [
    {
     "name": "stdout",
     "output_type": "stream",
     "text": [
      "\n",
      " ARMA(5,6): \tLL =  -27582.864216673537 \tAIC =  55191.728433347074\n",
      "\n",
      " ARMA(6,1): \tLL =  -27589.192477592685 \tAIC =  55196.38495518537\n"
     ]
    }
   ],
   "source": [
    "print(\"\\n ARMA(5,6): \\tLL = \", results_ar_5_ma_6.llf, \"\\tAIC = \", results_ar_5_ma_6.aic)\n",
    "print(\"\\n ARMA(6,1): \\tLL = \",results_ar_6_ma_1.llf, \"\\tAIC = \", results_ar_6_ma_1.aic)"
   ]
  },
  {
   "cell_type": "markdown",
   "id": "3925d9b3",
   "metadata": {},
   "source": [
    "#### `ARMA(5,6) > ARMA(6,1)`"
   ]
  },
  {
   "cell_type": "code",
   "execution_count": 113,
   "id": "c5ee75a0",
   "metadata": {},
   "outputs": [
    {
     "data": {
      "image/png": "[encoded data removed]",
      "text/plain": [
       "<Figure size 432x288 with 1 Axes>"
      ]
     },
     "metadata": {},
     "output_type": "display_data"
    }
   ],
   "source": [
    "df['res_ar_5_ma_6'] = results_ar_5_ma_6.resid\n",
    "sgt.plot_acf(df.res_ar_5_ma_6, zero = False, lags = 40)\n",
    "plt.title(\"ACF Of Residuals Of Prices\", size = 20)\n",
    "plt.show()"
   ]
  },
  {
   "cell_type": "markdown",
   "id": "faefa9e7",
   "metadata": {},
   "source": [
    "##### NOTE - The residuals in the above graph resemble white noise."
   ]
  },
  {
   "cell_type": "code",
   "execution_count": 114,
   "id": "cabc25f2",
   "metadata": {},
   "outputs": [
    {
     "name": "stdout",
     "output_type": "stream",
     "text": [
      "\n",
      " ARMA(5,6): \tLL =  -27582.864216673537 \tAIC =  55191.728433347074\n",
      "\n",
      " ARMA(5,1): \tLL =  -7888.205977425261 \tAIC =  15792.411954850522\n"
     ]
    }
   ],
   "source": [
    "print(\"\\n ARMA(5,6): \\tLL = \", results_ar_5_ma_6.llf, \"\\tAIC = \", results_ar_5_ma_6.aic)\n",
    "print(\"\\n ARMA(5,1): \\tLL = \",results_ret_ar_5_ma_1.llf, \"\\tAIC = \", results_ret_ar_5_ma_1.aic)"
   ]
  },
  {
   "cell_type": "markdown",
   "id": "6170f433",
   "metadata": {},
   "source": [
    "##### NOTE - From above information, we can conclude that even though we can model prices using ARMA models, they perform much worse compared to their ability to estimate stationary data."
   ]
  }
 ],
 "metadata": {
  "kernelspec": {
   "display_name": "Python 3 (ipykernel)",
   "language": "python",
   "name": "python3"
  },
  "language_info": {
   "codemirror_mode": {
    "name": "ipython",
    "version": 3
   },
   "file_extension": ".py",
   "mimetype": "text/x-python",
   "name": "python",
   "nbconvert_exporter": "python",
   "pygments_lexer": "ipython3",
   "version": "3.9.7"
  }
 },
 "nbformat": 4,
 "nbformat_minor": 5
}
