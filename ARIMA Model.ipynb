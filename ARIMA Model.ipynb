{
 "cells": [
  {
   "cell_type": "markdown",
   "id": "1227d0a7",
   "metadata": {},
   "source": [
    "### Importing Packages"
   ]
  },
  {
   "cell_type": "code",
   "execution_count": 16,
   "id": "1106c523",
   "metadata": {},
   "outputs": [],
   "source": [
    "import pandas as pd\n",
    "import numpy as np\n",
    "import matplotlib.pyplot as plt\n",
    "import statsmodels.graphics.tsaplots as sgt\n",
    "import statsmodels.tsa.stattools as sts\n",
    "from statsmodels.tsa.seasonal import seasonal_decompose\n",
    "from statsmodels.tsa.arima_model import ARIMA\n",
    "from scipy.stats.distributions import chi2\n",
    "import seaborn as sns\n",
    "from math import sqrt\n",
    "sns.set()\n",
    "import warnings\n",
    "warnings.filterwarnings(\"ignore\")"
   ]
  },
  {
   "cell_type": "markdown",
   "id": "e7354cec",
   "metadata": {},
   "source": [
    "### Loading & Transforming Data"
   ]
  },
  {
   "cell_type": "code",
   "execution_count": 10,
   "id": "149dbaec",
   "metadata": {},
   "outputs": [],
   "source": [
    "raw_csv_data = pd.read_csv(\"Index2018.csv\")\n",
    "df_comp = raw_csv_data.copy()\n",
    "df_comp.date = pd.to_datetime(df_comp.date, dayfirst = True)\n",
    "df_comp.set_index(\"date\", inplace = True)\n",
    "df_comp = df_comp.asfreq('b')\n",
    "df_comp = df_comp.fillna(method = 'ffill')"
   ]
  },
  {
   "cell_type": "markdown",
   "id": "03256eea",
   "metadata": {},
   "source": [
    "### Removing Surplus Data"
   ]
  },
  {
   "cell_type": "code",
   "execution_count": 11,
   "id": "6c38ed03",
   "metadata": {},
   "outputs": [],
   "source": [
    "df_comp['market_value'] = df_comp.ftse"
   ]
  },
  {
   "cell_type": "code",
   "execution_count": 12,
   "id": "9762d8d5",
   "metadata": {},
   "outputs": [],
   "source": [
    "del df_comp['spx'],df_comp['dax'],df_comp['ftse'],df_comp['nikkei']\n",
    "size = int(len(df_comp)*0.8)\n",
    "df, df_test = df_comp.iloc[:size], df_comp.iloc[size:]"
   ]
  },
  {
   "cell_type": "code",
   "execution_count": 13,
   "id": "f8be00da",
   "metadata": {},
   "outputs": [],
   "source": [
    "df['returns'] = df.market_value.pct_change(1).mul(100)\n",
    "df = df.iloc[1:]"
   ]
  },
  {
   "cell_type": "markdown",
   "id": "17aa8cbb",
   "metadata": {},
   "source": [
    "### LLR Test"
   ]
  },
  {
   "cell_type": "code",
   "execution_count": 44,
   "id": "792bb4a7",
   "metadata": {},
   "outputs": [],
   "source": [
    "def LLR_test(mod_1, mod_2, DF = 1):\n",
    "    L1 = mod_1.fit().llf\n",
    "    L2 = mod_2.fit().llf\n",
    "    LR = (2*(L2-L1))\n",
    "    p = chi2.sf(LR, DF).round(3)\n",
    "    return p"
   ]
  },
  {
   "cell_type": "markdown",
   "id": "f88e5bdd",
   "metadata": {},
   "source": [
    "### ARIMA Model\n",
    "\n",
    "<img src = Images/ARIMA-def.png>\n",
    "\n",
    "<img src = Images/ARIMA.png>\n",
    "\n",
    "The model targets the difference between the values in period t and the one preceding it. It essentially `estimates the jumps between prices rather than the actual prices.`\n",
    "\n",
    "The purpose behind this complication of the model is to `ensure stationary no matter the underlying data`. For some types of data, including a single factor of integration, is enough to reach stationary.\n",
    "\n",
    "### Notation\n",
    "<img src = Images/ARIMA-notation.png>\n",
    "\n",
    "### Integration (d)\n",
    "<img src = Images/ARIMA-integration.png>\n",
    "\n",
    "##### NOTE - We only rely on integration when our time series doesn't come from a stationary process.\n",
    "\n",
    "### No Integration (d = 0)\n",
    "<img src = Images/ARIMA-no-integration.png>\n",
    "\n",
    "### Intuition\n",
    "<img src = Images/ARIMA-intuition.png>\n",
    "\n",
    "### Procedure\n",
    "<img src = Images/ARIMA-procedure.png>"
   ]
  },
  {
   "cell_type": "markdown",
   "id": "469a79be",
   "metadata": {},
   "source": [
    "### ARIMA(1,1,1)"
   ]
  },
  {
   "cell_type": "code",
   "execution_count": 18,
   "id": "3deb7b31",
   "metadata": {},
   "outputs": [
    {
     "name": "stdout",
     "output_type": "stream",
     "text": [
      "RUNNING THE L-BFGS-B CODE\n",
      "\n",
      "           * * *\n",
      "\n",
      "Machine precision = 2.220D-16\n",
      " N =            3     M =           12\n",
      "\n",
      "At X0         0 variables are exactly at the bounds\n",
      "\n",
      "At iterate    0    f=  5.49884D+00    |proj g|=  4.53859D-05\n",
      "\n",
      "At iterate    5    f=  5.49884D+00    |proj g|=  3.01981D-06\n",
      "\n",
      "           * * *\n",
      "\n",
      "Tit   = total number of iterations\n",
      "Tnf   = total number of function evaluations\n",
      "Tnint = total number of segments explored during Cauchy searches\n",
      "Skip  = number of BFGS updates skipped\n",
      "Nact  = number of active bounds at final generalized Cauchy point\n",
      "Projg = norm of the final projected gradient\n",
      "F     = final function value\n",
      "\n",
      "           * * *\n",
      "\n",
      "   N    Tit     Tnf  Tnint  Skip  Nact     Projg        F\n",
      "    3      9     11      1     0     0   0.000D+00   5.499D+00\n",
      "  F =   5.4988363880690203     \n",
      "\n",
      "CONVERGENCE: NORM_OF_PROJECTED_GRADIENT_<=_PGTOL            \n"
     ]
    },
    {
     "name": "stderr",
     "output_type": "stream",
     "text": [
      " This problem is unconstrained.\n"
     ]
    },
    {
     "data": {
      "text/html": [
       "<table class=\"simpletable\">\n",
       "<caption>ARIMA Model Results</caption>\n",
       "<tr>\n",
       "  <th>Dep. Variable:</th>  <td>D.market_value</td>  <th>  No. Observations:  </th>    <td>5019</td>   \n",
       "</tr>\n",
       "<tr>\n",
       "  <th>Model:</th>          <td>ARIMA(1, 1, 1)</td>  <th>  Log Likelihood     </th> <td>-27598.660</td>\n",
       "</tr>\n",
       "<tr>\n",
       "  <th>Method:</th>             <td>css-mle</td>     <th>  S.D. of innovations</th>   <td>59.139</td>  \n",
       "</tr>\n",
       "<tr>\n",
       "  <th>Date:</th>          <td>Thu, 20 Jan 2022</td> <th>  AIC                </th>  <td>55205.320</td>\n",
       "</tr>\n",
       "<tr>\n",
       "  <th>Time:</th>              <td>17:58:25</td>     <th>  BIC                </th>  <td>55231.404</td>\n",
       "</tr>\n",
       "<tr>\n",
       "  <th>Sample:</th>           <td>01-11-1994</td>    <th>  HQIC               </th>  <td>55214.460</td>\n",
       "</tr>\n",
       "<tr>\n",
       "  <th></th>                 <td>- 04-05-2013</td>   <th>                     </th>      <td> </td>    \n",
       "</tr>\n",
       "</table>\n",
       "<table class=\"simpletable\">\n",
       "<tr>\n",
       "            <td></td>              <th>coef</th>     <th>std err</th>      <th>z</th>      <th>P>|z|</th>  <th>[0.025</th>    <th>0.975]</th>  \n",
       "</tr>\n",
       "<tr>\n",
       "  <th>const</th>                <td>    0.5667</td> <td>    0.682</td> <td>    0.830</td> <td> 0.406</td> <td>   -0.771</td> <td>    1.904</td>\n",
       "</tr>\n",
       "<tr>\n",
       "  <th>ar.L1.D.market_value</th> <td>    0.7474</td> <td>    0.070</td> <td>   10.648</td> <td> 0.000</td> <td>    0.610</td> <td>    0.885</td>\n",
       "</tr>\n",
       "<tr>\n",
       "  <th>ma.L1.D.market_value</th> <td>   -0.7935</td> <td>    0.064</td> <td>  -12.374</td> <td> 0.000</td> <td>   -0.919</td> <td>   -0.668</td>\n",
       "</tr>\n",
       "</table>\n",
       "<table class=\"simpletable\">\n",
       "<caption>Roots</caption>\n",
       "<tr>\n",
       "    <td></td>   <th>            Real</th>  <th>         Imaginary</th> <th>         Modulus</th>  <th>        Frequency</th>\n",
       "</tr>\n",
       "<tr>\n",
       "  <th>AR.1</th> <td>           1.3380</td> <td>          +0.0000j</td> <td>           1.3380</td> <td>           0.0000</td>\n",
       "</tr>\n",
       "<tr>\n",
       "  <th>MA.1</th> <td>           1.2602</td> <td>          +0.0000j</td> <td>           1.2602</td> <td>           0.0000</td>\n",
       "</tr>\n",
       "</table>"
      ],
      "text/plain": [
       "<class 'statsmodels.iolib.summary.Summary'>\n",
       "\"\"\"\n",
       "                             ARIMA Model Results                              \n",
       "==============================================================================\n",
       "Dep. Variable:         D.market_value   No. Observations:                 5019\n",
       "Model:                 ARIMA(1, 1, 1)   Log Likelihood              -27598.660\n",
       "Method:                       css-mle   S.D. of innovations             59.139\n",
       "Date:                Thu, 20 Jan 2022   AIC                          55205.320\n",
       "Time:                        17:58:25   BIC                          55231.404\n",
       "Sample:                    01-11-1994   HQIC                         55214.460\n",
       "                         - 04-05-2013                                         \n",
       "========================================================================================\n",
       "                           coef    std err          z      P>|z|      [0.025      0.975]\n",
       "----------------------------------------------------------------------------------------\n",
       "const                    0.5667      0.682      0.830      0.406      -0.771       1.904\n",
       "ar.L1.D.market_value     0.7474      0.070     10.648      0.000       0.610       0.885\n",
       "ma.L1.D.market_value    -0.7935      0.064    -12.374      0.000      -0.919      -0.668\n",
       "                                    Roots                                    \n",
       "=============================================================================\n",
       "                  Real          Imaginary           Modulus         Frequency\n",
       "-----------------------------------------------------------------------------\n",
       "AR.1            1.3380           +0.0000j            1.3380            0.0000\n",
       "MA.1            1.2602           +0.0000j            1.2602            0.0000\n",
       "-----------------------------------------------------------------------------\n",
       "\"\"\""
      ]
     },
     "execution_count": 18,
     "metadata": {},
     "output_type": "execute_result"
    }
   ],
   "source": [
    "model_ar_1_i_1_ma_1 = ARIMA(df.market_value, order = (1,1,1))\n",
    "results_ar_1_i_1_ma_1 = model_ar_1_i_1_ma_1.fit()\n",
    "results_ar_1_i_1_ma_1.summary()"
   ]
  },
  {
   "cell_type": "markdown",
   "id": "1dad7f25",
   "metadata": {},
   "source": [
    "<img src = Images/ARIMA-note.png>"
   ]
  },
  {
   "cell_type": "markdown",
   "id": "bbcabbf6",
   "metadata": {},
   "source": [
    "### Residuals of the ARIMA(1,1,1)"
   ]
  },
  {
   "cell_type": "code",
   "execution_count": 20,
   "id": "47f068fc",
   "metadata": {},
   "outputs": [
    {
     "data": {
      "image/png": "[encoded data removed]",
      "text/plain": [
       "<Figure size 432x288 with 1 Axes>"
      ]
     },
     "metadata": {},
     "output_type": "display_data"
    }
   ],
   "source": [
    "df['res_ar_1_i_1_ma_1'] = results_ar_1_i_1_ma_1.resid\n",
    "sgt.plot_acf(df.res_ar_1_i_1_ma_1, zero = False, lags = 40)\n",
    "plt.title(\"ACF Of Residuals for ARIMA(1,1,1)\", size = 20)\n",
    "plt.show()"
   ]
  },
  {
   "cell_type": "markdown",
   "id": "ea5b541b",
   "metadata": {},
   "source": [
    "##### NOTE - The above graph indicates that the `ACF failed to compute.` This is due to the missing value at the first element. Snce the ACF starts by trying to compare elements from the very first one going forward, a missing value at the very beginning causes it to break. The easiest way to tackle this problem is to remove the first row of this column using `df = df.iloc[1:]`.\n"
   ]
  },
  {
   "cell_type": "code",
   "execution_count": 21,
   "id": "4592034d",
   "metadata": {},
   "outputs": [
    {
     "data": {
      "image/png": "[encoded data removed]",
      "text/plain": [
       "<Figure size 432x288 with 1 Axes>"
      ]
     },
     "metadata": {},
     "output_type": "display_data"
    }
   ],
   "source": [
    "df['res_ar_1_i_1_ma_1'] = results_ar_1_i_1_ma_1.resid\n",
    "sgt.plot_acf(df.res_ar_1_i_1_ma_1[1:], zero = False, lags = 40)\n",
    "plt.title(\"ACF Of Residuals for ARIMA(1,1,1)\", size = 20)\n",
    "plt.show()"
   ]
  },
  {
   "cell_type": "markdown",
   "id": "7b93747d",
   "metadata": {},
   "source": [
    "Set of models to choose from are - `[ARIMA(1,1,1); ARIMA(4,1,4)]`\n",
    "\n",
    "After trial and error methods of all models within the set, we shortlisted the following models as a best fit potential:\n",
    "1. ARIMA(1,1,2)\n",
    "2. ARIMA(1,1,3)\n",
    "3. ARIMA(2,1,1)\n",
    "4. ARIMA(3,1,1)\n",
    "5. ARIMA(3,1,2)"
   ]
  },
  {
   "cell_type": "code",
   "execution_count": 22,
   "id": "d99128c4",
   "metadata": {},
   "outputs": [
    {
     "name": "stderr",
     "output_type": "stream",
     "text": [
      " This problem is unconstrained.\n"
     ]
    },
    {
     "name": "stdout",
     "output_type": "stream",
     "text": [
      "RUNNING THE L-BFGS-B CODE\n",
      "\n",
      "           * * *\n",
      "\n",
      "Machine precision = 2.220D-16\n",
      " N =            4     M =           12\n",
      "\n",
      "At X0         0 variables are exactly at the bounds\n",
      "\n",
      "At iterate    0    f=  5.49812D+00    |proj g|=  4.41425D-05\n",
      "\n",
      "At iterate    5    f=  5.49812D+00    |proj g|=  2.81553D-05\n",
      "\n",
      "At iterate   10    f=  5.49812D+00    |proj g|=  8.97060D-06\n",
      "\n",
      "At iterate   15    f=  5.49812D+00    |proj g|=  3.55271D-07\n",
      "\n",
      "           * * *\n",
      "\n",
      "Tit   = total number of iterations\n",
      "Tnf   = total number of function evaluations\n",
      "Tnint = total number of segments explored during Cauchy searches\n",
      "Skip  = number of BFGS updates skipped\n",
      "Nact  = number of active bounds at final generalized Cauchy point\n",
      "Projg = norm of the final projected gradient\n",
      "F     = final function value\n",
      "\n",
      "           * * *\n",
      "\n",
      "   N    Tit     Tnf  Tnint  Skip  Nact     Projg        F\n",
      "    4     17     23      1     0     0   1.776D-07   5.498D+00\n",
      "  F =   5.4981221021342446     \n",
      "\n",
      "CONVERGENCE: REL_REDUCTION_OF_F_<=_FACTR*EPSMCH             \n",
      "RUNNING THE L-BFGS-B CODE\n",
      "\n",
      "           * * *\n",
      "\n",
      "Machine precision = 2.220D-16\n",
      " N =            5     M =           12\n",
      "\n",
      "At X0         0 variables are exactly at the bounds\n",
      "\n",
      "At iterate    0    f=  5.49620D+00    |proj g|=  3.19744D-05\n",
      "\n",
      "At iterate    5    f=  5.49620D+00    |proj g|=  2.41585D-05\n",
      "\n",
      "At iterate   10    f=  5.49620D+00    |proj g|=  4.44089D-07\n",
      "\n",
      "At iterate   15    f=  5.49620D+00    |proj g|=  5.32907D-07\n",
      "\n",
      "At iterate   20    f=  5.49620D+00    |proj g|=  3.55271D-07\n",
      "\n",
      "At iterate   25    f=  5.49620D+00    |proj g|=  3.55271D-07\n",
      "\n",
      "           * * *\n",
      "\n",
      "Tit   = total number of iterations\n",
      "Tnf   = total number of function evaluations\n",
      "Tnint = total number of segments explored during Cauchy searches\n",
      "Skip  = number of BFGS updates skipped\n",
      "Nact  = number of active bounds at final generalized Cauchy point\n",
      "Projg = norm of the final projected gradient\n",
      "F     = final function value\n",
      "\n",
      "           * * *\n",
      "\n",
      "   N    Tit     Tnf  Tnint  Skip  Nact     Projg        F\n",
      "    5     25     39      1     0     0   3.553D-07   5.496D+00\n",
      "  F =   5.4961967706326949     \n",
      "\n",
      "CONVERGENCE: REL_REDUCTION_OF_F_<=_FACTR*EPSMCH             \n"
     ]
    },
    {
     "name": "stderr",
     "output_type": "stream",
     "text": [
      " This problem is unconstrained.\n"
     ]
    },
    {
     "name": "stdout",
     "output_type": "stream",
     "text": [
      "RUNNING THE L-BFGS-B CODE\n",
      "\n",
      "           * * *\n",
      "\n",
      "Machine precision = 2.220D-16\n",
      " N =            4     M =           12\n",
      "\n",
      "At X0         0 variables are exactly at the bounds\n",
      "\n",
      "At iterate    0    f=  5.49807D+00    |proj g|=  8.20677D-05\n",
      "\n",
      "At iterate    5    f=  5.49807D+00    |proj g|=  3.73035D-06\n",
      "\n",
      "At iterate   10    f=  5.49807D+00    |proj g|=  9.85878D-06\n",
      "\n",
      "           * * *\n",
      "\n",
      "Tit   = total number of iterations\n",
      "Tnf   = total number of function evaluations\n",
      "Tnint = total number of segments explored during Cauchy searches\n",
      "Skip  = number of BFGS updates skipped\n",
      "Nact  = number of active bounds at final generalized Cauchy point\n",
      "Projg = norm of the final projected gradient\n",
      "F     = final function value\n",
      "\n",
      "           * * *\n",
      "\n",
      "   N    Tit     Tnf  Tnint  Skip  Nact     Projg        F\n",
      "    4     14     23      1     0     0   8.882D-08   5.498D+00\n",
      "  F =   5.4980674043696611     \n",
      "\n",
      "CONVERGENCE: REL_REDUCTION_OF_F_<=_FACTR*EPSMCH             \n"
     ]
    },
    {
     "name": "stderr",
     "output_type": "stream",
     "text": [
      " This problem is unconstrained.\n",
      " This problem is unconstrained.\n"
     ]
    },
    {
     "name": "stdout",
     "output_type": "stream",
     "text": [
      "RUNNING THE L-BFGS-B CODE\n",
      "\n",
      "           * * *\n",
      "\n",
      "Machine precision = 2.220D-16\n",
      " N =            5     M =           12\n",
      "\n",
      "At X0         0 variables are exactly at the bounds\n",
      "\n",
      "At iterate    0    f=  5.49652D+00    |proj g|=  4.78728D-05\n",
      "\n",
      "At iterate    5    f=  5.49652D+00    |proj g|=  2.38032D-05\n",
      "\n",
      "At iterate   10    f=  5.49652D+00    |proj g|=  1.27010D-05\n",
      "\n",
      "At iterate   15    f=  5.49652D+00    |proj g|=  3.90799D-05\n",
      "\n",
      "           * * *\n",
      "\n",
      "Tit   = total number of iterations\n",
      "Tnf   = total number of function evaluations\n",
      "Tnint = total number of segments explored during Cauchy searches\n",
      "Skip  = number of BFGS updates skipped\n",
      "Nact  = number of active bounds at final generalized Cauchy point\n",
      "Projg = norm of the final projected gradient\n",
      "F     = final function value\n",
      "\n",
      "           * * *\n",
      "\n",
      "   N    Tit     Tnf  Tnint  Skip  Nact     Projg        F\n",
      "    5     19     29      1     0     0   2.665D-07   5.497D+00\n",
      "  F =   5.4965216885792376     \n",
      "\n",
      "CONVERGENCE: REL_REDUCTION_OF_F_<=_FACTR*EPSMCH             \n",
      "RUNNING THE L-BFGS-B CODE\n",
      "\n",
      "           * * *\n",
      "\n",
      "Machine precision = 2.220D-16\n",
      " N =            6     M =           12\n",
      "\n",
      "At X0         0 variables are exactly at the bounds\n",
      "\n",
      "At iterate    0    f=  5.49624D+00    |proj g|=  5.16032D-05\n",
      "\n",
      "At iterate    5    f=  5.49624D+00    |proj g|=  7.54952D-05\n",
      "\n",
      "At iterate   10    f=  5.49624D+00    |proj g|=  3.64153D-06\n",
      "\n",
      "At iterate   15    f=  5.49624D+00    |proj g|=  2.27374D-05\n",
      "\n",
      "At iterate   20    f=  5.49624D+00    |proj g|=  1.77636D-07\n",
      "\n",
      "           * * *\n",
      "\n",
      "Tit   = total number of iterations\n",
      "Tnf   = total number of function evaluations\n",
      "Tnint = total number of segments explored during Cauchy searches\n",
      "Skip  = number of BFGS updates skipped\n",
      "Nact  = number of active bounds at final generalized Cauchy point\n",
      "Projg = norm of the final projected gradient\n",
      "F     = final function value\n",
      "\n",
      "           * * *\n",
      "\n",
      "   N    Tit     Tnf  Tnint  Skip  Nact     Projg        F\n",
      "    6     22     26      1     0     0   1.776D-07   5.496D+00\n",
      "  F =   5.4962436337257907     \n",
      "\n",
      "CONVERGENCE: REL_REDUCTION_OF_F_<=_FACTR*EPSMCH             \n"
     ]
    },
    {
     "name": "stderr",
     "output_type": "stream",
     "text": [
      " This problem is unconstrained.\n"
     ]
    }
   ],
   "source": [
    "model_ar_1_i_1_ma_2 = ARIMA(df.market_value, order = (1,1,2))\n",
    "results_ar_1_i_1_ma_2 = model_ar_1_i_1_ma_2.fit()\n",
    "\n",
    "model_ar_1_i_1_ma_3 = ARIMA(df.market_value, order = (1,1,3))\n",
    "results_ar_1_i_1_ma_3 = model_ar_1_i_1_ma_3.fit()\n",
    "\n",
    "model_ar_2_i_1_ma_1 = ARIMA(df.market_value, order = (2,1,1))\n",
    "results_ar_2_i_1_ma_1 = model_ar_2_i_1_ma_1.fit()\n",
    "\n",
    "model_ar_3_i_1_ma_1 = ARIMA(df.market_value, order = (3,1,1))\n",
    "results_ar_3_i_1_ma_1 = model_ar_3_i_1_ma_1.fit()\n",
    "\n",
    "model_ar_3_i_1_ma_2 = ARIMA(df.market_value, order = (3,1,2))\n",
    "results_ar_3_i_1_ma_2 = model_ar_3_i_1_ma_2.fit(start_ar_lags = 5)"
   ]
  },
  {
   "cell_type": "code",
   "execution_count": 23,
   "id": "af047fd3",
   "metadata": {},
   "outputs": [
    {
     "name": "stdout",
     "output_type": "stream",
     "text": [
      "\n",
      " ARMA(1,1,1): \tLL =  -27598.659831718414 \tAIC =  55205.31966343683\n",
      "\n",
      " ARMA(1,1,2): \tLL =  -27595.074830611775 \tAIC =  55200.14966122355\n",
      "\n",
      " ARMA(1,1,3): \tLL =  -27585.411591805496 \tAIC =  55182.82318361099\n",
      "\n",
      " ARMA(2,1,1): \tLL =  -27594.80030253133 \tAIC =  55199.60060506266\n",
      "\n",
      " ARMA(3,1,1): \tLL =  -27587.042354979196 \tAIC =  55186.08470995839\n",
      "\n",
      " ARMA(3,1,2): \tLL =  -27585.646797669742 \tAIC =  55185.293595339484\n"
     ]
    }
   ],
   "source": [
    "print(\"\\n ARMA(1,1,1): \\tLL = \", results_ar_1_i_1_ma_1.llf, \"\\tAIC = \", results_ar_1_i_1_ma_1.aic)\n",
    "print(\"\\n ARMA(1,1,2): \\tLL = \", results_ar_1_i_1_ma_2.llf, \"\\tAIC = \", results_ar_1_i_1_ma_2.aic)\n",
    "print(\"\\n ARMA(1,1,3): \\tLL = \", results_ar_1_i_1_ma_3.llf, \"\\tAIC = \", results_ar_1_i_1_ma_3.aic)\n",
    "print(\"\\n ARMA(2,1,1): \\tLL = \", results_ar_2_i_1_ma_1.llf, \"\\tAIC = \", results_ar_2_i_1_ma_1.aic)\n",
    "print(\"\\n ARMA(3,1,1): \\tLL = \", results_ar_3_i_1_ma_1.llf, \"\\tAIC = \", results_ar_3_i_1_ma_1.aic)\n",
    "print(\"\\n ARMA(3,1,2): \\tLL = \", results_ar_3_i_1_ma_2.llf, \"\\tAIC = \", results_ar_3_i_1_ma_2.aic)"
   ]
  },
  {
   "cell_type": "markdown",
   "id": "306eadbe",
   "metadata": {},
   "source": [
    "#### From the above results, we can say that `ARIMA(1,1,3) COULD BE the best predictor.`\n",
    "\n",
    "##### NOTE - ARIMA(1,1,1) and ARIMA(1,1,2) are `nested` within ARIMA(1,1,3). Therefore, we need to run the LLR test to check whether it significantly outperforms them or not."
   ]
  },
  {
   "cell_type": "code",
   "execution_count": 24,
   "id": "1628646a",
   "metadata": {},
   "outputs": [
    {
     "name": "stderr",
     "output_type": "stream",
     "text": [
      " This problem is unconstrained.\n"
     ]
    },
    {
     "name": "stdout",
     "output_type": "stream",
     "text": [
      "RUNNING THE L-BFGS-B CODE\n",
      "\n",
      "           * * *\n",
      "\n",
      "Machine precision = 2.220D-16\n",
      " N =            4     M =           12\n",
      "\n",
      "At X0         0 variables are exactly at the bounds\n",
      "\n",
      "At iterate    0    f=  5.49812D+00    |proj g|=  4.41425D-05\n",
      "\n",
      "At iterate    5    f=  5.49812D+00    |proj g|=  2.81553D-05\n",
      "\n",
      "At iterate   10    f=  5.49812D+00    |proj g|=  8.97060D-06\n",
      "\n",
      "At iterate   15    f=  5.49812D+00    |proj g|=  3.55271D-07\n",
      "\n",
      "           * * *\n",
      "\n",
      "Tit   = total number of iterations\n",
      "Tnf   = total number of function evaluations\n",
      "Tnint = total number of segments explored during Cauchy searches\n",
      "Skip  = number of BFGS updates skipped\n",
      "Nact  = number of active bounds at final generalized Cauchy point\n",
      "Projg = norm of the final projected gradient\n",
      "F     = final function value\n",
      "\n",
      "           * * *\n",
      "\n",
      "   N    Tit     Tnf  Tnint  Skip  Nact     Projg        F\n",
      "    4     17     23      1     0     0   1.776D-07   5.498D+00\n",
      "  F =   5.4981221021342446     \n",
      "\n",
      "CONVERGENCE: REL_REDUCTION_OF_F_<=_FACTR*EPSMCH             \n"
     ]
    },
    {
     "name": "stderr",
     "output_type": "stream",
     "text": [
      " This problem is unconstrained.\n"
     ]
    },
    {
     "name": "stdout",
     "output_type": "stream",
     "text": [
      "RUNNING THE L-BFGS-B CODE\n",
      "\n",
      "           * * *\n",
      "\n",
      "Machine precision = 2.220D-16\n",
      " N =            5     M =           12\n",
      "\n",
      "At X0         0 variables are exactly at the bounds\n",
      "\n",
      "At iterate    0    f=  5.49620D+00    |proj g|=  3.19744D-05\n",
      "\n",
      "At iterate    5    f=  5.49620D+00    |proj g|=  2.41585D-05\n",
      "\n",
      "At iterate   10    f=  5.49620D+00    |proj g|=  4.44089D-07\n",
      "\n",
      "At iterate   15    f=  5.49620D+00    |proj g|=  5.32907D-07\n",
      "\n",
      "At iterate   20    f=  5.49620D+00    |proj g|=  3.55271D-07\n",
      "\n",
      "At iterate   25    f=  5.49620D+00    |proj g|=  3.55271D-07\n",
      "\n",
      "           * * *\n",
      "\n",
      "Tit   = total number of iterations\n",
      "Tnf   = total number of function evaluations\n",
      "Tnint = total number of segments explored during Cauchy searches\n",
      "Skip  = number of BFGS updates skipped\n",
      "Nact  = number of active bounds at final generalized Cauchy point\n",
      "Projg = norm of the final projected gradient\n",
      "F     = final function value\n",
      "\n",
      "           * * *\n",
      "\n",
      "   N    Tit     Tnf  Tnint  Skip  Nact     Projg        F\n",
      "    5     25     39      1     0     0   3.553D-07   5.496D+00\n",
      "  F =   5.4961967706326949     \n",
      "\n",
      "CONVERGENCE: REL_REDUCTION_OF_F_<=_FACTR*EPSMCH             \n",
      "\n",
      "LLR test p-value = 0.0\n"
     ]
    }
   ],
   "source": [
    "print(\"\\nLLR test p-value = \" + str(LLR_test(model_ar_1_i_1_ma_2, model_ar_1_i_1_ma_3)))"
   ]
  },
  {
   "cell_type": "code",
   "execution_count": 25,
   "id": "a511e80c",
   "metadata": {},
   "outputs": [
    {
     "name": "stdout",
     "output_type": "stream",
     "text": [
      "RUNNING THE L-BFGS-B CODE\n",
      "\n",
      "           * * *\n",
      "\n",
      "Machine precision = 2.220D-16\n",
      " N =            3     M =           12\n",
      "\n",
      "At X0         0 variables are exactly at the bounds\n",
      "\n",
      "At iterate    0    f=  5.49884D+00    |proj g|=  4.53859D-05\n",
      "\n",
      "At iterate    5    f=  5.49884D+00    |proj g|=  3.01981D-06\n",
      "\n",
      "           * * *\n",
      "\n",
      "Tit   = total number of iterations\n",
      "Tnf   = total number of function evaluations\n",
      "Tnint = total number of segments explored during Cauchy searches\n",
      "Skip  = number of BFGS updates skipped\n",
      "Nact  = number of active bounds at final generalized Cauchy point\n",
      "Projg = norm of the final projected gradient\n",
      "F     = final function value\n",
      "\n",
      "           * * *\n",
      "\n",
      "   N    Tit     Tnf  Tnint  Skip  Nact     Projg        F\n",
      "    3      9     11      1     0     0   0.000D+00   5.499D+00\n",
      "  F =   5.4988363880690203     \n",
      "\n",
      "CONVERGENCE: NORM_OF_PROJECTED_GRADIENT_<=_PGTOL            \n"
     ]
    },
    {
     "name": "stderr",
     "output_type": "stream",
     "text": [
      " This problem is unconstrained.\n",
      " This problem is unconstrained.\n"
     ]
    },
    {
     "name": "stdout",
     "output_type": "stream",
     "text": [
      "RUNNING THE L-BFGS-B CODE\n",
      "\n",
      "           * * *\n",
      "\n",
      "Machine precision = 2.220D-16\n",
      " N =            5     M =           12\n",
      "\n",
      "At X0         0 variables are exactly at the bounds\n",
      "\n",
      "At iterate    0    f=  5.49620D+00    |proj g|=  3.19744D-05\n",
      "\n",
      "At iterate    5    f=  5.49620D+00    |proj g|=  2.41585D-05\n",
      "\n",
      "At iterate   10    f=  5.49620D+00    |proj g|=  4.44089D-07\n",
      "\n",
      "At iterate   15    f=  5.49620D+00    |proj g|=  5.32907D-07\n",
      "\n",
      "At iterate   20    f=  5.49620D+00    |proj g|=  3.55271D-07\n",
      "\n",
      "At iterate   25    f=  5.49620D+00    |proj g|=  3.55271D-07\n",
      "\n",
      "           * * *\n",
      "\n",
      "Tit   = total number of iterations\n",
      "Tnf   = total number of function evaluations\n",
      "Tnint = total number of segments explored during Cauchy searches\n",
      "Skip  = number of BFGS updates skipped\n",
      "Nact  = number of active bounds at final generalized Cauchy point\n",
      "Projg = norm of the final projected gradient\n",
      "F     = final function value\n",
      "\n",
      "           * * *\n",
      "\n",
      "   N    Tit     Tnf  Tnint  Skip  Nact     Projg        F\n",
      "    5     25     39      1     0     0   3.553D-07   5.496D+00\n",
      "  F =   5.4961967706326949     \n",
      "\n",
      "CONVERGENCE: REL_REDUCTION_OF_F_<=_FACTR*EPSMCH             \n",
      "\n",
      "LLR test p-value = 0.0\n"
     ]
    }
   ],
   "source": [
    "print(\"\\nLLR test p-value = \" + str(LLR_test(model_ar_1_i_1_ma_1, model_ar_1_i_1_ma_3, DF = 2)))"
   ]
  },
  {
   "cell_type": "markdown",
   "id": "a12c7376",
   "metadata": {},
   "source": [
    "##### NOTE - Since LLR test p-value = 0.0 => `Higher complexity is necessary` => `ARIMA(1,1,3) appears to be the best model`\n",
    "\n",
    "Let's start by examining the ACF of residuals first. `Only if they resemble white noise`, we will proceed with examining and discussing the parameters from the summary table. `Otherwise we'll try to find a better fitting model.`"
   ]
  },
  {
   "cell_type": "code",
   "execution_count": 33,
   "id": "80bb7387",
   "metadata": {},
   "outputs": [
    {
     "data": {
      "image/png": "[encoded data removed]",
      "text/plain": [
       "<Figure size 432x288 with 1 Axes>"
      ]
     },
     "metadata": {},
     "output_type": "display_data"
    }
   ],
   "source": [
    "df['res_ar_1_i_1_ma_3'] = results_ar_1_i_1_ma_3.resid\n",
    "sgt.plot_acf(df.res_ar_1_i_1_ma_3[1:], zero = False, lags = 40)\n",
    "plt.title(\"ACF Of Residuals for ARIMA(1,1,3)\", size = 20)\n",
    "plt.show()"
   ]
  },
  {
   "cell_type": "markdown",
   "id": "5a1e348d",
   "metadata": {},
   "source": [
    "##### NOTE - The 6th lag is significant in the above graph. Therefore, we need to check `[ARIMA(1,1,1); ARIMA(6,1,6)]`\n",
    "\n",
    "After trial and error method, we shortlisted the following methods for potential best fits:\n",
    "1. ARIMA(6,1,3)\n",
    "2. ARIMA(5,1,1)"
   ]
  },
  {
   "cell_type": "code",
   "execution_count": 36,
   "id": "d43eb3c1",
   "metadata": {},
   "outputs": [
    {
     "name": "stdout",
     "output_type": "stream",
     "text": [
      "RUNNING THE L-BFGS-B CODE\n",
      "\n",
      "           * * *\n",
      "\n",
      "Machine precision = 2.220D-16\n",
      " N =           10     M =           12\n",
      "\n",
      "At X0         0 variables are exactly at the bounds\n",
      "\n",
      "At iterate    0    f=  5.49446D+00    |proj g|=  4.78817D-04\n",
      "\n",
      "At iterate    5    f=  5.49446D+00    |proj g|=  6.05738D-04\n"
     ]
    },
    {
     "name": "stderr",
     "output_type": "stream",
     "text": [
      " This problem is unconstrained.\n"
     ]
    },
    {
     "name": "stdout",
     "output_type": "stream",
     "text": [
      "\n",
      "At iterate   10    f=  5.49446D+00    |proj g|=  4.36184D-04\n",
      "\n",
      "At iterate   15    f=  5.49444D+00    |proj g|=  6.08580D-04\n",
      "\n",
      "At iterate   20    f=  5.49444D+00    |proj g|=  1.22569D-05\n",
      "\n",
      "At iterate   25    f=  5.49444D+00    |proj g|=  1.68487D-04\n",
      "\n",
      "At iterate   30    f=  5.49444D+00    |proj g|=  2.10498D-05\n",
      "\n",
      "At iterate   35    f=  5.49444D+00    |proj g|=  6.57252D-06\n",
      "\n",
      "At iterate   40    f=  5.49444D+00    |proj g|=  8.43769D-06\n",
      "\n",
      "At iterate   45    f=  5.49444D+00    |proj g|=  2.42473D-05\n",
      "\n",
      "At iterate   50    f=  5.49444D+00    |proj g|=  1.51879D-05\n",
      "\n",
      "At iterate   55    f=  5.49444D+00    |proj g|=  2.44249D-05\n",
      "\n",
      "At iterate   60    f=  5.49444D+00    |proj g|=  1.73195D-05\n",
      "\n",
      "At iterate   65    f=  5.49444D+00    |proj g|=  7.81597D-06\n",
      "\n",
      "At iterate   70    f=  5.49444D+00    |proj g|=  2.13163D-06\n",
      "\n",
      "           * * *\n",
      "\n",
      "Tit   = total number of iterations\n",
      "Tnf   = total number of function evaluations\n",
      "Tnint = total number of segments explored during Cauchy searches\n",
      "Skip  = number of BFGS updates skipped\n",
      "Nact  = number of active bounds at final generalized Cauchy point\n",
      "Projg = norm of the final projected gradient\n",
      "F     = final function value\n",
      "\n",
      "           * * *\n",
      "\n",
      "   N    Tit     Tnf  Tnint  Skip  Nact     Projg        F\n",
      "   10     70     84      1     0     0   2.132D-06   5.494D+00\n",
      "  F =   5.4944387705631730     \n",
      "\n",
      "CONVERGENCE: REL_REDUCTION_OF_F_<=_FACTR*EPSMCH             \n"
     ]
    },
    {
     "name": "stderr",
     "output_type": "stream",
     "text": [
      " This problem is unconstrained.\n"
     ]
    },
    {
     "name": "stdout",
     "output_type": "stream",
     "text": [
      "RUNNING THE L-BFGS-B CODE\n",
      "\n",
      "           * * *\n",
      "\n",
      "Machine precision = 2.220D-16\n",
      " N =            7     M =           12\n",
      "\n",
      "At X0         0 variables are exactly at the bounds\n",
      "\n",
      "At iterate    0    f=  5.49542D+00    |proj g|=  6.82121D-05\n",
      "\n",
      "At iterate    5    f=  5.49542D+00    |proj g|=  8.34888D-06\n",
      "\n",
      "At iterate   10    f=  5.49542D+00    |proj g|=  2.21156D-05\n",
      "\n",
      "At iterate   15    f=  5.49542D+00    |proj g|=  7.99361D-07\n",
      "\n",
      "At iterate   20    f=  5.49542D+00    |proj g|=  3.55271D-07\n",
      "\n",
      "           * * *\n",
      "\n",
      "Tit   = total number of iterations\n",
      "Tnf   = total number of function evaluations\n",
      "Tnint = total number of segments explored during Cauchy searches\n",
      "Skip  = number of BFGS updates skipped\n",
      "Nact  = number of active bounds at final generalized Cauchy point\n",
      "Projg = norm of the final projected gradient\n",
      "F     = final function value\n",
      "\n",
      "           * * *\n",
      "\n",
      "   N    Tit     Tnf  Tnint  Skip  Nact     Projg        F\n",
      "    7     24     33      1     0     0   2.665D-07   5.495D+00\n",
      "  F =   5.4954180640106403     \n",
      "\n",
      "CONVERGENCE: REL_REDUCTION_OF_F_<=_FACTR*EPSMCH             \n"
     ]
    }
   ],
   "source": [
    "model_ar_6_i_1_ma_3 = ARIMA(df.market_value, order = (6,1,3))\n",
    "results_ar_6_i_1_ma_3 = model_ar_6_i_1_ma_3.fit(start_ar_lags = 11)\n",
    "\n",
    "model_ar_5_i_1_ma_1 = ARIMA(df.market_value, order = (5,1,1))\n",
    "results_ar_5_i_1_ma_1 = model_ar_5_i_1_ma_1.fit(start_ar_lags = 11)"
   ]
  },
  {
   "cell_type": "code",
   "execution_count": 39,
   "id": "c670f0a6",
   "metadata": {},
   "outputs": [
    {
     "name": "stdout",
     "output_type": "stream",
     "text": [
      "\n",
      " ARMA(1,1,3): \tLL =  -27585.411591805496 \tAIC =  55182.82318361099\n",
      "\n",
      " ARMA(5,1,1): \tLL =  -27581.503263269406 \tAIC =  55179.00652653881\n",
      "\n",
      " ARMA(6,1,3): \tLL =  -27576.588189456565 \tAIC =  55175.17637891313\n"
     ]
    }
   ],
   "source": [
    "print(\"\\n ARMA(1,1,3): \\tLL = \", results_ar_1_i_1_ma_3.llf, \"\\tAIC = \", results_ar_1_i_1_ma_3.aic)\n",
    "print(\"\\n ARMA(5,1,1): \\tLL = \",results_ar_5_i_1_ma_1.llf, \"\\tAIC = \", results_ar_5_i_1_ma_1.aic)\n",
    "print(\"\\n ARMA(6,1,3): \\tLL = \",results_ar_6_i_1_ma_3.llf, \"\\tAIC = \", results_ar_6_i_1_ma_3.aic)"
   ]
  },
  {
   "cell_type": "markdown",
   "id": "31e79b52",
   "metadata": {},
   "source": [
    "#### Conclusion - `ARIMA(6,1,3)` is the best predictor.\n",
    "\n",
    "##### NOTE - Since ARIMA(1,1,3) and ARIMA(5,1,1) are nested within ARIMA(6,1,3), we need to do the LLR test to make sure that the complexity is worth it."
   ]
  },
  {
   "cell_type": "code",
   "execution_count": 46,
   "id": "28cd4068",
   "metadata": {},
   "outputs": [
    {
     "name": "stdout",
     "output_type": "stream",
     "text": [
      "RUNNING THE L-BFGS-B CODE\n",
      "\n",
      "           * * *\n",
      "\n",
      "Machine precision = 2.220D-16\n",
      " N =            5     M =           12\n",
      "\n",
      "At X0         0 variables are exactly at the bounds\n",
      "\n",
      "At iterate    0    f=  5.49620D+00    |proj g|=  3.19744D-05\n",
      "\n",
      "At iterate    5    f=  5.49620D+00    |proj g|=  2.41585D-05\n",
      "\n",
      "At iterate   10    f=  5.49620D+00    |proj g|=  4.44089D-07\n",
      "\n",
      "At iterate   15    f=  5.49620D+00    |proj g|=  5.32907D-07\n",
      "\n",
      "At iterate   20    f=  5.49620D+00    |proj g|=  3.55271D-07\n",
      "\n",
      "At iterate   25    f=  5.49620D+00    |proj g|=  3.55271D-07\n",
      "\n",
      "           * * *\n",
      "\n",
      "Tit   = total number of iterations\n",
      "Tnf   = total number of function evaluations\n",
      "Tnint = total number of segments explored during Cauchy searches\n",
      "Skip  = number of BFGS updates skipped\n",
      "Nact  = number of active bounds at final generalized Cauchy point\n",
      "Projg = norm of the final projected gradient\n",
      "F     = final function value\n",
      "\n",
      "           * * *\n",
      "\n",
      "   N    Tit     Tnf  Tnint  Skip  Nact     Projg        F\n",
      "    5     25     39      1     0     0   3.553D-07   5.496D+00\n",
      "  F =   5.4961967706326949     \n",
      "\n",
      "CONVERGENCE: REL_REDUCTION_OF_F_<=_FACTR*EPSMCH             \n"
     ]
    },
    {
     "name": "stderr",
     "output_type": "stream",
     "text": [
      " This problem is unconstrained.\n"
     ]
    },
    {
     "name": "stdout",
     "output_type": "stream",
     "text": [
      "RUNNING THE L-BFGS-B CODE\n",
      "\n",
      "           * * *\n",
      "\n",
      "Machine precision = 2.220D-16\n",
      " N =           10     M =           12\n",
      "\n",
      "At X0         0 variables are exactly at the bounds\n",
      "\n",
      "At iterate    0    f=  5.49446D+00    |proj g|=  4.77396D-04\n"
     ]
    },
    {
     "name": "stderr",
     "output_type": "stream",
     "text": [
      " This problem is unconstrained.\n"
     ]
    },
    {
     "name": "stdout",
     "output_type": "stream",
     "text": [
      "\n",
      "At iterate    5    f=  5.49446D+00    |proj g|=  6.02363D-04\n",
      "\n",
      "At iterate   10    f=  5.49446D+00    |proj g|=  4.45599D-04\n",
      "\n",
      "At iterate   15    f=  5.49444D+00    |proj g|=  6.01030D-04\n",
      "\n",
      "At iterate   20    f=  5.49444D+00    |proj g|=  1.11022D-05\n",
      "\n",
      "At iterate   25    f=  5.49444D+00    |proj g|=  1.72218D-04\n",
      "\n",
      "At iterate   30    f=  5.49444D+00    |proj g|=  1.03650D-04\n",
      "\n",
      "At iterate   35    f=  5.49444D+00    |proj g|=  1.70530D-05\n",
      "\n",
      "At iterate   40    f=  5.49444D+00    |proj g|=  9.05942D-06\n",
      "\n",
      "At iterate   45    f=  5.49444D+00    |proj g|=  8.08242D-06\n",
      "\n",
      "At iterate   50    f=  5.49444D+00    |proj g|=  4.86722D-05\n",
      "\n",
      "At iterate   55    f=  5.49444D+00    |proj g|=  2.28262D-05\n",
      "\n",
      "At iterate   60    f=  5.49444D+00    |proj g|=  2.30926D-06\n",
      "\n",
      "           * * *\n",
      "\n",
      "Tit   = total number of iterations\n",
      "Tnf   = total number of function evaluations\n",
      "Tnint = total number of segments explored during Cauchy searches\n",
      "Skip  = number of BFGS updates skipped\n",
      "Nact  = number of active bounds at final generalized Cauchy point\n",
      "Projg = norm of the final projected gradient\n",
      "F     = final function value\n",
      "\n",
      "           * * *\n",
      "\n",
      "   N    Tit     Tnf  Tnint  Skip  Nact     Projg        F\n",
      "   10     61     75      1     0     0   2.220D-06   5.494D+00\n",
      "  F =   5.4944387705669122     \n",
      "\n",
      "CONVERGENCE: REL_REDUCTION_OF_F_<=_FACTR*EPSMCH             \n",
      "\n",
      "LLR test p-value = 0.003\n"
     ]
    }
   ],
   "source": [
    "print(\"\\nLLR test p-value = \" + str(LLR_test(model_ar_1_i_1_ma_3, model_ar_6_i_1_ma_3, DF = 5)))"
   ]
  },
  {
   "cell_type": "code",
   "execution_count": 47,
   "id": "90712083",
   "metadata": {},
   "outputs": [
    {
     "name": "stderr",
     "output_type": "stream",
     "text": [
      " This problem is unconstrained.\n"
     ]
    },
    {
     "name": "stdout",
     "output_type": "stream",
     "text": [
      "RUNNING THE L-BFGS-B CODE\n",
      "\n",
      "           * * *\n",
      "\n",
      "Machine precision = 2.220D-16\n",
      " N =            7     M =           12\n",
      "\n",
      "At X0         0 variables are exactly at the bounds\n",
      "\n",
      "At iterate    0    f=  5.49542D+00    |proj g|=  6.83009D-05\n",
      "\n",
      "At iterate    5    f=  5.49542D+00    |proj g|=  7.81597D-06\n",
      "\n",
      "At iterate   10    f=  5.49542D+00    |proj g|=  1.41220D-05\n",
      "\n",
      "           * * *\n",
      "\n",
      "Tit   = total number of iterations\n",
      "Tnf   = total number of function evaluations\n",
      "Tnint = total number of segments explored during Cauchy searches\n",
      "Skip  = number of BFGS updates skipped\n",
      "Nact  = number of active bounds at final generalized Cauchy point\n",
      "Projg = norm of the final projected gradient\n",
      "F     = final function value\n",
      "\n",
      "           * * *\n",
      "\n",
      "   N    Tit     Tnf  Tnint  Skip  Nact     Projg        F\n",
      "    7     14     22      1     0     0   3.553D-07   5.495D+00\n",
      "  F =   5.4954180641300159     \n",
      "\n",
      "CONVERGENCE: REL_REDUCTION_OF_F_<=_FACTR*EPSMCH             \n"
     ]
    },
    {
     "name": "stderr",
     "output_type": "stream",
     "text": [
      " This problem is unconstrained.\n"
     ]
    },
    {
     "name": "stdout",
     "output_type": "stream",
     "text": [
      "RUNNING THE L-BFGS-B CODE\n",
      "\n",
      "           * * *\n",
      "\n",
      "Machine precision = 2.220D-16\n",
      " N =           10     M =           12\n",
      "\n",
      "At X0         0 variables are exactly at the bounds\n",
      "\n",
      "At iterate    0    f=  5.49446D+00    |proj g|=  4.77396D-04\n",
      "\n",
      "At iterate    5    f=  5.49446D+00    |proj g|=  6.02363D-04\n",
      "\n",
      "At iterate   10    f=  5.49446D+00    |proj g|=  4.45599D-04\n",
      "\n",
      "At iterate   15    f=  5.49444D+00    |proj g|=  6.01030D-04\n",
      "\n",
      "At iterate   20    f=  5.49444D+00    |proj g|=  1.11022D-05\n",
      "\n",
      "At iterate   25    f=  5.49444D+00    |proj g|=  1.72218D-04\n",
      "\n",
      "At iterate   30    f=  5.49444D+00    |proj g|=  1.03650D-04\n",
      "\n",
      "At iterate   35    f=  5.49444D+00    |proj g|=  1.70530D-05\n",
      "\n",
      "At iterate   40    f=  5.49444D+00    |proj g|=  9.05942D-06\n",
      "\n",
      "At iterate   45    f=  5.49444D+00    |proj g|=  8.08242D-06\n",
      "\n",
      "At iterate   50    f=  5.49444D+00    |proj g|=  4.86722D-05\n",
      "\n",
      "At iterate   55    f=  5.49444D+00    |proj g|=  2.28262D-05\n",
      "\n",
      "At iterate   60    f=  5.49444D+00    |proj g|=  2.30926D-06\n",
      "\n",
      "           * * *\n",
      "\n",
      "Tit   = total number of iterations\n",
      "Tnf   = total number of function evaluations\n",
      "Tnint = total number of segments explored during Cauchy searches\n",
      "Skip  = number of BFGS updates skipped\n",
      "Nact  = number of active bounds at final generalized Cauchy point\n",
      "Projg = norm of the final projected gradient\n",
      "F     = final function value\n",
      "\n",
      "           * * *\n",
      "\n",
      "   N    Tit     Tnf  Tnint  Skip  Nact     Projg        F\n",
      "   10     61     75      1     0     0   2.220D-06   5.494D+00\n",
      "  F =   5.4944387705669122     \n",
      "\n",
      "CONVERGENCE: REL_REDUCTION_OF_F_<=_FACTR*EPSMCH             \n",
      "\n",
      "LLR test p-value = 0.02\n"
     ]
    }
   ],
   "source": [
    "print(\"\\nLLR test p-value = \" + str(LLR_test(model_ar_5_i_1_ma_1, model_ar_6_i_1_ma_3, DF = 3)))"
   ]
  },
  {
   "cell_type": "markdown",
   "id": "7b5c3ece",
   "metadata": {},
   "source": [
    "#### `Since, LLR test p-value < 5 % significance, the higher complexity is rationalized.` Therefore, `ARIMA(6,1,3)` is the best predictor."
   ]
  },
  {
   "cell_type": "code",
   "execution_count": 51,
   "id": "a8008e52",
   "metadata": {},
   "outputs": [
    {
     "data": {
      "image/png": "[encoded data removed]",
      "text/plain": [
       "<Figure size 432x288 with 1 Axes>"
      ]
     },
     "metadata": {},
     "output_type": "display_data"
    }
   ],
   "source": [
    "df['res_ar_6_i_1_ma_3'] = results_ar_6_i_1_ma_3.resid\n",
    "sgt.plot_acf(df.res_ar_6_i_1_ma_3[1:], zero = False, lags = 40)\n",
    "plt.title(\"ACF Residuals for ARIMA(6,1,3)\", size = 20)\n",
    "plt.show()"
   ]
  },
  {
   "cell_type": "markdown",
   "id": "33d213b9",
   "metadata": {},
   "source": [
    "### Models with Higher Levels of Integration\n",
    "\n",
    "#### How do we know if the integrated data set is stationary?\n",
    "1. Manually create an integrated version of the original time series.\n",
    "2. Use the Augmented Dickey Fuller test.\n",
    "\n",
    "`.diff(1)` -> Differences between values 1 period apart."
   ]
  },
  {
   "cell_type": "code",
   "execution_count": 53,
   "id": "da87afcb",
   "metadata": {},
   "outputs": [],
   "source": [
    "df['delta_prices'] = df.market_value.diff(1)"
   ]
  },
  {
   "cell_type": "code",
   "execution_count": 54,
   "id": "f150ca8a",
   "metadata": {},
   "outputs": [
    {
     "name": "stdout",
     "output_type": "stream",
     "text": [
      "RUNNING THE L-BFGS-B CODE\n",
      "\n",
      "           * * *\n",
      "\n",
      "Machine precision = 2.220D-16\n",
      " N =            3     M =           12\n",
      "\n",
      "At X0         0 variables are exactly at the bounds\n",
      "\n",
      "At iterate    0    f=  5.49884D+00    |proj g|=  4.53859D-05\n",
      "\n",
      "At iterate    5    f=  5.49884D+00    |proj g|=  3.01981D-06\n",
      "\n",
      "           * * *\n",
      "\n",
      "Tit   = total number of iterations\n",
      "Tnf   = total number of function evaluations\n",
      "Tnint = total number of segments explored during Cauchy searches\n",
      "Skip  = number of BFGS updates skipped\n",
      "Nact  = number of active bounds at final generalized Cauchy point\n",
      "Projg = norm of the final projected gradient\n",
      "F     = final function value\n",
      "\n",
      "           * * *\n",
      "\n",
      "   N    Tit     Tnf  Tnint  Skip  Nact     Projg        F\n",
      "    3      9     11      1     0     0   0.000D+00   5.499D+00\n",
      "  F =   5.4988363880690203     \n",
      "\n",
      "CONVERGENCE: NORM_OF_PROJECTED_GRADIENT_<=_PGTOL            \n"
     ]
    },
    {
     "name": "stderr",
     "output_type": "stream",
     "text": [
      " This problem is unconstrained.\n"
     ]
    },
    {
     "data": {
      "text/html": [
       "<table class=\"simpletable\">\n",
       "<caption>ARMA Model Results</caption>\n",
       "<tr>\n",
       "  <th>Dep. Variable:</th>   <td>delta_prices</td>   <th>  No. Observations:  </th>    <td>5019</td>   \n",
       "</tr>\n",
       "<tr>\n",
       "  <th>Model:</th>            <td>ARMA(1, 1)</td>    <th>  Log Likelihood     </th> <td>-27598.660</td>\n",
       "</tr>\n",
       "<tr>\n",
       "  <th>Method:</th>             <td>css-mle</td>     <th>  S.D. of innovations</th>   <td>59.139</td>  \n",
       "</tr>\n",
       "<tr>\n",
       "  <th>Date:</th>          <td>Thu, 20 Jan 2022</td> <th>  AIC                </th>  <td>55205.320</td>\n",
       "</tr>\n",
       "<tr>\n",
       "  <th>Time:</th>              <td>19:28:48</td>     <th>  BIC                </th>  <td>55231.404</td>\n",
       "</tr>\n",
       "<tr>\n",
       "  <th>Sample:</th>           <td>01-11-1994</td>    <th>  HQIC               </th>  <td>55214.460</td>\n",
       "</tr>\n",
       "<tr>\n",
       "  <th></th>                 <td>- 04-05-2013</td>   <th>                     </th>      <td> </td>    \n",
       "</tr>\n",
       "</table>\n",
       "<table class=\"simpletable\">\n",
       "<tr>\n",
       "           <td></td>             <th>coef</th>     <th>std err</th>      <th>z</th>      <th>P>|z|</th>  <th>[0.025</th>    <th>0.975]</th>  \n",
       "</tr>\n",
       "<tr>\n",
       "  <th>const</th>              <td>    0.5667</td> <td>    0.682</td> <td>    0.830</td> <td> 0.406</td> <td>   -0.771</td> <td>    1.904</td>\n",
       "</tr>\n",
       "<tr>\n",
       "  <th>ar.L1.delta_prices</th> <td>    0.7474</td> <td>    0.070</td> <td>   10.648</td> <td> 0.000</td> <td>    0.610</td> <td>    0.885</td>\n",
       "</tr>\n",
       "<tr>\n",
       "  <th>ma.L1.delta_prices</th> <td>   -0.7935</td> <td>    0.064</td> <td>  -12.374</td> <td> 0.000</td> <td>   -0.919</td> <td>   -0.668</td>\n",
       "</tr>\n",
       "</table>\n",
       "<table class=\"simpletable\">\n",
       "<caption>Roots</caption>\n",
       "<tr>\n",
       "    <td></td>   <th>            Real</th>  <th>         Imaginary</th> <th>         Modulus</th>  <th>        Frequency</th>\n",
       "</tr>\n",
       "<tr>\n",
       "  <th>AR.1</th> <td>           1.3380</td> <td>          +0.0000j</td> <td>           1.3380</td> <td>           0.0000</td>\n",
       "</tr>\n",
       "<tr>\n",
       "  <th>MA.1</th> <td>           1.2602</td> <td>          +0.0000j</td> <td>           1.2602</td> <td>           0.0000</td>\n",
       "</tr>\n",
       "</table>"
      ],
      "text/plain": [
       "<class 'statsmodels.iolib.summary.Summary'>\n",
       "\"\"\"\n",
       "                              ARMA Model Results                              \n",
       "==============================================================================\n",
       "Dep. Variable:           delta_prices   No. Observations:                 5019\n",
       "Model:                     ARMA(1, 1)   Log Likelihood              -27598.660\n",
       "Method:                       css-mle   S.D. of innovations             59.139\n",
       "Date:                Thu, 20 Jan 2022   AIC                          55205.320\n",
       "Time:                        19:28:48   BIC                          55231.404\n",
       "Sample:                    01-11-1994   HQIC                         55214.460\n",
       "                         - 04-05-2013                                         \n",
       "======================================================================================\n",
       "                         coef    std err          z      P>|z|      [0.025      0.975]\n",
       "--------------------------------------------------------------------------------------\n",
       "const                  0.5667      0.682      0.830      0.406      -0.771       1.904\n",
       "ar.L1.delta_prices     0.7474      0.070     10.648      0.000       0.610       0.885\n",
       "ma.L1.delta_prices    -0.7935      0.064    -12.374      0.000      -0.919      -0.668\n",
       "                                    Roots                                    \n",
       "=============================================================================\n",
       "                  Real          Imaginary           Modulus         Frequency\n",
       "-----------------------------------------------------------------------------\n",
       "AR.1            1.3380           +0.0000j            1.3380            0.0000\n",
       "MA.1            1.2602           +0.0000j            1.2602            0.0000\n",
       "-----------------------------------------------------------------------------\n",
       "\"\"\""
      ]
     },
     "execution_count": 54,
     "metadata": {},
     "output_type": "execute_result"
    }
   ],
   "source": [
    "model_delta_ar_1_i_1_ma_1 = ARIMA(df.delta_prices[1:], order = (1,0,1))\n",
    "results_delta_ar_1_i_1_ma_1 = model_delta_ar_1_i_1_ma_1.fit()\n",
    "results_delta_ar_1_i_1_ma_1.summary()"
   ]
  },
  {
   "cell_type": "code",
   "execution_count": 56,
   "id": "b5deddd8",
   "metadata": {},
   "outputs": [
    {
     "data": {
      "text/plain": [
       "(-32.238943106931366,\n",
       " 0.0,\n",
       " 5,\n",
       " 5013,\n",
       " {'1%': -3.431655136974821,\n",
       "  '5%': -2.8621167297421373,\n",
       "  '10%': -2.567076993884522},\n",
       " 54834.31732499655)"
      ]
     },
     "execution_count": 56,
     "metadata": {},
     "output_type": "execute_result"
    }
   ],
   "source": [
    "sts.adfuller(df.delta_prices[1:])"
   ]
  },
  {
   "cell_type": "markdown",
   "id": "c850420a",
   "metadata": {},
   "source": [
    "`-32.238943106931366 < 10% significance value` & `P value = 0` => Therefore, it is `stationary data`\n",
    "\n",
    "<img src = Images/ARIMA111.png>\n",
    "##### NOTE - Summary tables of ARIMA(1,1,1) and ARMA(1,1) are identical.\n",
    "\n",
    "This means that there is `no need of additional layers of integration.`"
   ]
  },
  {
   "cell_type": "markdown",
   "id": "c164d962",
   "metadata": {},
   "source": [
    "### Issues with ARIMA Model\n",
    "\n",
    "1. More and more `computationally expensive.`\n",
    "2. `Transform the data several times`.\n",
    "3. `Differentiate the values from zero`.\n",
    "4. Margin of something being significant or insignificant becomes `narrow` and this can lead to some models `failing to converge even after many iterations.`\n",
    "5. When the numbers are `too small`, we may encounter `numeric instability.` \n",
    "For example - 0.0000000... = 0 (approx) -> Leads to loss of information.\n",
    "6. The more layers we add, the harder it is to interpret the results.\n",
    "\n",
    "### MAX Models\n",
    "A model that takes into account more than just past prices or past residuals.\n",
    "\n",
    "#### ARMAX - Non-integrated\n",
    "\n",
    "<img src = Images/ARIMAX-eq.png>\n",
    "<img src = Images/ARIMAX-eq1.png>\n",
    "\n",
    "##### NOTE - X -> exogeneous variable => `exog`\n",
    "\n",
    "`exog = array_type` -> The values need to be in array type since we want values from every time period.\n",
    "\n",
    "\n",
    "#### ARIMAX - Integrated"
   ]
  }
 ],
 "metadata": {
  "kernelspec": {
   "display_name": "Python 3 (ipykernel)",
   "language": "python",
   "name": "python3"
  },
  "language_info": {
   "codemirror_mode": {
    "name": "ipython",
    "version": 3
   },
   "file_extension": ".py",
   "mimetype": "text/x-python",
   "name": "python",
   "nbconvert_exporter": "python",
   "pygments_lexer": "ipython3",
   "version": "3.9.7"
  }
 },
 "nbformat": 4,
 "nbformat_minor": 5
}
