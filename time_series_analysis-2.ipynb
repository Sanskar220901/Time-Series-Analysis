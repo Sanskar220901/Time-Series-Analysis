{
 "cells": [
  {
   "cell_type": "markdown",
   "id": "8cab3746",
   "metadata": {},
   "source": [
    "# Importing Packages"
   ]
  },
  {
   "cell_type": "code",
   "execution_count": 3,
   "id": "ccf0665e",
   "metadata": {},
   "outputs": [],
   "source": [
    "import pandas as pd\n",
    "import numpy as np\n",
    "import matplotlib.pyplot as plt\n",
    "import statsmodels.graphics.tsaplots as sgt\n",
    "import statsmodels.tsa.stattools as sts\n",
    "from statsmodels.tsa.seasonal import seasonal_decompose\n",
    "from statsmodels.tsa.arima_model import ARMA\n",
    "from scipy.stats.distributions import chi2\n",
    "import seaborn as sns\n",
    "sns.set()\n",
    "import warnings\n",
    "warnings.filterwarnings(\"ignore\")"
   ]
  },
  {
   "cell_type": "markdown",
   "id": "ed141b29",
   "metadata": {},
   "source": [
    "### statsmodels.tsa.stattools as sts \n",
    "Used to implement the Dickey-Fuller (DF) test"
   ]
  },
  {
   "cell_type": "markdown",
   "id": "c46b6c96",
   "metadata": {},
   "source": [
    "# Loading & Transforming the data"
   ]
  },
  {
   "cell_type": "code",
   "execution_count": 4,
   "id": "570c6a23",
   "metadata": {},
   "outputs": [],
   "source": [
    "raw_csv_data = pd.read_csv(\"Index2018.csv\")\n",
    "df_comp = raw_csv_data.copy()\n",
    "df_comp.date = pd.to_datetime(df_comp.date, dayfirst = True)\n",
    "df_comp.set_index(\"date\", inplace = True)\n",
    "df_comp = df_comp.asfreq('b')\n",
    "df_comp = df_comp.fillna(method = 'ffill')"
   ]
  },
  {
   "cell_type": "markdown",
   "id": "2e224443",
   "metadata": {},
   "source": [
    "# Removing Surplus Data"
   ]
  },
  {
   "cell_type": "code",
   "execution_count": 5,
   "id": "98fe7c6b",
   "metadata": {},
   "outputs": [],
   "source": [
    "df_comp['market_value'] = df_comp.spx"
   ]
  },
  {
   "cell_type": "code",
   "execution_count": 6,
   "id": "71c2b81f",
   "metadata": {},
   "outputs": [],
   "source": [
    "del df_comp['spx'],df_comp['dax'],df_comp['ftse'],df_comp['nikkei']\n",
    "size = int(len(df_comp)*0.8)\n",
    "df, df_test = df_comp.iloc[:size], df_comp.iloc[size:]"
   ]
  },
  {
   "cell_type": "markdown",
   "id": "779b1597",
   "metadata": {},
   "source": [
    "# White Noise"
   ]
  },
  {
   "cell_type": "markdown",
   "id": "26175ed6",
   "metadata": {},
   "source": [
    "A special type of time-series, where the data doesn't follow a pattern.\n",
    "\n",
    "It can also be defined as a sequence of random data, where every value has a time-period associated with it.\n",
    "\n",
    "##### NOTE - Since there is no pattern, we cannot predict white noise\n",
    "\n",
    "#### Criteria for a time series to be considered white noise:\n",
    "1. Constant mean (always zero)\n",
    "2. Constant variance\n",
    "3. No autocorrelation in any period -> No clear relationship betweeen past and present values i.e. autocorrelation = 0 (always).\n",
    "\n",
    "<img src = \"Images/white noise.png\">"
   ]
  },
  {
   "cell_type": "code",
   "execution_count": 7,
   "id": "4f3bcbf8",
   "metadata": {},
   "outputs": [],
   "source": [
    "wn = np.random.normal(loc = df.market_value.mean(), scale = df.market_value.std(), size = len(df))"
   ]
  },
  {
   "cell_type": "markdown",
   "id": "6182d626",
   "metadata": {},
   "source": [
    "### random.normal() \n",
    "Part of the NumPy package which creates an array of random values from a normal distribution.\n",
    "\n",
    "If we want the sequence to be comparable to the S&P one, we should set its mean and standard deviation.\n",
    "\n",
    "For convenience, Pandas provides methods called mean() and std(), which estimate those values for an attribute of a data frame. \n",
    "\n",
    "\n",
    "### loc()\n",
    "The location argument of the loc() method takes numbers for the average point of the distribution.\n",
    "\n",
    "scale paramter -> indicates how wide the distribution is.\n",
    "\n",
    "size parameter -> defines how many values we want to generate.\n",
    "\n",
    "##### NOTE - If we want the sequence to serve as a good comparison, it should have as many elements as our time series."
   ]
  },
  {
   "cell_type": "code",
   "execution_count": 8,
   "id": "847c9b83",
   "metadata": {},
   "outputs": [],
   "source": [
    "df['wn'] = wn"
   ]
  },
  {
   "cell_type": "code",
   "execution_count": 9,
   "id": "d283b1da",
   "metadata": {},
   "outputs": [
    {
     "data": {
      "text/html": [
       "<div>\n",
       "<style scoped>\n",
       "    .dataframe tbody tr th:only-of-type {\n",
       "        vertical-align: middle;\n",
       "    }\n",
       "\n",
       "    .dataframe tbody tr th {\n",
       "        vertical-align: top;\n",
       "    }\n",
       "\n",
       "    .dataframe thead th {\n",
       "        text-align: right;\n",
       "    }\n",
       "</style>\n",
       "<table border=\"1\" class=\"dataframe\">\n",
       "  <thead>\n",
       "    <tr style=\"text-align: right;\">\n",
       "      <th></th>\n",
       "      <th>market_value</th>\n",
       "      <th>wn</th>\n",
       "    </tr>\n",
       "  </thead>\n",
       "  <tbody>\n",
       "    <tr>\n",
       "      <th>count</th>\n",
       "      <td>5021.000000</td>\n",
       "      <td>5021.000000</td>\n",
       "    </tr>\n",
       "    <tr>\n",
       "      <th>mean</th>\n",
       "      <td>1091.651926</td>\n",
       "      <td>1088.698979</td>\n",
       "    </tr>\n",
       "    <tr>\n",
       "      <th>std</th>\n",
       "      <td>292.559287</td>\n",
       "      <td>288.723411</td>\n",
       "    </tr>\n",
       "    <tr>\n",
       "      <th>min</th>\n",
       "      <td>438.920000</td>\n",
       "      <td>21.272644</td>\n",
       "    </tr>\n",
       "    <tr>\n",
       "      <th>25%</th>\n",
       "      <td>914.620000</td>\n",
       "      <td>890.941147</td>\n",
       "    </tr>\n",
       "    <tr>\n",
       "      <th>50%</th>\n",
       "      <td>1144.650000</td>\n",
       "      <td>1089.497677</td>\n",
       "    </tr>\n",
       "    <tr>\n",
       "      <th>75%</th>\n",
       "      <td>1316.280729</td>\n",
       "      <td>1281.905023</td>\n",
       "    </tr>\n",
       "    <tr>\n",
       "      <th>max</th>\n",
       "      <td>1570.252238</td>\n",
       "      <td>2090.370630</td>\n",
       "    </tr>\n",
       "  </tbody>\n",
       "</table>\n",
       "</div>"
      ],
      "text/plain": [
       "       market_value           wn\n",
       "count   5021.000000  5021.000000\n",
       "mean    1091.651926  1088.698979\n",
       "std      292.559287   288.723411\n",
       "min      438.920000    21.272644\n",
       "25%      914.620000   890.941147\n",
       "50%     1144.650000  1089.497677\n",
       "75%     1316.280729  1281.905023\n",
       "max     1570.252238  2090.370630"
      ]
     },
     "execution_count": 9,
     "metadata": {},
     "output_type": "execute_result"
    }
   ],
   "source": [
    "df.describe()"
   ]
  },
  {
   "cell_type": "markdown",
   "id": "04955fe3",
   "metadata": {},
   "source": [
    "##### NOTE - The mean of two columns is similar but not entirely equal. \n",
    "\n",
    "#### The reason is that the white noise values we generated are normally distributed around the mean of the S&P. However, since each one is generated individually, the average does not have to end up being the same."
   ]
  },
  {
   "cell_type": "code",
   "execution_count": 10,
   "id": "13e1b6ee",
   "metadata": {},
   "outputs": [
    {
     "data": {
      "image/png": "[encoded data removed]",
      "text/plain": [
       "<Figure size 1440x360 with 1 Axes>"
      ]
     },
     "metadata": {},
     "output_type": "display_data"
    }
   ],
   "source": [
    "df.wn.plot(figsize = (20, 5))\n",
    "plt.title(\"White Noise Time-Series\", size = 24)\n",
    "plt.show()"
   ]
  },
  {
   "cell_type": "code",
   "execution_count": 11,
   "id": "7ea4136d",
   "metadata": {},
   "outputs": [
    {
     "data": {
      "image/png": "[encoded data removed]",
      "text/plain": [
       "<Figure size 1440x360 with 1 Axes>"
      ]
     },
     "metadata": {},
     "output_type": "display_data"
    }
   ],
   "source": [
    "df.market_value.plot(figsize = (20,5))\n",
    "plt.title(\"S&P Prices\", size = 24)\n",
    "plt.ylim(0,2300)\n",
    "plt.show()"
   ]
  },
  {
   "cell_type": "markdown",
   "id": "2672e19c",
   "metadata": {},
   "source": [
    "### ylim()\n",
    "Used to reset the range of values on Y-axis."
   ]
  },
  {
   "cell_type": "markdown",
   "id": "b5f6a5e9",
   "metadata": {},
   "source": [
    "# Random Walk\n",
    "A special type of time-series, where values tend to persist over time and the differences between periods are simply white noise.\n",
    "\n",
    "##### Suppose Pt = Prices and Et = Residuals\n",
    "##### Random walk -> Pt = Pt-1 + Et\n",
    "##### where Et -> white noise (arbitrary and cannot be predicted)\n",
    "\n",
    "This suggests that the best estimates for prices today are prices yesterday."
   ]
  },
  {
   "cell_type": "code",
   "execution_count": 12,
   "id": "50c27f1e",
   "metadata": {},
   "outputs": [],
   "source": [
    "rw = pd.read_csv(\"RandWalk.csv\")\n",
    "rw.date = pd.to_datetime(rw.date, dayfirst = True)\n",
    "rw.set_index(\"date\",inplace = True)\n",
    "rw = rw.asfreq('b')"
   ]
  },
  {
   "cell_type": "code",
   "execution_count": 13,
   "id": "aaf348d2",
   "metadata": {},
   "outputs": [
    {
     "data": {
      "text/html": [
       "<div>\n",
       "<style scoped>\n",
       "    .dataframe tbody tr th:only-of-type {\n",
       "        vertical-align: middle;\n",
       "    }\n",
       "\n",
       "    .dataframe tbody tr th {\n",
       "        vertical-align: top;\n",
       "    }\n",
       "\n",
       "    .dataframe thead th {\n",
       "        text-align: right;\n",
       "    }\n",
       "</style>\n",
       "<table border=\"1\" class=\"dataframe\">\n",
       "  <thead>\n",
       "    <tr style=\"text-align: right;\">\n",
       "      <th></th>\n",
       "      <th>price</th>\n",
       "    </tr>\n",
       "  </thead>\n",
       "  <tbody>\n",
       "    <tr>\n",
       "      <th>count</th>\n",
       "      <td>5021.000000</td>\n",
       "    </tr>\n",
       "    <tr>\n",
       "      <th>mean</th>\n",
       "      <td>1269.944293</td>\n",
       "    </tr>\n",
       "    <tr>\n",
       "      <th>std</th>\n",
       "      <td>444.216793</td>\n",
       "    </tr>\n",
       "    <tr>\n",
       "      <th>min</th>\n",
       "      <td>585.483034</td>\n",
       "    </tr>\n",
       "    <tr>\n",
       "      <th>25%</th>\n",
       "      <td>931.550429</td>\n",
       "    </tr>\n",
       "    <tr>\n",
       "      <th>50%</th>\n",
       "      <td>1156.363045</td>\n",
       "    </tr>\n",
       "    <tr>\n",
       "      <th>75%</th>\n",
       "      <td>1488.362029</td>\n",
       "    </tr>\n",
       "    <tr>\n",
       "      <th>max</th>\n",
       "      <td>2715.508720</td>\n",
       "    </tr>\n",
       "  </tbody>\n",
       "</table>\n",
       "</div>"
      ],
      "text/plain": [
       "             price\n",
       "count  5021.000000\n",
       "mean   1269.944293\n",
       "std     444.216793\n",
       "min     585.483034\n",
       "25%     931.550429\n",
       "50%    1156.363045\n",
       "75%    1488.362029\n",
       "max    2715.508720"
      ]
     },
     "execution_count": 13,
     "metadata": {},
     "output_type": "execute_result"
    }
   ],
   "source": [
    "rw.describe()"
   ]
  },
  {
   "cell_type": "code",
   "execution_count": 14,
   "id": "09858935",
   "metadata": {},
   "outputs": [],
   "source": [
    "df['rw'] = rw.price"
   ]
  },
  {
   "cell_type": "code",
   "execution_count": 15,
   "id": "1d378647",
   "metadata": {},
   "outputs": [
    {
     "data": {
      "text/html": [
       "<div>\n",
       "<style scoped>\n",
       "    .dataframe tbody tr th:only-of-type {\n",
       "        vertical-align: middle;\n",
       "    }\n",
       "\n",
       "    .dataframe tbody tr th {\n",
       "        vertical-align: top;\n",
       "    }\n",
       "\n",
       "    .dataframe thead th {\n",
       "        text-align: right;\n",
       "    }\n",
       "</style>\n",
       "<table border=\"1\" class=\"dataframe\">\n",
       "  <thead>\n",
       "    <tr style=\"text-align: right;\">\n",
       "      <th></th>\n",
       "      <th>market_value</th>\n",
       "      <th>wn</th>\n",
       "      <th>rw</th>\n",
       "    </tr>\n",
       "    <tr>\n",
       "      <th>date</th>\n",
       "      <th></th>\n",
       "      <th></th>\n",
       "      <th></th>\n",
       "    </tr>\n",
       "  </thead>\n",
       "  <tbody>\n",
       "    <tr>\n",
       "      <th>1994-01-07</th>\n",
       "      <td>469.90</td>\n",
       "      <td>1424.549022</td>\n",
       "      <td>1122.139662</td>\n",
       "    </tr>\n",
       "    <tr>\n",
       "      <th>1994-01-10</th>\n",
       "      <td>475.27</td>\n",
       "      <td>857.974112</td>\n",
       "      <td>1080.347860</td>\n",
       "    </tr>\n",
       "    <tr>\n",
       "      <th>1994-01-11</th>\n",
       "      <td>474.13</td>\n",
       "      <td>406.069868</td>\n",
       "      <td>1082.095245</td>\n",
       "    </tr>\n",
       "    <tr>\n",
       "      <th>1994-01-12</th>\n",
       "      <td>474.17</td>\n",
       "      <td>864.090640</td>\n",
       "      <td>1083.639265</td>\n",
       "    </tr>\n",
       "    <tr>\n",
       "      <th>1994-01-13</th>\n",
       "      <td>472.47</td>\n",
       "      <td>1207.201985</td>\n",
       "      <td>1067.146255</td>\n",
       "    </tr>\n",
       "  </tbody>\n",
       "</table>\n",
       "</div>"
      ],
      "text/plain": [
       "            market_value           wn           rw\n",
       "date                                              \n",
       "1994-01-07        469.90  1424.549022  1122.139662\n",
       "1994-01-10        475.27   857.974112  1080.347860\n",
       "1994-01-11        474.13   406.069868  1082.095245\n",
       "1994-01-12        474.17   864.090640  1083.639265\n",
       "1994-01-13        472.47  1207.201985  1067.146255"
      ]
     },
     "execution_count": 15,
     "metadata": {},
     "output_type": "execute_result"
    }
   ],
   "source": [
    "df.head()"
   ]
  },
  {
   "cell_type": "code",
   "execution_count": 18,
   "id": "0365c99d",
   "metadata": {},
   "outputs": [
    {
     "data": {
      "image/png": "[encoded data removed]",
      "text/plain": [
       "<Figure size 1440x360 with 1 Axes>"
      ]
     },
     "metadata": {},
     "output_type": "display_data"
    }
   ],
   "source": [
    "df.rw.plot(figsize = (20,5))\n",
    "df.market_value.plot()\n",
    "plt.title(\"Random Walk vs S&P\", size = 24)\n",
    "plt.show()"
   ]
  },
  {
   "cell_type": "markdown",
   "id": "7ee54ebc",
   "metadata": {},
   "source": [
    "##### NOTE - Both graphs have the following similarities:\n",
    "1. Small variations betweeen consecutive time periods.\n",
    "2. Cyclical increases and decreases in the short periods of time.\n",
    "\n",
    "#### Market Efficiency\n",
    "Measures the level of difficulty in forecasting correct future values.\n",
    "\n",
    "##### NOTE - \n",
    "1. If a time series resembles a random walk, the prices CAN'T be predicted with great efficiency.\n",
    "2. If future prices can be predicted with great accuracy, then there are ARBITRAGE opportunities.\n",
    "\n",
    "#### Arbitrage\n",
    "When investors manage to buy and sell commodities and make a safe profit while the price adjusts.\n",
    "\n",
    "According to theory, if such opportunities exist within a market, investors are bound to take advantage which would eventually lead to a price that matches the expected one. As a result, prices adjust accordingly."
   ]
  },
  {
   "cell_type": "markdown",
   "id": "6ec48e3c",
   "metadata": {},
   "source": [
    "### Stationarity\n",
    "<img src = \"Images/stationarity.png\">\n",
    "\n",
    "Implies that taking consecutive samples of data with the same size should have identical covariances regardless of the starting point.\n",
    "\n",
    "This characteristic of the data is also known as - \n",
    "#### weak form stationarity or covariance stationarity.\n",
    "\n",
    "##### NOTE - Covariance is a measure of how much two random variables vary together. It’s similar to variance, but where variance tells you how a single variable varies, co variance tells you how two variables vary together.\n",
    "\n",
    "#### Assumptions for covariance stationarity:\n",
    "1. Constant mean\n",
    "2. Constant variance\n",
    "3. Consistent covariance between periods at an identical distance from one another. In other words, we want to have the same covariance between the first and fourth period as we do for the third and sixth since they are three intervals apart.\n",
    "\n",
    "##### NOTE  - An obvious example of a weak form stationarity is white noise.\n",
    "\n",
    "Refer to criteria for a time series to be considered white noise above.\n",
    "\n",
    "Since covariance is simply correlation multiplied by the standard deviations, it would also equal zero. \n",
    "\n",
    "Therefore, white noise really satisfies all the assumptions of a covariance stationarity process.\n",
    "\n",
    "##### NOTE - Stationarity = Covariance stationarity (in real world scenarios)"
   ]
  },
  {
   "cell_type": "markdown",
   "id": "988a3218",
   "metadata": {},
   "source": [
    "### Determining Weak Form Stationarity\n",
    "\n",
    "To conduct proper time series analysis, it is vital to determine whether the data follows stationarity or non-stationarity process.\n",
    "\n",
    "### Dickey-Fuller (DF) Test\n",
    "\n",
    "An augmented version of the test was developed for time dependency in the data.\n",
    "\n",
    "##### Null Hypothesis             -> H0\n",
    "##### Alternate Hypothesis -> H1\n",
    "\n",
    "#### Important\n",
    "The null hypothesis (H0) of the Dickey Fuller Test assumes NON-STATIONARITY. More precisely, it assumes that the one lag autocorrelation coefficient is lower than one.\n",
    "\n",
    "The alternate hypothesis (H0) of the Dickey Fuller Test assumes STATIONARITY.\n",
    "\n",
    "When we have computed the test statistic, we can compare it to the critical value in the Dickey-Fuller table.\n",
    "\n",
    "#### If test statistic < critical value\n",
    "#### => Reject the null hypothesis => Data comes from a stationary process\n",
    "\n",
    "#### Dickey-Fuller (DF) Test - Hypothesis\n",
    "<img src=\"Images/DF test.png\">"
   ]
  },
  {
   "cell_type": "code",
   "execution_count": 38,
   "id": "3562fef0",
   "metadata": {},
   "outputs": [
    {
     "data": {
      "text/plain": [
       "(-1.7369847452352478,\n",
       " 0.41216456967706006,\n",
       " 18,\n",
       " 5002,\n",
       " {'1%': -3.431658008603046,\n",
       "  '5%': -2.862117998412982,\n",
       "  '10%': -2.567077669247375},\n",
       " 39904.880607487445)"
      ]
     },
     "execution_count": 38,
     "metadata": {},
     "output_type": "execute_result"
    }
   ],
   "source": [
    "sts.adfuller(df.market_value)"
   ]
  },
  {
   "cell_type": "markdown",
   "id": "bd548dcc",
   "metadata": {},
   "source": [
    "### adfuller()\n",
    "Used to implement the Dickey-Fuller (DF) test.\n",
    "\n",
    "##### NOTE - Python provides us with 1%, 5% and 10% critical values of the Dickey-Fuller (DF) test.\n",
    "\n",
    "#### FIRST LINE -> we can notice that the t statistic value of -1.7369847452352478 is greater than each of the critical values. Thus, for all these levels of significance, we do not find sufficient evidence of stationarity in the data set.\n",
    "\n",
    "#### SECOND LINE -> expresses the p value (0.41216456967706006) associated with the t statistic.\n",
    "\n",
    "#### The p value suggests there is roughly a 40 percent chance of not rejecting the null hypothesis. So we can't confirm the data is stationarity.\n",
    "\n",
    "### `p value (higher) -> process might be non-stationarity\n",
    "### p value (lower) -> process might be stationarity.`\n",
    "\n",
    "#### THIRD LINE -> number of lags used in the regression when determining the t statistic. In this case we have 18, so there are some autocorrelation going back 18 periods. We take this into account when picking up the appropriate model.\n",
    "\n",
    "#### FOURTH LINE -> number of observations used in the analysis. This value depends on the number of lags used in the regression. So the two should usually add up to the size of the data set.\n",
    "\n",
    "#### LAST LINE -> estimates the `maximized information criteria` provided there is some apparent correlation.\n",
    "##### `The lower the information criteria value, the easier it is to make predictions for the future.`\n",
    "\n",
    "##### NOTE - A dependent variabxle that is LAGGED in time. For example, if Yt is the dependent variable, then Yt-1 will be a lagged dependent variable with a lag of ONE PERIOD. Lagged values are used in Dynamic Regression modeling."
   ]
  },
  {
   "cell_type": "markdown",
   "id": "7d1b927c",
   "metadata": {},
   "source": [
    "sts.adfuller(df.wn)"
   ]
  },
  {
   "cell_type": "markdown",
   "id": "df6a8fb4",
   "metadata": {},
   "source": [
    "##### NOTE - We know that white noise is a stationarity process so we expect to get a very low p value. Additionally, since there is no autocorrelation in white noise, there should be no lags involved in the regression."
   ]
  },
  {
   "cell_type": "code",
   "execution_count": 40,
   "id": "be2ca5fa",
   "metadata": {},
   "outputs": [
    {
     "data": {
      "text/plain": [
       "(-1.3286073927689719,\n",
       " 0.6159849181617385,\n",
       " 24,\n",
       " 4996,\n",
       " {'1%': -3.4316595802782865,\n",
       "  '5%': -2.8621186927706463,\n",
       "  '10%': -2.567078038881065},\n",
       " 46299.333497595144)"
      ]
     },
     "execution_count": 40,
     "metadata": {},
     "output_type": "execute_result"
    }
   ],
   "source": [
    "sts.adfuller(df.rw)"
   ]
  },
  {
   "cell_type": "markdown",
   "id": "63150aae",
   "metadata": {},
   "source": [
    "##### NOTE - We don't have significant evidence to identify this time series as stationarity. Based on the p value, there is more than 60% chance the data comes from a non stationarity process.\n",
    "\n",
    "#### More often than not, random walk intervals of the same size differ significantly due to uncertainty of the process. So each day's price might go up or down, but the starting position is always different. Moreover, chance dictates that we can have intervals of alternating ups and downs and prices as well as once with constant increase.\n",
    "\n",
    "\n",
    "###  Intervals of Alternating Ups and Downs and Prices\n",
    "<img src = \"Images/up-down.png\">\n",
    "\n",
    "###  Constant Increase\n",
    "<img src = \"Images/constant.png\">\n",
    "\n",
    "### Conclusion\n",
    "<img src = \"Images/conclusion.png\">"
   ]
  },
  {
   "cell_type": "markdown",
   "id": "edd77825",
   "metadata": {},
   "source": [
    "## Seasonality\n",
    "\n",
    "Trends will appear on a cyclical basis.\n",
    "\n",
    "### Decomposition\n",
    "Split into 3 effects:\n",
    "1. Trend - Pattern consistent throughout the data.\n",
    "2. Seasonal - Cyclical effects due to seasonality\n",
    "3. Residual - Error of prediction or the difference between the actual data and the model we fit.\n",
    "\n",
    "### Type of Decompositon\n",
    "1. \"Naive\" Decomposition - We expect a linear relationship between the three parts and the observed time series.\n",
    "\n",
    "Two main approaches of \"Naive\" Decomposition:\n",
    "1. Additive - Assumes that for any time period, the observed value is the sum of the trend, seasonal and residual. \n",
    "\n",
    "#### Observed value = Trend + Seasonal + Residual\n",
    "\n",
    "2. Multiplicative - Assumes the original series is a product of the trend, seasonal and residual.\n",
    "\n",
    "#### Observed value = Trend * Seasonal * Residual\n",
    "\n",
    "##### statsmodels.tsa.seasonal package of the statsmodel takes a time series and splits it up into three parts."
   ]
  },
  {
   "cell_type": "code",
   "execution_count": 42,
   "id": "baad7ecd",
   "metadata": {},
   "outputs": [
    {
     "data": {
      "image/png": "[encoded data removed]",
      "text/plain": [
       "<Figure size 432x288 with 4 Axes>"
      ]
     },
     "metadata": {},
     "output_type": "display_data"
    }
   ],
   "source": [
    "s_dec_additive = seasonal_decompose(df.market_value, model = \"additive\")\n",
    "s_dec_additive.plot()\n",
    "plt.show()"
   ]
  },
  {
   "cell_type": "markdown",
   "id": "cc864468",
   "metadata": {},
   "source": [
    "##### NOTE - As we can see, the trend closely resembles the observed series. That's because the decomposition function uses the previous values as a trend-setter.\n",
    "\n",
    "##### The SEASONAL plot looks like a rectangle. This happens when the values are CONSTANTLY OSCILLATING back and forth and the figure size is too small. In our case, the linear change results from constantly switching up and down between -0.2 and +1 every period. Therefore, there is no concrete cyclical pattern determined by using \"Naive\" decomposition.\n",
    "\n",
    "##### The RESIDUAL plot is the errors of our model estimates. They are the difference between the TRUE VALUES and PREDICTIONS for  ANY PERIOD. As we can see, the residuals vary greatly around the turn of the century and around 2008, this can be explained by the instability caused by the dotcom and housing prices bubbles respectively.\n",
    "\n",
    "#### Overall, the results of the additive decomposition suggest no seasonality in the data."
   ]
  },
  {
   "cell_type": "code",
   "execution_count": 43,
   "id": "c2255933",
   "metadata": {},
   "outputs": [
    {
     "data": {
      "image/png": "[encoded data removed]",
      "text/plain": [
       "<Figure size 432x288 with 4 Axes>"
      ]
     },
     "metadata": {},
     "output_type": "display_data"
    }
   ],
   "source": [
    "s_dec_multiplicative = seasonal_decompose(df.market_value, model = \"multiplicative\")\n",
    "s_dec_multiplicative.plot()\n",
    "plt.show()"
   ]
  },
  {
   "cell_type": "markdown",
   "id": "aabbbb4f",
   "metadata": {},
   "source": [
    "#### This proves that there is no seasonality among S&P prices."
   ]
  },
  {
   "cell_type": "markdown",
   "id": "5bba9fa7",
   "metadata": {},
   "source": [
    "### Correlation between Past and Present Values\n",
    "1. Correlation - Measures the similarity in the change of values of two series.\n",
    "2. Autocorrelation - Correlation between a sequence and itself. More precisely, it measures the level of resemblance between a sequence from several periods ago and the actual data. Such a series is called Lagged because it is essentially a delayed version of the original one."
   ]
  },
  {
   "cell_type": "markdown",
   "id": "637357f6",
   "metadata": {},
   "source": [
    "### The Autocorrelation Function (ACF)\n",
    "<img src = \"Images/ACF1.png\">\n",
    "\n",
    "The ACF computes the autocorrelation value for however many lags we are interested in simultaneously.\n",
    "\n",
    "Because the correlation of the time series observations is calculated with values of the same series at previous times, this is called a serial correlation, or an autocorrelation. A plot of the autocorrelation of a time series by lag is called the AutoCorrelation Function."
   ]
  },
  {
   "cell_type": "markdown",
   "id": "a5ee914f",
   "metadata": {},
   "source": [
    "#### We need to assign a value to the lags argument because the default value is the length of the time series. In a set with thousands of observations, computing so many lag values would be extremely time consuming and unncessary.\n",
    "\n",
    "##### NOTE - In time series analysis, common practices dictates analyzing the first 40 lags.\n",
    "\n",
    "##### Keep in mind that by saying the first 40 lags, we mean the LAST 40 periods before the current one.\n",
    "\n",
    "#### zero -> This argument indicates whether we include current period values in the graph. \n",
    "\n",
    "##### For correlation functions, this is unnecessary because the correlation between a value and itself will always be one. This will lead to always having the first bar of the graph equal to one, which makes the plot more difficult to comprehend correctly. Therefore, setting the argument equal to false ensures we only observe a plot for higher lag values."
   ]
  },
  {
   "cell_type": "code",
   "execution_count": 51,
   "id": "ef294b35",
   "metadata": {},
   "outputs": [
    {
     "data": {
      "image/png": "[encoded data removed]",
      "text/plain": [
       "<Figure size 432x288 with 1 Axes>"
      ]
     },
     "metadata": {},
     "output_type": "display_data"
    }
   ],
   "source": [
    "sgt.plot_acf(df.market_value, lags = 40, zero = False)\n",
    "plt.title(\"ACF S&P\", size = 24)\n",
    "plt.show()"
   ]
  },
  {
   "cell_type": "markdown",
   "id": "91afc3df",
   "metadata": {},
   "source": [
    "#### X-axis -> Lags\n",
    "#### Y-axis -> Possible values for the autocorrelation coefficient.\n",
    "\n",
    "##### NOTE - Correlation can only take values between -1 and +1.\n",
    "\n",
    "##### The THIN LINE across the plot represents the autocorrelation between the TIME SERIES and a LAGGED COPY OF ITSELF.\n",
    "\n",
    "##### The FIRST LINE indicates autocorrelation one time period ago.\n",
    "\n",
    "#### BLUE AREA AROUND X-AXIS -> NOT SIGNIFICANT. \n",
    "The values situated outside are significantly different from zero which suggests the existence of autocorrelation for that specific lag.\n",
    "\n",
    "<img src = \"Images/ACF.png\">"
   ]
  },
  {
   "cell_type": "markdown",
   "id": "bccca747",
   "metadata": {},
   "source": [
    "##### NOTE - For instance, today's prices are usually closer to yesterday's prices than the prices a month ago.\n",
    "\n",
    "#### Notice how all the lines are higher than the blue region, this suggests the coefficients are significant which is an indicator of time dependance in the data. Moreover, we can see that autocorrelation barely diminishes as the lags increase."
   ]
  },
  {
   "cell_type": "code",
   "execution_count": 53,
   "id": "9db3eec9",
   "metadata": {},
   "outputs": [
    {
     "data": {
      "image/png": "[encoded data removed]",
      "text/plain": [
       "<Figure size 432x288 with 1 Axes>"
      ]
     },
     "metadata": {},
     "output_type": "display_data"
    }
   ],
   "source": [
    "sgt.plot_acf(df.wn, lags = 40, zero = False)\n",
    "plt.title(\"ACF WN\", size = 24)\n",
    "plt.show()"
   ]
  },
  {
   "cell_type": "markdown",
   "id": "62286ac7",
   "metadata": {},
   "source": [
    "##### NOTE - We have values going either way, so there are patterns of positive and negative autocorrelation. This contrasts the ACF S&P where all values were positive. Also, observe how all the lines fall within the blue area, thus the coefficients are NOT SIGNIFICANT ACROSS THE ENTIRE PLOT. This suggests there is NO AUTOCORRELATION for an lag which is one of the assumptions of white noise."
   ]
  },
  {
   "cell_type": "code",
   "execution_count": 55,
   "id": "565968f9",
   "metadata": {},
   "outputs": [
    {
     "data": {
      "image/png": "[encoded data removed]",
      "text/plain": [
       "<Figure size 432x288 with 1 Axes>"
      ]
     },
     "metadata": {},
     "output_type": "display_data"
    }
   ],
   "source": [
    "sgt.plot_acf(df.rw, lags = 40, zero = False)\n",
    "plt.title(\"ACF RW\", size = 24)\n",
    "plt.show()"
   ]
  },
  {
   "cell_type": "markdown",
   "id": "1c092ce6",
   "metadata": {},
   "source": [
    "### Partial Autocorrelation Function (PACF)\n",
    "<img src = \"Images/PACF1.png\">\n",
    "\n",
    "Autocorrelation measures the similarity between a time series and a lagged version of itself. However, the coefficients also capture second hand effects.\n",
    "\n",
    "For instance, examine the value of the autocorrelation coefficient for the third lag. It captures `direct` and `indirect` ways in which the lagged series affects the original one.\n",
    "\n",
    "By `indirect`, we refer to all the other channels through which past data affects current data.\n",
    "\n",
    "If we wish to determine only the `direct` relationship between the TIME series and its lagged version, we need to compute the `partial autocorrelation`\n",
    "\n",
    "To do this, we can use a function like the PACF called the partial autocorrelation function\n",
    "\n",
    "`Definition` - A partial autocorrelation is a summary of the relationship between an observation in a time series with observations at prior time steps with the relationships of intervening observations removed."
   ]
  },
  {
   "cell_type": "code",
   "execution_count": 59,
   "id": "22160d61",
   "metadata": {},
   "outputs": [
    {
     "data": {
      "image/png": "[encoded data removed]",
      "text/plain": [
       "<Figure size 432x288 with 1 Axes>"
      ]
     },
     "metadata": {},
     "output_type": "display_data"
    }
   ],
   "source": [
    "sgt.plot_pacf(df.market_value, lags = 40, zero = False, method = 'ols')\n",
    "plt.title(\"PACF S&P\", size = 24)\n",
    "plt.show()"
   ]
  },
  {
   "cell_type": "markdown",
   "id": "590c5c37",
   "metadata": {},
   "source": [
    "A tremendous contrast to the ACF plot, where all values up to 40 lag's were significant.\n",
    "\n",
    "Also, some of the values like the ninth lag are negative, this means that higher values nine periods ago result in lower values today and vice versa.\n",
    "\n",
    "The difference between the two graphs comes from the way the PACF works. It cancels out all additional channels in which a previous period value affects the present one.\n",
    "\n",
    "For instance, the PACF measures the effect values in period t-2 to have on values in period T directly.\n",
    "\n",
    "Compared to the values from the ACF function, the PACF ones cancel out the effects prices two days ago have on prices yesterday, which in turn affect prices today.\n",
    "\n",
    "Therefore, the ACF shows the combined effect of the prices from two days ago, both direct and through yesterday's prices, while the PACF only shows the direct effect.\n",
    "\n",
    "However, we must note that ACF and PACF values for the first lag should be `identical`.\n",
    "\n",
    "This is because there are `no other channels` through which passed values can affect present values.\n",
    "\n",
    "##### NOTE - how most values after the third lag are within the blue area. This means they `aren't significantly different from zero`. So the numeric values attached to them are not important. Since we can assume they're all essentially zero, being positive or negative is somewhat random without any lasting effects.\n",
    "\n",
    "<img src = \"Images/PACF.png\">\n",
    "\n",
    "### PACF for White Noise\n",
    "By definition, there should be `no autocorrelation` between the elements of a white noise sequence, thus we expect the values for all periods to be insignificant.\n",
    "\n",
    "##### NOTE - most of the values aren't significantly different from zero. Some of the coefficients can end up outside the blue area and seem significant, but that is completely random."
   ]
  },
  {
   "cell_type": "code",
   "execution_count": 61,
   "id": "43bdb91c",
   "metadata": {},
   "outputs": [
    {
     "data": {
      "image/png": "[encoded data removed]",
      "text/plain": [
       "<Figure size 432x288 with 1 Axes>"
      ]
     },
     "metadata": {},
     "output_type": "display_data"
    }
   ],
   "source": [
    "sgt.plot_pacf(df.wn, lags = 40, zero = False, method = 'ols')\n",
    "plt.title(\"PACF WN\", size = 24)\n",
    "plt.show()"
   ]
  },
  {
   "cell_type": "markdown",
   "id": "9f9e09f4",
   "metadata": {},
   "source": [
    "### PACF for Random Walk"
   ]
  },
  {
   "cell_type": "code",
   "execution_count": 62,
   "id": "a5bb3b71",
   "metadata": {},
   "outputs": [
    {
     "data": {
      "image/png": "[encoded data removed]",
      "text/plain": [
       "<Figure size 432x288 with 1 Axes>"
      ]
     },
     "metadata": {},
     "output_type": "display_data"
    }
   ],
   "source": [
    "sgt.plot_pacf(df.rw, lags = 40, zero = False, method = 'ols')\n",
    "plt.title(\"PACF RW\", size = 24)\n",
    "plt.show()"
   ]
  },
  {
   "cell_type": "markdown",
   "id": "1dfbba56",
   "metadata": {},
   "source": [
    "### PACF vs ACF\n",
    "In ACF, we care about both the `direct` and `indirect` relationship whereas in PACF, we only care about the `direct` relationship (Remember Salmon example from the YouTube video).\n",
    "\n",
    "ACF tells us about the prices a number of periods ago (indirect) and the price of the product today (direct).\n",
    "\n",
    "If we want to see if the price of the product a number of periods ago is a `good predictor` of the price of the product today, then we use `PACF`. Based on ACF, it might seem like it's a good predictor because the correlation would be high but that correlation might only be high because of the `indirect` effect. It might be that the `direct` effect has `little to no correlation` and therefore, it will barely help us at all with predicting the prices.\n",
    "\n",
    "`\n",
    "ACF -> Direct + Indirect effects (through the intermediary time periods)\n",
    "PACF -> Only Direct effects`\n",
    "\n",
    "##### NOTE - PACF plot can be negative since the price of product a number of periods ago negatively impacts the price of the product today.\n",
    "\n",
    "#### PACF tells us the coefficient of the price of the product that many periods ago on the price of the product today and if that coefficient if different from zero (statistically zero - being inside error bands) then it's a good factor into a model because it can help us make that prediction.\n",
    "\n",
    "#### PACF plot helps us identify a good time series model to predict the price of the product today based on the price of the product some number of periods ago.\n",
    "\n",
    "#### The ACF and PACF will tell us how many periods (lags) we should consider for forecasting.\n",
    "\n",
    "<img src = \"Images/acf-pacf.png\">"
   ]
  },
  {
   "cell_type": "markdown",
   "id": "77f783fa",
   "metadata": {},
   "source": [
    "### Picking Up the Correct Model\n",
    "1. We start with a simple model and expand it as long as it follows several conditions. For starters, the `new coefficients` for the more complex model need to be `significantly different from zero`. If that `does not hold true`, the estimates for these parameters are `essentially zero`. Therefore, they `don't help us estimate future values`. This means they hold `no predictive powers`, so we must admit them and `revert back to the simpler model`.\n",
    "2. Secondly, we want our model to be `parsimonious` or in other words, `as simple as possible`. Generally, we prefer using a `simpler model to a more complicated one`, unless the latter provides significantly better predictions. \n",
    "\n",
    "#### Generally:\n",
    "#### Simpler model > Complex model\n",
    "\n",
    "#### Significantly better predictions:\n",
    "#### Simpler model < Complex model\n",
    "\n",
    "3. To determine whether the predictions are significantly better, we introduce a statistical test called the `Log-Likelihood Ratio Test`. However, the test can `only` be applied to models with `different degrees of freedom`. Thus, when comparing several models with the `same total number of required lags`, we need to compare the `information criteria` of each one. The `lower the coefficient, the less data the model requires to make accurate predictions`. \n",
    "4. The two most prominent measurements of the kind are the `AIC` and `BIC`. Since we prefer simplicity, we opt for the model with `lower AIC and BIC coefficients`.\n",
    "5. If our model fits well, there should be `no trend we have failed to account for`, therefore, the `residuals` for the model should `resemble white noise` so we can conclude there is `no other pattern we can account for without overtraining`.\n",
    "\n",
    "##### NOTE - By overtraining, we mean that our model describes the given data too well and might perform underwhelmingly against a different data set.\n",
    "\n",
    "#### Degrees of Freedom -> Different -> Log-Likelihood Test\n",
    "#### Degrees of Freedom -> Same -> Information Criteria\n",
    "If we are comparing two models and we want to choose the better fit, then we choose the one with `Higher Log-Likelihood and Lower Information Criteria`.\n",
    "\n",
    "##### NOTE - All the models can only be applied to stationary series. If the series is not stationary then we need to make it stationary.\n",
    "\n",
    "<img src = \"Images/st.png\">"
   ]
  },
  {
   "cell_type": "markdown",
   "id": "3c54c4a5",
   "metadata": {},
   "source": [
    "## Univariate Time Series\n",
    "Time series that consists of `single observations` recorded over regular time intervals. Example - Monthly return data of a stock.\n",
    "\n",
    "<img src = \"Images/Information Criteria.png\">"
   ]
  },
  {
   "cell_type": "markdown",
   "id": "e69104f0",
   "metadata": {},
   "source": [
    "### AutoRegressive (AR) Model \n",
    "<img src = \"Images/AR.png\">\n",
    "\n",
    "Relies on past period values and past periods only to predict current period values.\n",
    "\n",
    "It's a `linear model` where:\n",
    "\n",
    "#### Current Period Values = `Sum of past outcomes * numeric factor`.\n",
    "\n",
    "<img src = \"Images/AR1.png\">\n",
    "\n",
    "### Et -> Residual - The difference between our prediction for period \"t\" and the correct value."
   ]
  },
  {
   "cell_type": "markdown",
   "id": "950363c1",
   "metadata": {},
   "source": [
    "#### AR(p) where p is parameter.\n",
    "##### NOTE -\n",
    "##### If B1, B2,.... = 0 then `Yt = B0 + Et` and it would become an `AR(0)` model.\n",
    "##### If B2, B3,.... = 0 then `Yt = B0 + B1*Yt-1 + Et` and it would become an `AR(1)` model.\n",
    "##### If B3, B4,.... = 0 then `Yt = B0 + B1*Yt-1 + B2*Yt-2 + Et` and it would become an `AR(2)` model.\n",
    "\n",
    "### Examining ACF and PACF of Prices"
   ]
  },
  {
   "cell_type": "code",
   "execution_count": 63,
   "id": "c3781116",
   "metadata": {},
   "outputs": [
    {
     "data": {
      "image/png": "[encoded data removed]",
      "text/plain": [
       "<Figure size 432x288 with 1 Axes>"
      ]
     },
     "metadata": {},
     "output_type": "display_data"
    }
   ],
   "source": [
    "sgt.plot_acf(df.market_value, zero = False, lags = 40)\n",
    "plt.title(\"ACF for Prices\", size = 20)\n",
    "plt.show()"
   ]
  },
  {
   "cell_type": "code",
   "execution_count": 75,
   "id": "daff9a58",
   "metadata": {},
   "outputs": [
    {
     "data": {
      "image/png": "[encoded data removed]",
      "text/plain": [
       "<Figure size 432x288 with 1 Axes>"
      ]
     },
     "metadata": {},
     "output_type": "display_data"
    }
   ],
   "source": [
    "sgt.plot_pacf(df.market_value, alpha = 0.05, zero = False, lags = 40)\n",
    "plt.title(\"PACF for Prices\", size = 20)\n",
    "plt.show()"
   ]
  },
  {
   "cell_type": "markdown",
   "id": "01e05e0b",
   "metadata": {},
   "source": [
    "#### NOTE - \n",
    "1. Coefficients from the 25th lag onwards are not significant, so we can just ignore them. To elaborate, since the coefficients will be extremely close to zero, we assume their impact on the model is minimal, so they're not relevant to us. Thus our model must include less than 25 lags.\n",
    "2. Values after the 22nd lag are negative. Since the frequency of the data is in business days and there are roughly 22 business days in a month, we can anticipate some cyclical changes every month. In other words, the values a month ago negatively affect the values today. In reality, we can see that these changes are vastly overshadowed by the ones occurring in later periods when it comes to impact, so we should not overanalyze their contribution."
   ]
  },
  {
   "cell_type": "code",
   "execution_count": 251,
   "id": "5e219c29",
   "metadata": {},
   "outputs": [],
   "source": [
    "raw_csv_data = pd.read_csv(\"Index2018.csv\")\n",
    "df_comp = raw_csv_data.copy()\n",
    "df_comp.date = pd.to_datetime(df_comp.date, dayfirst = True)\n",
    "df_comp.set_index(\"date\", inplace = True)\n",
    "df_comp = df_comp.asfreq('b')\n",
    "df_comp = df_comp.fillna(method = 'ffill')"
   ]
  },
  {
   "cell_type": "code",
   "execution_count": 252,
   "id": "fa673c80",
   "metadata": {},
   "outputs": [],
   "source": [
    "df_comp['market_value'] = df_comp.ftse"
   ]
  },
  {
   "cell_type": "code",
   "execution_count": 253,
   "id": "1d9d45af",
   "metadata": {},
   "outputs": [],
   "source": [
    "del df_comp['spx'],df_comp['dax'],df_comp['ftse'],df_comp['nikkei']\n",
    "size = int(len(df_comp)*0.8)\n",
    "df, df_test = df_comp.iloc[:size], df_comp.iloc[size:]"
   ]
  },
  {
   "cell_type": "markdown",
   "id": "59b43357",
   "metadata": {},
   "source": [
    "### Fitting AR(1) Model for Index Prices"
   ]
  },
  {
   "cell_type": "markdown",
   "id": "d85a5dfe",
   "metadata": {},
   "source": [
    "#### ARMA(x, order = (a,b))\n",
    "#### where\n",
    "##### x -> Time Series we want to model\n",
    "##### order -> Defines the specific model we want to use\n",
    "##### a -> Number of past values we wish to incorporate into the model\n",
    "##### b = 0 -> Not taking any of the residual values into consideration\n",
    "##### order(1,0) -> `Simple AR(1) Model`\n",
    "\n",
    "After defining the model, we need to see how it fits the data and what values it assigns to the constant C and the coefficient PHI of the AR equation. To do so, we use `fit()`\n",
    "\n",
    "Furthermore, we can create a summary of the results using `summary()`"
   ]
  },
  {
   "cell_type": "code",
   "execution_count": 256,
   "id": "25d5193a",
   "metadata": {},
   "outputs": [
    {
     "data": {
      "text/html": [
       "<table class=\"simpletable\">\n",
       "<caption>ARMA Model Results</caption>\n",
       "<tr>\n",
       "  <th>Dep. Variable:</th>   <td>market_value</td>   <th>  No. Observations:  </th>    <td>5021</td>   \n",
       "</tr>\n",
       "<tr>\n",
       "  <th>Model:</th>            <td>ARMA(1, 0)</td>    <th>  Log Likelihood     </th> <td>-27622.600</td>\n",
       "</tr>\n",
       "<tr>\n",
       "  <th>Method:</th>             <td>css-mle</td>     <th>  S.D. of innovations</th>   <td>59.258</td>  \n",
       "</tr>\n",
       "<tr>\n",
       "  <th>Date:</th>          <td>Fri, 14 Jan 2022</td> <th>  AIC                </th>  <td>55251.201</td>\n",
       "</tr>\n",
       "<tr>\n",
       "  <th>Time:</th>              <td>19:45:33</td>     <th>  BIC                </th>  <td>55270.765</td>\n",
       "</tr>\n",
       "<tr>\n",
       "  <th>Sample:</th>           <td>01-07-1994</td>    <th>  HQIC               </th>  <td>55258.056</td>\n",
       "</tr>\n",
       "<tr>\n",
       "  <th></th>                 <td>- 04-05-2013</td>   <th>                     </th>      <td> </td>    \n",
       "</tr>\n",
       "</table>\n",
       "<table class=\"simpletable\">\n",
       "<tr>\n",
       "           <td></td>             <th>coef</th>     <th>std err</th>      <th>z</th>      <th>P>|z|</th>  <th>[0.025</th>    <th>0.975]</th>  \n",
       "</tr>\n",
       "<tr>\n",
       "  <th>const</th>              <td> 5003.9154</td> <td>  488.238</td> <td>   10.249</td> <td> 0.000</td> <td> 4046.987</td> <td> 5960.844</td>\n",
       "</tr>\n",
       "<tr>\n",
       "  <th>ar.L1.market_value</th> <td>    0.9985</td> <td>    0.001</td> <td> 1294.486</td> <td> 0.000</td> <td>    0.997</td> <td>    1.000</td>\n",
       "</tr>\n",
       "</table>\n",
       "<table class=\"simpletable\">\n",
       "<caption>Roots</caption>\n",
       "<tr>\n",
       "    <td></td>   <th>            Real</th>  <th>         Imaginary</th> <th>         Modulus</th>  <th>        Frequency</th>\n",
       "</tr>\n",
       "<tr>\n",
       "  <th>AR.1</th> <td>           1.0015</td> <td>          +0.0000j</td> <td>           1.0015</td> <td>           0.0000</td>\n",
       "</tr>\n",
       "</table>"
      ],
      "text/plain": [
       "<class 'statsmodels.iolib.summary.Summary'>\n",
       "\"\"\"\n",
       "                              ARMA Model Results                              \n",
       "==============================================================================\n",
       "Dep. Variable:           market_value   No. Observations:                 5021\n",
       "Model:                     ARMA(1, 0)   Log Likelihood              -27622.600\n",
       "Method:                       css-mle   S.D. of innovations             59.258\n",
       "Date:                Fri, 14 Jan 2022   AIC                          55251.201\n",
       "Time:                        19:45:33   BIC                          55270.765\n",
       "Sample:                    01-07-1994   HQIC                         55258.056\n",
       "                         - 04-05-2013                                         \n",
       "======================================================================================\n",
       "                         coef    std err          z      P>|z|      [0.025      0.975]\n",
       "--------------------------------------------------------------------------------------\n",
       "const               5003.9154    488.238     10.249      0.000    4046.987    5960.844\n",
       "ar.L1.market_value     0.9985      0.001   1294.486      0.000       0.997       1.000\n",
       "                                    Roots                                    \n",
       "=============================================================================\n",
       "                  Real          Imaginary           Modulus         Frequency\n",
       "-----------------------------------------------------------------------------\n",
       "AR.1            1.0015           +0.0000j            1.0015            0.0000\n",
       "-----------------------------------------------------------------------------\n",
       "\"\"\""
      ]
     },
     "execution_count": 256,
     "metadata": {},
     "output_type": "execute_result"
    }
   ],
   "source": [
    "model_ar = ARMA(df.market_value, order = (1,0))\n",
    "results_ar = model_ar.fit()\n",
    "results_ar.summary()"
   ]
  },
  {
   "cell_type": "markdown",
   "id": "c92f86c9",
   "metadata": {},
   "source": [
    "#### 1061.0287 -> Constant C value\n",
    "#### 0.9994 -> PHI 1 => This suggests that this is the coefficientfor the AR value from one lag ago for the associated time series.\n",
    "\n",
    "#### `Standard Error (std err)` column -> It's a measure of how far away, on average, the model's predictions are from the true values.\n",
    "\n",
    "#### `Z` column -> The associated test statistics for significance with the P values on its right. Since `P = zero` for both, we can safely conclude that the `constant and the one lag value are both significantly different from zero`.\n",
    "\n",
    "#### The last two columns represent the critical values for the 95 percent confidence interval. if zero is not a part of it, we can confirm the coefficients are significant.\n",
    "\n",
    "##### NOTE - Since both coefficients are significantly different from zero, we can try fitting a more complex model for greater accuracy.\n",
    "\n",
    "#### Why does the model estimate two values, when we're only using an AR(1) model?\n",
    "The model always assumes there might be a constant in the model (even if it turns out to be non-significant)."
   ]
  },
  {
   "cell_type": "code",
   "execution_count": 257,
   "id": "61b9635a",
   "metadata": {},
   "outputs": [
    {
     "data": {
      "text/html": [
       "<table class=\"simpletable\">\n",
       "<caption>ARMA Model Results</caption>\n",
       "<tr>\n",
       "  <th>Dep. Variable:</th>   <td>market_value</td>   <th>  No. Observations:  </th>    <td>5021</td>   \n",
       "</tr>\n",
       "<tr>\n",
       "  <th>Model:</th>            <td>ARMA(2, 0)</td>    <th>  Log Likelihood     </th> <td>-20085.280</td>\n",
       "</tr>\n",
       "<tr>\n",
       "  <th>Method:</th>             <td>css-mle</td>     <th>  S.D. of innovations</th>   <td>13.206</td>  \n",
       "</tr>\n",
       "<tr>\n",
       "  <th>Date:</th>          <td>Fri, 14 Jan 2022</td> <th>  AIC                </th>  <td>40178.560</td>\n",
       "</tr>\n",
       "<tr>\n",
       "  <th>Time:</th>              <td>19:45:36</td>     <th>  BIC                </th>  <td>40204.646</td>\n",
       "</tr>\n",
       "<tr>\n",
       "  <th>Sample:</th>           <td>01-07-1994</td>    <th>  HQIC               </th>  <td>40187.701</td>\n",
       "</tr>\n",
       "<tr>\n",
       "  <th></th>                 <td>- 04-05-2013</td>   <th>                     </th>      <td> </td>    \n",
       "</tr>\n",
       "</table>\n",
       "<table class=\"simpletable\">\n",
       "<tr>\n",
       "           <td></td>             <th>coef</th>     <th>std err</th>      <th>z</th>      <th>P>|z|</th>  <th>[0.025</th>    <th>0.975]</th>  \n",
       "</tr>\n",
       "<tr>\n",
       "  <th>const</th>              <td> 1049.2930</td> <td>  250.356</td> <td>    4.191</td> <td> 0.000</td> <td>  558.604</td> <td> 1539.982</td>\n",
       "</tr>\n",
       "<tr>\n",
       "  <th>ar.L1.market_value</th> <td>    0.9300</td> <td>    0.014</td> <td>   68.036</td> <td> 0.000</td> <td>    0.903</td> <td>    0.957</td>\n",
       "</tr>\n",
       "<tr>\n",
       "  <th>ar.L2.market_value</th> <td>    0.0694</td> <td>    0.014</td> <td>    5.074</td> <td> 0.000</td> <td>    0.043</td> <td>    0.096</td>\n",
       "</tr>\n",
       "</table>\n",
       "<table class=\"simpletable\">\n",
       "<caption>Roots</caption>\n",
       "<tr>\n",
       "    <td></td>   <th>            Real</th>  <th>         Imaginary</th> <th>         Modulus</th>  <th>        Frequency</th>\n",
       "</tr>\n",
       "<tr>\n",
       "  <th>AR.1</th> <td>           1.0005</td> <td>          +0.0000j</td> <td>           1.0005</td> <td>           0.0000</td>\n",
       "</tr>\n",
       "<tr>\n",
       "  <th>AR.2</th> <td>         -14.4037</td> <td>          +0.0000j</td> <td>          14.4037</td> <td>           0.5000</td>\n",
       "</tr>\n",
       "</table>"
      ],
      "text/plain": [
       "<class 'statsmodels.iolib.summary.Summary'>\n",
       "\"\"\"\n",
       "                              ARMA Model Results                              \n",
       "==============================================================================\n",
       "Dep. Variable:           market_value   No. Observations:                 5021\n",
       "Model:                     ARMA(2, 0)   Log Likelihood              -20085.280\n",
       "Method:                       css-mle   S.D. of innovations             13.206\n",
       "Date:                Fri, 14 Jan 2022   AIC                          40178.560\n",
       "Time:                        19:45:36   BIC                          40204.646\n",
       "Sample:                    01-07-1994   HQIC                         40187.701\n",
       "                         - 04-05-2013                                         \n",
       "======================================================================================\n",
       "                         coef    std err          z      P>|z|      [0.025      0.975]\n",
       "--------------------------------------------------------------------------------------\n",
       "const               1049.2930    250.356      4.191      0.000     558.604    1539.982\n",
       "ar.L1.market_value     0.9300      0.014     68.036      0.000       0.903       0.957\n",
       "ar.L2.market_value     0.0694      0.014      5.074      0.000       0.043       0.096\n",
       "                                    Roots                                    \n",
       "=============================================================================\n",
       "                  Real          Imaginary           Modulus         Frequency\n",
       "-----------------------------------------------------------------------------\n",
       "AR.1            1.0005           +0.0000j            1.0005            0.0000\n",
       "AR.2          -14.4037           +0.0000j           14.4037            0.5000\n",
       "-----------------------------------------------------------------------------\n",
       "\"\"\""
      ]
     },
     "execution_count": 257,
     "metadata": {},
     "output_type": "execute_result"
    }
   ],
   "source": [
    "model_ar_2 = ARMA(df.market_value, order = (2,0))\n",
    "#results_ar_2 = model_ar_2.fit()\n",
    "results_ar_2.summary()"
   ]
  },
  {
   "cell_type": "markdown",
   "id": "5bc5a00f",
   "metadata": {},
   "source": [
    "##### NOTE - The coefficients for PHI-1 and the constant have changed. That's because some of the changes in prices can be justified by the prices two days ago."
   ]
  },
  {
   "cell_type": "code",
   "execution_count": 258,
   "id": "e7e0cf18",
   "metadata": {},
   "outputs": [
    {
     "data": {
      "text/html": [
       "<table class=\"simpletable\">\n",
       "<caption>ARMA Model Results</caption>\n",
       "<tr>\n",
       "  <th>Dep. Variable:</th>   <td>market_value</td>   <th>  No. Observations:  </th>    <td>5021</td>   \n",
       "</tr>\n",
       "<tr>\n",
       "  <th>Model:</th>            <td>ARMA(3, 0)</td>    <th>  Log Likelihood     </th> <td>-20082.347</td>\n",
       "</tr>\n",
       "<tr>\n",
       "  <th>Method:</th>             <td>css-mle</td>     <th>  S.D. of innovations</th>   <td>13.198</td>  \n",
       "</tr>\n",
       "<tr>\n",
       "  <th>Date:</th>          <td>Fri, 14 Jan 2022</td> <th>  AIC                </th>  <td>40174.694</td>\n",
       "</tr>\n",
       "<tr>\n",
       "  <th>Time:</th>              <td>19:45:40</td>     <th>  BIC                </th>  <td>40207.301</td>\n",
       "</tr>\n",
       "<tr>\n",
       "  <th>Sample:</th>           <td>01-07-1994</td>    <th>  HQIC               </th>  <td>40186.120</td>\n",
       "</tr>\n",
       "<tr>\n",
       "  <th></th>                 <td>- 04-05-2013</td>   <th>                     </th>      <td> </td>    \n",
       "</tr>\n",
       "</table>\n",
       "<table class=\"simpletable\">\n",
       "<tr>\n",
       "           <td></td>             <th>coef</th>     <th>std err</th>      <th>z</th>      <th>P>|z|</th>  <th>[0.025</th>    <th>0.975]</th>  \n",
       "</tr>\n",
       "<tr>\n",
       "  <th>const</th>              <td> 1056.7902</td> <td>  259.087</td> <td>    4.079</td> <td> 0.000</td> <td>  548.989</td> <td> 1564.592</td>\n",
       "</tr>\n",
       "<tr>\n",
       "  <th>ar.L1.market_value</th> <td>    0.9277</td> <td>    0.014</td> <td>   68.256</td> <td> 0.000</td> <td>    0.901</td> <td>    0.954</td>\n",
       "</tr>\n",
       "<tr>\n",
       "  <th>ar.L2.market_value</th> <td>    0.0376</td> <td>    0.019</td> <td>    1.989</td> <td> 0.047</td> <td>    0.001</td> <td>    0.075</td>\n",
       "</tr>\n",
       "<tr>\n",
       "  <th>ar.L3.market_value</th> <td>    0.0342</td> <td>    0.014</td> <td>    2.423</td> <td> 0.015</td> <td>    0.007</td> <td>    0.062</td>\n",
       "</tr>\n",
       "</table>\n",
       "<table class=\"simpletable\">\n",
       "<caption>Roots</caption>\n",
       "<tr>\n",
       "    <td></td>   <th>            Real</th>  <th>         Imaginary</th> <th>         Modulus</th>  <th>        Frequency</th>\n",
       "</tr>\n",
       "<tr>\n",
       "  <th>AR.1</th> <td>           1.0005</td> <td>          -0.0000j</td> <td>           1.0005</td> <td>          -0.0000</td>\n",
       "</tr>\n",
       "<tr>\n",
       "  <th>AR.2</th> <td>          -1.0506</td> <td>          -5.3049j</td> <td>           5.4080</td> <td>          -0.2811</td>\n",
       "</tr>\n",
       "<tr>\n",
       "  <th>AR.3</th> <td>          -1.0506</td> <td>          +5.3049j</td> <td>           5.4080</td> <td>           0.2811</td>\n",
       "</tr>\n",
       "</table>"
      ],
      "text/plain": [
       "<class 'statsmodels.iolib.summary.Summary'>\n",
       "\"\"\"\n",
       "                              ARMA Model Results                              \n",
       "==============================================================================\n",
       "Dep. Variable:           market_value   No. Observations:                 5021\n",
       "Model:                     ARMA(3, 0)   Log Likelihood              -20082.347\n",
       "Method:                       css-mle   S.D. of innovations             13.198\n",
       "Date:                Fri, 14 Jan 2022   AIC                          40174.694\n",
       "Time:                        19:45:40   BIC                          40207.301\n",
       "Sample:                    01-07-1994   HQIC                         40186.120\n",
       "                         - 04-05-2013                                         \n",
       "======================================================================================\n",
       "                         coef    std err          z      P>|z|      [0.025      0.975]\n",
       "--------------------------------------------------------------------------------------\n",
       "const               1056.7902    259.087      4.079      0.000     548.989    1564.592\n",
       "ar.L1.market_value     0.9277      0.014     68.256      0.000       0.901       0.954\n",
       "ar.L2.market_value     0.0376      0.019      1.989      0.047       0.001       0.075\n",
       "ar.L3.market_value     0.0342      0.014      2.423      0.015       0.007       0.062\n",
       "                                    Roots                                    \n",
       "=============================================================================\n",
       "                  Real          Imaginary           Modulus         Frequency\n",
       "-----------------------------------------------------------------------------\n",
       "AR.1            1.0005           -0.0000j            1.0005           -0.0000\n",
       "AR.2           -1.0506           -5.3049j            5.4080           -0.2811\n",
       "AR.3           -1.0506           +5.3049j            5.4080            0.2811\n",
       "-----------------------------------------------------------------------------\n",
       "\"\"\""
      ]
     },
     "execution_count": 258,
     "metadata": {},
     "output_type": "execute_result"
    }
   ],
   "source": [
    "model_ar_3 = ARMA(df.market_value, order = (3,0))\n",
    "#results_ar_3 = model_ar_3.fit()\n",
    "results_ar_3.summary()"
   ]
  },
  {
   "cell_type": "code",
   "execution_count": 259,
   "id": "3705c4da",
   "metadata": {},
   "outputs": [
    {
     "data": {
      "text/html": [
       "<table class=\"simpletable\">\n",
       "<caption>ARMA Model Results</caption>\n",
       "<tr>\n",
       "  <th>Dep. Variable:</th>   <td>market_value</td>   <th>  No. Observations:  </th>    <td>5021</td>   \n",
       "</tr>\n",
       "<tr>\n",
       "  <th>Model:</th>            <td>ARMA(4, 0)</td>    <th>  Log Likelihood     </th> <td>-20081.256</td>\n",
       "</tr>\n",
       "<tr>\n",
       "  <th>Method:</th>             <td>css-mle</td>     <th>  S.D. of innovations</th>   <td>13.195</td>  \n",
       "</tr>\n",
       "<tr>\n",
       "  <th>Date:</th>          <td>Fri, 14 Jan 2022</td> <th>  AIC                </th>  <td>40174.511</td>\n",
       "</tr>\n",
       "<tr>\n",
       "  <th>Time:</th>              <td>19:45:42</td>     <th>  BIC                </th>  <td>40213.640</td>\n",
       "</tr>\n",
       "<tr>\n",
       "  <th>Sample:</th>           <td>01-07-1994</td>    <th>  HQIC               </th>  <td>40188.222</td>\n",
       "</tr>\n",
       "<tr>\n",
       "  <th></th>                 <td>- 04-05-2013</td>   <th>                     </th>      <td> </td>    \n",
       "</tr>\n",
       "</table>\n",
       "<table class=\"simpletable\">\n",
       "<tr>\n",
       "           <td></td>             <th>coef</th>     <th>std err</th>      <th>z</th>      <th>P>|z|</th>  <th>[0.025</th>    <th>0.975]</th>  \n",
       "</tr>\n",
       "<tr>\n",
       "  <th>const</th>              <td> 1058.3153</td> <td>  265.349</td> <td>    3.988</td> <td> 0.000</td> <td>  538.240</td> <td> 1578.390</td>\n",
       "</tr>\n",
       "<tr>\n",
       "  <th>ar.L1.market_value</th> <td>    0.9269</td> <td>    0.014</td> <td>   68.578</td> <td> 0.000</td> <td>    0.900</td> <td>    0.953</td>\n",
       "</tr>\n",
       "<tr>\n",
       "  <th>ar.L2.market_value</th> <td>    0.0368</td> <td>    0.019</td> <td>    1.952</td> <td> 0.051</td> <td>   -0.000</td> <td>    0.074</td>\n",
       "</tr>\n",
       "<tr>\n",
       "  <th>ar.L3.market_value</th> <td>    0.0148</td> <td>    0.019</td> <td>    0.771</td> <td> 0.441</td> <td>   -0.023</td> <td>    0.053</td>\n",
       "</tr>\n",
       "<tr>\n",
       "  <th>ar.L4.market_value</th> <td>    0.0209</td> <td>    0.014</td> <td>    1.478</td> <td> 0.139</td> <td>   -0.007</td> <td>    0.049</td>\n",
       "</tr>\n",
       "</table>\n",
       "<table class=\"simpletable\">\n",
       "<caption>Roots</caption>\n",
       "<tr>\n",
       "    <td></td>   <th>            Real</th>  <th>         Imaginary</th> <th>         Modulus</th>  <th>        Frequency</th>\n",
       "</tr>\n",
       "<tr>\n",
       "  <th>AR.1</th> <td>           1.0005</td> <td>          -0.0000j</td> <td>           1.0005</td> <td>          -0.0000</td>\n",
       "</tr>\n",
       "<tr>\n",
       "  <th>AR.2</th> <td>          -3.9300</td> <td>          -0.0000j</td> <td>           3.9300</td> <td>          -0.5000</td>\n",
       "</tr>\n",
       "<tr>\n",
       "  <th>AR.3</th> <td>           1.1089</td> <td>          -3.3115j</td> <td>           3.4923</td> <td>          -0.1986</td>\n",
       "</tr>\n",
       "<tr>\n",
       "  <th>AR.4</th> <td>           1.1089</td> <td>          +3.3115j</td> <td>           3.4923</td> <td>           0.1986</td>\n",
       "</tr>\n",
       "</table>"
      ],
      "text/plain": [
       "<class 'statsmodels.iolib.summary.Summary'>\n",
       "\"\"\"\n",
       "                              ARMA Model Results                              \n",
       "==============================================================================\n",
       "Dep. Variable:           market_value   No. Observations:                 5021\n",
       "Model:                     ARMA(4, 0)   Log Likelihood              -20081.256\n",
       "Method:                       css-mle   S.D. of innovations             13.195\n",
       "Date:                Fri, 14 Jan 2022   AIC                          40174.511\n",
       "Time:                        19:45:42   BIC                          40213.640\n",
       "Sample:                    01-07-1994   HQIC                         40188.222\n",
       "                         - 04-05-2013                                         \n",
       "======================================================================================\n",
       "                         coef    std err          z      P>|z|      [0.025      0.975]\n",
       "--------------------------------------------------------------------------------------\n",
       "const               1058.3153    265.349      3.988      0.000     538.240    1578.390\n",
       "ar.L1.market_value     0.9269      0.014     68.578      0.000       0.900       0.953\n",
       "ar.L2.market_value     0.0368      0.019      1.952      0.051      -0.000       0.074\n",
       "ar.L3.market_value     0.0148      0.019      0.771      0.441      -0.023       0.053\n",
       "ar.L4.market_value     0.0209      0.014      1.478      0.139      -0.007       0.049\n",
       "                                    Roots                                    \n",
       "=============================================================================\n",
       "                  Real          Imaginary           Modulus         Frequency\n",
       "-----------------------------------------------------------------------------\n",
       "AR.1            1.0005           -0.0000j            1.0005           -0.0000\n",
       "AR.2           -3.9300           -0.0000j            3.9300           -0.5000\n",
       "AR.3            1.1089           -3.3115j            3.4923           -0.1986\n",
       "AR.4            1.1089           +3.3115j            3.4923            0.1986\n",
       "-----------------------------------------------------------------------------\n",
       "\"\"\""
      ]
     },
     "execution_count": 259,
     "metadata": {},
     "output_type": "execute_result"
    }
   ],
   "source": [
    "model_ar_4 = ARMA(df.market_value, order = (4,0))\n",
    "#results_ar_4 = model_ar_4.fit()\n",
    "results_ar_4.summary()"
   ]
  },
  {
   "cell_type": "markdown",
   "id": "32331c6b",
   "metadata": {},
   "source": [
    "#### If P > 0.05, we can reject the null hypothesis (We are using 5% significance level).\n",
    "##### This suggests that the coefficient for the second lag isn't significantly different from zero. Therefore, we assume it's equal to zero.\n",
    "\n",
    "#### This means that the prices two days ago do not severely affect those of today. A possible explanation is that all the effects they have are captured in yesterday's price, thus adding additional information doesn't provide significant value.\n",
    "\n",
    "### We prefer models with `Higher Log-Likelihood` and `Lower Information Criteria`.\n",
    "\n",
    "### We use the `Log-Likelihood Ratio(LLR) test ` to check if the models are significantly different from one another."
   ]
  },
  {
   "cell_type": "markdown",
   "id": "3b85b5e8",
   "metadata": {},
   "source": [
    "## LLR Test\n",
    "\n",
    "#### mod_1 & mod_2 -> Models we want to compare\n",
    "#### DF -> Degrees of Freedom\n",
    "\n",
    "##### NOTE - We usually only compare models with a single difference in this department. So we're going to set the default value for D.F. = 1\n",
    "\n",
    "#### `.llf` -> Extracts Log-Likelihood\n",
    "\n",
    "##### NOTE - We imported \"chi2\" from the \"scipy.stats.distributions\" package.\n",
    "\n",
    "#### After computing, this will rely on the Chi squared method and pass the L.R. and degrees of freedom as parameters. The value we store from calling said method will be the p value we want to define. \n",
    "\n",
    "#### Since we want to have a nice numeric representation of the P value, we're going to round the result to three decimal places. We do so by calling the round method when storing the variable. "
   ]
  },
  {
   "cell_type": "code",
   "execution_count": 260,
   "id": "91df98d7",
   "metadata": {},
   "outputs": [],
   "source": [
    "def LLR_test(mod_1, mod_2, DF = 1):\n",
    "    L1 = mod_1.fit().llf\n",
    "    L2 = mod_2.fit().llf\n",
    "    LR = (2*(L2-L1))\n",
    "    p = chi2.sf(LR, DF).round(3)\n",
    "    return p"
   ]
  },
  {
   "cell_type": "markdown",
   "id": "39671275",
   "metadata": {},
   "source": [
    "## Comparing Higher-Lag AR Models"
   ]
  },
  {
   "cell_type": "code",
   "execution_count": 261,
   "id": "ce11cd46",
   "metadata": {},
   "outputs": [
    {
     "name": "stderr",
     "output_type": "stream",
     "text": [
      " This problem is unconstrained.\n"
     ]
    },
    {
     "name": "stdout",
     "output_type": "stream",
     "text": [
      "RUNNING THE L-BFGS-B CODE\n",
      "\n",
      "           * * *\n",
      "\n",
      "Machine precision = 2.220D-16\n",
      " N =            4     M =           12\n",
      "\n",
      "At X0         0 variables are exactly at the bounds\n",
      "\n",
      "At iterate    0    f=  5.50009D+00    |proj g|=  1.91047D-04\n",
      "\n",
      "At iterate    5    f=  5.50007D+00    |proj g|=  4.44089D-06\n",
      "\n",
      "           * * *\n",
      "\n",
      "Tit   = total number of iterations\n",
      "Tnf   = total number of function evaluations\n",
      "Tnint = total number of segments explored during Cauchy searches\n",
      "Skip  = number of BFGS updates skipped\n",
      "Nact  = number of active bounds at final generalized Cauchy point\n",
      "Projg = norm of the final projected gradient\n",
      "F     = final function value\n",
      "\n",
      "           * * *\n",
      "\n",
      "   N    Tit     Tnf  Tnint  Skip  Nact     Projg        F\n",
      "    4      8     14      1     0     0   0.000D+00   5.500D+00\n",
      "  F =   5.5000739054137551     \n",
      "\n",
      "CONVERGENCE: NORM_OF_PROJECTED_GRADIENT_<=_PGTOL            \n",
      "                              ARMA Model Results                              \n",
      "==============================================================================\n",
      "Dep. Variable:           market_value   No. Observations:                 5021\n",
      "Model:                     ARMA(3, 0)   Log Likelihood              -27615.871\n",
      "Method:                       css-mle   S.D. of innovations             59.178\n",
      "Date:                Fri, 14 Jan 2022   AIC                          55241.742\n",
      "Time:                        19:45:48   BIC                          55274.349\n",
      "Sample:                    01-07-1994   HQIC                         55253.168\n",
      "                         - 04-05-2013                                         \n",
      "======================================================================================\n",
      "                         coef    std err          z      P>|z|      [0.025      0.975]\n",
      "--------------------------------------------------------------------------------------\n",
      "const               5089.6413    520.352      9.781      0.000    4069.770    6109.512\n",
      "ar.L1.market_value     0.9806      0.014     69.619      0.000       0.953       1.008\n",
      "ar.L2.market_value    -0.0309      0.020     -1.563      0.118      -0.070       0.008\n",
      "ar.L3.market_value     0.0489      0.014      3.466      0.001       0.021       0.077\n",
      "                                    Roots                                    \n",
      "=============================================================================\n",
      "                  Real          Imaginary           Modulus         Frequency\n",
      "-----------------------------------------------------------------------------\n",
      "AR.1            1.0013           -0.0000j            1.0013           -0.0000\n",
      "AR.2           -0.1850           -4.5161j            4.5199           -0.2565\n",
      "AR.3           -0.1850           +4.5161j            4.5199            0.2565\n",
      "-----------------------------------------------------------------------------\n",
      "RUNNING THE L-BFGS-B CODE\n",
      "\n",
      "           * * *\n",
      "\n",
      "Machine precision = 2.220D-16\n",
      " N =            3     M =           12\n",
      "\n",
      "At X0         0 variables are exactly at the bounds\n",
      "\n",
      "At iterate    0    f=  5.50132D+00    |proj g|=  2.31015D-04\n",
      "\n",
      "At iterate    5    f=  5.50130D+00    |proj g|=  3.55275D-07\n",
      "\n",
      "At iterate   10    f=  5.50130D+00    |proj g|=  3.41061D-05\n"
     ]
    },
    {
     "name": "stderr",
     "output_type": "stream",
     "text": [
      " This problem is unconstrained.\n"
     ]
    },
    {
     "name": "stdout",
     "output_type": "stream",
     "text": [
      "\n",
      "At iterate   15    f=  5.50130D+00    |proj g|=  1.99325D-03\n",
      "\n",
      "At iterate   20    f=  5.50127D+00    |proj g|=  3.00382D-04\n",
      "\n",
      "At iterate   25    f=  5.50127D+00    |proj g|=  7.99361D-07\n",
      "\n",
      "           * * *\n",
      "\n",
      "Tit   = total number of iterations\n",
      "Tnf   = total number of function evaluations\n",
      "Tnint = total number of segments explored during Cauchy searches\n",
      "Skip  = number of BFGS updates skipped\n",
      "Nact  = number of active bounds at final generalized Cauchy point\n",
      "Projg = norm of the final projected gradient\n",
      "F     = final function value\n",
      "\n",
      "           * * *\n",
      "\n",
      "   N    Tit     Tnf  Tnint  Skip  Nact     Projg        F\n",
      "    3     25     46      1     0     0   7.994D-07   5.501D+00\n",
      "  F =   5.5012677996708259     \n",
      "\n",
      "CONVERGENCE: REL_REDUCTION_OF_F_<=_FACTR*EPSMCH             \n",
      "RUNNING THE L-BFGS-B CODE\n",
      "\n",
      "           * * *\n",
      "\n",
      "Machine precision = 2.220D-16\n",
      " N =            4     M =           12\n",
      "\n",
      "At X0         0 variables are exactly at the bounds\n",
      "\n",
      "At iterate    0    f=  5.50009D+00    |proj g|=  1.91047D-04\n",
      "\n",
      "At iterate    5    f=  5.50007D+00    |proj g|=  4.44089D-06\n",
      "\n",
      "           * * *\n",
      "\n",
      "Tit   = total number of iterations\n",
      "Tnf   = total number of function evaluations\n",
      "Tnint = total number of segments explored during Cauchy searches\n",
      "Skip  = number of BFGS updates skipped\n",
      "Nact  = number of active bounds at final generalized Cauchy point\n",
      "Projg = norm of the final projected gradient\n",
      "F     = final function value\n",
      "\n",
      "           * * *\n",
      "\n",
      "   N    Tit     Tnf  Tnint  Skip  Nact     Projg        F\n",
      "    4      8     14      1     0     0   0.000D+00   5.500D+00\n",
      "  F =   5.5000739054137551     \n",
      "\n",
      "CONVERGENCE: NORM_OF_PROJECTED_GRADIENT_<=_PGTOL            \n",
      "\n",
      "LLR test p-value = 0.001\n"
     ]
    },
    {
     "name": "stderr",
     "output_type": "stream",
     "text": [
      " This problem is unconstrained.\n"
     ]
    }
   ],
   "source": [
    "model_ar_3 = ARMA(df.market_value, order = (3,0))\n",
    "results_ar_3 = model_ar_3.fit()\n",
    "print(results_ar_3.summary())\n",
    "print(\"\\nLLR test p-value = \" + str(LLR_test(model_ar_2, model_ar_3)))"
   ]
  },
  {
   "cell_type": "code",
   "execution_count": 262,
   "id": "261c0f93",
   "metadata": {},
   "outputs": [
    {
     "name": "stdout",
     "output_type": "stream",
     "text": [
      "RUNNING THE L-BFGS-B CODE\n",
      "\n",
      "           * * *\n",
      "\n",
      "Machine precision = 2.220D-16\n",
      " N =            5     M =           12\n",
      "\n",
      "At X0         0 variables are exactly at the bounds\n",
      "\n",
      "At iterate    0    f=  5.49745D+00    |proj g|=  2.04547D-04\n",
      "\n",
      "At iterate    5    f=  5.49742D+00    |proj g|=  5.41789D-06\n",
      "\n",
      "At iterate   10    f=  5.49742D+00    |proj g|=  1.77636D-07\n",
      "\n",
      "           * * *\n",
      "\n",
      "Tit   = total number of iterations\n",
      "Tnf   = total number of function evaluations\n",
      "Tnint = total number of segments explored during Cauchy searches\n",
      "Skip  = number of BFGS updates skipped\n",
      "Nact  = number of active bounds at final generalized Cauchy point\n",
      "Projg = norm of the final projected gradient\n",
      "F     = final function value\n",
      "\n",
      "           * * *\n",
      "\n",
      "   N    Tit     Tnf  Tnint  Skip  Nact     Projg        F\n",
      "    5     10     19      1     0     0   1.776D-07   5.497D+00\n",
      "  F =   5.4974238387436216     \n",
      "\n",
      "CONVERGENCE: REL_REDUCTION_OF_F_<=_FACTR*EPSMCH             \n"
     ]
    },
    {
     "name": "stderr",
     "output_type": "stream",
     "text": [
      " This problem is unconstrained.\n"
     ]
    },
    {
     "name": "stdout",
     "output_type": "stream",
     "text": [
      "                              ARMA Model Results                              \n",
      "==============================================================================\n",
      "Dep. Variable:           market_value   No. Observations:                 5021\n",
      "Model:                     ARMA(4, 0)   Log Likelihood              -27602.565\n",
      "Method:                       css-mle   S.D. of innovations             59.022\n",
      "Date:                Fri, 14 Jan 2022   AIC                          55217.130\n",
      "Time:                        19:45:53   BIC                          55256.258\n",
      "Sample:                    01-07-1994   HQIC                         55230.841\n",
      "                         - 04-05-2013                                         \n",
      "======================================================================================\n",
      "                         coef    std err          z      P>|z|      [0.025      0.975]\n",
      "--------------------------------------------------------------------------------------\n",
      "const               5089.6412    559.945      9.090      0.000    3992.170    6187.113\n",
      "ar.L1.market_value     0.9770      0.014     69.492      0.000       0.949       1.005\n",
      "ar.L2.market_value    -0.0286      0.020     -1.455      0.146      -0.067       0.010\n",
      "ar.L3.market_value    -0.0224      0.020     -1.135      0.256      -0.061       0.016\n",
      "ar.L4.market_value     0.0728      0.014      5.166      0.000       0.045       0.100\n",
      "                                    Roots                                    \n",
      "=============================================================================\n",
      "                  Real          Imaginary           Modulus         Frequency\n",
      "-----------------------------------------------------------------------------\n",
      "AR.1            1.0011           -0.0000j            1.0011           -0.0000\n",
      "AR.2            0.9550           -2.0884j            2.2964           -0.1817\n",
      "AR.3            0.9550           +2.0884j            2.2964            0.1817\n",
      "AR.4           -2.6036           -0.0000j            2.6036           -0.5000\n",
      "-----------------------------------------------------------------------------\n",
      "RUNNING THE L-BFGS-B CODE\n",
      "\n",
      "           * * *\n",
      "\n",
      "Machine precision = 2.220D-16\n",
      " N =            4     M =           12\n",
      "\n",
      "At X0         0 variables are exactly at the bounds\n",
      "\n",
      "At iterate    0    f=  5.50009D+00    |proj g|=  1.91047D-04\n",
      "\n",
      "At iterate    5    f=  5.50007D+00    |proj g|=  4.44089D-06\n",
      "\n",
      "           * * *\n",
      "\n",
      "Tit   = total number of iterations\n",
      "Tnf   = total number of function evaluations\n",
      "Tnint = total number of segments explored during Cauchy searches\n",
      "Skip  = number of BFGS updates skipped\n",
      "Nact  = number of active bounds at final generalized Cauchy point\n",
      "Projg = norm of the final projected gradient\n",
      "F     = final function value\n",
      "\n",
      "           * * *\n",
      "\n",
      "   N    Tit     Tnf  Tnint  Skip  Nact     Projg        F\n",
      "    4      8     14      1     0     0   0.000D+00   5.500D+00\n",
      "  F =   5.5000739054137551     \n",
      "\n",
      "CONVERGENCE: NORM_OF_PROJECTED_GRADIENT_<=_PGTOL            \n"
     ]
    },
    {
     "name": "stderr",
     "output_type": "stream",
     "text": [
      " This problem is unconstrained.\n",
      " This problem is unconstrained.\n"
     ]
    },
    {
     "name": "stdout",
     "output_type": "stream",
     "text": [
      "RUNNING THE L-BFGS-B CODE\n",
      "\n",
      "           * * *\n",
      "\n",
      "Machine precision = 2.220D-16\n",
      " N =            5     M =           12\n",
      "\n",
      "At X0         0 variables are exactly at the bounds\n",
      "\n",
      "At iterate    0    f=  5.49745D+00    |proj g|=  2.04547D-04\n",
      "\n",
      "At iterate    5    f=  5.49742D+00    |proj g|=  5.41789D-06\n",
      "\n",
      "At iterate   10    f=  5.49742D+00    |proj g|=  1.77636D-07\n",
      "\n",
      "           * * *\n",
      "\n",
      "Tit   = total number of iterations\n",
      "Tnf   = total number of function evaluations\n",
      "Tnint = total number of segments explored during Cauchy searches\n",
      "Skip  = number of BFGS updates skipped\n",
      "Nact  = number of active bounds at final generalized Cauchy point\n",
      "Projg = norm of the final projected gradient\n",
      "F     = final function value\n",
      "\n",
      "           * * *\n",
      "\n",
      "   N    Tit     Tnf  Tnint  Skip  Nact     Projg        F\n",
      "    5     10     19      1     0     0   1.776D-07   5.497D+00\n",
      "  F =   5.4974238387436216     \n",
      "\n",
      "CONVERGENCE: REL_REDUCTION_OF_F_<=_FACTR*EPSMCH             \n",
      "\n",
      "LLR test p-value = 0.0\n"
     ]
    }
   ],
   "source": [
    "model_ar_4 = ARMA(df.market_value, order = (4,0))\n",
    "results_ar_4 = model_ar_4.fit()\n",
    "print(results_ar_4.summary())\n",
    "print(\"\\nLLR test p-value = \" + str(LLR_test(model_ar_3, model_ar_4)))"
   ]
  },
  {
   "cell_type": "markdown",
   "id": "7124ba5b",
   "metadata": {},
   "source": [
    "### After calling the LLR. test, we see that the `difference in log likelihood is significant`. This suggests we should `opt for the more complicated model`. Similarly, we get a significant difference in the log likelihoods, if we run the test for the AR(3) and AR(4) models.\n",
    "\n",
    "### We can repeat the same process of fitting a more complicated model and checking if it gives us `distinguishable greater log likelihoods until we reach a model where it doesn't.`\n",
    "\n",
    "### Moreover, the said model should also have its `last lag not be significantly different from zero.`\n",
    "\n",
    "### If we wish to examine the results of the model and the P-value simultaneously, we must use the `print function.`"
   ]
  },
  {
   "cell_type": "code",
   "execution_count": 263,
   "id": "fb615070",
   "metadata": {},
   "outputs": [
    {
     "name": "stdout",
     "output_type": "stream",
     "text": [
      "RUNNING THE L-BFGS-B CODE\n",
      "\n",
      "           * * *\n",
      "\n",
      "Machine precision = 2.220D-16\n",
      " N =            6     M =           12\n",
      "\n",
      "At X0         0 variables are exactly at the bounds\n",
      "\n",
      "At iterate    0    f=  5.49700D+00    |proj g|=  2.06857D-04\n",
      "\n",
      "At iterate    5    f=  5.49698D+00    |proj g|=  9.48575D-05\n",
      "\n",
      "           * * *\n",
      "\n",
      "Tit   = total number of iterations\n",
      "Tnf   = total number of function evaluations\n",
      "Tnint = total number of segments explored during Cauchy searches\n",
      "Skip  = number of BFGS updates skipped\n",
      "Nact  = number of active bounds at final generalized Cauchy point\n",
      "Projg = norm of the final projected gradient\n",
      "F     = final function value\n",
      "\n",
      "           * * *\n",
      "\n",
      "   N    Tit     Tnf  Tnint  Skip  Nact     Projg        F\n",
      "    6      8     13      1     0     0   1.776D-07   5.497D+00\n",
      "  F =   5.4969823401944318     \n",
      "\n",
      "CONVERGENCE: REL_REDUCTION_OF_F_<=_FACTR*EPSMCH             \n"
     ]
    },
    {
     "name": "stderr",
     "output_type": "stream",
     "text": [
      " This problem is unconstrained.\n"
     ]
    },
    {
     "name": "stdout",
     "output_type": "stream",
     "text": [
      "                              ARMA Model Results                              \n",
      "==============================================================================\n",
      "Dep. Variable:           market_value   No. Observations:                 5021\n",
      "Model:                     ARMA(5, 0)   Log Likelihood              -27600.348\n",
      "Method:                       css-mle   S.D. of innovations             58.996\n",
      "Date:                Fri, 14 Jan 2022   AIC                          55214.697\n",
      "Time:                        19:45:56   BIC                          55260.346\n",
      "Sample:                    01-07-1994   HQIC                         55230.693\n",
      "                         - 04-05-2013                                         \n",
      "======================================================================================\n",
      "                         coef    std err          z      P>|z|      [0.025      0.975]\n",
      "--------------------------------------------------------------------------------------\n",
      "const               5089.6410    543.594      9.363      0.000    4024.217    6155.065\n",
      "ar.L1.market_value     0.9791      0.014     69.481      0.000       0.952       1.007\n",
      "ar.L2.market_value    -0.0293      0.020     -1.488      0.137      -0.068       0.009\n",
      "ar.L3.market_value    -0.0232      0.020     -1.178      0.239      -0.062       0.015\n",
      "ar.L4.market_value     0.1018      0.020      5.166      0.000       0.063       0.140\n",
      "ar.L5.market_value    -0.0297      0.014     -2.106      0.035      -0.057      -0.002\n",
      "                                    Roots                                    \n",
      "=============================================================================\n",
      "                  Real          Imaginary           Modulus         Frequency\n",
      "-----------------------------------------------------------------------------\n",
      "AR.1            1.0012           -0.0000j            1.0012           -0.0000\n",
      "AR.2           -2.0605           -0.0000j            2.0605           -0.5000\n",
      "AR.3            0.4270           -2.0763j            2.1198           -0.2177\n",
      "AR.4            0.4270           +2.0763j            2.1198            0.2177\n",
      "AR.5            3.6286           -0.0000j            3.6286           -0.0000\n",
      "-----------------------------------------------------------------------------\n",
      "RUNNING THE L-BFGS-B CODE\n",
      "\n",
      "           * * *\n",
      "\n",
      "Machine precision = 2.220D-16\n",
      " N =            5     M =           12\n",
      "\n",
      "At X0         0 variables are exactly at the bounds\n",
      "\n",
      "At iterate    0    f=  5.49745D+00    |proj g|=  2.04547D-04\n",
      "\n",
      "At iterate    5    f=  5.49742D+00    |proj g|=  5.41789D-06\n",
      "\n",
      "At iterate   10    f=  5.49742D+00    |proj g|=  1.77636D-07\n",
      "\n",
      "           * * *\n",
      "\n",
      "Tit   = total number of iterations\n",
      "Tnf   = total number of function evaluations\n",
      "Tnint = total number of segments explored during Cauchy searches\n",
      "Skip  = number of BFGS updates skipped\n",
      "Nact  = number of active bounds at final generalized Cauchy point\n",
      "Projg = norm of the final projected gradient\n",
      "F     = final function value\n",
      "\n",
      "           * * *\n",
      "\n",
      "   N    Tit     Tnf  Tnint  Skip  Nact     Projg        F\n",
      "    5     10     19      1     0     0   1.776D-07   5.497D+00\n",
      "  F =   5.4974238387436216     \n",
      "\n",
      "CONVERGENCE: REL_REDUCTION_OF_F_<=_FACTR*EPSMCH             \n"
     ]
    },
    {
     "name": "stderr",
     "output_type": "stream",
     "text": [
      " This problem is unconstrained.\n",
      " This problem is unconstrained.\n"
     ]
    },
    {
     "name": "stdout",
     "output_type": "stream",
     "text": [
      "RUNNING THE L-BFGS-B CODE\n",
      "\n",
      "           * * *\n",
      "\n",
      "Machine precision = 2.220D-16\n",
      " N =            6     M =           12\n",
      "\n",
      "At X0         0 variables are exactly at the bounds\n",
      "\n",
      "At iterate    0    f=  5.49700D+00    |proj g|=  2.06857D-04\n",
      "\n",
      "At iterate    5    f=  5.49698D+00    |proj g|=  9.48575D-05\n",
      "\n",
      "           * * *\n",
      "\n",
      "Tit   = total number of iterations\n",
      "Tnf   = total number of function evaluations\n",
      "Tnint = total number of segments explored during Cauchy searches\n",
      "Skip  = number of BFGS updates skipped\n",
      "Nact  = number of active bounds at final generalized Cauchy point\n",
      "Projg = norm of the final projected gradient\n",
      "F     = final function value\n",
      "\n",
      "           * * *\n",
      "\n",
      "   N    Tit     Tnf  Tnint  Skip  Nact     Projg        F\n",
      "    6      8     13      1     0     0   1.776D-07   5.497D+00\n",
      "  F =   5.4969823401944318     \n",
      "\n",
      "CONVERGENCE: REL_REDUCTION_OF_F_<=_FACTR*EPSMCH             \n",
      "\n",
      "LLR test p-value = 0.035\n"
     ]
    }
   ],
   "source": [
    "model_ar_5 = ARMA(df.market_value, order = (5,0))\n",
    "results_ar_5 = model_ar_5.fit()\n",
    "print(results_ar_5.summary())\n",
    "print(\"\\nLLR test p-value = \" + str(LLR_test(model_ar_4, model_ar_5)))"
   ]
  },
  {
   "cell_type": "code",
   "execution_count": 218,
   "id": "96d87c6c",
   "metadata": {},
   "outputs": [
    {
     "name": "stdout",
     "output_type": "stream",
     "text": [
      "RUNNING THE L-BFGS-B CODE\n",
      "\n",
      "           * * *\n",
      "\n",
      "Machine precision = 2.220D-16\n",
      " N =            7     M =           12\n",
      "\n",
      "At X0         0 variables are exactly at the bounds\n",
      "\n",
      "At iterate    0    f=  3.99959D+00    |proj g|=  9.63496D-04\n",
      "\n",
      "At iterate    5    f=  3.99920D+00    |proj g|=  2.32525D-04\n",
      "\n",
      "At iterate   10    f=  3.99920D+00    |proj g|=  1.59872D-06\n"
     ]
    },
    {
     "name": "stderr",
     "output_type": "stream",
     "text": [
      " This problem is unconstrained.\n"
     ]
    },
    {
     "name": "stdout",
     "output_type": "stream",
     "text": [
      "\n",
      "At iterate   15    f=  3.99920D+00    |proj g|=  2.75335D-06\n",
      "\n",
      "At iterate   20    f=  3.99920D+00    |proj g|=  1.59428D-05\n",
      "\n",
      "At iterate   25    f=  3.99920D+00    |proj g|=  5.50671D-05\n",
      "\n",
      "At iterate   30    f=  3.99920D+00    |proj g|=  5.40368D-04\n",
      "\n",
      "At iterate   35    f=  3.99916D+00    |proj g|=  2.55898D-03\n",
      "\n",
      "At iterate   40    f=  3.99913D+00    |proj g|=  1.21236D-05\n",
      "\n",
      "           * * *\n",
      "\n",
      "Tit   = total number of iterations\n",
      "Tnf   = total number of function evaluations\n",
      "Tnint = total number of segments explored during Cauchy searches\n",
      "Skip  = number of BFGS updates skipped\n",
      "Nact  = number of active bounds at final generalized Cauchy point\n",
      "Projg = norm of the final projected gradient\n",
      "F     = final function value\n",
      "\n",
      "           * * *\n",
      "\n",
      "   N    Tit     Tnf  Tnint  Skip  Nact     Projg        F\n",
      "    7     42     71      1     0     0   8.482D-06   3.999D+00\n",
      "  F =   3.9991343046784631     \n",
      "\n",
      "CONVERGENCE: REL_REDUCTION_OF_F_<=_FACTR*EPSMCH             \n"
     ]
    },
    {
     "name": "stderr",
     "output_type": "stream",
     "text": [
      "\n",
      " Warning:  more than 10 function and gradient\n",
      "   evaluations in the last line search.  Termination\n",
      "   may possibly be caused by a bad search direction.\n"
     ]
    },
    {
     "name": "stdout",
     "output_type": "stream",
     "text": [
      "                              ARMA Model Results                              \n",
      "==============================================================================\n",
      "Dep. Variable:           market_value   No. Observations:                 5021\n",
      "Model:                     ARMA(6, 0)   Log Likelihood              -20079.653\n",
      "Method:                       css-mle   S.D. of innovations             13.191\n",
      "Date:                Fri, 14 Jan 2022   AIC                          40175.307\n",
      "Time:                        17:46:10   BIC                          40227.478\n",
      "Sample:                    01-07-1994   HQIC                         40193.588\n",
      "                         - 04-05-2013                                         \n",
      "======================================================================================\n",
      "                         coef    std err          z      P>|z|      [0.025      0.975]\n",
      "--------------------------------------------------------------------------------------\n",
      "const               1042.8538    277.426      3.759      0.000     499.108    1586.600\n",
      "ar.L1.market_value     0.9267      0.013     69.325      0.000       0.900       0.953\n",
      "ar.L2.market_value     0.0364      0.019      1.938      0.053      -0.000       0.073\n",
      "ar.L3.market_value     0.0142      0.019      0.740      0.459      -0.023       0.052\n",
      "ar.L4.market_value     0.0142      0.019      0.736      0.462      -0.024       0.052\n",
      "ar.L5.market_value    -0.0164      0.019     -0.853      0.393      -0.054       0.021\n",
      "ar.L6.market_value     0.0245      0.014      1.735      0.083      -0.003       0.052\n",
      "                                    Roots                                    \n",
      "=============================================================================\n",
      "                  Real          Imaginary           Modulus         Frequency\n",
      "-----------------------------------------------------------------------------\n",
      "AR.1            1.0004           -0.0000j            1.0004           -0.0000\n",
      "AR.2            1.5639           -1.3899j            2.0923           -0.1156\n",
      "AR.3            1.5639           +1.3899j            2.0923            0.1156\n",
      "AR.4           -2.0817           -0.0000j            2.0817           -0.5000\n",
      "AR.5           -0.6879           -2.0019j            2.1168           -0.3027\n",
      "AR.6           -0.6879           +2.0019j            2.1168            0.3027\n",
      "-----------------------------------------------------------------------------\n",
      "RUNNING THE L-BFGS-B CODE\n",
      "\n",
      "           * * *\n",
      "\n",
      "Machine precision = 2.220D-16\n",
      " N =            6     M =           12\n",
      "\n",
      "At X0         0 variables are exactly at the bounds\n",
      "\n",
      "At iterate    0    f=  3.99987D+00    |proj g|=  9.29390D-04\n",
      "\n",
      "At iterate    5    f=  3.99951D+00    |proj g|=  1.31362D-03\n"
     ]
    },
    {
     "name": "stderr",
     "output_type": "stream",
     "text": [
      " This problem is unconstrained.\n"
     ]
    },
    {
     "name": "stdout",
     "output_type": "stream",
     "text": [
      "\n",
      "At iterate   10    f=  3.99950D+00    |proj g|=  3.55275D-07\n",
      "\n",
      "At iterate   15    f=  3.99950D+00    |proj g|=  3.19744D-06\n",
      "\n",
      "At iterate   20    f=  3.99950D+00    |proj g|=  1.68754D-06\n",
      "\n",
      "At iterate   25    f=  3.99950D+00    |proj g|=  4.92939D-06\n",
      "\n",
      "At iterate   30    f=  3.99950D+00    |proj g|=  3.90799D-05\n",
      "\n",
      "At iterate   35    f=  3.99944D+00    |proj g|=  1.78697D-03\n",
      "\n",
      "At iterate   40    f=  3.99943D+00    |proj g|=  1.35936D-04\n",
      "\n",
      "At iterate   45    f=  3.99943D+00    |proj g|=  1.55431D-06\n",
      "\n",
      "           * * *\n",
      "\n",
      "Tit   = total number of iterations\n",
      "Tnf   = total number of function evaluations\n",
      "Tnint = total number of segments explored during Cauchy searches\n",
      "Skip  = number of BFGS updates skipped\n",
      "Nact  = number of active bounds at final generalized Cauchy point\n",
      "Projg = norm of the final projected gradient\n",
      "F     = final function value\n",
      "\n",
      "           * * *\n",
      "\n",
      "   N    Tit     Tnf  Tnint  Skip  Nact     Projg        F\n",
      "    6     46     71      1     0     0   1.510D-06   3.999D+00\n",
      "  F =   3.9994337815954686     \n",
      "\n",
      "CONVERGENCE: REL_REDUCTION_OF_F_<=_FACTR*EPSMCH             \n"
     ]
    },
    {
     "name": "stderr",
     "output_type": "stream",
     "text": [
      " This problem is unconstrained.\n"
     ]
    },
    {
     "name": "stdout",
     "output_type": "stream",
     "text": [
      "RUNNING THE L-BFGS-B CODE\n",
      "\n",
      "           * * *\n",
      "\n",
      "Machine precision = 2.220D-16\n",
      " N =            7     M =           12\n",
      "\n",
      "At X0         0 variables are exactly at the bounds\n",
      "\n",
      "At iterate    0    f=  3.99959D+00    |proj g|=  9.63496D-04\n",
      "\n",
      "At iterate    5    f=  3.99920D+00    |proj g|=  2.32525D-04\n",
      "\n",
      "At iterate   10    f=  3.99920D+00    |proj g|=  1.59872D-06\n",
      "\n",
      "At iterate   15    f=  3.99920D+00    |proj g|=  2.75335D-06\n",
      "\n",
      "At iterate   20    f=  3.99920D+00    |proj g|=  1.59428D-05\n",
      "\n",
      "At iterate   25    f=  3.99920D+00    |proj g|=  5.50671D-05\n",
      "\n",
      "At iterate   30    f=  3.99920D+00    |proj g|=  5.40368D-04\n",
      "\n",
      "At iterate   35    f=  3.99916D+00    |proj g|=  2.55898D-03\n",
      "\n",
      "At iterate   40    f=  3.99913D+00    |proj g|=  1.21236D-05\n"
     ]
    },
    {
     "name": "stderr",
     "output_type": "stream",
     "text": [
      "\n",
      " Warning:  more than 10 function and gradient\n",
      "   evaluations in the last line search.  Termination\n",
      "   may possibly be caused by a bad search direction.\n"
     ]
    },
    {
     "name": "stdout",
     "output_type": "stream",
     "text": [
      "\n",
      "           * * *\n",
      "\n",
      "Tit   = total number of iterations\n",
      "Tnf   = total number of function evaluations\n",
      "Tnint = total number of segments explored during Cauchy searches\n",
      "Skip  = number of BFGS updates skipped\n",
      "Nact  = number of active bounds at final generalized Cauchy point\n",
      "Projg = norm of the final projected gradient\n",
      "F     = final function value\n",
      "\n",
      "           * * *\n",
      "\n",
      "   N    Tit     Tnf  Tnint  Skip  Nact     Projg        F\n",
      "    7     42     71      1     0     0   8.482D-06   3.999D+00\n",
      "  F =   3.9991343046784631     \n",
      "\n",
      "CONVERGENCE: REL_REDUCTION_OF_F_<=_FACTR*EPSMCH             \n",
      "\n",
      "LLR test p-value = 0.083\n"
     ]
    }
   ],
   "source": [
    "model_ar_6 = ARMA(df.market_value, order = (6,0))\n",
    "results_ar_6 = model_ar_6.fit()\n",
    "print(results_ar_6.summary())\n",
    "print(\"\\nLLR test p-value = \" + str(LLR_test(model_ar_5, model_ar_6)))"
   ]
  },
  {
   "cell_type": "code",
   "execution_count": 264,
   "id": "97c31a39",
   "metadata": {},
   "outputs": [
    {
     "name": "stderr",
     "output_type": "stream",
     "text": [
      " This problem is unconstrained.\n"
     ]
    },
    {
     "name": "stdout",
     "output_type": "stream",
     "text": [
      "RUNNING THE L-BFGS-B CODE\n",
      "\n",
      "           * * *\n",
      "\n",
      "Machine precision = 2.220D-16\n",
      " N =            8     M =           12\n",
      "\n",
      "At X0         0 variables are exactly at the bounds\n",
      "\n",
      "At iterate    0    f=  5.49532D+00    |proj g|=  2.03038D-04\n",
      "\n",
      "At iterate    5    f=  5.49530D+00    |proj g|=  5.71099D-05\n",
      "\n",
      "At iterate   10    f=  5.49530D+00    |proj g|=  0.00000D+00\n",
      "\n",
      "           * * *\n",
      "\n",
      "Tit   = total number of iterations\n",
      "Tnf   = total number of function evaluations\n",
      "Tnint = total number of segments explored during Cauchy searches\n",
      "Skip  = number of BFGS updates skipped\n",
      "Nact  = number of active bounds at final generalized Cauchy point\n",
      "Projg = norm of the final projected gradient\n",
      "F     = final function value\n",
      "\n",
      "           * * *\n",
      "\n",
      "   N    Tit     Tnf  Tnint  Skip  Nact     Projg        F\n",
      "    8     10     15      1     0     0   0.000D+00   5.495D+00\n",
      "  F =   5.4952996532304734     \n",
      "\n",
      "CONVERGENCE: NORM_OF_PROJECTED_GRADIENT_<=_PGTOL            \n",
      "                              ARMA Model Results                              \n",
      "==============================================================================\n",
      "Dep. Variable:           market_value   No. Observations:                 5021\n",
      "Model:                     ARMA(7, 0)   Log Likelihood              -27591.900\n",
      "Method:                       css-mle   S.D. of innovations             58.896\n",
      "Date:                Fri, 14 Jan 2022   AIC                          55201.799\n",
      "Time:                        19:46:00   BIC                          55260.492\n",
      "Sample:                    01-07-1994   HQIC                         55222.366\n",
      "                         - 04-05-2013                                         \n",
      "======================================================================================\n",
      "                         coef    std err          z      P>|z|      [0.025      0.975]\n",
      "--------------------------------------------------------------------------------------\n",
      "const               5089.6414    589.563      8.633      0.000    3934.120    6245.163\n",
      "ar.L1.market_value     0.9786      0.014     69.518      0.000       0.951       1.006\n",
      "ar.L2.market_value    -0.0304      0.020     -1.540      0.124      -0.069       0.008\n",
      "ar.L3.market_value    -0.0267      0.020     -1.353      0.176      -0.065       0.012\n",
      "ar.L4.market_value     0.1038      0.020      5.279      0.000       0.065       0.142\n",
      "ar.L5.market_value    -0.0668      0.020     -3.385      0.001      -0.105      -0.028\n",
      "ar.L6.market_value    -0.0025      0.020     -0.127      0.899      -0.041       0.036\n",
      "ar.L7.market_value     0.0427      0.014      3.026      0.002       0.015       0.070\n",
      "                                    Roots                                    \n",
      "=============================================================================\n",
      "                  Real          Imaginary           Modulus         Frequency\n",
      "-----------------------------------------------------------------------------\n",
      "AR.1            1.0010           -0.0000j            1.0010           -0.0000\n",
      "AR.2            1.3301           -0.9296j            1.6228           -0.0971\n",
      "AR.3            1.3301           +0.9296j            1.6228            0.0971\n",
      "AR.4           -0.0400           -1.5870j            1.5875           -0.2540\n",
      "AR.5           -0.0400           +1.5870j            1.5875            0.2540\n",
      "AR.6           -1.7612           -0.6517j            1.8779           -0.4436\n",
      "AR.7           -1.7612           +0.6517j            1.8779            0.4436\n",
      "-----------------------------------------------------------------------------\n",
      "RUNNING THE L-BFGS-B CODE\n",
      "\n",
      "           * * *\n",
      "\n",
      "Machine precision = 2.220D-16\n",
      " N =            7     M =           12\n",
      "\n",
      "At X0         0 variables are exactly at the bounds\n",
      "\n",
      "At iterate    0    f=  3.99959D+00    |proj g|=  9.63496D-04\n",
      "\n",
      "At iterate    5    f=  3.99920D+00    |proj g|=  2.32525D-04\n"
     ]
    },
    {
     "name": "stderr",
     "output_type": "stream",
     "text": [
      " This problem is unconstrained.\n"
     ]
    },
    {
     "name": "stdout",
     "output_type": "stream",
     "text": [
      "\n",
      "At iterate   10    f=  3.99920D+00    |proj g|=  1.59872D-06\n",
      "\n",
      "At iterate   15    f=  3.99920D+00    |proj g|=  2.75335D-06\n",
      "\n",
      "At iterate   20    f=  3.99920D+00    |proj g|=  1.59428D-05\n",
      "\n",
      "At iterate   25    f=  3.99920D+00    |proj g|=  5.50671D-05\n",
      "\n",
      "At iterate   30    f=  3.99920D+00    |proj g|=  5.40368D-04\n",
      "\n",
      "At iterate   35    f=  3.99916D+00    |proj g|=  2.55898D-03\n",
      "\n",
      "At iterate   40    f=  3.99913D+00    |proj g|=  1.21236D-05\n"
     ]
    },
    {
     "name": "stderr",
     "output_type": "stream",
     "text": [
      "\n",
      " Warning:  more than 10 function and gradient\n",
      "   evaluations in the last line search.  Termination\n",
      "   may possibly be caused by a bad search direction.\n"
     ]
    },
    {
     "name": "stdout",
     "output_type": "stream",
     "text": [
      "\n",
      "           * * *\n",
      "\n",
      "Tit   = total number of iterations\n",
      "Tnf   = total number of function evaluations\n",
      "Tnint = total number of segments explored during Cauchy searches\n",
      "Skip  = number of BFGS updates skipped\n",
      "Nact  = number of active bounds at final generalized Cauchy point\n",
      "Projg = norm of the final projected gradient\n",
      "F     = final function value\n",
      "\n",
      "           * * *\n",
      "\n",
      "   N    Tit     Tnf  Tnint  Skip  Nact     Projg        F\n",
      "    7     42     71      1     0     0   8.482D-06   3.999D+00\n",
      "  F =   3.9991343046784631     \n",
      "\n",
      "CONVERGENCE: REL_REDUCTION_OF_F_<=_FACTR*EPSMCH             \n"
     ]
    },
    {
     "name": "stderr",
     "output_type": "stream",
     "text": [
      " This problem is unconstrained.\n"
     ]
    },
    {
     "name": "stdout",
     "output_type": "stream",
     "text": [
      "RUNNING THE L-BFGS-B CODE\n",
      "\n",
      "           * * *\n",
      "\n",
      "Machine precision = 2.220D-16\n",
      " N =            8     M =           12\n",
      "\n",
      "At X0         0 variables are exactly at the bounds\n",
      "\n",
      "At iterate    0    f=  5.49532D+00    |proj g|=  2.03038D-04\n",
      "\n",
      "At iterate    5    f=  5.49530D+00    |proj g|=  5.71099D-05\n",
      "\n",
      "At iterate   10    f=  5.49530D+00    |proj g|=  0.00000D+00\n",
      "\n",
      "           * * *\n",
      "\n",
      "Tit   = total number of iterations\n",
      "Tnf   = total number of function evaluations\n",
      "Tnint = total number of segments explored during Cauchy searches\n",
      "Skip  = number of BFGS updates skipped\n",
      "Nact  = number of active bounds at final generalized Cauchy point\n",
      "Projg = norm of the final projected gradient\n",
      "F     = final function value\n",
      "\n",
      "           * * *\n",
      "\n",
      "   N    Tit     Tnf  Tnint  Skip  Nact     Projg        F\n",
      "    8     10     15      1     0     0   0.000D+00   5.495D+00\n",
      "  F =   5.4952996532304734     \n",
      "\n",
      "CONVERGENCE: NORM_OF_PROJECTED_GRADIENT_<=_PGTOL            \n",
      "\n",
      "LLR test p-value = 1.0\n"
     ]
    }
   ],
   "source": [
    "model_ar_7 = ARMA(df.market_value, order = (7,0))\n",
    "results_ar_7 = model_ar_7.fit()\n",
    "print(results_ar_7.summary())\n",
    "print(\"\\nLLR test p-value = \" + str(LLR_test(model_ar_6, model_ar_7)))"
   ]
  },
  {
   "cell_type": "code",
   "execution_count": 220,
   "id": "109edf01",
   "metadata": {},
   "outputs": [
    {
     "name": "stderr",
     "output_type": "stream",
     "text": [
      " This problem is unconstrained.\n"
     ]
    },
    {
     "name": "stdout",
     "output_type": "stream",
     "text": [
      "RUNNING THE L-BFGS-B CODE\n",
      "\n",
      "           * * *\n",
      "\n",
      "Machine precision = 2.220D-16\n",
      " N =            9     M =           12\n",
      "\n",
      "At X0         0 variables are exactly at the bounds\n",
      "\n",
      "At iterate    0    f=  3.99860D+00    |proj g|=  1.06337D-03\n",
      "\n",
      "At iterate    5    f=  3.99814D+00    |proj g|=  4.68425D-04\n",
      "\n",
      "At iterate   10    f=  3.99814D+00    |proj g|=  6.21725D-07\n",
      "\n",
      "At iterate   15    f=  3.99814D+00    |proj g|=  2.53131D-06\n",
      "\n",
      "At iterate   20    f=  3.99814D+00    |proj g|=  7.50955D-05\n",
      "\n",
      "At iterate   25    f=  3.99810D+00    |proj g|=  6.89671D-04\n",
      "\n",
      "At iterate   30    f=  3.99807D+00    |proj g|=  6.95000D-05\n"
     ]
    },
    {
     "name": "stderr",
     "output_type": "stream",
     "text": [
      "\n",
      " Warning:  more than 10 function and gradient\n",
      "   evaluations in the last line search.  Termination\n",
      "   may possibly be caused by a bad search direction.\n"
     ]
    },
    {
     "name": "stdout",
     "output_type": "stream",
     "text": [
      "\n",
      "           * * *\n",
      "\n",
      "Tit   = total number of iterations\n",
      "Tnf   = total number of function evaluations\n",
      "Tnint = total number of segments explored during Cauchy searches\n",
      "Skip  = number of BFGS updates skipped\n",
      "Nact  = number of active bounds at final generalized Cauchy point\n",
      "Projg = norm of the final projected gradient\n",
      "F     = final function value\n",
      "\n",
      "           * * *\n",
      "\n",
      "   N    Tit     Tnf  Tnint  Skip  Nact     Projg        F\n",
      "    9     32     59      1     0     0   1.750D-05   3.998D+00\n",
      "  F =   3.9980700548720516     \n",
      "\n",
      "CONVERGENCE: REL_REDUCTION_OF_F_<=_FACTR*EPSMCH             \n",
      "                              ARMA Model Results                              \n",
      "==============================================================================\n",
      "Dep. Variable:           market_value   No. Observations:                 5021\n",
      "Model:                     ARMA(8, 0)   Log Likelihood              -20074.310\n",
      "Method:                       css-mle   S.D. of innovations             13.177\n",
      "Date:                Fri, 14 Jan 2022   AIC                          40168.619\n",
      "Time:                        17:47:26   BIC                          40233.833\n",
      "Sample:                    01-07-1994   HQIC                         40191.471\n",
      "                         - 04-05-2013                                         \n",
      "======================================================================================\n",
      "                         coef    std err          z      P>|z|      [0.025      0.975]\n",
      "--------------------------------------------------------------------------------------\n",
      "const               1057.8339    292.712      3.614      0.000     484.128    1631.540\n",
      "ar.L1.market_value     0.9252      0.013     71.037      0.000       0.900       0.951\n",
      "ar.L2.market_value     0.0365      0.019      1.970      0.049       0.000       0.073\n",
      "ar.L3.market_value     0.0147      0.019      0.763      0.445      -0.023       0.052\n",
      "ar.L4.market_value     0.0133      0.019      0.691      0.490      -0.024       0.051\n",
      "ar.L5.market_value    -0.0178      0.019     -0.927      0.354      -0.056       0.020\n",
      "ar.L6.market_value     0.0022      0.019      0.116      0.908      -0.035       0.040\n",
      "ar.L7.market_value    -0.0148      0.019     -0.770      0.441      -0.052       0.023\n",
      "ar.L8.market_value     0.0403      0.014      2.855      0.004       0.013       0.068\n",
      "                                    Roots                                    \n",
      "=============================================================================\n",
      "                  Real          Imaginary           Modulus         Frequency\n",
      "-----------------------------------------------------------------------------\n",
      "AR.1            1.0004           -0.0000j            1.0004           -0.0000\n",
      "AR.2            1.3074           -0.7557j            1.5101           -0.0834\n",
      "AR.3            1.3074           +0.7557j            1.5101            0.0834\n",
      "AR.4            0.2274           -1.5696j            1.5860           -0.2271\n",
      "AR.5            0.2274           +1.5696j            1.5860            0.2271\n",
      "AR.6           -1.6009           -0.0000j            1.6009           -0.5000\n",
      "AR.7           -1.0507           -1.2649j            1.6444           -0.3603\n",
      "AR.8           -1.0507           +1.2649j            1.6444            0.3603\n",
      "-----------------------------------------------------------------------------\n",
      "RUNNING THE L-BFGS-B CODE\n",
      "\n",
      "           * * *\n",
      "\n",
      "Machine precision = 2.220D-16\n",
      " N =            8     M =           12\n",
      "\n",
      "At X0         0 variables are exactly at the bounds\n",
      "\n",
      "At iterate    0    f=  3.99936D+00    |proj g|=  9.90763D-04\n"
     ]
    },
    {
     "name": "stderr",
     "output_type": "stream",
     "text": [
      " This problem is unconstrained.\n"
     ]
    },
    {
     "name": "stdout",
     "output_type": "stream",
     "text": [
      "\n",
      "At iterate    5    f=  3.99895D+00    |proj g|=  2.77245D-04\n",
      "\n",
      "At iterate   10    f=  3.99895D+00    |proj g|=  3.55275D-07\n",
      "\n",
      "At iterate   15    f=  3.99895D+00    |proj g|=  5.01821D-06\n",
      "\n",
      "At iterate   20    f=  3.99895D+00    |proj g|=  4.79616D-06\n",
      "\n",
      "At iterate   25    f=  3.99895D+00    |proj g|=  7.26530D-05\n",
      "\n",
      "At iterate   30    f=  3.99890D+00    |proj g|=  1.57243D-03\n",
      "\n",
      "At iterate   35    f=  3.99888D+00    |proj g|=  6.60805D-05\n",
      "\n",
      "At iterate   40    f=  3.99888D+00    |proj g|=  4.96048D-05\n",
      "\n",
      "At iterate   45    f=  3.99888D+00    |proj g|=  3.63265D-05\n",
      "\n",
      "At iterate   50    f=  3.99888D+00    |proj g|=  5.51559D-05\n",
      "\n",
      "At iterate   55    f=  3.99888D+00    |proj g|=  5.06262D-06\n",
      "\n",
      "At iterate   60    f=  3.99888D+00    |proj g|=  1.50990D-06\n",
      "\n",
      "At iterate   65    f=  3.99888D+00    |proj g|=  3.10862D-07\n",
      "\n",
      "At iterate   70    f=  3.99888D+00    |proj g|=  2.22045D-07\n",
      "\n",
      "           * * *\n",
      "\n",
      "Tit   = total number of iterations\n",
      "Tnf   = total number of function evaluations\n",
      "Tnint = total number of segments explored during Cauchy searches\n",
      "Skip  = number of BFGS updates skipped\n",
      "Nact  = number of active bounds at final generalized Cauchy point\n",
      "Projg = norm of the final projected gradient\n",
      "F     = final function value\n",
      "\n",
      "           * * *\n",
      "\n",
      "   N    Tit     Tnf  Tnint  Skip  Nact     Projg        F\n",
      "    8     72    103      1     0     0   8.882D-08   3.999D+00\n",
      "  F =   3.9988821720766015     \n",
      "\n",
      "CONVERGENCE: REL_REDUCTION_OF_F_<=_FACTR*EPSMCH             \n",
      "RUNNING THE L-BFGS-B CODE\n",
      "\n",
      "           * * *\n",
      "\n",
      "Machine precision = 2.220D-16\n",
      " N =            9     M =           12\n",
      "\n",
      "At X0         0 variables are exactly at the bounds\n",
      "\n",
      "At iterate    0    f=  3.99860D+00    |proj g|=  1.06337D-03\n",
      "\n",
      "At iterate    5    f=  3.99814D+00    |proj g|=  4.68425D-04\n"
     ]
    },
    {
     "name": "stderr",
     "output_type": "stream",
     "text": [
      " This problem is unconstrained.\n"
     ]
    },
    {
     "name": "stdout",
     "output_type": "stream",
     "text": [
      "\n",
      "At iterate   10    f=  3.99814D+00    |proj g|=  6.21725D-07\n",
      "\n",
      "At iterate   15    f=  3.99814D+00    |proj g|=  2.53131D-06\n",
      "\n",
      "At iterate   20    f=  3.99814D+00    |proj g|=  7.50955D-05\n",
      "\n",
      "At iterate   25    f=  3.99810D+00    |proj g|=  6.89671D-04\n",
      "\n",
      "At iterate   30    f=  3.99807D+00    |proj g|=  6.95000D-05\n"
     ]
    },
    {
     "name": "stderr",
     "output_type": "stream",
     "text": [
      "\n",
      " Warning:  more than 10 function and gradient\n",
      "   evaluations in the last line search.  Termination\n",
      "   may possibly be caused by a bad search direction.\n"
     ]
    },
    {
     "name": "stdout",
     "output_type": "stream",
     "text": [
      "\n",
      "           * * *\n",
      "\n",
      "Tit   = total number of iterations\n",
      "Tnf   = total number of function evaluations\n",
      "Tnint = total number of segments explored during Cauchy searches\n",
      "Skip  = number of BFGS updates skipped\n",
      "Nact  = number of active bounds at final generalized Cauchy point\n",
      "Projg = norm of the final projected gradient\n",
      "F     = final function value\n",
      "\n",
      "           * * *\n",
      "\n",
      "   N    Tit     Tnf  Tnint  Skip  Nact     Projg        F\n",
      "    9     32     59      1     0     0   1.750D-05   3.998D+00\n",
      "  F =   3.9980700548720516     \n",
      "\n",
      "CONVERGENCE: REL_REDUCTION_OF_F_<=_FACTR*EPSMCH             \n",
      "\n",
      "LLR test p-value = 0.004\n"
     ]
    }
   ],
   "source": [
    "model_ar_8 = ARMA(df.market_value, order = (8,0))\n",
    "results_ar_8 = model_ar_8.fit()\n",
    "print(results_ar_8.summary())\n",
    "print(\"\\nLLR test p-value = \" + str(LLR_test(model_ar_7, model_ar_8)))"
   ]
  },
  {
   "cell_type": "code",
   "execution_count": 232,
   "id": "91d9d68e",
   "metadata": {},
   "outputs": [
    {
     "name": "stdout",
     "output_type": "stream",
     "text": [
      "RUNNING THE L-BFGS-B CODE\n",
      "\n",
      "           * * *\n",
      "\n",
      "Machine precision = 2.220D-16\n",
      " N =            2     M =           12\n",
      "\n",
      "At X0         0 variables are exactly at the bounds\n",
      "\n",
      "At iterate    0    f=  4.00299D+00    |proj g|=  7.83551D-04\n",
      "\n",
      "At iterate    5    f=  4.00273D+00    |proj g|=  1.77636D-06\n",
      "\n",
      "At iterate   10    f=  4.00267D+00    |proj g|=  1.21680D-05\n",
      "\n",
      "           * * *\n",
      "\n",
      "Tit   = total number of iterations\n",
      "Tnf   = total number of function evaluations\n",
      "Tnint = total number of segments explored during Cauchy searches\n",
      "Skip  = number of BFGS updates skipped\n",
      "Nact  = number of active bounds at final generalized Cauchy point\n",
      "Projg = norm of the final projected gradient\n",
      "F     = final function value\n",
      "\n",
      "           * * *\n",
      "\n",
      "   N    Tit     Tnf  Tnint  Skip  Nact     Projg        F\n",
      "    2     12     18      1     0     0   0.000D+00   4.003D+00\n",
      "  F =   4.0026663740995518     \n",
      "\n",
      "CONVERGENCE: NORM_OF_PROJECTED_GRADIENT_<=_PGTOL            \n",
      "RUNNING THE L-BFGS-B CODE\n",
      "\n",
      "           * * *\n",
      "\n",
      "Machine precision = 2.220D-16\n",
      " N =            8     M =           12\n",
      "\n",
      "At X0         0 variables are exactly at the bounds\n",
      "\n",
      "At iterate    0    f=  3.99936D+00    |proj g|=  9.90763D-04\n"
     ]
    },
    {
     "name": "stderr",
     "output_type": "stream",
     "text": [
      " This problem is unconstrained.\n",
      " This problem is unconstrained.\n"
     ]
    },
    {
     "name": "stdout",
     "output_type": "stream",
     "text": [
      "\n",
      "At iterate    5    f=  3.99895D+00    |proj g|=  2.77245D-04\n",
      "\n",
      "At iterate   10    f=  3.99895D+00    |proj g|=  3.55275D-07\n",
      "\n",
      "At iterate   15    f=  3.99895D+00    |proj g|=  5.01821D-06\n",
      "\n",
      "At iterate   20    f=  3.99895D+00    |proj g|=  4.79616D-06\n",
      "\n",
      "At iterate   25    f=  3.99895D+00    |proj g|=  7.26530D-05\n",
      "\n",
      "At iterate   30    f=  3.99890D+00    |proj g|=  1.57243D-03\n",
      "\n",
      "At iterate   35    f=  3.99888D+00    |proj g|=  6.60805D-05\n",
      "\n",
      "At iterate   40    f=  3.99888D+00    |proj g|=  4.96048D-05\n",
      "\n",
      "At iterate   45    f=  3.99888D+00    |proj g|=  3.63265D-05\n",
      "\n",
      "At iterate   50    f=  3.99888D+00    |proj g|=  5.51559D-05\n",
      "\n",
      "At iterate   55    f=  3.99888D+00    |proj g|=  5.06262D-06\n",
      "\n",
      "At iterate   60    f=  3.99888D+00    |proj g|=  1.50990D-06\n",
      "\n",
      "At iterate   65    f=  3.99888D+00    |proj g|=  3.10862D-07\n",
      "\n",
      "At iterate   70    f=  3.99888D+00    |proj g|=  2.22045D-07\n",
      "\n",
      "           * * *\n",
      "\n",
      "Tit   = total number of iterations\n",
      "Tnf   = total number of function evaluations\n",
      "Tnint = total number of segments explored during Cauchy searches\n",
      "Skip  = number of BFGS updates skipped\n",
      "Nact  = number of active bounds at final generalized Cauchy point\n",
      "Projg = norm of the final projected gradient\n",
      "F     = final function value\n",
      "\n",
      "           * * *\n",
      "\n",
      "   N    Tit     Tnf  Tnint  Skip  Nact     Projg        F\n",
      "    8     72    103      1     0     0   8.882D-08   3.999D+00\n",
      "  F =   3.9988821720766015     \n",
      "\n",
      "CONVERGENCE: REL_REDUCTION_OF_F_<=_FACTR*EPSMCH             \n",
      "\n",
      "LLR test p-value = 0.0\n"
     ]
    }
   ],
   "source": [
    "print(\"\\nLLR test p-value = \" + str(LLR_test(model_ar, model_ar_7, DF = 6)))"
   ]
  },
  {
   "cell_type": "markdown",
   "id": "7f0d5d6e",
   "metadata": {},
   "source": [
    "### DF Test"
   ]
  },
  {
   "cell_type": "code",
   "execution_count": 265,
   "id": "4cd6d473",
   "metadata": {},
   "outputs": [
    {
     "data": {
      "text/plain": [
       "(-1.90415514188369,\n",
       " 0.3301089327702815,\n",
       " 6,\n",
       " 5014,\n",
       " {'1%': -3.4316548765428174,\n",
       "  '5%': -2.8621166146845334,\n",
       "  '10%': -2.5670769326348926},\n",
       " 54854.15304507557)"
      ]
     },
     "execution_count": 265,
     "metadata": {},
     "output_type": "execute_result"
    }
   ],
   "source": [
    "sts.adfuller(df.market_value)"
   ]
  },
  {
   "cell_type": "markdown",
   "id": "82516fae",
   "metadata": {},
   "source": [
    "##### NOTE - P = 0.33, so we can't conclusively say the data comes from a stationary process. That's why we can assume it is extracted from a non stationary process. This suggests that we shouldn't rely on AR models to make accurate forecasts. But what can we do in such cases? Well, our best bet is transforming the data set so that it fits the stationary assumptions."
   ]
  },
  {
   "cell_type": "markdown",
   "id": "57029c8e",
   "metadata": {},
   "source": [
    "### Using Returns"
   ]
  },
  {
   "cell_type": "markdown",
   "id": "11c659d6",
   "metadata": {},
   "source": [
    "#### Returns - The % change between the values for two consecutive periods.\n",
    "\n",
    "#### r > 0 -> Positve Returns -> indicate an increase in the price\n",
    "#### r < 0 -> Negative Returns -> indicate a decrease in the price\n",
    "\n",
    "The common approach is to use returns instead of prices when measuring financial indices. Conversely, if the predictions show negative returns, then the stock depreciates and they would prefer to get rid of it while it is still valuable. \n",
    "\n",
    "#### Create Return Out of Prices:\n",
    "#### (P<sub>t</sub> - P<sub>t-1</sub>/P<sub>t-1</sub>) * 100"
   ]
  },
  {
   "cell_type": "markdown",
   "id": "d74e3227",
   "metadata": {},
   "source": [
    "#### pct_change() -> Distance in time between the periods we want to compare.\n",
    "#### Default value -> 1\n",
    "\n",
    "##### NOTE - Pandas returns the percentages expressed as real numbers.\n",
    "\n",
    "#### For example -> 0.02 = 2%\n",
    "\n",
    "#### Therefore, we need to multiply the whole series with 100 using `.mul(x)`."
   ]
  },
  {
   "cell_type": "code",
   "execution_count": 266,
   "id": "1317c2db",
   "metadata": {},
   "outputs": [],
   "source": [
    "df['returns'] = df.market_value.pct_change(1).mul(100)\n",
    "df = df.iloc[1:]"
   ]
  },
  {
   "cell_type": "code",
   "execution_count": 267,
   "id": "fb604b84",
   "metadata": {},
   "outputs": [
    {
     "data": {
      "text/plain": [
       "(-12.770265719497221,\n",
       " 7.798058336038833e-24,\n",
       " 32,\n",
       " 4987,\n",
       " {'1%': -3.431661944885779,\n",
       "  '5%': -2.8621197374408225,\n",
       "  '10%': -2.5670785949998973},\n",
       " 15696.767245697501)"
      ]
     },
     "execution_count": 267,
     "metadata": {},
     "output_type": "execute_result"
    }
   ],
   "source": [
    "sts.adfuller(df.returns)"
   ]
  },
  {
   "cell_type": "markdown",
   "id": "4f80adac",
   "metadata": {},
   "source": [
    "##### To make sure the returns don't come from a stationary process, we need to run the augmented Dicky Fuller test once again. The test statistic falls far to the left of even the one percent critical value. Thus, we can confidently state that the data comes from a stationary process. This is exactly what we were aiming for when switching from prices to returns."
   ]
  },
  {
   "cell_type": "markdown",
   "id": "d72e48b3",
   "metadata": {},
   "source": [
    "### Examining ACF and PACF for Returns"
   ]
  },
  {
   "cell_type": "code",
   "execution_count": 268,
   "id": "dbbf6936",
   "metadata": {},
   "outputs": [
    {
     "data": {
      "image/png": "[encoded data removed]",
      "text/plain": [
       "<Figure size 432x288 with 1 Axes>"
      ]
     },
     "metadata": {},
     "output_type": "display_data"
    }
   ],
   "source": [
    "sgt.plot_acf(df.returns, lags = 40, zero = False)\n",
    "plt.title(\"ACF FTSE Returns\", size = 24)\n",
    "plt.show()"
   ]
  },
  {
   "cell_type": "code",
   "execution_count": 270,
   "id": "ec7002e1",
   "metadata": {},
   "outputs": [
    {
     "data": {
      "image/png": "[encoded data removed]",
      "text/plain": [
       "<Figure size 432x288 with 1 Axes>"
      ]
     },
     "metadata": {},
     "output_type": "display_data"
    }
   ],
   "source": [
    "sgt.plot_pacf(df.returns, lags = 40, zero = False, method = ('ols'))\n",
    "plt.title(\"PACF FTSE Returns\", size = 24)\n",
    "plt.show()"
   ]
  },
  {
   "cell_type": "markdown",
   "id": "c4240cf7",
   "metadata": {},
   "source": [
    "The results look similar to those we got for the ACF. \n",
    "\n",
    "One way to interpret this is the `prices today` often move in the `opposite direction of prices yesterday.` Hence, we tend to get price increases following price decreases, which falls in line with our expectation of cyclical changes.\n",
    "\n",
    "Intuition dictates that the `further back we go, the less relevant the coefficient values should be.` That's because the `majority of effects they have on current values should already be accounted for due to the recursive nature of auto regressive models.`\n",
    "\n",
    "### Interpretation of the PACF graph\n",
    "#### 5 of the first 6 coefficients are significant and 4 of them are negative which suggests the market is trying to adjust.\n",
    "\n",
    "### method()\n",
    "\n",
    "Specifies which method for the calculations to use:\n",
    "\n",
    "    “ywm” or “ywmle” : Yule-Walker without adjustment. Default.\n",
    "\n",
    "    “yw” or “ywadjusted” : Yule-Walker with sample-size adjustment in denominator for acovf. Default.\n",
    "\n",
    "    “ols” : regression of time series on lags of it and on constant.\n",
    "\n",
    "    “ols-inefficient” : regression of time series on lags using a single common sample to estimate all pacf coefficients.\n",
    "\n",
    "    “ols-adjusted” : regression of time series on lags with a bias adjustment.\n",
    "\n",
    "    “ld” or “ldadjusted” : Levinson-Durbin recursion with bias correction.\n",
    "\n",
    "    “ldb” or “ldbiased” : Levinson-Durbin recursion without bias correction."
   ]
  },
  {
   "cell_type": "markdown",
   "id": "d7e84358",
   "metadata": {},
   "source": [
    "### AR(1) for Returns"
   ]
  },
  {
   "cell_type": "code",
   "execution_count": 272,
   "id": "ffa07682",
   "metadata": {},
   "outputs": [],
   "source": [
    "model_ret_ar_1 = ARMA(df.returns, order = (1, 0))"
   ]
  },
  {
   "cell_type": "code",
   "execution_count": 273,
   "id": "e3d241ca",
   "metadata": {},
   "outputs": [
    {
     "name": "stdout",
     "output_type": "stream",
     "text": [
      "RUNNING THE L-BFGS-B CODE\n",
      "\n",
      "           * * *\n",
      "\n",
      "Machine precision = 2.220D-16\n",
      " N =            2     M =           12\n",
      "\n",
      "At X0         0 variables are exactly at the bounds\n",
      "\n",
      "At iterate    0    f=  1.57963D+00    |proj g|=  2.53575D-05\n",
      "\n",
      "At iterate    5    f=  1.57963D+00    |proj g|=  2.22045D-08\n",
      "\n",
      "           * * *\n",
      "\n",
      "Tit   = total number of iterations\n",
      "Tnf   = total number of function evaluations\n",
      "Tnint = total number of segments explored during Cauchy searches\n",
      "Skip  = number of BFGS updates skipped\n",
      "Nact  = number of active bounds at final generalized Cauchy point\n",
      "Projg = norm of the final projected gradient\n",
      "F     = final function value\n",
      "\n",
      "           * * *\n",
      "\n",
      "   N    Tit     Tnf  Tnint  Skip  Nact     Projg        F\n",
      "    2      5      7      1     0     0   2.220D-08   1.580D+00\n",
      "  F =   1.5796312195188147     \n",
      "\n",
      "CONVERGENCE: REL_REDUCTION_OF_F_<=_FACTR*EPSMCH             \n"
     ]
    },
    {
     "name": "stderr",
     "output_type": "stream",
     "text": [
      " This problem is unconstrained.\n"
     ]
    }
   ],
   "source": [
    "results_ret_ar_1 = model_ret_ar_1.fit()"
   ]
  },
  {
   "cell_type": "code",
   "execution_count": 275,
   "id": "3cca59ac",
   "metadata": {},
   "outputs": [
    {
     "data": {
      "text/html": [
       "<table class=\"simpletable\">\n",
       "<caption>ARMA Model Results</caption>\n",
       "<tr>\n",
       "  <th>Dep. Variable:</th>      <td>returns</td>     <th>  No. Observations:  </th>   <td>5020</td>   \n",
       "</tr>\n",
       "<tr>\n",
       "  <th>Model:</th>            <td>ARMA(1, 0)</td>    <th>  Log Likelihood     </th> <td>-7929.749</td>\n",
       "</tr>\n",
       "<tr>\n",
       "  <th>Method:</th>             <td>css-mle</td>     <th>  S.D. of innovations</th>   <td>1.174</td>  \n",
       "</tr>\n",
       "<tr>\n",
       "  <th>Date:</th>          <td>Tue, 18 Jan 2022</td> <th>  AIC                </th> <td>15865.497</td>\n",
       "</tr>\n",
       "<tr>\n",
       "  <th>Time:</th>              <td>22:30:33</td>     <th>  BIC                </th> <td>15885.061</td>\n",
       "</tr>\n",
       "<tr>\n",
       "  <th>Sample:</th>           <td>01-10-1994</td>    <th>  HQIC               </th> <td>15872.353</td>\n",
       "</tr>\n",
       "<tr>\n",
       "  <th></th>                 <td>- 04-05-2013</td>   <th>                     </th>     <td> </td>    \n",
       "</tr>\n",
       "</table>\n",
       "<table class=\"simpletable\">\n",
       "<tr>\n",
       "        <td></td>           <th>coef</th>     <th>std err</th>      <th>z</th>      <th>P>|z|</th>  <th>[0.025</th>    <th>0.975]</th>  \n",
       "</tr>\n",
       "<tr>\n",
       "  <th>const</th>         <td>    0.0188</td> <td>    0.016</td> <td>    1.159</td> <td> 0.247</td> <td>   -0.013</td> <td>    0.051</td>\n",
       "</tr>\n",
       "<tr>\n",
       "  <th>ar.L1.returns</th> <td>   -0.0230</td> <td>    0.014</td> <td>   -1.631</td> <td> 0.103</td> <td>   -0.051</td> <td>    0.005</td>\n",
       "</tr>\n",
       "</table>\n",
       "<table class=\"simpletable\">\n",
       "<caption>Roots</caption>\n",
       "<tr>\n",
       "    <td></td>   <th>            Real</th>  <th>         Imaginary</th> <th>         Modulus</th>  <th>        Frequency</th>\n",
       "</tr>\n",
       "<tr>\n",
       "  <th>AR.1</th> <td>         -43.4387</td> <td>          +0.0000j</td> <td>          43.4387</td> <td>           0.5000</td>\n",
       "</tr>\n",
       "</table>"
      ],
      "text/plain": [
       "<class 'statsmodels.iolib.summary.Summary'>\n",
       "\"\"\"\n",
       "                              ARMA Model Results                              \n",
       "==============================================================================\n",
       "Dep. Variable:                returns   No. Observations:                 5020\n",
       "Model:                     ARMA(1, 0)   Log Likelihood               -7929.749\n",
       "Method:                       css-mle   S.D. of innovations              1.174\n",
       "Date:                Tue, 18 Jan 2022   AIC                          15865.497\n",
       "Time:                        22:30:33   BIC                          15885.061\n",
       "Sample:                    01-10-1994   HQIC                         15872.353\n",
       "                         - 04-05-2013                                         \n",
       "=================================================================================\n",
       "                    coef    std err          z      P>|z|      [0.025      0.975]\n",
       "---------------------------------------------------------------------------------\n",
       "const             0.0188      0.016      1.159      0.247      -0.013       0.051\n",
       "ar.L1.returns    -0.0230      0.014     -1.631      0.103      -0.051       0.005\n",
       "                                    Roots                                    \n",
       "=============================================================================\n",
       "                  Real          Imaginary           Modulus         Frequency\n",
       "-----------------------------------------------------------------------------\n",
       "AR.1          -43.4387           +0.0000j           43.4387            0.5000\n",
       "-----------------------------------------------------------------------------\n",
       "\"\"\""
      ]
     },
     "execution_count": 275,
     "metadata": {},
     "output_type": "execute_result"
    }
   ],
   "source": [
    "results_ret_ar_1.summary()"
   ]
  },
  {
   "cell_type": "markdown",
   "id": "8b63ec62",
   "metadata": {},
   "source": [
    "P > 0.05 -> This means that `neither is significantly different from zero.` So this model holds `no real predictive power.` This can be explained by the impact past values can have on yesterday's prices. The more easily yesterday's price is affected by higher lags, the more inaccurate it's coefficient becomes. This is because of the accumulated compounding effects of lagged coefficients. This directly decreases the predictive power of the model. Therefore, we should proceed by testing whether a higher lag model serves as a better predictor."
   ]
  },
  {
   "cell_type": "markdown",
   "id": "5da2e556",
   "metadata": {},
   "source": [
    "### Higher-Lag AR Models for Returns"
   ]
  },
  {
   "cell_type": "code",
   "execution_count": 276,
   "id": "bb43bf82",
   "metadata": {},
   "outputs": [],
   "source": [
    "model_ret_ar_2 = ARMA(df.returns, order = (2, 0))"
   ]
  },
  {
   "cell_type": "code",
   "execution_count": 277,
   "id": "9874a847",
   "metadata": {},
   "outputs": [
    {
     "name": "stdout",
     "output_type": "stream",
     "text": [
      "RUNNING THE L-BFGS-B CODE\n",
      "\n",
      "           * * *\n",
      "\n",
      "Machine precision = 2.220D-16\n",
      " N =            3     M =           12\n",
      "\n",
      "At X0         0 variables are exactly at the bounds\n",
      "\n",
      "At iterate    0    f=  1.57838D+00    |proj g|=  1.43929D-04\n",
      "\n",
      "At iterate    5    f=  1.57838D+00    |proj g|=  4.44089D-08\n",
      "\n",
      "           * * *\n",
      "\n",
      "Tit   = total number of iterations\n",
      "Tnf   = total number of function evaluations\n",
      "Tnint = total number of segments explored during Cauchy searches\n",
      "Skip  = number of BFGS updates skipped\n",
      "Nact  = number of active bounds at final generalized Cauchy point\n",
      "Projg = norm of the final projected gradient\n",
      "F     = final function value\n",
      "\n",
      "           * * *\n",
      "\n",
      "   N    Tit     Tnf  Tnint  Skip  Nact     Projg        F\n",
      "    3      5      7      1     0     0   4.441D-08   1.578D+00\n",
      "  F =   1.5783776316401592     \n",
      "\n",
      "CONVERGENCE: REL_REDUCTION_OF_F_<=_FACTR*EPSMCH             \n"
     ]
    },
    {
     "name": "stderr",
     "output_type": "stream",
     "text": [
      " This problem is unconstrained.\n"
     ]
    }
   ],
   "source": [
    "results_ret_ar_2 = model_ret_ar_2.fit()"
   ]
  },
  {
   "cell_type": "code",
   "execution_count": 278,
   "id": "74d0f122",
   "metadata": {},
   "outputs": [
    {
     "data": {
      "text/html": [
       "<table class=\"simpletable\">\n",
       "<caption>ARMA Model Results</caption>\n",
       "<tr>\n",
       "  <th>Dep. Variable:</th>      <td>returns</td>     <th>  No. Observations:  </th>   <td>5020</td>   \n",
       "</tr>\n",
       "<tr>\n",
       "  <th>Model:</th>            <td>ARMA(2, 0)</td>    <th>  Log Likelihood     </th> <td>-7923.456</td>\n",
       "</tr>\n",
       "<tr>\n",
       "  <th>Method:</th>             <td>css-mle</td>     <th>  S.D. of innovations</th>   <td>1.173</td>  \n",
       "</tr>\n",
       "<tr>\n",
       "  <th>Date:</th>          <td>Tue, 18 Jan 2022</td> <th>  AIC                </th> <td>15854.911</td>\n",
       "</tr>\n",
       "<tr>\n",
       "  <th>Time:</th>              <td>22:41:05</td>     <th>  BIC                </th> <td>15880.996</td>\n",
       "</tr>\n",
       "<tr>\n",
       "  <th>Sample:</th>           <td>01-10-1994</td>    <th>  HQIC               </th> <td>15864.052</td>\n",
       "</tr>\n",
       "<tr>\n",
       "  <th></th>                 <td>- 04-05-2013</td>   <th>                     </th>     <td> </td>    \n",
       "</tr>\n",
       "</table>\n",
       "<table class=\"simpletable\">\n",
       "<tr>\n",
       "        <td></td>           <th>coef</th>     <th>std err</th>      <th>z</th>      <th>P>|z|</th>  <th>[0.025</th>    <th>0.975]</th>  \n",
       "</tr>\n",
       "<tr>\n",
       "  <th>const</th>         <td>    0.0188</td> <td>    0.015</td> <td>    1.220</td> <td> 0.222</td> <td>   -0.011</td> <td>    0.049</td>\n",
       "</tr>\n",
       "<tr>\n",
       "  <th>ar.L1.returns</th> <td>   -0.0242</td> <td>    0.014</td> <td>   -1.716</td> <td> 0.086</td> <td>   -0.052</td> <td>    0.003</td>\n",
       "</tr>\n",
       "<tr>\n",
       "  <th>ar.L2.returns</th> <td>   -0.0500</td> <td>    0.014</td> <td>   -3.550</td> <td> 0.000</td> <td>   -0.078</td> <td>   -0.022</td>\n",
       "</tr>\n",
       "</table>\n",
       "<table class=\"simpletable\">\n",
       "<caption>Roots</caption>\n",
       "<tr>\n",
       "    <td></td>   <th>            Real</th>  <th>         Imaginary</th> <th>         Modulus</th>  <th>        Frequency</th>\n",
       "</tr>\n",
       "<tr>\n",
       "  <th>AR.1</th> <td>          -0.2417</td> <td>          -4.4635j</td> <td>           4.4701</td> <td>          -0.2586</td>\n",
       "</tr>\n",
       "<tr>\n",
       "  <th>AR.2</th> <td>          -0.2417</td> <td>          +4.4635j</td> <td>           4.4701</td> <td>           0.2586</td>\n",
       "</tr>\n",
       "</table>"
      ],
      "text/plain": [
       "<class 'statsmodels.iolib.summary.Summary'>\n",
       "\"\"\"\n",
       "                              ARMA Model Results                              \n",
       "==============================================================================\n",
       "Dep. Variable:                returns   No. Observations:                 5020\n",
       "Model:                     ARMA(2, 0)   Log Likelihood               -7923.456\n",
       "Method:                       css-mle   S.D. of innovations              1.173\n",
       "Date:                Tue, 18 Jan 2022   AIC                          15854.911\n",
       "Time:                        22:41:05   BIC                          15880.996\n",
       "Sample:                    01-10-1994   HQIC                         15864.052\n",
       "                         - 04-05-2013                                         \n",
       "=================================================================================\n",
       "                    coef    std err          z      P>|z|      [0.025      0.975]\n",
       "---------------------------------------------------------------------------------\n",
       "const             0.0188      0.015      1.220      0.222      -0.011       0.049\n",
       "ar.L1.returns    -0.0242      0.014     -1.716      0.086      -0.052       0.003\n",
       "ar.L2.returns    -0.0500      0.014     -3.550      0.000      -0.078      -0.022\n",
       "                                    Roots                                    \n",
       "=============================================================================\n",
       "                  Real          Imaginary           Modulus         Frequency\n",
       "-----------------------------------------------------------------------------\n",
       "AR.1           -0.2417           -4.4635j            4.4701           -0.2586\n",
       "AR.2           -0.2417           +4.4635j            4.4701            0.2586\n",
       "-----------------------------------------------------------------------------\n",
       "\"\"\""
      ]
     },
     "execution_count": 278,
     "metadata": {},
     "output_type": "execute_result"
    }
   ],
   "source": [
    "results_ret_ar_2.summary()"
   ]
  },
  {
   "cell_type": "markdown",
   "id": "b4572a07",
   "metadata": {},
   "source": [
    "#### P value for ar.L2.returns = 0.00 => `PHI 2 is significantly different from zero` and `should be included in the model.`\n",
    "\n",
    "#### Also, ` P value for ar.L1.returns in AR(2) < P value for ar.L1.returns in AR(1)`\n",
    "\n",
    "##### NOTE - Since the p value for the new coefficient is zero, we suspect that the change in log likelihood is also significant."
   ]
  },
  {
   "cell_type": "code",
   "execution_count": 279,
   "id": "cc2c58b6",
   "metadata": {},
   "outputs": [
    {
     "name": "stdout",
     "output_type": "stream",
     "text": [
      "RUNNING THE L-BFGS-B CODE\n",
      "\n",
      "           * * *\n",
      "\n",
      "Machine precision = 2.220D-16\n",
      " N =            2     M =           12\n",
      "\n",
      "At X0         0 variables are exactly at the bounds\n",
      "\n",
      "At iterate    0    f=  1.57963D+00    |proj g|=  2.53575D-05\n",
      "\n",
      "At iterate    5    f=  1.57963D+00    |proj g|=  2.22045D-08\n",
      "\n",
      "           * * *\n",
      "\n",
      "Tit   = total number of iterations\n",
      "Tnf   = total number of function evaluations\n",
      "Tnint = total number of segments explored during Cauchy searches\n",
      "Skip  = number of BFGS updates skipped\n",
      "Nact  = number of active bounds at final generalized Cauchy point\n",
      "Projg = norm of the final projected gradient\n",
      "F     = final function value\n",
      "\n",
      "           * * *\n",
      "\n",
      "   N    Tit     Tnf  Tnint  Skip  Nact     Projg        F\n",
      "    2      5      7      1     0     0   2.220D-08   1.580D+00\n",
      "  F =   1.5796312195188147     \n",
      "\n",
      "CONVERGENCE: REL_REDUCTION_OF_F_<=_FACTR*EPSMCH             \n",
      "RUNNING THE L-BFGS-B CODE\n",
      "\n",
      "           * * *\n",
      "\n",
      "Machine precision = 2.220D-16\n",
      " N =            3     M =           12\n",
      "\n",
      "At X0         0 variables are exactly at the bounds\n",
      "\n",
      "At iterate    0    f=  1.57838D+00    |proj g|=  1.43929D-04\n",
      "\n",
      "At iterate    5    f=  1.57838D+00    |proj g|=  4.44089D-08\n",
      "\n",
      "           * * *\n",
      "\n",
      "Tit   = total number of iterations\n",
      "Tnf   = total number of function evaluations\n",
      "Tnint = total number of segments explored during Cauchy searches\n",
      "Skip  = number of BFGS updates skipped\n",
      "Nact  = number of active bounds at final generalized Cauchy point\n",
      "Projg = norm of the final projected gradient\n",
      "F     = final function value\n",
      "\n",
      "           * * *\n",
      "\n",
      "   N    Tit     Tnf  Tnint  Skip  Nact     Projg        F\n",
      "    3      5      7      1     0     0   4.441D-08   1.578D+00\n",
      "  F =   1.5783776316401592     \n",
      "\n",
      "CONVERGENCE: REL_REDUCTION_OF_F_<=_FACTR*EPSMCH             \n"
     ]
    },
    {
     "name": "stderr",
     "output_type": "stream",
     "text": [
      " This problem is unconstrained.\n",
      " This problem is unconstrained.\n"
     ]
    },
    {
     "data": {
      "text/plain": [
       "0.0"
      ]
     },
     "execution_count": 279,
     "metadata": {},
     "output_type": "execute_result"
    }
   ],
   "source": [
    "LLR_test(model_ret_ar_1, model_ret_ar_2)"
   ]
  },
  {
   "cell_type": "markdown",
   "id": "f8283cc6",
   "metadata": {},
   "source": [
    "##### NOTE - We get a p value of less than one percent, which supports the claim that this model is a better fit than the previous one i.e. `AR(2) > AR(1)`\n",
    "\n",
    "##### Also, we can notice that all three indices or information criterion are lower than they were for the AR(1) model."
   ]
  },
  {
   "cell_type": "code",
   "execution_count": 280,
   "id": "9f3c4b58",
   "metadata": {},
   "outputs": [],
   "source": [
    "model_ret_ar_3 = ARMA(df.returns, order = (3, 0))"
   ]
  },
  {
   "cell_type": "code",
   "execution_count": 282,
   "id": "d088a90a",
   "metadata": {},
   "outputs": [
    {
     "name": "stdout",
     "output_type": "stream",
     "text": [
      "RUNNING THE L-BFGS-B CODE\n",
      "\n",
      "           * * *\n",
      "\n",
      "Machine precision = 2.220D-16\n",
      " N =            4     M =           12\n",
      "\n",
      "At X0         0 variables are exactly at the bounds\n",
      "\n",
      "At iterate    0    f=  1.57505D+00    |proj g|=  3.41727D-04\n",
      "\n",
      "At iterate    5    f=  1.57505D+00    |proj g|=  3.33067D-07\n",
      "\n",
      "           * * *\n",
      "\n",
      "Tit   = total number of iterations\n",
      "Tnf   = total number of function evaluations\n",
      "Tnint = total number of segments explored during Cauchy searches\n",
      "Skip  = number of BFGS updates skipped\n",
      "Nact  = number of active bounds at final generalized Cauchy point\n",
      "Projg = norm of the final projected gradient\n",
      "F     = final function value\n",
      "\n",
      "           * * *\n",
      "\n",
      "   N    Tit     Tnf  Tnint  Skip  Nact     Projg        F\n",
      "    4      7      9      1     0     0   2.220D-08   1.575D+00\n",
      "  F =   1.5750474909889789     \n",
      "\n",
      "CONVERGENCE: REL_REDUCTION_OF_F_<=_FACTR*EPSMCH             \n"
     ]
    },
    {
     "name": "stderr",
     "output_type": "stream",
     "text": [
      " This problem is unconstrained.\n"
     ]
    }
   ],
   "source": [
    "results_ret_ar_3 = model_ret_ar_3.fit()"
   ]
  },
  {
   "cell_type": "code",
   "execution_count": 283,
   "id": "44ccf0ce",
   "metadata": {},
   "outputs": [
    {
     "data": {
      "text/html": [
       "<table class=\"simpletable\">\n",
       "<caption>ARMA Model Results</caption>\n",
       "<tr>\n",
       "  <th>Dep. Variable:</th>      <td>returns</td>     <th>  No. Observations:  </th>   <td>5020</td>   \n",
       "</tr>\n",
       "<tr>\n",
       "  <th>Model:</th>            <td>ARMA(3, 0)</td>    <th>  Log Likelihood     </th> <td>-7906.738</td>\n",
       "</tr>\n",
       "<tr>\n",
       "  <th>Method:</th>             <td>css-mle</td>     <th>  S.D. of innovations</th>   <td>1.169</td>  \n",
       "</tr>\n",
       "<tr>\n",
       "  <th>Date:</th>          <td>Tue, 18 Jan 2022</td> <th>  AIC                </th> <td>15823.477</td>\n",
       "</tr>\n",
       "<tr>\n",
       "  <th>Time:</th>              <td>22:56:49</td>     <th>  BIC                </th> <td>15856.083</td>\n",
       "</tr>\n",
       "<tr>\n",
       "  <th>Sample:</th>           <td>01-10-1994</td>    <th>  HQIC               </th> <td>15834.902</td>\n",
       "</tr>\n",
       "<tr>\n",
       "  <th></th>                 <td>- 04-05-2013</td>   <th>                     </th>     <td> </td>    \n",
       "</tr>\n",
       "</table>\n",
       "<table class=\"simpletable\">\n",
       "<tr>\n",
       "        <td></td>           <th>coef</th>     <th>std err</th>      <th>z</th>      <th>P>|z|</th>  <th>[0.025</th>    <th>0.975]</th>  \n",
       "</tr>\n",
       "<tr>\n",
       "  <th>const</th>         <td>    0.0189</td> <td>    0.014</td> <td>    1.330</td> <td> 0.184</td> <td>   -0.009</td> <td>    0.047</td>\n",
       "</tr>\n",
       "<tr>\n",
       "  <th>ar.L1.returns</th> <td>   -0.0283</td> <td>    0.014</td> <td>   -2.011</td> <td> 0.044</td> <td>   -0.056</td> <td>   -0.001</td>\n",
       "</tr>\n",
       "<tr>\n",
       "  <th>ar.L2.returns</th> <td>   -0.0521</td> <td>    0.014</td> <td>   -3.705</td> <td> 0.000</td> <td>   -0.080</td> <td>   -0.025</td>\n",
       "</tr>\n",
       "<tr>\n",
       "  <th>ar.L3.returns</th> <td>   -0.0815</td> <td>    0.014</td> <td>   -5.792</td> <td> 0.000</td> <td>   -0.109</td> <td>   -0.054</td>\n",
       "</tr>\n",
       "</table>\n",
       "<table class=\"simpletable\">\n",
       "<caption>Roots</caption>\n",
       "<tr>\n",
       "    <td></td>   <th>            Real</th>  <th>         Imaginary</th> <th>         Modulus</th>  <th>        Frequency</th>\n",
       "</tr>\n",
       "<tr>\n",
       "  <th>AR.1</th> <td>           0.9233</td> <td>          -2.0210j</td> <td>           2.2219</td> <td>          -0.1818</td>\n",
       "</tr>\n",
       "<tr>\n",
       "  <th>AR.2</th> <td>           0.9233</td> <td>          +2.0210j</td> <td>           2.2219</td> <td>           0.1818</td>\n",
       "</tr>\n",
       "<tr>\n",
       "  <th>AR.3</th> <td>          -2.4855</td> <td>          -0.0000j</td> <td>           2.4855</td> <td>          -0.5000</td>\n",
       "</tr>\n",
       "</table>"
      ],
      "text/plain": [
       "<class 'statsmodels.iolib.summary.Summary'>\n",
       "\"\"\"\n",
       "                              ARMA Model Results                              \n",
       "==============================================================================\n",
       "Dep. Variable:                returns   No. Observations:                 5020\n",
       "Model:                     ARMA(3, 0)   Log Likelihood               -7906.738\n",
       "Method:                       css-mle   S.D. of innovations              1.169\n",
       "Date:                Tue, 18 Jan 2022   AIC                          15823.477\n",
       "Time:                        22:56:49   BIC                          15856.083\n",
       "Sample:                    01-10-1994   HQIC                         15834.902\n",
       "                         - 04-05-2013                                         \n",
       "=================================================================================\n",
       "                    coef    std err          z      P>|z|      [0.025      0.975]\n",
       "---------------------------------------------------------------------------------\n",
       "const             0.0189      0.014      1.330      0.184      -0.009       0.047\n",
       "ar.L1.returns    -0.0283      0.014     -2.011      0.044      -0.056      -0.001\n",
       "ar.L2.returns    -0.0521      0.014     -3.705      0.000      -0.080      -0.025\n",
       "ar.L3.returns    -0.0815      0.014     -5.792      0.000      -0.109      -0.054\n",
       "                                    Roots                                    \n",
       "=============================================================================\n",
       "                  Real          Imaginary           Modulus         Frequency\n",
       "-----------------------------------------------------------------------------\n",
       "AR.1            0.9233           -2.0210j            2.2219           -0.1818\n",
       "AR.2            0.9233           +2.0210j            2.2219            0.1818\n",
       "AR.3           -2.4855           -0.0000j            2.4855           -0.5000\n",
       "-----------------------------------------------------------------------------\n",
       "\"\"\""
      ]
     },
     "execution_count": 283,
     "metadata": {},
     "output_type": "execute_result"
    }
   ],
   "source": [
    "results_ret_ar_3.summary()"
   ]
  },
  {
   "cell_type": "code",
   "execution_count": 284,
   "id": "929c011a",
   "metadata": {},
   "outputs": [
    {
     "name": "stdout",
     "output_type": "stream",
     "text": [
      "RUNNING THE L-BFGS-B CODE\n",
      "\n",
      "           * * *\n",
      "\n",
      "Machine precision = 2.220D-16\n",
      " N =            3     M =           12\n",
      "\n",
      "At X0         0 variables are exactly at the bounds\n",
      "\n",
      "At iterate    0    f=  1.57838D+00    |proj g|=  1.43929D-04\n",
      "\n",
      "At iterate    5    f=  1.57838D+00    |proj g|=  4.44089D-08\n",
      "\n",
      "           * * *\n",
      "\n",
      "Tit   = total number of iterations\n",
      "Tnf   = total number of function evaluations\n",
      "Tnint = total number of segments explored during Cauchy searches\n",
      "Skip  = number of BFGS updates skipped\n",
      "Nact  = number of active bounds at final generalized Cauchy point\n",
      "Projg = norm of the final projected gradient\n",
      "F     = final function value\n",
      "\n",
      "           * * *\n",
      "\n",
      "   N    Tit     Tnf  Tnint  Skip  Nact     Projg        F\n",
      "    3      5      7      1     0     0   4.441D-08   1.578D+00\n",
      "  F =   1.5783776316401592     \n",
      "\n",
      "CONVERGENCE: REL_REDUCTION_OF_F_<=_FACTR*EPSMCH             \n",
      "RUNNING THE L-BFGS-B CODE\n",
      "\n",
      "           * * *\n",
      "\n",
      "Machine precision = 2.220D-16\n",
      " N =            4     M =           12\n",
      "\n",
      "At X0         0 variables are exactly at the bounds\n",
      "\n",
      "At iterate    0    f=  1.57505D+00    |proj g|=  3.41727D-04\n",
      "\n",
      "At iterate    5    f=  1.57505D+00    |proj g|=  3.33067D-07\n",
      "\n",
      "           * * *\n",
      "\n",
      "Tit   = total number of iterations\n",
      "Tnf   = total number of function evaluations\n",
      "Tnint = total number of segments explored during Cauchy searches\n",
      "Skip  = number of BFGS updates skipped\n",
      "Nact  = number of active bounds at final generalized Cauchy point\n",
      "Projg = norm of the final projected gradient\n",
      "F     = final function value\n",
      "\n",
      "           * * *\n",
      "\n",
      "   N    Tit     Tnf  Tnint  Skip  Nact     Projg        F\n",
      "    4      7      9      1     0     0   2.220D-08   1.575D+00\n",
      "  F =   1.5750474909889789     \n",
      "\n",
      "CONVERGENCE: REL_REDUCTION_OF_F_<=_FACTR*EPSMCH             \n"
     ]
    },
    {
     "name": "stderr",
     "output_type": "stream",
     "text": [
      " This problem is unconstrained.\n",
      " This problem is unconstrained.\n"
     ]
    },
    {
     "data": {
      "text/plain": [
       "0.0"
      ]
     },
     "execution_count": 284,
     "metadata": {},
     "output_type": "execute_result"
    }
   ],
   "source": [
    "LLR_test(model_ret_ar_2, model_ret_ar_3)"
   ]
  },
  {
   "cell_type": "markdown",
   "id": "a3b7bc22",
   "metadata": {},
   "source": [
    "Since the P value for the newest lag is zero. Yet again, we expect the LLR test to suggest that this model is better than the previous one i.e. `AR(3) > AR(2)`\n",
    "\n",
    "As expected, we get zero, so the two log likelihoods are `distinctly different.`\n",
    "\n",
    "##### NOTE -  Information criteria are lower once again, so we can safely assume this model outperforms its simpler counterpart.\n",
    "\n",
    "### Important\n",
    "We continue this process of jumping to higher lag AR models until we get the following:\n",
    "1. The additional coefficient is insignificant.\n",
    "2. The LLR test fails.\n",
    "3. Higher AIC or BIC values.\n",
    "\n",
    "<img src = \"Images/LLR.png\">"
   ]
  },
  {
   "cell_type": "code",
   "execution_count": 313,
   "id": "899f55a6",
   "metadata": {},
   "outputs": [
    {
     "name": "stdout",
     "output_type": "stream",
     "text": [
      "RUNNING THE L-BFGS-B CODE\n",
      "\n",
      "           * * *\n",
      "\n",
      "Machine precision = 2.220D-16\n",
      " N =            7     M =           12\n",
      "\n",
      "At X0         0 variables are exactly at the bounds\n",
      "\n",
      "At iterate    0    f=  1.57110D+00    |proj g|=  2.27818D-04\n",
      "\n",
      "At iterate    5    f=  1.57110D+00    |proj g|=  6.66134D-08\n",
      "\n",
      "           * * *\n",
      "\n",
      "Tit   = total number of iterations\n",
      "Tnf   = total number of function evaluations\n",
      "Tnint = total number of segments explored during Cauchy searches\n",
      "Skip  = number of BFGS updates skipped\n",
      "Nact  = number of active bounds at final generalized Cauchy point\n",
      "Projg = norm of the final projected gradient\n",
      "F     = final function value\n",
      "\n",
      "           * * *\n",
      "\n",
      "   N    Tit     Tnf  Tnint  Skip  Nact     Projg        F\n",
      "    7      6      8      1     0     0   4.441D-08   1.571D+00\n",
      "  F =   1.5711045418931224     \n",
      "\n",
      "CONVERGENCE: REL_REDUCTION_OF_F_<=_FACTR*EPSMCH             \n"
     ]
    },
    {
     "name": "stderr",
     "output_type": "stream",
     "text": [
      " This problem is unconstrained.\n"
     ]
    },
    {
     "data": {
      "text/html": [
       "<table class=\"simpletable\">\n",
       "<caption>ARMA Model Results</caption>\n",
       "<tr>\n",
       "  <th>Dep. Variable:</th>      <td>returns</td>     <th>  No. Observations:  </th>   <td>5020</td>   \n",
       "</tr>\n",
       "<tr>\n",
       "  <th>Model:</th>            <td>ARMA(6, 0)</td>    <th>  Log Likelihood     </th> <td>-7886.945</td>\n",
       "</tr>\n",
       "<tr>\n",
       "  <th>Method:</th>             <td>css-mle</td>     <th>  S.D. of innovations</th>   <td>1.164</td>  \n",
       "</tr>\n",
       "<tr>\n",
       "  <th>Date:</th>          <td>Wed, 19 Jan 2022</td> <th>  AIC                </th> <td>15789.890</td>\n",
       "</tr>\n",
       "<tr>\n",
       "  <th>Time:</th>              <td>00:52:31</td>     <th>  BIC                </th> <td>15842.059</td>\n",
       "</tr>\n",
       "<tr>\n",
       "  <th>Sample:</th>           <td>01-10-1994</td>    <th>  HQIC               </th> <td>15808.170</td>\n",
       "</tr>\n",
       "<tr>\n",
       "  <th></th>                 <td>- 04-05-2013</td>   <th>                     </th>     <td> </td>    \n",
       "</tr>\n",
       "</table>\n",
       "<table class=\"simpletable\">\n",
       "<tr>\n",
       "        <td></td>           <th>coef</th>     <th>std err</th>      <th>z</th>      <th>P>|z|</th>  <th>[0.025</th>    <th>0.975]</th>  \n",
       "</tr>\n",
       "<tr>\n",
       "  <th>const</th>         <td>    0.0189</td> <td>    0.013</td> <td>    1.414</td> <td> 0.157</td> <td>   -0.007</td> <td>    0.045</td>\n",
       "</tr>\n",
       "<tr>\n",
       "  <th>ar.L1.returns</th> <td>   -0.0245</td> <td>    0.014</td> <td>   -1.740</td> <td> 0.082</td> <td>   -0.052</td> <td>    0.003</td>\n",
       "</tr>\n",
       "<tr>\n",
       "  <th>ar.L2.returns</th> <td>   -0.0523</td> <td>    0.014</td> <td>   -3.716</td> <td> 0.000</td> <td>   -0.080</td> <td>   -0.025</td>\n",
       "</tr>\n",
       "<tr>\n",
       "  <th>ar.L3.returns</th> <td>   -0.0870</td> <td>    0.014</td> <td>   -6.174</td> <td> 0.000</td> <td>   -0.115</td> <td>   -0.059</td>\n",
       "</tr>\n",
       "<tr>\n",
       "  <th>ar.L4.returns</th> <td>    0.0424</td> <td>    0.014</td> <td>    3.009</td> <td> 0.003</td> <td>    0.015</td> <td>    0.070</td>\n",
       "</tr>\n",
       "<tr>\n",
       "  <th>ar.L5.returns</th> <td>   -0.0607</td> <td>    0.014</td> <td>   -4.309</td> <td> 0.000</td> <td>   -0.088</td> <td>   -0.033</td>\n",
       "</tr>\n",
       "<tr>\n",
       "  <th>ar.L6.returns</th> <td>   -0.0466</td> <td>    0.014</td> <td>   -3.302</td> <td> 0.001</td> <td>   -0.074</td> <td>   -0.019</td>\n",
       "</tr>\n",
       "</table>\n",
       "<table class=\"simpletable\">\n",
       "<caption>Roots</caption>\n",
       "<tr>\n",
       "    <td></td>   <th>            Real</th>  <th>         Imaginary</th> <th>         Modulus</th>  <th>        Frequency</th>\n",
       "</tr>\n",
       "<tr>\n",
       "  <th>AR.1</th> <td>           1.2869</td> <td>          -0.9022j</td> <td>           1.5716</td> <td>          -0.0973</td>\n",
       "</tr>\n",
       "<tr>\n",
       "  <th>AR.2</th> <td>           1.2869</td> <td>          +0.9022j</td> <td>           1.5716</td> <td>           0.0973</td>\n",
       "</tr>\n",
       "<tr>\n",
       "  <th>AR.3</th> <td>          -0.0727</td> <td>          -1.5282j</td> <td>           1.5299</td> <td>          -0.2576</td>\n",
       "</tr>\n",
       "<tr>\n",
       "  <th>AR.4</th> <td>          -0.0727</td> <td>          +1.5282j</td> <td>           1.5299</td> <td>           0.2576</td>\n",
       "</tr>\n",
       "<tr>\n",
       "  <th>AR.5</th> <td>          -1.8659</td> <td>          -0.4836j</td> <td>           1.9275</td> <td>          -0.4596</td>\n",
       "</tr>\n",
       "<tr>\n",
       "  <th>AR.6</th> <td>          -1.8659</td> <td>          +0.4836j</td> <td>           1.9275</td> <td>           0.4596</td>\n",
       "</tr>\n",
       "</table>"
      ],
      "text/plain": [
       "<class 'statsmodels.iolib.summary.Summary'>\n",
       "\"\"\"\n",
       "                              ARMA Model Results                              \n",
       "==============================================================================\n",
       "Dep. Variable:                returns   No. Observations:                 5020\n",
       "Model:                     ARMA(6, 0)   Log Likelihood               -7886.945\n",
       "Method:                       css-mle   S.D. of innovations              1.164\n",
       "Date:                Wed, 19 Jan 2022   AIC                          15789.890\n",
       "Time:                        00:52:31   BIC                          15842.059\n",
       "Sample:                    01-10-1994   HQIC                         15808.170\n",
       "                         - 04-05-2013                                         \n",
       "=================================================================================\n",
       "                    coef    std err          z      P>|z|      [0.025      0.975]\n",
       "---------------------------------------------------------------------------------\n",
       "const             0.0189      0.013      1.414      0.157      -0.007       0.045\n",
       "ar.L1.returns    -0.0245      0.014     -1.740      0.082      -0.052       0.003\n",
       "ar.L2.returns    -0.0523      0.014     -3.716      0.000      -0.080      -0.025\n",
       "ar.L3.returns    -0.0870      0.014     -6.174      0.000      -0.115      -0.059\n",
       "ar.L4.returns     0.0424      0.014      3.009      0.003       0.015       0.070\n",
       "ar.L5.returns    -0.0607      0.014     -4.309      0.000      -0.088      -0.033\n",
       "ar.L6.returns    -0.0466      0.014     -3.302      0.001      -0.074      -0.019\n",
       "                                    Roots                                    \n",
       "=============================================================================\n",
       "                  Real          Imaginary           Modulus         Frequency\n",
       "-----------------------------------------------------------------------------\n",
       "AR.1            1.2869           -0.9022j            1.5716           -0.0973\n",
       "AR.2            1.2869           +0.9022j            1.5716            0.0973\n",
       "AR.3           -0.0727           -1.5282j            1.5299           -0.2576\n",
       "AR.4           -0.0727           +1.5282j            1.5299            0.2576\n",
       "AR.5           -1.8659           -0.4836j            1.9275           -0.4596\n",
       "AR.6           -1.8659           +0.4836j            1.9275            0.4596\n",
       "-----------------------------------------------------------------------------\n",
       "\"\"\""
      ]
     },
     "execution_count": 313,
     "metadata": {},
     "output_type": "execute_result"
    }
   ],
   "source": [
    "model_ret_ar_6 = ARMA(df.returns, order = (6, 0))\n",
    "results_ret_ar_6 = model_ret_ar_6.fit()\n",
    "results_ret_ar_6.summary()"
   ]
  },
  {
   "cell_type": "code",
   "execution_count": 296,
   "id": "8f7ade65",
   "metadata": {},
   "outputs": [
    {
     "name": "stdout",
     "output_type": "stream",
     "text": [
      "RUNNING THE L-BFGS-B CODE\n",
      "\n",
      "           * * *\n",
      "\n",
      "Machine precision = 2.220D-16\n",
      " N =            8     M =           12\n",
      "\n",
      "At X0         0 variables are exactly at the bounds\n",
      "\n",
      "At iterate    0    f=  1.57105D+00    |proj g|=  1.24412D-04\n",
      "\n",
      "At iterate    5    f=  1.57105D+00    |proj g|=  3.55271D-07\n",
      "\n",
      "           * * *\n",
      "\n",
      "Tit   = total number of iterations\n",
      "Tnf   = total number of function evaluations\n",
      "Tnint = total number of segments explored during Cauchy searches\n",
      "Skip  = number of BFGS updates skipped\n",
      "Nact  = number of active bounds at final generalized Cauchy point\n",
      "Projg = norm of the final projected gradient\n",
      "F     = final function value\n",
      "\n",
      "           * * *\n",
      "\n",
      "   N    Tit     Tnf  Tnint  Skip  Nact     Projg        F\n",
      "    8      7      9      1     0     0   4.441D-08   1.571D+00\n",
      "  F =   1.5710452270886179     \n",
      "\n",
      "CONVERGENCE: REL_REDUCTION_OF_F_<=_FACTR*EPSMCH             \n"
     ]
    },
    {
     "name": "stderr",
     "output_type": "stream",
     "text": [
      " This problem is unconstrained.\n"
     ]
    },
    {
     "data": {
      "text/html": [
       "<table class=\"simpletable\">\n",
       "<caption>ARMA Model Results</caption>\n",
       "<tr>\n",
       "  <th>Dep. Variable:</th>      <td>returns</td>     <th>  No. Observations:  </th>   <td>5020</td>   \n",
       "</tr>\n",
       "<tr>\n",
       "  <th>Model:</th>            <td>ARMA(7, 0)</td>    <th>  Log Likelihood     </th> <td>-7886.647</td>\n",
       "</tr>\n",
       "<tr>\n",
       "  <th>Method:</th>             <td>css-mle</td>     <th>  S.D. of innovations</th>   <td>1.164</td>  \n",
       "</tr>\n",
       "<tr>\n",
       "  <th>Date:</th>          <td>Wed, 19 Jan 2022</td> <th>  AIC                </th> <td>15791.294</td>\n",
       "</tr>\n",
       "<tr>\n",
       "  <th>Time:</th>              <td>00:36:14</td>     <th>  BIC                </th> <td>15849.985</td>\n",
       "</tr>\n",
       "<tr>\n",
       "  <th>Sample:</th>           <td>01-10-1994</td>    <th>  HQIC               </th> <td>15811.860</td>\n",
       "</tr>\n",
       "<tr>\n",
       "  <th></th>                 <td>- 04-05-2013</td>   <th>                     </th>     <td> </td>    \n",
       "</tr>\n",
       "</table>\n",
       "<table class=\"simpletable\">\n",
       "<tr>\n",
       "        <td></td>           <th>coef</th>     <th>std err</th>      <th>z</th>      <th>P>|z|</th>  <th>[0.025</th>    <th>0.975]</th>  \n",
       "</tr>\n",
       "<tr>\n",
       "  <th>const</th>         <td>    0.0189</td> <td>    0.014</td> <td>    1.399</td> <td> 0.162</td> <td>   -0.008</td> <td>    0.045</td>\n",
       "</tr>\n",
       "<tr>\n",
       "  <th>ar.L1.returns</th> <td>   -0.0240</td> <td>    0.014</td> <td>   -1.702</td> <td> 0.089</td> <td>   -0.052</td> <td>    0.004</td>\n",
       "</tr>\n",
       "<tr>\n",
       "  <th>ar.L2.returns</th> <td>   -0.0517</td> <td>    0.014</td> <td>   -3.663</td> <td> 0.000</td> <td>   -0.079</td> <td>   -0.024</td>\n",
       "</tr>\n",
       "<tr>\n",
       "  <th>ar.L3.returns</th> <td>   -0.0874</td> <td>    0.014</td> <td>   -6.202</td> <td> 0.000</td> <td>   -0.115</td> <td>   -0.060</td>\n",
       "</tr>\n",
       "<tr>\n",
       "  <th>ar.L4.returns</th> <td>    0.0433</td> <td>    0.014</td> <td>    3.064</td> <td> 0.002</td> <td>    0.016</td> <td>    0.071</td>\n",
       "</tr>\n",
       "<tr>\n",
       "  <th>ar.L5.returns</th> <td>   -0.0601</td> <td>    0.014</td> <td>   -4.263</td> <td> 0.000</td> <td>   -0.088</td> <td>   -0.032</td>\n",
       "</tr>\n",
       "<tr>\n",
       "  <th>ar.L6.returns</th> <td>   -0.0463</td> <td>    0.014</td> <td>   -3.282</td> <td> 0.001</td> <td>   -0.074</td> <td>   -0.019</td>\n",
       "</tr>\n",
       "<tr>\n",
       "  <th>ar.L7.returns</th> <td>    0.0109</td> <td>    0.014</td> <td>    0.772</td> <td> 0.440</td> <td>   -0.017</td> <td>    0.039</td>\n",
       "</tr>\n",
       "</table>\n",
       "<table class=\"simpletable\">\n",
       "<caption>Roots</caption>\n",
       "<tr>\n",
       "    <td></td>   <th>            Real</th>  <th>         Imaginary</th> <th>         Modulus</th>  <th>        Frequency</th>\n",
       "</tr>\n",
       "<tr>\n",
       "  <th>AR.1</th> <td>          -1.6490</td> <td>          -0.5384j</td> <td>           1.7347</td> <td>          -0.4498</td>\n",
       "</tr>\n",
       "<tr>\n",
       "  <th>AR.2</th> <td>          -1.6490</td> <td>          +0.5384j</td> <td>           1.7347</td> <td>           0.4498</td>\n",
       "</tr>\n",
       "<tr>\n",
       "  <th>AR.3</th> <td>          -0.1189</td> <td>          -1.4954j</td> <td>           1.5001</td> <td>          -0.2626</td>\n",
       "</tr>\n",
       "<tr>\n",
       "  <th>AR.4</th> <td>          -0.1189</td> <td>          +1.4954j</td> <td>           1.5001</td> <td>           0.2626</td>\n",
       "</tr>\n",
       "<tr>\n",
       "  <th>AR.5</th> <td>           1.2790</td> <td>          -0.9786j</td> <td>           1.6105</td> <td>          -0.1039</td>\n",
       "</tr>\n",
       "<tr>\n",
       "  <th>AR.6</th> <td>           1.2790</td> <td>          +0.9786j</td> <td>           1.6105</td> <td>           0.1039</td>\n",
       "</tr>\n",
       "<tr>\n",
       "  <th>AR.7</th> <td>           5.2269</td> <td>          -0.0000j</td> <td>           5.2269</td> <td>          -0.0000</td>\n",
       "</tr>\n",
       "</table>"
      ],
      "text/plain": [
       "<class 'statsmodels.iolib.summary.Summary'>\n",
       "\"\"\"\n",
       "                              ARMA Model Results                              \n",
       "==============================================================================\n",
       "Dep. Variable:                returns   No. Observations:                 5020\n",
       "Model:                     ARMA(7, 0)   Log Likelihood               -7886.647\n",
       "Method:                       css-mle   S.D. of innovations              1.164\n",
       "Date:                Wed, 19 Jan 2022   AIC                          15791.294\n",
       "Time:                        00:36:14   BIC                          15849.985\n",
       "Sample:                    01-10-1994   HQIC                         15811.860\n",
       "                         - 04-05-2013                                         \n",
       "=================================================================================\n",
       "                    coef    std err          z      P>|z|      [0.025      0.975]\n",
       "---------------------------------------------------------------------------------\n",
       "const             0.0189      0.014      1.399      0.162      -0.008       0.045\n",
       "ar.L1.returns    -0.0240      0.014     -1.702      0.089      -0.052       0.004\n",
       "ar.L2.returns    -0.0517      0.014     -3.663      0.000      -0.079      -0.024\n",
       "ar.L3.returns    -0.0874      0.014     -6.202      0.000      -0.115      -0.060\n",
       "ar.L4.returns     0.0433      0.014      3.064      0.002       0.016       0.071\n",
       "ar.L5.returns    -0.0601      0.014     -4.263      0.000      -0.088      -0.032\n",
       "ar.L6.returns    -0.0463      0.014     -3.282      0.001      -0.074      -0.019\n",
       "ar.L7.returns     0.0109      0.014      0.772      0.440      -0.017       0.039\n",
       "                                    Roots                                    \n",
       "=============================================================================\n",
       "                  Real          Imaginary           Modulus         Frequency\n",
       "-----------------------------------------------------------------------------\n",
       "AR.1           -1.6490           -0.5384j            1.7347           -0.4498\n",
       "AR.2           -1.6490           +0.5384j            1.7347            0.4498\n",
       "AR.3           -0.1189           -1.4954j            1.5001           -0.2626\n",
       "AR.4           -0.1189           +1.4954j            1.5001            0.2626\n",
       "AR.5            1.2790           -0.9786j            1.6105           -0.1039\n",
       "AR.6            1.2790           +0.9786j            1.6105            0.1039\n",
       "AR.7            5.2269           -0.0000j            5.2269           -0.0000\n",
       "-----------------------------------------------------------------------------\n",
       "\"\"\""
      ]
     },
     "execution_count": 296,
     "metadata": {},
     "output_type": "execute_result"
    }
   ],
   "source": [
    "model_ret_ar_7 = ARMA(df.returns, order = (7, 0))\n",
    "results_ret_ar_7 = model_ret_ar_7.fit()\n",
    "results_ret_ar_7.summary()"
   ]
  },
  {
   "cell_type": "code",
   "execution_count": 315,
   "id": "4c32f2fe",
   "metadata": {},
   "outputs": [
    {
     "name": "stdout",
     "output_type": "stream",
     "text": [
      "RUNNING THE L-BFGS-B CODE\n",
      "\n",
      "           * * *\n",
      "\n",
      "Machine precision = 2.220D-16\n",
      " N =            7     M =           12\n",
      "\n",
      "At X0         0 variables are exactly at the bounds\n",
      "\n",
      "At iterate    0    f=  1.57110D+00    |proj g|=  2.27818D-04\n",
      "\n",
      "At iterate    5    f=  1.57110D+00    |proj g|=  6.66134D-08\n",
      "\n",
      "           * * *\n",
      "\n",
      "Tit   = total number of iterations\n",
      "Tnf   = total number of function evaluations\n",
      "Tnint = total number of segments explored during Cauchy searches\n",
      "Skip  = number of BFGS updates skipped\n",
      "Nact  = number of active bounds at final generalized Cauchy point\n",
      "Projg = norm of the final projected gradient\n",
      "F     = final function value\n",
      "\n",
      "           * * *\n",
      "\n",
      "   N    Tit     Tnf  Tnint  Skip  Nact     Projg        F\n",
      "    7      6      8      1     0     0   4.441D-08   1.571D+00\n",
      "  F =   1.5711045418931224     \n",
      "\n",
      "CONVERGENCE: REL_REDUCTION_OF_F_<=_FACTR*EPSMCH             \n",
      "RUNNING THE L-BFGS-B CODE\n",
      "\n",
      "           * * *\n",
      "\n",
      "Machine precision = 2.220D-16\n",
      " N =            8     M =           12\n",
      "\n",
      "At X0         0 variables are exactly at the bounds\n",
      "\n",
      "At iterate    0    f=  1.57105D+00    |proj g|=  1.24412D-04\n"
     ]
    },
    {
     "name": "stderr",
     "output_type": "stream",
     "text": [
      " This problem is unconstrained.\n",
      " This problem is unconstrained.\n"
     ]
    },
    {
     "name": "stdout",
     "output_type": "stream",
     "text": [
      "\n",
      "At iterate    5    f=  1.57105D+00    |proj g|=  3.55271D-07\n",
      "\n",
      "           * * *\n",
      "\n",
      "Tit   = total number of iterations\n",
      "Tnf   = total number of function evaluations\n",
      "Tnint = total number of segments explored during Cauchy searches\n",
      "Skip  = number of BFGS updates skipped\n",
      "Nact  = number of active bounds at final generalized Cauchy point\n",
      "Projg = norm of the final projected gradient\n",
      "F     = final function value\n",
      "\n",
      "           * * *\n",
      "\n",
      "   N    Tit     Tnf  Tnint  Skip  Nact     Projg        F\n",
      "    8      7      9      1     0     0   4.441D-08   1.571D+00\n",
      "  F =   1.5710452270886179     \n",
      "\n",
      "CONVERGENCE: REL_REDUCTION_OF_F_<=_FACTR*EPSMCH             \n"
     ]
    },
    {
     "data": {
      "text/plain": [
       "0.44"
      ]
     },
     "execution_count": 315,
     "metadata": {},
     "output_type": "execute_result"
    }
   ],
   "source": [
    "LLR_test(model_ret_ar_6, model_ret_ar_7)"
   ]
  },
  {
   "cell_type": "markdown",
   "id": "7aea4d8a",
   "metadata": {},
   "source": [
    "### Normalizing Values\n",
    "It is common to visualize time series data by graphing values over time. However, you may run into the following issues:\n",
    "\n",
    "1. The resolution of your data does not match the resolution you want for your visualization.\n",
    "\n",
    "##### For example, you want to plot a single value per minute, but your data is spaced in 10-second intervals. You will need to resample the data.\n",
    "\n",
    "2. Your data is non-continuous, but you want to visualize a continuous time series.\n",
    "\n",
    "##### For example, you want to plot every minute for the past 24 hours, but you are missing data for some intervals. You will need to fill in the missing values.\n",
    "\n",
    "We prefer relying on `returns rather than prices` when using AR models. This is because of the non-stationary nature of prices.\n",
    "\n",
    "Normalization can mean several different things. But in the case of TIME series, when we normalize a set of values, we basically `map every value of the sample space to the percentage of the first value of the set.` The resulting series is much easier to compare with other time series in general. \n",
    "\n",
    "By normalizing two time series, we can compare how well they perform relative to one another. This gives us a better understanding of which ones to invest in and which ones to avoid."
   ]
  },
  {
   "cell_type": "code",
   "execution_count": 285,
   "id": "9d36b5dc",
   "metadata": {},
   "outputs": [],
   "source": [
    "benchmark = df.market_value.iloc[0]"
   ]
  },
  {
   "cell_type": "code",
   "execution_count": 286,
   "id": "fc4c93b4",
   "metadata": {},
   "outputs": [],
   "source": [
    "df['norm'] = df.market_value.div(benchmark).mul(100)"
   ]
  },
  {
   "cell_type": "code",
   "execution_count": 287,
   "id": "6eb81608",
   "metadata": {},
   "outputs": [
    {
     "data": {
      "text/plain": [
       "(-1.892871013267234,\n",
       " 0.33542220743300766,\n",
       " 6,\n",
       " 5013,\n",
       " {'1%': -3.431655136974821,\n",
       "  '5%': -2.8621167297421373,\n",
       "  '10%': -2.567076993884522},\n",
       " 19553.90073102193)"
      ]
     },
     "execution_count": 287,
     "metadata": {},
     "output_type": "execute_result"
    }
   ],
   "source": [
    "sts.adfuller(df.norm)"
   ]
  },
  {
   "cell_type": "markdown",
   "id": "2cf92355",
   "metadata": {},
   "source": [
    "##### NOTE - As was the case with non normalized prices, we can see that the test yields a high p value, which suggests non stationary. Thus, normalizing prices did not result in stationary data. Therefore, we will not be able to use an AR model with the normalized prices. However, normalization is still a great practice for comparing Time series."
   ]
  },
  {
   "cell_type": "code",
   "execution_count": 289,
   "id": "aeaddb74",
   "metadata": {},
   "outputs": [
    {
     "data": {
      "text/plain": [
       "(-12.770265719497285,\n",
       " 7.798058336036482e-24,\n",
       " 32,\n",
       " 4987,\n",
       " {'1%': -3.431661944885779,\n",
       "  '5%': -2.8621197374408225,\n",
       "  '10%': -2.5670785949998973},\n",
       " 80114.49116124898)"
      ]
     },
     "execution_count": 289,
     "metadata": {},
     "output_type": "execute_result"
    }
   ],
   "source": [
    "bench_ret = df.returns.iloc[0]\n",
    "df['norm_ret'] = df.returns.div(bench_ret).mul(100)\n",
    "sts.adfuller(df.norm_ret)"
   ]
  },
  {
   "cell_type": "markdown",
   "id": "727a8d69",
   "metadata": {},
   "source": [
    "##### NOTE - As was the case with non-normalized returns, the test statistic is significantly smaller than the one percent critical value of -3.431. Therefore, we can say with great certainty that this data is stationary. Furthermore, we can conclude that `normalizing does not affect stationarity.`"
   ]
  },
  {
   "cell_type": "markdown",
   "id": "71f7cbd6",
   "metadata": {},
   "source": [
    "### Normalized Returns"
   ]
  },
  {
   "cell_type": "code",
   "execution_count": 290,
   "id": "27f6127d",
   "metadata": {},
   "outputs": [
    {
     "name": "stdout",
     "output_type": "stream",
     "text": [
      "RUNNING THE L-BFGS-B CODE\n",
      "\n",
      "           * * *\n",
      "\n",
      "Machine precision = 2.220D-16\n",
      " N =            2     M =           12\n",
      "\n",
      "At X0         0 variables are exactly at the bounds\n",
      "\n",
      "At iterate    0    f=  8.03820D+00    |proj g|=  2.30926D-06\n",
      "\n",
      "           * * *\n",
      "\n",
      "Tit   = total number of iterations\n",
      "Tnf   = total number of function evaluations\n",
      "Tnint = total number of segments explored during Cauchy searches\n",
      "Skip  = number of BFGS updates skipped\n",
      "Nact  = number of active bounds at final generalized Cauchy point\n",
      "Projg = norm of the final projected gradient\n",
      "F     = final function value\n",
      "\n",
      "           * * *\n",
      "\n",
      "   N    Tit     Tnf  Tnint  Skip  Nact     Projg        F\n",
      "    2      2      7      1     0     0   0.000D+00   8.038D+00\n",
      "  F =   8.0381958792106580     \n",
      "\n",
      "CONVERGENCE: NORM_OF_PROJECTED_GRADIENT_<=_PGTOL            \n"
     ]
    },
    {
     "name": "stderr",
     "output_type": "stream",
     "text": [
      " This problem is unconstrained.\n"
     ]
    },
    {
     "data": {
      "text/html": [
       "<table class=\"simpletable\">\n",
       "<caption>ARMA Model Results</caption>\n",
       "<tr>\n",
       "  <th>Dep. Variable:</th>     <td>norm_ret</td>     <th>  No. Observations:  </th>    <td>5020</td>   \n",
       "</tr>\n",
       "<tr>\n",
       "  <th>Model:</th>            <td>ARMA(1, 0)</td>    <th>  Log Likelihood     </th> <td>-40351.743</td>\n",
       "</tr>\n",
       "<tr>\n",
       "  <th>Method:</th>             <td>css-mle</td>     <th>  S.D. of innovations</th>   <td>749.388</td> \n",
       "</tr>\n",
       "<tr>\n",
       "  <th>Date:</th>          <td>Wed, 19 Jan 2022</td> <th>  AIC                </th>  <td>80709.487</td>\n",
       "</tr>\n",
       "<tr>\n",
       "  <th>Time:</th>              <td>00:11:03</td>     <th>  BIC                </th>  <td>80729.050</td>\n",
       "</tr>\n",
       "<tr>\n",
       "  <th>Sample:</th>           <td>01-10-1994</td>    <th>  HQIC               </th>  <td>80716.342</td>\n",
       "</tr>\n",
       "<tr>\n",
       "  <th></th>                 <td>- 04-05-2013</td>   <th>                     </th>      <td> </td>    \n",
       "</tr>\n",
       "</table>\n",
       "<table class=\"simpletable\">\n",
       "<tr>\n",
       "         <td></td>           <th>coef</th>     <th>std err</th>      <th>z</th>      <th>P>|z|</th>  <th>[0.025</th>    <th>0.975]</th>  \n",
       "</tr>\n",
       "<tr>\n",
       "  <th>const</th>          <td>  -11.9731</td> <td>   10.339</td> <td>   -1.158</td> <td> 0.247</td> <td>  -32.237</td> <td>    8.291</td>\n",
       "</tr>\n",
       "<tr>\n",
       "  <th>ar.L1.norm_ret</th> <td>   -0.0230</td> <td>    0.014</td> <td>   -1.631</td> <td> 0.103</td> <td>   -0.051</td> <td>    0.005</td>\n",
       "</tr>\n",
       "</table>\n",
       "<table class=\"simpletable\">\n",
       "<caption>Roots</caption>\n",
       "<tr>\n",
       "    <td></td>   <th>            Real</th>  <th>         Imaginary</th> <th>         Modulus</th>  <th>        Frequency</th>\n",
       "</tr>\n",
       "<tr>\n",
       "  <th>AR.1</th> <td>         -43.4387</td> <td>          +0.0000j</td> <td>          43.4387</td> <td>           0.5000</td>\n",
       "</tr>\n",
       "</table>"
      ],
      "text/plain": [
       "<class 'statsmodels.iolib.summary.Summary'>\n",
       "\"\"\"\n",
       "                              ARMA Model Results                              \n",
       "==============================================================================\n",
       "Dep. Variable:               norm_ret   No. Observations:                 5020\n",
       "Model:                     ARMA(1, 0)   Log Likelihood              -40351.743\n",
       "Method:                       css-mle   S.D. of innovations            749.388\n",
       "Date:                Wed, 19 Jan 2022   AIC                          80709.487\n",
       "Time:                        00:11:03   BIC                          80729.050\n",
       "Sample:                    01-10-1994   HQIC                         80716.342\n",
       "                         - 04-05-2013                                         \n",
       "==================================================================================\n",
       "                     coef    std err          z      P>|z|      [0.025      0.975]\n",
       "----------------------------------------------------------------------------------\n",
       "const            -11.9731     10.339     -1.158      0.247     -32.237       8.291\n",
       "ar.L1.norm_ret    -0.0230      0.014     -1.631      0.103      -0.051       0.005\n",
       "                                    Roots                                    \n",
       "=============================================================================\n",
       "                  Real          Imaginary           Modulus         Frequency\n",
       "-----------------------------------------------------------------------------\n",
       "AR.1          -43.4387           +0.0000j           43.4387            0.5000\n",
       "-----------------------------------------------------------------------------\n",
       "\"\"\""
      ]
     },
     "execution_count": 290,
     "metadata": {},
     "output_type": "execute_result"
    }
   ],
   "source": [
    "model_norm_ret_ar_1 = ARMA(df.norm_ret, order = (1,0))\n",
    "results_norm_ret_ar_1 = model_norm_ret_ar_1.fit()\n",
    "results_norm_ret_ar_1.summary()"
   ]
  },
  {
   "cell_type": "markdown",
   "id": "5ac8f863",
   "metadata": {},
   "source": [
    "##### NOTE - The P values are both greater than 0.1, so we can't be conclusively certain they are non-zero."
   ]
  },
  {
   "cell_type": "code",
   "execution_count": 291,
   "id": "328274d5",
   "metadata": {},
   "outputs": [
    {
     "name": "stdout",
     "output_type": "stream",
     "text": [
      "RUNNING THE L-BFGS-B CODE\n",
      "\n",
      "           * * *\n",
      "\n",
      "Machine precision = 2.220D-16\n",
      " N =            3     M =           12\n",
      "\n",
      "At X0         0 variables are exactly at the bounds\n",
      "\n",
      "At iterate    0    f=  8.03694D+00    |proj g|=  1.22569D-05\n",
      "\n",
      "           * * *\n",
      "\n",
      "Tit   = total number of iterations\n",
      "Tnf   = total number of function evaluations\n",
      "Tnint = total number of segments explored during Cauchy searches\n",
      "Skip  = number of BFGS updates skipped\n",
      "Nact  = number of active bounds at final generalized Cauchy point\n",
      "Projg = norm of the final projected gradient\n",
      "F     = final function value\n",
      "\n",
      "           * * *\n",
      "\n",
      "   N    Tit     Tnf  Tnint  Skip  Nact     Projg        F\n",
      "    3      3      5      1     0     0   1.776D-07   8.037D+00\n",
      "  F =   8.0369422920408731     \n",
      "\n",
      "CONVERGENCE: REL_REDUCTION_OF_F_<=_FACTR*EPSMCH             \n"
     ]
    },
    {
     "name": "stderr",
     "output_type": "stream",
     "text": [
      " This problem is unconstrained.\n"
     ]
    },
    {
     "data": {
      "text/html": [
       "<table class=\"simpletable\">\n",
       "<caption>ARMA Model Results</caption>\n",
       "<tr>\n",
       "  <th>Dep. Variable:</th>     <td>norm_ret</td>     <th>  No. Observations:  </th>    <td>5020</td>   \n",
       "</tr>\n",
       "<tr>\n",
       "  <th>Model:</th>            <td>ARMA(2, 0)</td>    <th>  Log Likelihood     </th> <td>-40345.450</td>\n",
       "</tr>\n",
       "<tr>\n",
       "  <th>Method:</th>             <td>css-mle</td>     <th>  S.D. of innovations</th>   <td>748.449</td> \n",
       "</tr>\n",
       "<tr>\n",
       "  <th>Date:</th>          <td>Wed, 19 Jan 2022</td> <th>  AIC                </th>  <td>80698.901</td>\n",
       "</tr>\n",
       "<tr>\n",
       "  <th>Time:</th>              <td>00:12:47</td>     <th>  BIC                </th>  <td>80724.985</td>\n",
       "</tr>\n",
       "<tr>\n",
       "  <th>Sample:</th>           <td>01-10-1994</td>    <th>  HQIC               </th>  <td>80708.041</td>\n",
       "</tr>\n",
       "<tr>\n",
       "  <th></th>                 <td>- 04-05-2013</td>   <th>                     </th>      <td> </td>    \n",
       "</tr>\n",
       "</table>\n",
       "<table class=\"simpletable\">\n",
       "<tr>\n",
       "         <td></td>           <th>coef</th>     <th>std err</th>      <th>z</th>      <th>P>|z|</th>  <th>[0.025</th>    <th>0.975]</th>  \n",
       "</tr>\n",
       "<tr>\n",
       "  <th>const</th>          <td>  -11.9731</td> <td>    9.834</td> <td>   -1.218</td> <td> 0.223</td> <td>  -31.247</td> <td>    7.301</td>\n",
       "</tr>\n",
       "<tr>\n",
       "  <th>ar.L1.norm_ret</th> <td>   -0.0242</td> <td>    0.014</td> <td>   -1.716</td> <td> 0.086</td> <td>   -0.052</td> <td>    0.003</td>\n",
       "</tr>\n",
       "<tr>\n",
       "  <th>ar.L2.norm_ret</th> <td>   -0.0500</td> <td>    0.014</td> <td>   -3.550</td> <td> 0.000</td> <td>   -0.078</td> <td>   -0.022</td>\n",
       "</tr>\n",
       "</table>\n",
       "<table class=\"simpletable\">\n",
       "<caption>Roots</caption>\n",
       "<tr>\n",
       "    <td></td>   <th>            Real</th>  <th>         Imaginary</th> <th>         Modulus</th>  <th>        Frequency</th>\n",
       "</tr>\n",
       "<tr>\n",
       "  <th>AR.1</th> <td>          -0.2417</td> <td>          -4.4635j</td> <td>           4.4701</td> <td>          -0.2586</td>\n",
       "</tr>\n",
       "<tr>\n",
       "  <th>AR.2</th> <td>          -0.2417</td> <td>          +4.4635j</td> <td>           4.4701</td> <td>           0.2586</td>\n",
       "</tr>\n",
       "</table>"
      ],
      "text/plain": [
       "<class 'statsmodels.iolib.summary.Summary'>\n",
       "\"\"\"\n",
       "                              ARMA Model Results                              \n",
       "==============================================================================\n",
       "Dep. Variable:               norm_ret   No. Observations:                 5020\n",
       "Model:                     ARMA(2, 0)   Log Likelihood              -40345.450\n",
       "Method:                       css-mle   S.D. of innovations            748.449\n",
       "Date:                Wed, 19 Jan 2022   AIC                          80698.901\n",
       "Time:                        00:12:47   BIC                          80724.985\n",
       "Sample:                    01-10-1994   HQIC                         80708.041\n",
       "                         - 04-05-2013                                         \n",
       "==================================================================================\n",
       "                     coef    std err          z      P>|z|      [0.025      0.975]\n",
       "----------------------------------------------------------------------------------\n",
       "const            -11.9731      9.834     -1.218      0.223     -31.247       7.301\n",
       "ar.L1.norm_ret    -0.0242      0.014     -1.716      0.086      -0.052       0.003\n",
       "ar.L2.norm_ret    -0.0500      0.014     -3.550      0.000      -0.078      -0.022\n",
       "                                    Roots                                    \n",
       "=============================================================================\n",
       "                  Real          Imaginary           Modulus         Frequency\n",
       "-----------------------------------------------------------------------------\n",
       "AR.1           -0.2417           -4.4635j            4.4701           -0.2586\n",
       "AR.2           -0.2417           +4.4635j            4.4701            0.2586\n",
       "-----------------------------------------------------------------------------\n",
       "\"\"\""
      ]
     },
     "execution_count": 291,
     "metadata": {},
     "output_type": "execute_result"
    }
   ],
   "source": [
    "model_norm_ret_ar_2 = ARMA(df.norm_ret, order = (2,0))\n",
    "results_norm_ret_ar_2 = model_norm_ret_ar_2.fit()\n",
    "results_norm_ret_ar_2.summary()"
   ]
  },
  {
   "cell_type": "markdown",
   "id": "675090c1",
   "metadata": {},
   "source": [
    "#### NOTE - `Using normalized values has no impact on model selection.`"
   ]
  },
  {
   "cell_type": "markdown",
   "id": "add70bde",
   "metadata": {},
   "source": [
    "### Analysing Residuals\n",
    "`.resid` -> The residuals of the model"
   ]
  },
  {
   "cell_type": "code",
   "execution_count": 297,
   "id": "4272b8da",
   "metadata": {},
   "outputs": [],
   "source": [
    "df['res_price'] = results_ar_7.resid"
   ]
  },
  {
   "cell_type": "code",
   "execution_count": 298,
   "id": "3119f887",
   "metadata": {},
   "outputs": [
    {
     "data": {
      "text/plain": [
       "0.6797380579966433"
      ]
     },
     "execution_count": 298,
     "metadata": {},
     "output_type": "execute_result"
    }
   ],
   "source": [
    "df.res_price.mean()"
   ]
  },
  {
   "cell_type": "code",
   "execution_count": 299,
   "id": "334989df",
   "metadata": {},
   "outputs": [
    {
     "data": {
      "text/plain": [
       "3468.125774195566"
      ]
     },
     "execution_count": 299,
     "metadata": {},
     "output_type": "execute_result"
    }
   ],
   "source": [
    "df.res_price.var()"
   ]
  },
  {
   "cell_type": "markdown",
   "id": "ab7b028f",
   "metadata": {},
   "source": [
    "##### NOTE - The mean is close to zero, which suggests that on average, our model performs well, but the high variance indicates the residuals are not concentrated around the mean of zero, but are all over the place. This is primarily because AR models perform poorly when predicting non stationarity data."
   ]
  },
  {
   "cell_type": "code",
   "execution_count": 300,
   "id": "b76ab586",
   "metadata": {},
   "outputs": [
    {
     "data": {
      "text/plain": [
       "(-70.817136704767,\n",
       " 0.0,\n",
       " 0,\n",
       " 5019,\n",
       " {'1%': -3.4316535759402753,\n",
       "  '5%': -2.8621160400844468,\n",
       "  '10%': -2.567076626752987},\n",
       " 54832.41965646904)"
      ]
     },
     "execution_count": 300,
     "metadata": {},
     "output_type": "execute_result"
    }
   ],
   "source": [
    "sts.adfuller(df.res_price)"
   ]
  },
  {
   "cell_type": "markdown",
   "id": "40dc3c7a",
   "metadata": {},
   "source": [
    "##### NOTE - We get a P-value = 0. This suggests stationarity, so the error terms fit our expectations so far."
   ]
  },
  {
   "cell_type": "code",
   "execution_count": 301,
   "id": "01b220cd",
   "metadata": {},
   "outputs": [
    {
     "data": {
      "image/png": "[encoded data removed]",
      "text/plain": [
       "<Figure size 432x288 with 1 Axes>"
      ]
     },
     "metadata": {},
     "output_type": "display_data"
    }
   ],
   "source": [
    "sgt.plot_acf(df.res_price, zero = False, lags = 40)\n",
    "plt.title(\"ACF Of Residuals for Prices\", size = 24)\n",
    "plt.show()"
   ]
  },
  {
   "cell_type": "markdown",
   "id": "55bd3db9",
   "metadata": {},
   "source": [
    "After plotting the function, we can see that the majority of coefficients fall within the blue region which suggests they're `not significantly different from zero`, which fits the characteristics of `white noise`. However, the few points that fall outside this area lead us to believe that there's an `even better predictor.`"
   ]
  },
  {
   "cell_type": "code",
   "execution_count": 311,
   "id": "72ed498f",
   "metadata": {},
   "outputs": [
    {
     "data": {
      "image/png": "[encoded data removed]",
      "text/plain": [
       "<Figure size 1440x360 with 1 Axes>"
      ]
     },
     "metadata": {},
     "output_type": "display_data"
    }
   ],
   "source": [
    "df.res_price.plot(figsize = (20,5))\n",
    "plt.title(\"Residuals Of Prices\", size = 24)\n",
    "plt.show()"
   ]
  },
  {
   "cell_type": "markdown",
   "id": "ea6eab39",
   "metadata": {},
   "source": [
    "##### NOTE - We cannot find any obvious pattern for the data. So our choice of model seems correct. It's important to note that since we used an AR model on non-stationary data, our predictions might still be far from great."
   ]
  },
  {
   "cell_type": "code",
   "execution_count": 316,
   "id": "47635f02",
   "metadata": {},
   "outputs": [],
   "source": [
    "df['res_ret'] = results_ret_ar_6.resid"
   ]
  },
  {
   "cell_type": "code",
   "execution_count": 317,
   "id": "f41c98e4",
   "metadata": {},
   "outputs": [
    {
     "data": {
      "text/plain": [
       "-5.372777827547422e-05"
      ]
     },
     "execution_count": 317,
     "metadata": {},
     "output_type": "execute_result"
    }
   ],
   "source": [
    "df.res_ret.mean()"
   ]
  },
  {
   "cell_type": "code",
   "execution_count": 318,
   "id": "6aef5952",
   "metadata": {},
   "outputs": [
    {
     "data": {
      "text/plain": [
       "1.355980211073056"
      ]
     },
     "execution_count": 318,
     "metadata": {},
     "output_type": "execute_result"
    }
   ],
   "source": [
    "df.res_ret.var()"
   ]
  },
  {
   "cell_type": "markdown",
   "id": "61f941ae",
   "metadata": {},
   "source": [
    "##### NOTE -  Values are closer to what we might expect from white noise data. Mean is extremely close to zero and a variance of around one indicate that our choice of model was pretty good."
   ]
  },
  {
   "cell_type": "code",
   "execution_count": 319,
   "id": "526f4f94",
   "metadata": {},
   "outputs": [
    {
     "data": {
      "text/plain": [
       "(-70.78380089919209,\n",
       " 0.0,\n",
       " 0,\n",
       " 5019,\n",
       " {'1%': -3.4316535759402753,\n",
       "  '5%': -2.8621160400844468,\n",
       "  '10%': -2.567076626752987},\n",
       " 15692.570834205788)"
      ]
     },
     "execution_count": 319,
     "metadata": {},
     "output_type": "execute_result"
    }
   ],
   "source": [
    "sts.adfuller(df.res_ret)"
   ]
  },
  {
   "cell_type": "markdown",
   "id": "66eafa78",
   "metadata": {},
   "source": [
    "##### NOTE - Running the DF test returns values close to those of the price residuals, so we have confirmation that the data is stationary. Since, white noise is also stationary, this is exactly what we want."
   ]
  },
  {
   "cell_type": "code",
   "execution_count": 321,
   "id": "178cacbc",
   "metadata": {},
   "outputs": [
    {
     "data": {
      "image/png": "[encoded data removed]",
      "text/plain": [
       "<Figure size 432x288 with 1 Axes>"
      ]
     },
     "metadata": {},
     "output_type": "display_data"
    }
   ],
   "source": [
    "sgt.plot_acf(df.res_ret, zero = False, lags = 40)\n",
    "plt.title(\"ACF Of Residuals for Returns\", size = 24)\n",
    "plt.show()"
   ]
  },
  {
   "cell_type": "markdown",
   "id": "792d8719",
   "metadata": {},
   "source": [
    "We can observe a very similar scenario where most but not all coefficients are not significant. Hence our model is a good predictor, but we have a good reason to believe a better one exists."
   ]
  },
  {
   "cell_type": "code",
   "execution_count": 322,
   "id": "b505a373",
   "metadata": {},
   "outputs": [
    {
     "data": {
      "image/png": "[encoded data removed]",
      "text/plain": [
       "<Figure size 1440x360 with 1 Axes>"
      ]
     },
     "metadata": {},
     "output_type": "display_data"
    }
   ],
   "source": [
    "df.res_ret.plot(figsize = (20,5))\n",
    "plt.title(\"Residuals Of Returns\", size = 24)\n",
    "plt.show()"
   ]
  },
  {
   "cell_type": "markdown",
   "id": "df78b4ae",
   "metadata": {},
   "source": [
    "### Box-Jenkins (BJ) Methodology\n",
    "<img src = \"Images/BJ.png\">"
   ]
  },
  {
   "cell_type": "markdown",
   "id": "bceeaa77",
   "metadata": {},
   "source": [
    "### Identification\n",
    "<img src = \"Images/Bj1.jpeg\">\n",
    "\n",
    "<img src = \"Images/steps.png\">\n",
    "\n",
    "### Estimation\n",
    "<img src = \"Images/estimation.png\">\n",
    "<img src = \"Images/estimation1.png\">\n",
    "<img src = \"Images/estimation2.png\">\n",
    "\n",
    "### Models Summary\n",
    "<img src = \"Images/model-summary.png\">"
   ]
  }
 ],
 "metadata": {
  "kernelspec": {
   "display_name": "Python 3 (ipykernel)",
   "language": "python",
   "name": "python3"
  },
  "language_info": {
   "codemirror_mode": {
    "name": "ipython",
    "version": 3
   },
   "file_extension": ".py",
   "mimetype": "text/x-python",
   "name": "python",
   "nbconvert_exporter": "python",
   "pygments_lexer": "ipython3",
   "version": "3.9.7"
  }
 },
 "nbformat": 4,
 "nbformat_minor": 5
}
