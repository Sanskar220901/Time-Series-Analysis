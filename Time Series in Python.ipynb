{
 "cells": [
  {
   "cell_type": "markdown",
   "id": "a7a61043",
   "metadata": {},
   "source": [
    "# Importing Packages"
   ]
  },
  {
   "cell_type": "code",
   "execution_count": 126,
   "id": "746ebeb2",
   "metadata": {},
   "outputs": [],
   "source": [
    "import pandas as pd\n",
    "import numpy as np\n"
   ]
  },
  {
   "cell_type": "markdown",
   "id": "0bcaa091",
   "metadata": {},
   "source": [
    "# Importing Data"
   ]
  },
  {
   "cell_type": "code",
   "execution_count": 127,
   "id": "1e72a8c0",
   "metadata": {},
   "outputs": [],
   "source": [
    "raw_csv_data = pd.read_csv(\"Index2018.csv\")\n",
    "df_comp = raw_csv_data.copy()"
   ]
  },
  {
   "cell_type": "markdown",
   "id": "65a0293c",
   "metadata": {},
   "source": [
    "# Examining Data"
   ]
  },
  {
   "cell_type": "markdown",
   "id": "12d6be83",
   "metadata": {},
   "source": [
    " ### df_comp.head() \n",
    " Prints the first 5 rows from the dataset."
   ]
  },
  {
   "cell_type": "code",
   "execution_count": 128,
   "id": "7a8c2795",
   "metadata": {
    "scrolled": true
   },
   "outputs": [
    {
     "data": {
      "text/html": [
       "<div>\n",
       "<style scoped>\n",
       "    .dataframe tbody tr th:only-of-type {\n",
       "        vertical-align: middle;\n",
       "    }\n",
       "\n",
       "    .dataframe tbody tr th {\n",
       "        vertical-align: top;\n",
       "    }\n",
       "\n",
       "    .dataframe thead th {\n",
       "        text-align: right;\n",
       "    }\n",
       "</style>\n",
       "<table border=\"1\" class=\"dataframe\">\n",
       "  <thead>\n",
       "    <tr style=\"text-align: right;\">\n",
       "      <th></th>\n",
       "      <th>date</th>\n",
       "      <th>spx</th>\n",
       "      <th>dax</th>\n",
       "      <th>ftse</th>\n",
       "      <th>nikkei</th>\n",
       "    </tr>\n",
       "  </thead>\n",
       "  <tbody>\n",
       "    <tr>\n",
       "      <th>0</th>\n",
       "      <td>07/01/1994</td>\n",
       "      <td>469.90</td>\n",
       "      <td>2224.95</td>\n",
       "      <td>3445.98</td>\n",
       "      <td>18124.01</td>\n",
       "    </tr>\n",
       "    <tr>\n",
       "      <th>1</th>\n",
       "      <td>10/01/1994</td>\n",
       "      <td>475.27</td>\n",
       "      <td>2225.00</td>\n",
       "      <td>3440.58</td>\n",
       "      <td>18443.44</td>\n",
       "    </tr>\n",
       "    <tr>\n",
       "      <th>2</th>\n",
       "      <td>11/01/1994</td>\n",
       "      <td>474.13</td>\n",
       "      <td>2228.10</td>\n",
       "      <td>3413.77</td>\n",
       "      <td>18485.25</td>\n",
       "    </tr>\n",
       "    <tr>\n",
       "      <th>3</th>\n",
       "      <td>12/01/1994</td>\n",
       "      <td>474.17</td>\n",
       "      <td>2182.06</td>\n",
       "      <td>3372.02</td>\n",
       "      <td>18793.88</td>\n",
       "    </tr>\n",
       "    <tr>\n",
       "      <th>4</th>\n",
       "      <td>13/01/1994</td>\n",
       "      <td>472.47</td>\n",
       "      <td>2142.37</td>\n",
       "      <td>3360.01</td>\n",
       "      <td>18577.26</td>\n",
       "    </tr>\n",
       "  </tbody>\n",
       "</table>\n",
       "</div>"
      ],
      "text/plain": [
       "         date     spx      dax     ftse    nikkei\n",
       "0  07/01/1994  469.90  2224.95  3445.98  18124.01\n",
       "1  10/01/1994  475.27  2225.00  3440.58  18443.44\n",
       "2  11/01/1994  474.13  2228.10  3413.77  18485.25\n",
       "3  12/01/1994  474.17  2182.06  3372.02  18793.88\n",
       "4  13/01/1994  472.47  2142.37  3360.01  18577.26"
      ]
     },
     "execution_count": 128,
     "metadata": {},
     "output_type": "execute_result"
    }
   ],
   "source": [
    "df_comp.head()"
   ]
  },
  {
   "cell_type": "markdown",
   "id": "2291356b",
   "metadata": {},
   "source": [
    " ### df_comp.tail() \n",
    " Prints the last 5 rows from the dataset."
   ]
  },
  {
   "cell_type": "code",
   "execution_count": 129,
   "id": "4fd9e41f",
   "metadata": {},
   "outputs": [
    {
     "data": {
      "text/html": [
       "<div>\n",
       "<style scoped>\n",
       "    .dataframe tbody tr th:only-of-type {\n",
       "        vertical-align: middle;\n",
       "    }\n",
       "\n",
       "    .dataframe tbody tr th {\n",
       "        vertical-align: top;\n",
       "    }\n",
       "\n",
       "    .dataframe thead th {\n",
       "        text-align: right;\n",
       "    }\n",
       "</style>\n",
       "<table border=\"1\" class=\"dataframe\">\n",
       "  <thead>\n",
       "    <tr style=\"text-align: right;\">\n",
       "      <th></th>\n",
       "      <th>date</th>\n",
       "      <th>spx</th>\n",
       "      <th>dax</th>\n",
       "      <th>ftse</th>\n",
       "      <th>nikkei</th>\n",
       "    </tr>\n",
       "  </thead>\n",
       "  <tbody>\n",
       "    <tr>\n",
       "      <th>6264</th>\n",
       "      <td>23/01/2018</td>\n",
       "      <td>2839.130362</td>\n",
       "      <td>13559.60</td>\n",
       "      <td>7731.827774</td>\n",
       "      <td>24124.15</td>\n",
       "    </tr>\n",
       "    <tr>\n",
       "      <th>6265</th>\n",
       "      <td>24/01/2018</td>\n",
       "      <td>2837.544008</td>\n",
       "      <td>13414.74</td>\n",
       "      <td>7643.428966</td>\n",
       "      <td>23940.78</td>\n",
       "    </tr>\n",
       "    <tr>\n",
       "      <th>6266</th>\n",
       "      <td>25/01/2018</td>\n",
       "      <td>2839.253031</td>\n",
       "      <td>13298.36</td>\n",
       "      <td>7615.839954</td>\n",
       "      <td>23669.49</td>\n",
       "    </tr>\n",
       "    <tr>\n",
       "      <th>6267</th>\n",
       "      <td>26/01/2018</td>\n",
       "      <td>2872.867839</td>\n",
       "      <td>13340.17</td>\n",
       "      <td>7665.541292</td>\n",
       "      <td>23631.88</td>\n",
       "    </tr>\n",
       "    <tr>\n",
       "      <th>6268</th>\n",
       "      <td>29/01/2018</td>\n",
       "      <td>2853.528411</td>\n",
       "      <td>13324.48</td>\n",
       "      <td>7671.533300</td>\n",
       "      <td>23629.34</td>\n",
       "    </tr>\n",
       "  </tbody>\n",
       "</table>\n",
       "</div>"
      ],
      "text/plain": [
       "            date          spx       dax         ftse    nikkei\n",
       "6264  23/01/2018  2839.130362  13559.60  7731.827774  24124.15\n",
       "6265  24/01/2018  2837.544008  13414.74  7643.428966  23940.78\n",
       "6266  25/01/2018  2839.253031  13298.36  7615.839954  23669.49\n",
       "6267  26/01/2018  2872.867839  13340.17  7665.541292  23631.88\n",
       "6268  29/01/2018  2853.528411  13324.48  7671.533300  23629.34"
      ]
     },
     "execution_count": 129,
     "metadata": {},
     "output_type": "execute_result"
    }
   ],
   "source": [
    "df_comp.tail()"
   ]
  },
  {
   "cell_type": "markdown",
   "id": "863f7d50",
   "metadata": {},
   "source": [
    "NOTE - df_comp prints the whole data set. This method is not efficient when we are dealing with very large datasets as it slows down the system."
   ]
  },
  {
   "cell_type": "code",
   "execution_count": 130,
   "id": "bb80bca5",
   "metadata": {},
   "outputs": [
    {
     "data": {
      "text/html": [
       "<div>\n",
       "<style scoped>\n",
       "    .dataframe tbody tr th:only-of-type {\n",
       "        vertical-align: middle;\n",
       "    }\n",
       "\n",
       "    .dataframe tbody tr th {\n",
       "        vertical-align: top;\n",
       "    }\n",
       "\n",
       "    .dataframe thead th {\n",
       "        text-align: right;\n",
       "    }\n",
       "</style>\n",
       "<table border=\"1\" class=\"dataframe\">\n",
       "  <thead>\n",
       "    <tr style=\"text-align: right;\">\n",
       "      <th></th>\n",
       "      <th>date</th>\n",
       "      <th>spx</th>\n",
       "      <th>dax</th>\n",
       "      <th>ftse</th>\n",
       "      <th>nikkei</th>\n",
       "    </tr>\n",
       "  </thead>\n",
       "  <tbody>\n",
       "    <tr>\n",
       "      <th>0</th>\n",
       "      <td>07/01/1994</td>\n",
       "      <td>469.900000</td>\n",
       "      <td>2224.95</td>\n",
       "      <td>3445.980000</td>\n",
       "      <td>18124.01</td>\n",
       "    </tr>\n",
       "    <tr>\n",
       "      <th>1</th>\n",
       "      <td>10/01/1994</td>\n",
       "      <td>475.270000</td>\n",
       "      <td>2225.00</td>\n",
       "      <td>3440.580000</td>\n",
       "      <td>18443.44</td>\n",
       "    </tr>\n",
       "    <tr>\n",
       "      <th>2</th>\n",
       "      <td>11/01/1994</td>\n",
       "      <td>474.130000</td>\n",
       "      <td>2228.10</td>\n",
       "      <td>3413.770000</td>\n",
       "      <td>18485.25</td>\n",
       "    </tr>\n",
       "    <tr>\n",
       "      <th>3</th>\n",
       "      <td>12/01/1994</td>\n",
       "      <td>474.170000</td>\n",
       "      <td>2182.06</td>\n",
       "      <td>3372.020000</td>\n",
       "      <td>18793.88</td>\n",
       "    </tr>\n",
       "    <tr>\n",
       "      <th>4</th>\n",
       "      <td>13/01/1994</td>\n",
       "      <td>472.470000</td>\n",
       "      <td>2142.37</td>\n",
       "      <td>3360.010000</td>\n",
       "      <td>18577.26</td>\n",
       "    </tr>\n",
       "    <tr>\n",
       "      <th>...</th>\n",
       "      <td>...</td>\n",
       "      <td>...</td>\n",
       "      <td>...</td>\n",
       "      <td>...</td>\n",
       "      <td>...</td>\n",
       "    </tr>\n",
       "    <tr>\n",
       "      <th>6264</th>\n",
       "      <td>23/01/2018</td>\n",
       "      <td>2839.130362</td>\n",
       "      <td>13559.60</td>\n",
       "      <td>7731.827774</td>\n",
       "      <td>24124.15</td>\n",
       "    </tr>\n",
       "    <tr>\n",
       "      <th>6265</th>\n",
       "      <td>24/01/2018</td>\n",
       "      <td>2837.544008</td>\n",
       "      <td>13414.74</td>\n",
       "      <td>7643.428966</td>\n",
       "      <td>23940.78</td>\n",
       "    </tr>\n",
       "    <tr>\n",
       "      <th>6266</th>\n",
       "      <td>25/01/2018</td>\n",
       "      <td>2839.253031</td>\n",
       "      <td>13298.36</td>\n",
       "      <td>7615.839954</td>\n",
       "      <td>23669.49</td>\n",
       "    </tr>\n",
       "    <tr>\n",
       "      <th>6267</th>\n",
       "      <td>26/01/2018</td>\n",
       "      <td>2872.867839</td>\n",
       "      <td>13340.17</td>\n",
       "      <td>7665.541292</td>\n",
       "      <td>23631.88</td>\n",
       "    </tr>\n",
       "    <tr>\n",
       "      <th>6268</th>\n",
       "      <td>29/01/2018</td>\n",
       "      <td>2853.528411</td>\n",
       "      <td>13324.48</td>\n",
       "      <td>7671.533300</td>\n",
       "      <td>23629.34</td>\n",
       "    </tr>\n",
       "  </tbody>\n",
       "</table>\n",
       "<p>6269 rows × 5 columns</p>\n",
       "</div>"
      ],
      "text/plain": [
       "            date          spx       dax         ftse    nikkei\n",
       "0     07/01/1994   469.900000   2224.95  3445.980000  18124.01\n",
       "1     10/01/1994   475.270000   2225.00  3440.580000  18443.44\n",
       "2     11/01/1994   474.130000   2228.10  3413.770000  18485.25\n",
       "3     12/01/1994   474.170000   2182.06  3372.020000  18793.88\n",
       "4     13/01/1994   472.470000   2142.37  3360.010000  18577.26\n",
       "...          ...          ...       ...          ...       ...\n",
       "6264  23/01/2018  2839.130362  13559.60  7731.827774  24124.15\n",
       "6265  24/01/2018  2837.544008  13414.74  7643.428966  23940.78\n",
       "6266  25/01/2018  2839.253031  13298.36  7615.839954  23669.49\n",
       "6267  26/01/2018  2872.867839  13340.17  7665.541292  23631.88\n",
       "6268  29/01/2018  2853.528411  13324.48  7671.533300  23629.34\n",
       "\n",
       "[6269 rows x 5 columns]"
      ]
     },
     "execution_count": 130,
     "metadata": {},
     "output_type": "execute_result"
    }
   ],
   "source": [
    "df_comp"
   ]
  },
  {
   "cell_type": "markdown",
   "id": "7c850567",
   "metadata": {},
   "source": [
    " ### df_comp.describe()  \n",
    " Used to summarize the data set\n",
    " \n",
    " Omits column 'date' as it is not numeric.\n",
    "\n",
    "##### count - number of rows in data set.\n",
    "##### mean - average"
   ]
  },
  {
   "cell_type": "code",
   "execution_count": 131,
   "id": "bfa6f64b",
   "metadata": {},
   "outputs": [
    {
     "data": {
      "text/html": [
       "<div>\n",
       "<style scoped>\n",
       "    .dataframe tbody tr th:only-of-type {\n",
       "        vertical-align: middle;\n",
       "    }\n",
       "\n",
       "    .dataframe tbody tr th {\n",
       "        vertical-align: top;\n",
       "    }\n",
       "\n",
       "    .dataframe thead th {\n",
       "        text-align: right;\n",
       "    }\n",
       "</style>\n",
       "<table border=\"1\" class=\"dataframe\">\n",
       "  <thead>\n",
       "    <tr style=\"text-align: right;\">\n",
       "      <th></th>\n",
       "      <th>spx</th>\n",
       "      <th>dax</th>\n",
       "      <th>ftse</th>\n",
       "      <th>nikkei</th>\n",
       "    </tr>\n",
       "  </thead>\n",
       "  <tbody>\n",
       "    <tr>\n",
       "      <th>count</th>\n",
       "      <td>6269.000000</td>\n",
       "      <td>6269.000000</td>\n",
       "      <td>6269.000000</td>\n",
       "      <td>6269.000000</td>\n",
       "    </tr>\n",
       "    <tr>\n",
       "      <th>mean</th>\n",
       "      <td>1288.127542</td>\n",
       "      <td>6080.063363</td>\n",
       "      <td>5422.713545</td>\n",
       "      <td>14597.055700</td>\n",
       "    </tr>\n",
       "    <tr>\n",
       "      <th>std</th>\n",
       "      <td>487.586473</td>\n",
       "      <td>2754.361032</td>\n",
       "      <td>1145.572428</td>\n",
       "      <td>4043.122953</td>\n",
       "    </tr>\n",
       "    <tr>\n",
       "      <th>min</th>\n",
       "      <td>438.920000</td>\n",
       "      <td>1911.700000</td>\n",
       "      <td>2876.600000</td>\n",
       "      <td>7054.980000</td>\n",
       "    </tr>\n",
       "    <tr>\n",
       "      <th>25%</th>\n",
       "      <td>990.671905</td>\n",
       "      <td>4069.350000</td>\n",
       "      <td>4486.100000</td>\n",
       "      <td>10709.290000</td>\n",
       "    </tr>\n",
       "    <tr>\n",
       "      <th>50%</th>\n",
       "      <td>1233.420000</td>\n",
       "      <td>5773.340000</td>\n",
       "      <td>5662.430000</td>\n",
       "      <td>15028.170000</td>\n",
       "    </tr>\n",
       "    <tr>\n",
       "      <th>75%</th>\n",
       "      <td>1459.987747</td>\n",
       "      <td>7443.070000</td>\n",
       "      <td>6304.250000</td>\n",
       "      <td>17860.470000</td>\n",
       "    </tr>\n",
       "    <tr>\n",
       "      <th>max</th>\n",
       "      <td>2872.867839</td>\n",
       "      <td>13559.600000</td>\n",
       "      <td>7778.637689</td>\n",
       "      <td>24124.150000</td>\n",
       "    </tr>\n",
       "  </tbody>\n",
       "</table>\n",
       "</div>"
      ],
      "text/plain": [
       "               spx           dax         ftse        nikkei\n",
       "count  6269.000000   6269.000000  6269.000000   6269.000000\n",
       "mean   1288.127542   6080.063363  5422.713545  14597.055700\n",
       "std     487.586473   2754.361032  1145.572428   4043.122953\n",
       "min     438.920000   1911.700000  2876.600000   7054.980000\n",
       "25%     990.671905   4069.350000  4486.100000  10709.290000\n",
       "50%    1233.420000   5773.340000  5662.430000  15028.170000\n",
       "75%    1459.987747   7443.070000  6304.250000  17860.470000\n",
       "max    2872.867839  13559.600000  7778.637689  24124.150000"
      ]
     },
     "execution_count": 131,
     "metadata": {},
     "output_type": "execute_result"
    }
   ],
   "source": [
    "df_comp.describe()"
   ]
  },
  {
   "cell_type": "markdown",
   "id": "1e80dba5",
   "metadata": {},
   "source": [
    " We have a function for determining Not Available (NA) elements - \n",
    " ### isna()\n",
    "\n",
    "##### True -> Not Available\n",
    "##### False -> Available"
   ]
  },
  {
   "cell_type": "code",
   "execution_count": 132,
   "id": "fdb945e1",
   "metadata": {},
   "outputs": [
    {
     "data": {
      "text/html": [
       "<div>\n",
       "<style scoped>\n",
       "    .dataframe tbody tr th:only-of-type {\n",
       "        vertical-align: middle;\n",
       "    }\n",
       "\n",
       "    .dataframe tbody tr th {\n",
       "        vertical-align: top;\n",
       "    }\n",
       "\n",
       "    .dataframe thead th {\n",
       "        text-align: right;\n",
       "    }\n",
       "</style>\n",
       "<table border=\"1\" class=\"dataframe\">\n",
       "  <thead>\n",
       "    <tr style=\"text-align: right;\">\n",
       "      <th></th>\n",
       "      <th>date</th>\n",
       "      <th>spx</th>\n",
       "      <th>dax</th>\n",
       "      <th>ftse</th>\n",
       "      <th>nikkei</th>\n",
       "    </tr>\n",
       "  </thead>\n",
       "  <tbody>\n",
       "    <tr>\n",
       "      <th>0</th>\n",
       "      <td>False</td>\n",
       "      <td>False</td>\n",
       "      <td>False</td>\n",
       "      <td>False</td>\n",
       "      <td>False</td>\n",
       "    </tr>\n",
       "    <tr>\n",
       "      <th>1</th>\n",
       "      <td>False</td>\n",
       "      <td>False</td>\n",
       "      <td>False</td>\n",
       "      <td>False</td>\n",
       "      <td>False</td>\n",
       "    </tr>\n",
       "    <tr>\n",
       "      <th>2</th>\n",
       "      <td>False</td>\n",
       "      <td>False</td>\n",
       "      <td>False</td>\n",
       "      <td>False</td>\n",
       "      <td>False</td>\n",
       "    </tr>\n",
       "    <tr>\n",
       "      <th>3</th>\n",
       "      <td>False</td>\n",
       "      <td>False</td>\n",
       "      <td>False</td>\n",
       "      <td>False</td>\n",
       "      <td>False</td>\n",
       "    </tr>\n",
       "    <tr>\n",
       "      <th>4</th>\n",
       "      <td>False</td>\n",
       "      <td>False</td>\n",
       "      <td>False</td>\n",
       "      <td>False</td>\n",
       "      <td>False</td>\n",
       "    </tr>\n",
       "    <tr>\n",
       "      <th>...</th>\n",
       "      <td>...</td>\n",
       "      <td>...</td>\n",
       "      <td>...</td>\n",
       "      <td>...</td>\n",
       "      <td>...</td>\n",
       "    </tr>\n",
       "    <tr>\n",
       "      <th>6264</th>\n",
       "      <td>False</td>\n",
       "      <td>False</td>\n",
       "      <td>False</td>\n",
       "      <td>False</td>\n",
       "      <td>False</td>\n",
       "    </tr>\n",
       "    <tr>\n",
       "      <th>6265</th>\n",
       "      <td>False</td>\n",
       "      <td>False</td>\n",
       "      <td>False</td>\n",
       "      <td>False</td>\n",
       "      <td>False</td>\n",
       "    </tr>\n",
       "    <tr>\n",
       "      <th>6266</th>\n",
       "      <td>False</td>\n",
       "      <td>False</td>\n",
       "      <td>False</td>\n",
       "      <td>False</td>\n",
       "      <td>False</td>\n",
       "    </tr>\n",
       "    <tr>\n",
       "      <th>6267</th>\n",
       "      <td>False</td>\n",
       "      <td>False</td>\n",
       "      <td>False</td>\n",
       "      <td>False</td>\n",
       "      <td>False</td>\n",
       "    </tr>\n",
       "    <tr>\n",
       "      <th>6268</th>\n",
       "      <td>False</td>\n",
       "      <td>False</td>\n",
       "      <td>False</td>\n",
       "      <td>False</td>\n",
       "      <td>False</td>\n",
       "    </tr>\n",
       "  </tbody>\n",
       "</table>\n",
       "<p>6269 rows × 5 columns</p>\n",
       "</div>"
      ],
      "text/plain": [
       "       date    spx    dax   ftse  nikkei\n",
       "0     False  False  False  False   False\n",
       "1     False  False  False  False   False\n",
       "2     False  False  False  False   False\n",
       "3     False  False  False  False   False\n",
       "4     False  False  False  False   False\n",
       "...     ...    ...    ...    ...     ...\n",
       "6264  False  False  False  False   False\n",
       "6265  False  False  False  False   False\n",
       "6266  False  False  False  False   False\n",
       "6267  False  False  False  False   False\n",
       "6268  False  False  False  False   False\n",
       "\n",
       "[6269 rows x 5 columns]"
      ]
     },
     "execution_count": 132,
     "metadata": {},
     "output_type": "execute_result"
    }
   ],
   "source": [
    "df_comp.isna()"
   ]
  },
  {
   "cell_type": "markdown",
   "id": "73f9bfe4",
   "metadata": {},
   "source": [
    " ### df_comp.isna() \n",
    " Prints out a table which includes true and false values for all four market indexes in any time period.\n",
    "\n",
    "To establish the number of missing values, we have to examine the whole table. Alternatively, we can use the sum() method of pandas.\n",
    "\n",
    "NOTE --> 1 = True & 2 = False"
   ]
  },
  {
   "cell_type": "code",
   "execution_count": 133,
   "id": "00378fe7",
   "metadata": {},
   "outputs": [
    {
     "data": {
      "text/plain": [
       "date      0\n",
       "spx       0\n",
       "dax       0\n",
       "ftse      0\n",
       "nikkei    0\n",
       "dtype: int64"
      ]
     },
     "execution_count": 133,
     "metadata": {},
     "output_type": "execute_result"
    }
   ],
   "source": [
    "df_comp.isna().sum()"
   ]
  },
  {
   "cell_type": "markdown",
   "id": "7552a0a5",
   "metadata": {},
   "source": [
    "### df_comp.isna().sum() \n",
    "For each attribute, this will determine the number of instances without available information.\n",
    "\n",
    "Determines and returns the number of missing values for each column of the data set.\n",
    "\n",
    "Alternatively, we can specify which object we are interested in by referring to it instead of referring to the entire data frame.\n",
    "\n",
    "For instance, if we are only interested in the S&P values, we should add '.spx' after the name of the data frame and re-run the cell."
   ]
  },
  {
   "cell_type": "code",
   "execution_count": 134,
   "id": "99b37686",
   "metadata": {},
   "outputs": [
    {
     "data": {
      "text/plain": [
       "0"
      ]
     },
     "execution_count": 134,
     "metadata": {},
     "output_type": "execute_result"
    }
   ],
   "source": [
    "df_comp.spx.isna().sum()"
   ]
  },
  {
   "cell_type": "markdown",
   "id": "609e88d9",
   "metadata": {},
   "source": [
    "##### NOTE - This is convenient when we are dealing with a huge database, especially when there are too many individual columns we are not interested in."
   ]
  },
  {
   "cell_type": "markdown",
   "id": "fa9fc456",
   "metadata": {},
   "source": [
    "# Plotting Data"
   ]
  },
  {
   "cell_type": "code",
   "execution_count": 135,
   "id": "d2b54174",
   "metadata": {},
   "outputs": [],
   "source": [
    "import matplotlib.pyplot as plt"
   ]
  },
  {
   "cell_type": "code",
   "execution_count": 136,
   "id": "403eac93",
   "metadata": {},
   "outputs": [
    {
     "data": {
      "image/png": "[encoded data removed]",
      "text/plain": [
       "<Figure size 1440x360 with 1 Axes>"
      ]
     },
     "metadata": {
      "needs_background": "light"
     },
     "output_type": "display_data"
    }
   ],
   "source": [
    "df_comp.spx.plot(figsize=(20,5), title = \"S&P500 Prices\")\n",
    "plt.show()"
   ]
  },
  {
   "cell_type": "markdown",
   "id": "60dc45e4",
   "metadata": {},
   "source": [
    "The X axis contains numbers which represent the periods the values come from if we are dealing with proper time series data.\n",
    "##### NOTE - In proper time series, the X-axis would show the corresponding dates for each period. For instance, period zero will express the first date of teh data set which is January 7th, 1994. This occurs because the indexes for each period are simply numeric values rather than dates.\n",
    "\n",
    "The X-axis of the plots consist of numbers because these are the indices associated with each value."
   ]
  },
  {
   "cell_type": "code",
   "execution_count": 137,
   "id": "aa648e37",
   "metadata": {},
   "outputs": [
    {
     "data": {
      "image/png": "[encoded data removed]",
      "text/plain": [
       "<Figure size 1440x360 with 1 Axes>"
      ]
     },
     "metadata": {
      "needs_background": "light"
     },
     "output_type": "display_data"
    }
   ],
   "source": [
    "df_comp.ftse.plot(figsize=(20,5), title = \"FTSE100 Prices\")\n",
    "plt.show()"
   ]
  },
  {
   "cell_type": "code",
   "execution_count": 138,
   "id": "4ecd0923",
   "metadata": {},
   "outputs": [
    {
     "data": {
      "image/png": "[encoded data removed]",
      "text/plain": [
       "<Figure size 1440x360 with 1 Axes>"
      ]
     },
     "metadata": {
      "needs_background": "light"
     },
     "output_type": "display_data"
    }
   ],
   "source": [
    "df_comp.spx.plot(figsize=(20,5), title = \"S&P500 Prices\")\n",
    "df_comp.ftse.plot(figsize=(20,5), title = \"FTSE100 Prices\")\n",
    "plt.title(\"S&P vs FTSE\")\n",
    "plt.show()"
   ]
  },
  {
   "cell_type": "markdown",
   "id": "d1582c2f",
   "metadata": {},
   "source": [
    "##### NOTE - We need to give a title to the new graph otherwise it will take the name of the last defined graph by default.\n",
    "\n",
    "#### Observation from the above graph \n",
    "The S&P and the FTSE have vastly different magnitudes. This is one of the reasons Time Series analysis involves compounded returns along with prices."
   ]
  },
  {
   "cell_type": "markdown",
   "id": "0c694175",
   "metadata": {},
   "source": [
    "# Quantile-Quantile (QQ) Plot "
   ]
  },
  {
   "cell_type": "markdown",
   "id": "4e02b27e",
   "metadata": {},
   "source": [
    "The Quantile-Quantile (QQ) plot is a tool used in analytics to determine whether a data set is distributed in a certain way. Unless specified otherwise, the QQ plot showcases how the data fits a Normal Distribution."
   ]
  },
  {
   "cell_type": "code",
   "execution_count": 139,
   "id": "07559252",
   "metadata": {},
   "outputs": [],
   "source": [
    "import scipy.stats\n",
    "import pylab"
   ]
  },
  {
   "cell_type": "markdown",
   "id": "36e68b7a",
   "metadata": {},
   "source": [
    "### scipy.stats.probplot(x, y)\n",
    "where\n",
    "\n",
    "x -> Series we want to test\n",
    "\n",
    "y -> The way we want to express the plot\n",
    "\n",
    "##### Suppose we were interested in the S&P, then we would add the following:"
   ]
  },
  {
   "cell_type": "code",
   "execution_count": 140,
   "id": "ef18240f",
   "metadata": {},
   "outputs": [
    {
     "data": {
      "image/png": "[encoded data removed]",
      "text/plain": [
       "<Figure size 432x288 with 1 Axes>"
      ]
     },
     "metadata": {
      "needs_background": "light"
     },
     "output_type": "display_data"
    }
   ],
   "source": [
    "scipy.stats.probplot(df_comp.spx, plot = pylab)\n",
    "pylab.show()"
   ]
  },
  {
   "cell_type": "markdown",
   "id": "b16de272",
   "metadata": {},
   "source": [
    "#### Purpose of QQ plot - To see if the values of a data set follow a given distribution.\n",
    "\n",
    "The QQ plot takes all the values a variable can take and arranges them in accending order.\n",
    "\n",
    "The Y-axis expresses the price with the highest ones at the top and the lowest at the bottom.\n",
    "\n",
    "The X-axis represents the theoretical quantiles of the data set. Another explanation for this is how many standard deviations away from the mean these values are.\n",
    "\n",
    "The red diagonal line represents what the data points should follow if they are Normally Distributed.\n",
    "\n",
    "##### In this case, it is not normally distributed since we have more values around the '500' value on Y-axis. Therefore, the data is not normally distributed and we cannot use the elegant statistics of normal distributions to make successful forecasts. However, this is what we usually expect from TIME SERIES DATA."
   ]
  },
  {
   "cell_type": "markdown",
   "id": "15a53fb1",
   "metadata": {},
   "source": [
    "### From Text to Date"
   ]
  },
  {
   "cell_type": "markdown",
   "id": "e344e87c",
   "metadata": {},
   "source": [
    "pd.to_datetime(df_comp.date) converts the 'date' into date type from text. \n",
    "\n",
    "Assumes we are plugging in a string in a \"mm/dd/yyyy\" form.\n",
    "\n",
    "Our data is saved in a \"dd/mm/yyyy\" format as well.\n",
    "\n",
    "To convert it into \"yyyy/mm/dd\" format, we need add an argument, dayfirst = True."
   ]
  },
  {
   "cell_type": "code",
   "execution_count": 141,
   "id": "9aa4f8cd",
   "metadata": {},
   "outputs": [],
   "source": [
    "df_comp.date = pd.to_datetime(df_comp.date, dayfirst = True)"
   ]
  },
  {
   "cell_type": "code",
   "execution_count": 142,
   "id": "f495f378",
   "metadata": {},
   "outputs": [
    {
     "data": {
      "text/html": [
       "<div>\n",
       "<style scoped>\n",
       "    .dataframe tbody tr th:only-of-type {\n",
       "        vertical-align: middle;\n",
       "    }\n",
       "\n",
       "    .dataframe tbody tr th {\n",
       "        vertical-align: top;\n",
       "    }\n",
       "\n",
       "    .dataframe thead th {\n",
       "        text-align: right;\n",
       "    }\n",
       "</style>\n",
       "<table border=\"1\" class=\"dataframe\">\n",
       "  <thead>\n",
       "    <tr style=\"text-align: right;\">\n",
       "      <th></th>\n",
       "      <th>date</th>\n",
       "      <th>spx</th>\n",
       "      <th>dax</th>\n",
       "      <th>ftse</th>\n",
       "      <th>nikkei</th>\n",
       "    </tr>\n",
       "  </thead>\n",
       "  <tbody>\n",
       "    <tr>\n",
       "      <th>0</th>\n",
       "      <td>1994-01-07</td>\n",
       "      <td>469.90</td>\n",
       "      <td>2224.95</td>\n",
       "      <td>3445.98</td>\n",
       "      <td>18124.01</td>\n",
       "    </tr>\n",
       "    <tr>\n",
       "      <th>1</th>\n",
       "      <td>1994-01-10</td>\n",
       "      <td>475.27</td>\n",
       "      <td>2225.00</td>\n",
       "      <td>3440.58</td>\n",
       "      <td>18443.44</td>\n",
       "    </tr>\n",
       "    <tr>\n",
       "      <th>2</th>\n",
       "      <td>1994-01-11</td>\n",
       "      <td>474.13</td>\n",
       "      <td>2228.10</td>\n",
       "      <td>3413.77</td>\n",
       "      <td>18485.25</td>\n",
       "    </tr>\n",
       "    <tr>\n",
       "      <th>3</th>\n",
       "      <td>1994-01-12</td>\n",
       "      <td>474.17</td>\n",
       "      <td>2182.06</td>\n",
       "      <td>3372.02</td>\n",
       "      <td>18793.88</td>\n",
       "    </tr>\n",
       "    <tr>\n",
       "      <th>4</th>\n",
       "      <td>1994-01-13</td>\n",
       "      <td>472.47</td>\n",
       "      <td>2142.37</td>\n",
       "      <td>3360.01</td>\n",
       "      <td>18577.26</td>\n",
       "    </tr>\n",
       "  </tbody>\n",
       "</table>\n",
       "</div>"
      ],
      "text/plain": [
       "        date     spx      dax     ftse    nikkei\n",
       "0 1994-01-07  469.90  2224.95  3445.98  18124.01\n",
       "1 1994-01-10  475.27  2225.00  3440.58  18443.44\n",
       "2 1994-01-11  474.13  2228.10  3413.77  18485.25\n",
       "3 1994-01-12  474.17  2182.06  3372.02  18793.88\n",
       "4 1994-01-13  472.47  2142.37  3360.01  18577.26"
      ]
     },
     "execution_count": 142,
     "metadata": {},
     "output_type": "execute_result"
    }
   ],
   "source": [
    "df_comp.head()"
   ]
  },
  {
   "cell_type": "code",
   "execution_count": 143,
   "id": "c3cd4880",
   "metadata": {},
   "outputs": [
    {
     "data": {
      "text/plain": [
       "count                             6269\n",
       "mean     2006-01-14 19:36:59.492742144\n",
       "min                1994-01-07 00:00:00\n",
       "25%                2000-01-11 00:00:00\n",
       "50%                2006-01-12 00:00:00\n",
       "75%                2012-01-19 00:00:00\n",
       "max                2018-01-29 00:00:00\n",
       "Name: date, dtype: object"
      ]
     },
     "execution_count": 143,
     "metadata": {},
     "output_type": "execute_result"
    }
   ],
   "source": [
    "df_comp.date.describe(datetime_is_numeric=True)"
   ]
  },
  {
   "cell_type": "markdown",
   "id": "1186695e",
   "metadata": {},
   "source": [
    "##### Treating datetime data as categorical rather than numeric in `.describe` is deprecated and will be removed in a future version of pandas. Specify `datetime_is_numeric=True` to silence this warning and adopt the future behavior now."
   ]
  },
  {
   "cell_type": "markdown",
   "id": "fa05da8f",
   "metadata": {},
   "source": [
    "### Setting the index"
   ]
  },
  {
   "cell_type": "markdown",
   "id": "68cda3ff",
   "metadata": {},
   "source": [
    "To refer to a set of values as a time series, each one should correspond to a time period. This is crucial for referring to values according to the day they were recorded. Moreover, we often wish to examine specific chunks of data between two concrete dates.\n",
    "\n",
    "For example - Analysis of the Great Recession usually involves separating the data before and after September 15, 2008, the day Lehman Brothers filed for bankruptcy."
   ]
  },
  {
   "cell_type": "markdown",
   "id": "9ac92aaa",
   "metadata": {},
   "source": [
    "### df_comp.set_index(\"x\", inplace)\n",
    "\n",
    "x -> Data frame attribute we intend to use\n",
    "\n",
    "inplace -> (Optional argument) True = Tells Python to save this new data frame in the place of one with integer indexes."
   ]
  },
  {
   "cell_type": "code",
   "execution_count": 144,
   "id": "40457313",
   "metadata": {},
   "outputs": [],
   "source": [
    "df_comp.set_index(\"date\", inplace = True)"
   ]
  },
  {
   "cell_type": "code",
   "execution_count": 145,
   "id": "fb9caa88",
   "metadata": {},
   "outputs": [
    {
     "data": {
      "text/html": [
       "<div>\n",
       "<style scoped>\n",
       "    .dataframe tbody tr th:only-of-type {\n",
       "        vertical-align: middle;\n",
       "    }\n",
       "\n",
       "    .dataframe tbody tr th {\n",
       "        vertical-align: top;\n",
       "    }\n",
       "\n",
       "    .dataframe thead th {\n",
       "        text-align: right;\n",
       "    }\n",
       "</style>\n",
       "<table border=\"1\" class=\"dataframe\">\n",
       "  <thead>\n",
       "    <tr style=\"text-align: right;\">\n",
       "      <th></th>\n",
       "      <th>spx</th>\n",
       "      <th>dax</th>\n",
       "      <th>ftse</th>\n",
       "      <th>nikkei</th>\n",
       "    </tr>\n",
       "    <tr>\n",
       "      <th>date</th>\n",
       "      <th></th>\n",
       "      <th></th>\n",
       "      <th></th>\n",
       "      <th></th>\n",
       "    </tr>\n",
       "  </thead>\n",
       "  <tbody>\n",
       "    <tr>\n",
       "      <th>1994-01-07</th>\n",
       "      <td>469.90</td>\n",
       "      <td>2224.95</td>\n",
       "      <td>3445.98</td>\n",
       "      <td>18124.01</td>\n",
       "    </tr>\n",
       "    <tr>\n",
       "      <th>1994-01-10</th>\n",
       "      <td>475.27</td>\n",
       "      <td>2225.00</td>\n",
       "      <td>3440.58</td>\n",
       "      <td>18443.44</td>\n",
       "    </tr>\n",
       "    <tr>\n",
       "      <th>1994-01-11</th>\n",
       "      <td>474.13</td>\n",
       "      <td>2228.10</td>\n",
       "      <td>3413.77</td>\n",
       "      <td>18485.25</td>\n",
       "    </tr>\n",
       "    <tr>\n",
       "      <th>1994-01-12</th>\n",
       "      <td>474.17</td>\n",
       "      <td>2182.06</td>\n",
       "      <td>3372.02</td>\n",
       "      <td>18793.88</td>\n",
       "    </tr>\n",
       "    <tr>\n",
       "      <th>1994-01-13</th>\n",
       "      <td>472.47</td>\n",
       "      <td>2142.37</td>\n",
       "      <td>3360.01</td>\n",
       "      <td>18577.26</td>\n",
       "    </tr>\n",
       "  </tbody>\n",
       "</table>\n",
       "</div>"
      ],
      "text/plain": [
       "               spx      dax     ftse    nikkei\n",
       "date                                          \n",
       "1994-01-07  469.90  2224.95  3445.98  18124.01\n",
       "1994-01-10  475.27  2225.00  3440.58  18443.44\n",
       "1994-01-11  474.13  2228.10  3413.77  18485.25\n",
       "1994-01-12  474.17  2182.06  3372.02  18793.88\n",
       "1994-01-13  472.47  2142.37  3360.01  18577.26"
      ]
     },
     "execution_count": 145,
     "metadata": {},
     "output_type": "execute_result"
    }
   ],
   "source": [
    "df_comp.head()"
   ]
  },
  {
   "cell_type": "markdown",
   "id": "e1898344",
   "metadata": {},
   "source": [
    "#### df_comp.date.describe()"
   ]
  },
  {
   "cell_type": "markdown",
   "id": "d9b4f68c",
   "metadata": {},
   "source": [
    "#### We get the following error:\n",
    "---------------------------------------------------------------------------\n",
    "AttributeError                            Traceback (most recent call last)\n",
    "/var/folders/c7/4mz8b4614h5b4wz67llrjyqw0000gn/T/ipykernel_25392/49469409.py in <module>\n",
    "----> 1 df_comp.date.describe()\n",
    "\n",
    "~/opt/anaconda3/lib/python3.9/site-packages/pandas/core/generic.py in __getattr__(self, name)\n",
    "   5485         ):\n",
    "   5486             return self[name]\n",
    "-> 5487         return object.__getattribute__(self, name)\n",
    "   5488 \n",
    "   5489     def __setattr__(self, name: str, value) -> None:\n",
    "\n",
    "AttributeError: 'DataFrame' object has no attribute 'date'"
   ]
  },
  {
   "cell_type": "markdown",
   "id": "a4a0b8cf",
   "metadata": {},
   "source": [
    "##### Explanation - Once \"date\" becomes an index, we no longer save its values as a separate attribute in the data frame."
   ]
  },
  {
   "cell_type": "markdown",
   "id": "2e8e282a",
   "metadata": {},
   "source": [
    "#### Why do we decide to use the dates the values were recorded as indices, instead of any of the other column?\n",
    "\n",
    "Because all the other columns would automatically become time series, since there is a time period attached to each value."
   ]
  },
  {
   "cell_type": "markdown",
   "id": "2438e239",
   "metadata": {},
   "source": [
    "#### Setting the Desired Frequency"
   ]
  },
  {
   "cell_type": "markdown",
   "id": "7f7c7a03",
   "metadata": {},
   "source": [
    "Allows us to set the frequency of a dataset to turn into a time series using the \n",
    "#### 'asfreq()' method.\n",
    "\n",
    "The values this argument can take are specific letters of the alphabet.\n",
    "\n",
    "##### h -> hourly\n",
    "##### w -> weekly\n",
    "##### d -> daily\n",
    "##### m - monthly\n",
    "##### a -> annual\n",
    "\n",
    "##### NOTE -\n",
    "Data measured once per year is annual rather than yearly so we use 'a' instead of 'y'."
   ]
  },
  {
   "cell_type": "code",
   "execution_count": 146,
   "id": "c4db7191",
   "metadata": {},
   "outputs": [],
   "source": [
    "df_comp = df_comp.asfreq('d')"
   ]
  },
  {
   "cell_type": "code",
   "execution_count": 147,
   "id": "0b56c047",
   "metadata": {},
   "outputs": [
    {
     "data": {
      "text/html": [
       "<div>\n",
       "<style scoped>\n",
       "    .dataframe tbody tr th:only-of-type {\n",
       "        vertical-align: middle;\n",
       "    }\n",
       "\n",
       "    .dataframe tbody tr th {\n",
       "        vertical-align: top;\n",
       "    }\n",
       "\n",
       "    .dataframe thead th {\n",
       "        text-align: right;\n",
       "    }\n",
       "</style>\n",
       "<table border=\"1\" class=\"dataframe\">\n",
       "  <thead>\n",
       "    <tr style=\"text-align: right;\">\n",
       "      <th></th>\n",
       "      <th>spx</th>\n",
       "      <th>dax</th>\n",
       "      <th>ftse</th>\n",
       "      <th>nikkei</th>\n",
       "    </tr>\n",
       "    <tr>\n",
       "      <th>date</th>\n",
       "      <th></th>\n",
       "      <th></th>\n",
       "      <th></th>\n",
       "      <th></th>\n",
       "    </tr>\n",
       "  </thead>\n",
       "  <tbody>\n",
       "    <tr>\n",
       "      <th>1994-01-07</th>\n",
       "      <td>469.90</td>\n",
       "      <td>2224.95</td>\n",
       "      <td>3445.98</td>\n",
       "      <td>18124.01</td>\n",
       "    </tr>\n",
       "    <tr>\n",
       "      <th>1994-01-08</th>\n",
       "      <td>NaN</td>\n",
       "      <td>NaN</td>\n",
       "      <td>NaN</td>\n",
       "      <td>NaN</td>\n",
       "    </tr>\n",
       "    <tr>\n",
       "      <th>1994-01-09</th>\n",
       "      <td>NaN</td>\n",
       "      <td>NaN</td>\n",
       "      <td>NaN</td>\n",
       "      <td>NaN</td>\n",
       "    </tr>\n",
       "    <tr>\n",
       "      <th>1994-01-10</th>\n",
       "      <td>475.27</td>\n",
       "      <td>2225.00</td>\n",
       "      <td>3440.58</td>\n",
       "      <td>18443.44</td>\n",
       "    </tr>\n",
       "    <tr>\n",
       "      <th>1994-01-11</th>\n",
       "      <td>474.13</td>\n",
       "      <td>2228.10</td>\n",
       "      <td>3413.77</td>\n",
       "      <td>18485.25</td>\n",
       "    </tr>\n",
       "  </tbody>\n",
       "</table>\n",
       "</div>"
      ],
      "text/plain": [
       "               spx      dax     ftse    nikkei\n",
       "date                                          \n",
       "1994-01-07  469.90  2224.95  3445.98  18124.01\n",
       "1994-01-08     NaN      NaN      NaN       NaN\n",
       "1994-01-09     NaN      NaN      NaN       NaN\n",
       "1994-01-10  475.27  2225.00  3440.58  18443.44\n",
       "1994-01-11  474.13  2228.10  3413.77  18485.25"
      ]
     },
     "execution_count": 147,
     "metadata": {},
     "output_type": "execute_result"
    }
   ],
   "source": [
    "df_comp.head()"
   ]
  },
  {
   "cell_type": "markdown",
   "id": "31066109",
   "metadata": {},
   "source": [
    "##### NOTE - '1994-01-08' and '1994-01-09' are weekend dates and have 'NaN' values. This means we have generated new periods, which do not have values associated with them.\n",
    "\n",
    "Another pecularity of our data is that it represents the closing prices of financial indices and these prices can only be recorded during working days. Therefore, we are not interested in any weekends or holidays."
   ]
  },
  {
   "cell_type": "code",
   "execution_count": 148,
   "id": "fbdb0b7e",
   "metadata": {},
   "outputs": [],
   "source": [
    "df_comp = df_comp.asfreq('b')"
   ]
  },
  {
   "cell_type": "markdown",
   "id": "b374ecaa",
   "metadata": {},
   "source": [
    "##### b - business days\n",
    "\n",
    "Setting the frequency to business days avoids adding any unnecessary time periods. It tells Python to expect missing values when the date fails on a Saturday or Sunday."
   ]
  },
  {
   "cell_type": "code",
   "execution_count": 149,
   "id": "70464f75",
   "metadata": {},
   "outputs": [
    {
     "data": {
      "text/html": [
       "<div>\n",
       "<style scoped>\n",
       "    .dataframe tbody tr th:only-of-type {\n",
       "        vertical-align: middle;\n",
       "    }\n",
       "\n",
       "    .dataframe tbody tr th {\n",
       "        vertical-align: top;\n",
       "    }\n",
       "\n",
       "    .dataframe thead th {\n",
       "        text-align: right;\n",
       "    }\n",
       "</style>\n",
       "<table border=\"1\" class=\"dataframe\">\n",
       "  <thead>\n",
       "    <tr style=\"text-align: right;\">\n",
       "      <th></th>\n",
       "      <th>spx</th>\n",
       "      <th>dax</th>\n",
       "      <th>ftse</th>\n",
       "      <th>nikkei</th>\n",
       "    </tr>\n",
       "    <tr>\n",
       "      <th>date</th>\n",
       "      <th></th>\n",
       "      <th></th>\n",
       "      <th></th>\n",
       "      <th></th>\n",
       "    </tr>\n",
       "  </thead>\n",
       "  <tbody>\n",
       "    <tr>\n",
       "      <th>1994-01-07</th>\n",
       "      <td>469.90</td>\n",
       "      <td>2224.95</td>\n",
       "      <td>3445.98</td>\n",
       "      <td>18124.01</td>\n",
       "    </tr>\n",
       "    <tr>\n",
       "      <th>1994-01-10</th>\n",
       "      <td>475.27</td>\n",
       "      <td>2225.00</td>\n",
       "      <td>3440.58</td>\n",
       "      <td>18443.44</td>\n",
       "    </tr>\n",
       "    <tr>\n",
       "      <th>1994-01-11</th>\n",
       "      <td>474.13</td>\n",
       "      <td>2228.10</td>\n",
       "      <td>3413.77</td>\n",
       "      <td>18485.25</td>\n",
       "    </tr>\n",
       "    <tr>\n",
       "      <th>1994-01-12</th>\n",
       "      <td>474.17</td>\n",
       "      <td>2182.06</td>\n",
       "      <td>3372.02</td>\n",
       "      <td>18793.88</td>\n",
       "    </tr>\n",
       "    <tr>\n",
       "      <th>1994-01-13</th>\n",
       "      <td>472.47</td>\n",
       "      <td>2142.37</td>\n",
       "      <td>3360.01</td>\n",
       "      <td>18577.26</td>\n",
       "    </tr>\n",
       "  </tbody>\n",
       "</table>\n",
       "</div>"
      ],
      "text/plain": [
       "               spx      dax     ftse    nikkei\n",
       "date                                          \n",
       "1994-01-07  469.90  2224.95  3445.98  18124.01\n",
       "1994-01-10  475.27  2225.00  3440.58  18443.44\n",
       "1994-01-11  474.13  2228.10  3413.77  18485.25\n",
       "1994-01-12  474.17  2182.06  3372.02  18793.88\n",
       "1994-01-13  472.47  2142.37  3360.01  18577.26"
      ]
     },
     "execution_count": 149,
     "metadata": {},
     "output_type": "execute_result"
    }
   ],
   "source": [
    "df_comp.head()"
   ]
  },
  {
   "cell_type": "markdown",
   "id": "a1402f88",
   "metadata": {},
   "source": [
    "#### Handling Missing Values"
   ]
  },
  {
   "cell_type": "code",
   "execution_count": 150,
   "id": "e2c04fa8",
   "metadata": {},
   "outputs": [
    {
     "data": {
      "text/html": [
       "<div>\n",
       "<style scoped>\n",
       "    .dataframe tbody tr th:only-of-type {\n",
       "        vertical-align: middle;\n",
       "    }\n",
       "\n",
       "    .dataframe tbody tr th {\n",
       "        vertical-align: top;\n",
       "    }\n",
       "\n",
       "    .dataframe thead th {\n",
       "        text-align: right;\n",
       "    }\n",
       "</style>\n",
       "<table border=\"1\" class=\"dataframe\">\n",
       "  <thead>\n",
       "    <tr style=\"text-align: right;\">\n",
       "      <th></th>\n",
       "      <th>spx</th>\n",
       "      <th>dax</th>\n",
       "      <th>ftse</th>\n",
       "      <th>nikkei</th>\n",
       "    </tr>\n",
       "    <tr>\n",
       "      <th>date</th>\n",
       "      <th></th>\n",
       "      <th></th>\n",
       "      <th></th>\n",
       "      <th></th>\n",
       "    </tr>\n",
       "  </thead>\n",
       "  <tbody>\n",
       "    <tr>\n",
       "      <th>1994-01-07</th>\n",
       "      <td>False</td>\n",
       "      <td>False</td>\n",
       "      <td>False</td>\n",
       "      <td>False</td>\n",
       "    </tr>\n",
       "    <tr>\n",
       "      <th>1994-01-10</th>\n",
       "      <td>False</td>\n",
       "      <td>False</td>\n",
       "      <td>False</td>\n",
       "      <td>False</td>\n",
       "    </tr>\n",
       "    <tr>\n",
       "      <th>1994-01-11</th>\n",
       "      <td>False</td>\n",
       "      <td>False</td>\n",
       "      <td>False</td>\n",
       "      <td>False</td>\n",
       "    </tr>\n",
       "    <tr>\n",
       "      <th>1994-01-12</th>\n",
       "      <td>False</td>\n",
       "      <td>False</td>\n",
       "      <td>False</td>\n",
       "      <td>False</td>\n",
       "    </tr>\n",
       "    <tr>\n",
       "      <th>1994-01-13</th>\n",
       "      <td>False</td>\n",
       "      <td>False</td>\n",
       "      <td>False</td>\n",
       "      <td>False</td>\n",
       "    </tr>\n",
       "    <tr>\n",
       "      <th>...</th>\n",
       "      <td>...</td>\n",
       "      <td>...</td>\n",
       "      <td>...</td>\n",
       "      <td>...</td>\n",
       "    </tr>\n",
       "    <tr>\n",
       "      <th>2018-01-23</th>\n",
       "      <td>False</td>\n",
       "      <td>False</td>\n",
       "      <td>False</td>\n",
       "      <td>False</td>\n",
       "    </tr>\n",
       "    <tr>\n",
       "      <th>2018-01-24</th>\n",
       "      <td>False</td>\n",
       "      <td>False</td>\n",
       "      <td>False</td>\n",
       "      <td>False</td>\n",
       "    </tr>\n",
       "    <tr>\n",
       "      <th>2018-01-25</th>\n",
       "      <td>False</td>\n",
       "      <td>False</td>\n",
       "      <td>False</td>\n",
       "      <td>False</td>\n",
       "    </tr>\n",
       "    <tr>\n",
       "      <th>2018-01-26</th>\n",
       "      <td>False</td>\n",
       "      <td>False</td>\n",
       "      <td>False</td>\n",
       "      <td>False</td>\n",
       "    </tr>\n",
       "    <tr>\n",
       "      <th>2018-01-29</th>\n",
       "      <td>False</td>\n",
       "      <td>False</td>\n",
       "      <td>False</td>\n",
       "      <td>False</td>\n",
       "    </tr>\n",
       "  </tbody>\n",
       "</table>\n",
       "<p>6277 rows × 4 columns</p>\n",
       "</div>"
      ],
      "text/plain": [
       "              spx    dax   ftse  nikkei\n",
       "date                                   \n",
       "1994-01-07  False  False  False   False\n",
       "1994-01-10  False  False  False   False\n",
       "1994-01-11  False  False  False   False\n",
       "1994-01-12  False  False  False   False\n",
       "1994-01-13  False  False  False   False\n",
       "...           ...    ...    ...     ...\n",
       "2018-01-23  False  False  False   False\n",
       "2018-01-24  False  False  False   False\n",
       "2018-01-25  False  False  False   False\n",
       "2018-01-26  False  False  False   False\n",
       "2018-01-29  False  False  False   False\n",
       "\n",
       "[6277 rows x 4 columns]"
      ]
     },
     "execution_count": 150,
     "metadata": {},
     "output_type": "execute_result"
    }
   ],
   "source": [
    "df_comp.isna()"
   ]
  },
  {
   "cell_type": "markdown",
   "id": "2ee77757",
   "metadata": {},
   "source": [
    "##### True = 1 -> missing value for the period\n",
    "##### False = 0 -> no missing value for the period"
   ]
  },
  {
   "cell_type": "code",
   "execution_count": 151,
   "id": "e55dd056",
   "metadata": {},
   "outputs": [
    {
     "data": {
      "text/plain": [
       "spx       8\n",
       "dax       8\n",
       "ftse      8\n",
       "nikkei    8\n",
       "dtype: int64"
      ]
     },
     "execution_count": 151,
     "metadata": {},
     "output_type": "execute_result"
    }
   ],
   "source": [
    "df_comp.isna().sum()"
   ]
  },
  {
   "cell_type": "markdown",
   "id": "d93fe8c5",
   "metadata": {},
   "source": [
    "##### NOTE - Setting the frequency to \"business days\" have generated 8 dates for which we have no data available.\n",
    "\n",
    "### finllna() method\n",
    "Goes through the entire time series and fills out missing values in several different ways like the following:\n",
    "\n",
    "#### 1. Front Filling\n",
    "Assigns the value of the previous period.\n",
    "\n",
    "#### 2. Back Filling\n",
    "Assigns the value of the next period.\n",
    "\n",
    "#### 3. Assigning the same value\n",
    "Assign the average to all the missing values within the time-series.\n",
    "\n",
    "##### NOTE - Depending on our data, we may opt for only one or a combination of methods. \n",
    "\n",
    "##### Usually filling missing values with the mean is a bad approach when it comes to Time series because there are underlying time variant patterns in the data. This approach is appropriate only when the data heavily fluctuates around the mean from the first to the last day."
   ]
  },
  {
   "cell_type": "code",
   "execution_count": 152,
   "id": "5a057e39",
   "metadata": {},
   "outputs": [],
   "source": [
    "df_comp.spx = df_comp.ftse.fillna(method = \"ffill\")"
   ]
  },
  {
   "cell_type": "code",
   "execution_count": 153,
   "id": "095a7ac3",
   "metadata": {},
   "outputs": [
    {
     "data": {
      "text/plain": [
       "spx       0\n",
       "dax       8\n",
       "ftse      8\n",
       "nikkei    8\n",
       "dtype: int64"
      ]
     },
     "execution_count": 153,
     "metadata": {},
     "output_type": "execute_result"
    }
   ],
   "source": [
    "df_comp.isna().sum()"
   ]
  },
  {
   "cell_type": "code",
   "execution_count": 154,
   "id": "bb9a517e",
   "metadata": {},
   "outputs": [],
   "source": [
    "df_comp.ftse = df_comp.spx.fillna(method = \"bfill\")"
   ]
  },
  {
   "cell_type": "code",
   "execution_count": 155,
   "id": "5548a389",
   "metadata": {},
   "outputs": [
    {
     "data": {
      "text/plain": [
       "spx       0\n",
       "dax       8\n",
       "ftse      0\n",
       "nikkei    8\n",
       "dtype: int64"
      ]
     },
     "execution_count": 155,
     "metadata": {},
     "output_type": "execute_result"
    }
   ],
   "source": [
    "df_comp.isna().sum()"
   ]
  },
  {
   "cell_type": "markdown",
   "id": "c36c26af",
   "metadata": {},
   "source": [
    "##### NOTE - Unlike front filling or back filling, assigning the same value to all the missing observations does not require defining the method argument.\n",
    "##### Instead, it requires passing a number or expression to the value argument \n",
    "##### Since we want to set all missing values to equal the average, we need to call the mean() method. More precisely, we need to set the value parameter to equal whatever the mean method outputs."
   ]
  },
  {
   "cell_type": "code",
   "execution_count": 156,
   "id": "9c8eab50",
   "metadata": {},
   "outputs": [],
   "source": [
    "df_comp.dax = df_comp.dax.fillna(value = df_comp.dax.mean())"
   ]
  },
  {
   "cell_type": "code",
   "execution_count": 157,
   "id": "6cd40ad0",
   "metadata": {},
   "outputs": [
    {
     "data": {
      "text/plain": [
       "spx       0\n",
       "dax       0\n",
       "ftse      0\n",
       "nikkei    8\n",
       "dtype: int64"
      ]
     },
     "execution_count": 157,
     "metadata": {},
     "output_type": "execute_result"
    }
   ],
   "source": [
    "df_comp.isna().sum()"
   ]
  },
  {
   "cell_type": "code",
   "execution_count": 158,
   "id": "1fa5dd4a",
   "metadata": {},
   "outputs": [],
   "source": [
    "df_comp.nikkei = df_comp.nikkei.fillna(value = df_comp.nikkei.mean())"
   ]
  },
  {
   "cell_type": "code",
   "execution_count": 159,
   "id": "00f7aaf1",
   "metadata": {},
   "outputs": [
    {
     "data": {
      "text/plain": [
       "spx       0\n",
       "dax       0\n",
       "ftse      0\n",
       "nikkei    0\n",
       "dtype: int64"
      ]
     },
     "execution_count": 159,
     "metadata": {},
     "output_type": "execute_result"
    }
   ],
   "source": [
    "df_comp.isna().sum()"
   ]
  },
  {
   "cell_type": "markdown",
   "id": "55e4916c",
   "metadata": {},
   "source": [
    "### Simplifying the Dataset"
   ]
  },
  {
   "cell_type": "markdown",
   "id": "3d9f4c1a",
   "metadata": {},
   "source": [
    "We will be analyzing how the S&P 500 performs and therefore, we can remove the FTSE, DAX, and NIKKEI columns for two main reasons.\n",
    "\n",
    "1. The less data we load, the faster we can manipulate it. It can significantly affect high frequency data with hundreds of thousands of observations.\n",
    "\n",
    "2. Clarity - Easier to keep track of dataset. Dropping the four columns makes it easier to keep track of any new series, we might add to the data set.\n",
    "\n",
    "In analysis, we often keep copies of any major modifications to the data, therefore we can expect to have additional columns in our data set as we analyse the results.\n",
    "\n"
   ]
  },
  {
   "cell_type": "code",
   "execution_count": 160,
   "id": "b2b28a21",
   "metadata": {},
   "outputs": [],
   "source": [
    "df_comp['market_value'] = df_comp.spx"
   ]
  },
  {
   "cell_type": "code",
   "execution_count": 161,
   "id": "07117319",
   "metadata": {},
   "outputs": [
    {
     "data": {
      "text/html": [
       "<div>\n",
       "<style scoped>\n",
       "    .dataframe tbody tr th:only-of-type {\n",
       "        vertical-align: middle;\n",
       "    }\n",
       "\n",
       "    .dataframe tbody tr th {\n",
       "        vertical-align: top;\n",
       "    }\n",
       "\n",
       "    .dataframe thead th {\n",
       "        text-align: right;\n",
       "    }\n",
       "</style>\n",
       "<table border=\"1\" class=\"dataframe\">\n",
       "  <thead>\n",
       "    <tr style=\"text-align: right;\">\n",
       "      <th></th>\n",
       "      <th>spx</th>\n",
       "      <th>dax</th>\n",
       "      <th>ftse</th>\n",
       "      <th>nikkei</th>\n",
       "      <th>market_value</th>\n",
       "    </tr>\n",
       "  </thead>\n",
       "  <tbody>\n",
       "    <tr>\n",
       "      <th>count</th>\n",
       "      <td>6277.000000</td>\n",
       "      <td>6277.000000</td>\n",
       "      <td>6277.000000</td>\n",
       "      <td>6277.000000</td>\n",
       "      <td>6277.000000</td>\n",
       "    </tr>\n",
       "    <tr>\n",
       "      <th>mean</th>\n",
       "      <td>5423.679824</td>\n",
       "      <td>6080.063363</td>\n",
       "      <td>5423.679824</td>\n",
       "      <td>14597.055700</td>\n",
       "      <td>5423.679824</td>\n",
       "    </tr>\n",
       "    <tr>\n",
       "      <th>std</th>\n",
       "      <td>1145.616719</td>\n",
       "      <td>2752.604984</td>\n",
       "      <td>1145.616719</td>\n",
       "      <td>4040.545253</td>\n",
       "      <td>1145.616719</td>\n",
       "    </tr>\n",
       "    <tr>\n",
       "      <th>min</th>\n",
       "      <td>2876.600000</td>\n",
       "      <td>1911.700000</td>\n",
       "      <td>2876.600000</td>\n",
       "      <td>7054.980000</td>\n",
       "      <td>2876.600000</td>\n",
       "    </tr>\n",
       "    <tr>\n",
       "      <th>25%</th>\n",
       "      <td>4486.730000</td>\n",
       "      <td>4070.460000</td>\n",
       "      <td>4486.730000</td>\n",
       "      <td>10711.090000</td>\n",
       "      <td>4486.730000</td>\n",
       "    </tr>\n",
       "    <tr>\n",
       "      <th>50%</th>\n",
       "      <td>5663.300000</td>\n",
       "      <td>5774.380000</td>\n",
       "      <td>5663.300000</td>\n",
       "      <td>15014.040000</td>\n",
       "      <td>5663.300000</td>\n",
       "    </tr>\n",
       "    <tr>\n",
       "      <th>75%</th>\n",
       "      <td>6304.630175</td>\n",
       "      <td>7442.660000</td>\n",
       "      <td>6304.630175</td>\n",
       "      <td>17858.420000</td>\n",
       "      <td>6304.630175</td>\n",
       "    </tr>\n",
       "    <tr>\n",
       "      <th>max</th>\n",
       "      <td>7778.637689</td>\n",
       "      <td>13559.600000</td>\n",
       "      <td>7778.637689</td>\n",
       "      <td>24124.150000</td>\n",
       "      <td>7778.637689</td>\n",
       "    </tr>\n",
       "  </tbody>\n",
       "</table>\n",
       "</div>"
      ],
      "text/plain": [
       "               spx           dax         ftse        nikkei  market_value\n",
       "count  6277.000000   6277.000000  6277.000000   6277.000000   6277.000000\n",
       "mean   5423.679824   6080.063363  5423.679824  14597.055700   5423.679824\n",
       "std    1145.616719   2752.604984  1145.616719   4040.545253   1145.616719\n",
       "min    2876.600000   1911.700000  2876.600000   7054.980000   2876.600000\n",
       "25%    4486.730000   4070.460000  4486.730000  10711.090000   4486.730000\n",
       "50%    5663.300000   5774.380000  5663.300000  15014.040000   5663.300000\n",
       "75%    6304.630175   7442.660000  6304.630175  17858.420000   6304.630175\n",
       "max    7778.637689  13559.600000  7778.637689  24124.150000   7778.637689"
      ]
     },
     "execution_count": 161,
     "metadata": {},
     "output_type": "execute_result"
    }
   ],
   "source": [
    "df_comp.describe()"
   ]
  },
  {
   "cell_type": "code",
   "execution_count": 162,
   "id": "de23cc2f",
   "metadata": {},
   "outputs": [],
   "source": [
    "del df_comp['spx']"
   ]
  },
  {
   "cell_type": "markdown",
   "id": "20c744dc",
   "metadata": {},
   "source": [
    "'del' deletes the particular column."
   ]
  },
  {
   "cell_type": "code",
   "execution_count": 163,
   "id": "0185a619",
   "metadata": {},
   "outputs": [
    {
     "data": {
      "text/html": [
       "<div>\n",
       "<style scoped>\n",
       "    .dataframe tbody tr th:only-of-type {\n",
       "        vertical-align: middle;\n",
       "    }\n",
       "\n",
       "    .dataframe tbody tr th {\n",
       "        vertical-align: top;\n",
       "    }\n",
       "\n",
       "    .dataframe thead th {\n",
       "        text-align: right;\n",
       "    }\n",
       "</style>\n",
       "<table border=\"1\" class=\"dataframe\">\n",
       "  <thead>\n",
       "    <tr style=\"text-align: right;\">\n",
       "      <th></th>\n",
       "      <th>dax</th>\n",
       "      <th>ftse</th>\n",
       "      <th>nikkei</th>\n",
       "      <th>market_value</th>\n",
       "    </tr>\n",
       "  </thead>\n",
       "  <tbody>\n",
       "    <tr>\n",
       "      <th>count</th>\n",
       "      <td>6277.000000</td>\n",
       "      <td>6277.000000</td>\n",
       "      <td>6277.000000</td>\n",
       "      <td>6277.000000</td>\n",
       "    </tr>\n",
       "    <tr>\n",
       "      <th>mean</th>\n",
       "      <td>6080.063363</td>\n",
       "      <td>5423.679824</td>\n",
       "      <td>14597.055700</td>\n",
       "      <td>5423.679824</td>\n",
       "    </tr>\n",
       "    <tr>\n",
       "      <th>std</th>\n",
       "      <td>2752.604984</td>\n",
       "      <td>1145.616719</td>\n",
       "      <td>4040.545253</td>\n",
       "      <td>1145.616719</td>\n",
       "    </tr>\n",
       "    <tr>\n",
       "      <th>min</th>\n",
       "      <td>1911.700000</td>\n",
       "      <td>2876.600000</td>\n",
       "      <td>7054.980000</td>\n",
       "      <td>2876.600000</td>\n",
       "    </tr>\n",
       "    <tr>\n",
       "      <th>25%</th>\n",
       "      <td>4070.460000</td>\n",
       "      <td>4486.730000</td>\n",
       "      <td>10711.090000</td>\n",
       "      <td>4486.730000</td>\n",
       "    </tr>\n",
       "    <tr>\n",
       "      <th>50%</th>\n",
       "      <td>5774.380000</td>\n",
       "      <td>5663.300000</td>\n",
       "      <td>15014.040000</td>\n",
       "      <td>5663.300000</td>\n",
       "    </tr>\n",
       "    <tr>\n",
       "      <th>75%</th>\n",
       "      <td>7442.660000</td>\n",
       "      <td>6304.630175</td>\n",
       "      <td>17858.420000</td>\n",
       "      <td>6304.630175</td>\n",
       "    </tr>\n",
       "    <tr>\n",
       "      <th>max</th>\n",
       "      <td>13559.600000</td>\n",
       "      <td>7778.637689</td>\n",
       "      <td>24124.150000</td>\n",
       "      <td>7778.637689</td>\n",
       "    </tr>\n",
       "  </tbody>\n",
       "</table>\n",
       "</div>"
      ],
      "text/plain": [
       "                dax         ftse        nikkei  market_value\n",
       "count   6277.000000  6277.000000   6277.000000   6277.000000\n",
       "mean    6080.063363  5423.679824  14597.055700   5423.679824\n",
       "std     2752.604984  1145.616719   4040.545253   1145.616719\n",
       "min     1911.700000  2876.600000   7054.980000   2876.600000\n",
       "25%     4070.460000  4486.730000  10711.090000   4486.730000\n",
       "50%     5774.380000  5663.300000  15014.040000   5663.300000\n",
       "75%     7442.660000  6304.630175  17858.420000   6304.630175\n",
       "max    13559.600000  7778.637689  24124.150000   7778.637689"
      ]
     },
     "execution_count": 163,
     "metadata": {},
     "output_type": "execute_result"
    }
   ],
   "source": [
    "df_comp.describe()"
   ]
  },
  {
   "cell_type": "code",
   "execution_count": 164,
   "id": "b1582e61",
   "metadata": {},
   "outputs": [],
   "source": [
    "del df_comp['dax']\n",
    "del df_comp['ftse']\n",
    "del df_comp['nikkei']"
   ]
  },
  {
   "cell_type": "code",
   "execution_count": 165,
   "id": "39c708b6",
   "metadata": {},
   "outputs": [
    {
     "data": {
      "text/html": [
       "<div>\n",
       "<style scoped>\n",
       "    .dataframe tbody tr th:only-of-type {\n",
       "        vertical-align: middle;\n",
       "    }\n",
       "\n",
       "    .dataframe tbody tr th {\n",
       "        vertical-align: top;\n",
       "    }\n",
       "\n",
       "    .dataframe thead th {\n",
       "        text-align: right;\n",
       "    }\n",
       "</style>\n",
       "<table border=\"1\" class=\"dataframe\">\n",
       "  <thead>\n",
       "    <tr style=\"text-align: right;\">\n",
       "      <th></th>\n",
       "      <th>market_value</th>\n",
       "    </tr>\n",
       "  </thead>\n",
       "  <tbody>\n",
       "    <tr>\n",
       "      <th>count</th>\n",
       "      <td>6277.000000</td>\n",
       "    </tr>\n",
       "    <tr>\n",
       "      <th>mean</th>\n",
       "      <td>5423.679824</td>\n",
       "    </tr>\n",
       "    <tr>\n",
       "      <th>std</th>\n",
       "      <td>1145.616719</td>\n",
       "    </tr>\n",
       "    <tr>\n",
       "      <th>min</th>\n",
       "      <td>2876.600000</td>\n",
       "    </tr>\n",
       "    <tr>\n",
       "      <th>25%</th>\n",
       "      <td>4486.730000</td>\n",
       "    </tr>\n",
       "    <tr>\n",
       "      <th>50%</th>\n",
       "      <td>5663.300000</td>\n",
       "    </tr>\n",
       "    <tr>\n",
       "      <th>75%</th>\n",
       "      <td>6304.630175</td>\n",
       "    </tr>\n",
       "    <tr>\n",
       "      <th>max</th>\n",
       "      <td>7778.637689</td>\n",
       "    </tr>\n",
       "  </tbody>\n",
       "</table>\n",
       "</div>"
      ],
      "text/plain": [
       "       market_value\n",
       "count   6277.000000\n",
       "mean    5423.679824\n",
       "std     1145.616719\n",
       "min     2876.600000\n",
       "25%     4486.730000\n",
       "50%     5663.300000\n",
       "75%     6304.630175\n",
       "max     7778.637689"
      ]
     },
     "execution_count": 165,
     "metadata": {},
     "output_type": "execute_result"
    }
   ],
   "source": [
    "df_comp.describe()"
   ]
  },
  {
   "cell_type": "markdown",
   "id": "186bdd2d",
   "metadata": {},
   "source": [
    "### Splitting the Data"
   ]
  },
  {
   "cell_type": "markdown",
   "id": "33855f0c",
   "metadata": {},
   "source": [
    "To conduct machine learning on our dataset, we need to split data into 2 sets:\n",
    "\n",
    "1. Training Set\n",
    "2. Testing Set\n",
    "\n",
    "Compare predictions to actual values. \n",
    "\n",
    "The closer the forecasts, the better the model.\n",
    "\n",
    "For many different methods, we would shuffle the data before splitting it to make both sets equally representative.\n",
    "\n",
    "However, time series data relies on keeping the chronological order of the values within the set. This makes shuffling impossible.\n",
    "\n",
    "Training Set in time series: From the beginning up to some cut off point.\n",
    "\n",
    "Testing Set: From the cut off point until the end.\n",
    "\n",
    "##### NOTE - The appropriate size of the training set is debatable. \n",
    "\n",
    "1. If it's too large, the model will fit the training set too well and will perform poorly with the new data.\n",
    "\n",
    "------------------------------------> ---------------->\n",
    "       \n",
    "    Large training set | Small testing set\n",
    "\n",
    "2. If it's too small, we won't be able to create a model accurate enough.\n",
    "\n",
    "        -----------------> --------------------->\n",
    "       Small training set | Large/Small testing set\n",
    "        \n",
    "##### NOTE - An 80-20 split between the training and testing set is reasonable.\n",
    "\n",
    "To Split the data, we need to use the 'iloc()' method (The name 'iloc' comes from index location).\n",
    "\n",
    "##### NOTE - To successfully implement the iloc() method, we must know where the first set finishes and the second one begins.\n",
    "\n",
    "To achieve the cut off point, we make use of the 'len' function which returns the length of an object in Python.\n",
    "\n",
    "Find the length of the entire set, and take 80% of that."
   ]
  },
  {
   "cell_type": "code",
   "execution_count": 166,
   "id": "fa43106f",
   "metadata": {},
   "outputs": [],
   "source": [
    "size = int(len(df_comp)*0.8)"
   ]
  },
  {
   "cell_type": "markdown",
   "id": "3d279d37",
   "metadata": {},
   "source": [
    "##### training set - df\n",
    "##### testing set - df_test"
   ]
  },
  {
   "cell_type": "code",
   "execution_count": 167,
   "id": "c1c101c7",
   "metadata": {},
   "outputs": [],
   "source": [
    "df = df_comp.iloc[:size]\n",
    "df_test = df_comp.iloc[size:]"
   ]
  },
  {
   "cell_type": "code",
   "execution_count": 168,
   "id": "5f730c02",
   "metadata": {},
   "outputs": [
    {
     "data": {
      "text/html": [
       "<div>\n",
       "<style scoped>\n",
       "    .dataframe tbody tr th:only-of-type {\n",
       "        vertical-align: middle;\n",
       "    }\n",
       "\n",
       "    .dataframe tbody tr th {\n",
       "        vertical-align: top;\n",
       "    }\n",
       "\n",
       "    .dataframe thead th {\n",
       "        text-align: right;\n",
       "    }\n",
       "</style>\n",
       "<table border=\"1\" class=\"dataframe\">\n",
       "  <thead>\n",
       "    <tr style=\"text-align: right;\">\n",
       "      <th></th>\n",
       "      <th>market_value</th>\n",
       "    </tr>\n",
       "    <tr>\n",
       "      <th>date</th>\n",
       "      <th></th>\n",
       "    </tr>\n",
       "  </thead>\n",
       "  <tbody>\n",
       "    <tr>\n",
       "      <th>2013-04-01</th>\n",
       "      <td>6411.74</td>\n",
       "    </tr>\n",
       "    <tr>\n",
       "      <th>2013-04-02</th>\n",
       "      <td>6490.66</td>\n",
       "    </tr>\n",
       "    <tr>\n",
       "      <th>2013-04-03</th>\n",
       "      <td>6420.28</td>\n",
       "    </tr>\n",
       "    <tr>\n",
       "      <th>2013-04-04</th>\n",
       "      <td>6344.11</td>\n",
       "    </tr>\n",
       "    <tr>\n",
       "      <th>2013-04-05</th>\n",
       "      <td>6249.77</td>\n",
       "    </tr>\n",
       "  </tbody>\n",
       "</table>\n",
       "</div>"
      ],
      "text/plain": [
       "            market_value\n",
       "date                    \n",
       "2013-04-01       6411.74\n",
       "2013-04-02       6490.66\n",
       "2013-04-03       6420.28\n",
       "2013-04-04       6344.11\n",
       "2013-04-05       6249.77"
      ]
     },
     "execution_count": 168,
     "metadata": {},
     "output_type": "execute_result"
    }
   ],
   "source": [
    "df.tail()"
   ]
  },
  {
   "cell_type": "code",
   "execution_count": 169,
   "id": "b35d65a4",
   "metadata": {},
   "outputs": [
    {
     "data": {
      "text/html": [
       "<div>\n",
       "<style scoped>\n",
       "    .dataframe tbody tr th:only-of-type {\n",
       "        vertical-align: middle;\n",
       "    }\n",
       "\n",
       "    .dataframe tbody tr th {\n",
       "        vertical-align: top;\n",
       "    }\n",
       "\n",
       "    .dataframe thead th {\n",
       "        text-align: right;\n",
       "    }\n",
       "</style>\n",
       "<table border=\"1\" class=\"dataframe\">\n",
       "  <thead>\n",
       "    <tr style=\"text-align: right;\">\n",
       "      <th></th>\n",
       "      <th>market_value</th>\n",
       "    </tr>\n",
       "    <tr>\n",
       "      <th>date</th>\n",
       "      <th></th>\n",
       "    </tr>\n",
       "  </thead>\n",
       "  <tbody>\n",
       "    <tr>\n",
       "      <th>2013-04-08</th>\n",
       "      <td>6276.94</td>\n",
       "    </tr>\n",
       "    <tr>\n",
       "      <th>2013-04-09</th>\n",
       "      <td>6313.20</td>\n",
       "    </tr>\n",
       "    <tr>\n",
       "      <th>2013-04-10</th>\n",
       "      <td>6387.37</td>\n",
       "    </tr>\n",
       "    <tr>\n",
       "      <th>2013-04-11</th>\n",
       "      <td>6416.14</td>\n",
       "    </tr>\n",
       "    <tr>\n",
       "      <th>2013-04-12</th>\n",
       "      <td>6384.39</td>\n",
       "    </tr>\n",
       "  </tbody>\n",
       "</table>\n",
       "</div>"
      ],
      "text/plain": [
       "            market_value\n",
       "date                    \n",
       "2013-04-08       6276.94\n",
       "2013-04-09       6313.20\n",
       "2013-04-10       6387.37\n",
       "2013-04-11       6416.14\n",
       "2013-04-12       6384.39"
      ]
     },
     "execution_count": 169,
     "metadata": {},
     "output_type": "execute_result"
    }
   ],
   "source": [
    "df_test.head()"
   ]
  }
 ],
 "metadata": {
  "kernelspec": {
   "display_name": "Python 3 (ipykernel)",
   "language": "python",
   "name": "python3"
  },
  "language_info": {
   "codemirror_mode": {
    "name": "ipython",
    "version": 3
   },
   "file_extension": ".py",
   "mimetype": "text/x-python",
   "name": "python",
   "nbconvert_exporter": "python",
   "pygments_lexer": "ipython3",
   "version": "3.9.7"
  }
 },
 "nbformat": 4,
 "nbformat_minor": 5
}
